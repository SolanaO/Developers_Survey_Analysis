{
 "cells": [
  {
   "cell_type": "markdown",
   "metadata": {},
   "source": [
    "# Analysis of StackOverflowSurvey. Part II"
   ]
  },
  {
   "cell_type": "code",
   "execution_count": 1,
   "metadata": {},
   "outputs": [],
   "source": [
    "# import neccessary packages and libraries\n",
    "import os\n",
    "from collections import defaultdict\n",
    "\n",
    "import numpy as np\n",
    "import pandas as pd\n",
    "\n",
    "import matplotlib.pyplot as plt\n",
    "# to render plots in the notebook\n",
    "%matplotlib inline\n",
    "\n",
    "import seaborn as sns\n",
    "# set a theme for seaborn\n",
    "sns.set_theme()"
   ]
  },
  {
   "cell_type": "code",
   "execution_count": 2,
   "metadata": {},
   "outputs": [],
   "source": [
    "# import local module containing the neccessary functions\n",
    "import utils_functions as uf\n",
    "\n",
    "# forces the interpreter to re-import the module\n",
    "import importlib\n",
    "importlib.reload(uf);"
   ]
  },
  {
   "cell_type": "code",
   "execution_count": 3,
   "metadata": {},
   "outputs": [],
   "source": [
    "# option to display the full text of the string columns\n",
    "pd.set_option('display.max_colwidth', None)"
   ]
  },
  {
   "cell_type": "code",
   "execution_count": 4,
   "metadata": {},
   "outputs": [],
   "source": [
    "# create a path string\n",
    "mypath = os.getcwd()\n",
    "\n",
    "# upload the datafiles as pandas dataframes\n",
    "df1 = pd.read_csv(mypath+'/data/survey20_updated.csv')\n",
    "dfs = pd.read_csv(mypath+'/data/survey20_results_schema.csv')"
   ]
  },
  {
   "cell_type": "code",
   "execution_count": 5,
   "metadata": {},
   "outputs": [
    {
     "data": {
      "text/html": [
       "<div>\n",
       "<style scoped>\n",
       "    .dataframe tbody tr th:only-of-type {\n",
       "        vertical-align: middle;\n",
       "    }\n",
       "\n",
       "    .dataframe tbody tr th {\n",
       "        vertical-align: top;\n",
       "    }\n",
       "\n",
       "    .dataframe thead th {\n",
       "        text-align: right;\n",
       "    }\n",
       "</style>\n",
       "<table border=\"1\" class=\"dataframe\">\n",
       "  <thead>\n",
       "    <tr style=\"text-align: right;\">\n",
       "      <th></th>\n",
       "      <th>Unnamed: 0</th>\n",
       "      <th>MainBranch</th>\n",
       "      <th>Hobbyist</th>\n",
       "      <th>ConvertedComp</th>\n",
       "      <th>Country</th>\n",
       "      <th>DevType</th>\n",
       "      <th>EdLevel</th>\n",
       "      <th>Employment</th>\n",
       "      <th>Gender</th>\n",
       "      <th>JobFactors</th>\n",
       "      <th>...</th>\n",
       "      <th>EdImpt</th>\n",
       "      <th>JobHunt</th>\n",
       "      <th>JobHuntResearch</th>\n",
       "      <th>Learn</th>\n",
       "      <th>Overtime</th>\n",
       "      <th>OpSys</th>\n",
       "      <th>OrgSize</th>\n",
       "      <th>UndergradMajor</th>\n",
       "      <th>WorkWeekHrs</th>\n",
       "      <th>DevClass</th>\n",
       "    </tr>\n",
       "  </thead>\n",
       "  <tbody>\n",
       "    <tr>\n",
       "      <th>0</th>\n",
       "      <td>0</td>\n",
       "      <td>I am a developer by profession</td>\n",
       "      <td>Yes</td>\n",
       "      <td>NaN</td>\n",
       "      <td>Germany</td>\n",
       "      <td>Developer, desktop or enterprise applications;Developer, full-stack</td>\n",
       "      <td>Master’s degree</td>\n",
       "      <td>Independent contractor, freelancer, or self-employed</td>\n",
       "      <td>Man</td>\n",
       "      <td>Languages, frameworks, and other technologies I’d be working with;Remote work options;Opportunities for professional development</td>\n",
       "      <td>...</td>\n",
       "      <td>Fairly important</td>\n",
       "      <td>NaN</td>\n",
       "      <td>NaN</td>\n",
       "      <td>Once a year</td>\n",
       "      <td>Often: 1-2 days per week or more</td>\n",
       "      <td>Windows</td>\n",
       "      <td>2 to 9 employees</td>\n",
       "      <td>Computer science</td>\n",
       "      <td>50.0</td>\n",
       "      <td>other_coder</td>\n",
       "    </tr>\n",
       "    <tr>\n",
       "      <th>1</th>\n",
       "      <td>1</td>\n",
       "      <td>I am a developer by profession</td>\n",
       "      <td>No</td>\n",
       "      <td>NaN</td>\n",
       "      <td>United Kingdom</td>\n",
       "      <td>Developer, full-stack;Developer, mobile</td>\n",
       "      <td>Bachelor’s degree</td>\n",
       "      <td>Employed full-time</td>\n",
       "      <td>NaN</td>\n",
       "      <td>NaN</td>\n",
       "      <td>...</td>\n",
       "      <td>Fairly important</td>\n",
       "      <td>NaN</td>\n",
       "      <td>NaN</td>\n",
       "      <td>Once a year</td>\n",
       "      <td>NaN</td>\n",
       "      <td>MacOS</td>\n",
       "      <td>1,000 to 4,999 employees</td>\n",
       "      <td>Computer science</td>\n",
       "      <td>NaN</td>\n",
       "      <td>other_coder</td>\n",
       "    </tr>\n",
       "  </tbody>\n",
       "</table>\n",
       "<p>2 rows × 25 columns</p>\n",
       "</div>"
      ],
      "text/plain": [
       "   Unnamed: 0                      MainBranch Hobbyist  ConvertedComp  \\\n",
       "0           0  I am a developer by profession      Yes            NaN   \n",
       "1           1  I am a developer by profession       No            NaN   \n",
       "\n",
       "          Country  \\\n",
       "0         Germany   \n",
       "1  United Kingdom   \n",
       "\n",
       "                                                               DevType  \\\n",
       "0  Developer, desktop or enterprise applications;Developer, full-stack   \n",
       "1                              Developer, full-stack;Developer, mobile   \n",
       "\n",
       "             EdLevel                                            Employment  \\\n",
       "0    Master’s degree  Independent contractor, freelancer, or self-employed   \n",
       "1  Bachelor’s degree                                    Employed full-time   \n",
       "\n",
       "  Gender  \\\n",
       "0    Man   \n",
       "1    NaN   \n",
       "\n",
       "                                                                                                                         JobFactors  \\\n",
       "0  Languages, frameworks, and other technologies I’d be working with;Remote work options;Opportunities for professional development   \n",
       "1                                                                                                                               NaN   \n",
       "\n",
       "   ...            EdImpt JobHunt JobHuntResearch        Learn  \\\n",
       "0  ...  Fairly important     NaN             NaN  Once a year   \n",
       "1  ...  Fairly important     NaN             NaN  Once a year   \n",
       "\n",
       "                           Overtime    OpSys                   OrgSize  \\\n",
       "0  Often: 1-2 days per week or more  Windows          2 to 9 employees   \n",
       "1                               NaN    MacOS  1,000 to 4,999 employees   \n",
       "\n",
       "     UndergradMajor WorkWeekHrs     DevClass  \n",
       "0  Computer science        50.0  other_coder  \n",
       "1  Computer science         NaN  other_coder  \n",
       "\n",
       "[2 rows x 25 columns]"
      ]
     },
     "execution_count": 5,
     "metadata": {},
     "output_type": "execute_result"
    }
   ],
   "source": [
    "# check for success\n",
    "df1.head(2)"
   ]
  },
  {
   "cell_type": "markdown",
   "metadata": {},
   "source": [
    "## Education related information\n",
    "I will address now the questions I am interested in: \n",
    "> Do data developers have more formal educational background than the other developers? In particular, are there more data coders that major in math or stats than other developers? How is the education level related to job satisfaction and compensation? \n",
    "\n",
    "The questions regarding the education that I am interested in are related to the columns `EdLevel`, '`NewEdImpt`, `UndergradMajor`. I am also interested in how these options are related to salary, i.e. `ConvertedComp` and `JobSat`."
   ]
  },
  {
   "cell_type": "markdown",
   "metadata": {},
   "source": [
    "## Formal education and the two classes of developers"
   ]
  },
  {
   "cell_type": "markdown",
   "metadata": {},
   "source": [
    "### The education levels of data coders compared with the other coders"
   ]
  },
  {
   "cell_type": "code",
   "execution_count": 6,
   "metadata": {},
   "outputs": [
    {
     "data": {
      "text/plain": [
       "14    Which of the following best describes the highest level of formal education that you’ve completed?\n",
       "Name: QuestionText, dtype: object"
      ]
     },
     "execution_count": 6,
     "metadata": {},
     "output_type": "execute_result"
    }
   ],
   "source": [
    "# get the question about education level\n",
    "dfs[dfs.Column == 'EdLevel']['QuestionText']"
   ]
  },
  {
   "cell_type": "code",
   "execution_count": 7,
   "metadata": {},
   "outputs": [
    {
     "data": {
      "text/plain": [
       "array(['Master’s degree', 'Bachelor’s degree', nan, 'Secondary school',\n",
       "       'Professional degree', 'College study/no degree',\n",
       "       'Associate degree', 'Other doctoral degree',\n",
       "       'Primary/elementary school', 'No formal education'], dtype=object)"
      ]
     },
     "execution_count": 7,
     "metadata": {},
     "output_type": "execute_result"
    }
   ],
   "source": [
    "# get the curated choices for the education level question\n",
    "df1.EdLevel.unique()"
   ]
  },
  {
   "cell_type": "code",
   "execution_count": 8,
   "metadata": {},
   "outputs": [
    {
     "data": {
      "text/plain": [
       "DevClass     EdLevel                  \n",
       "data_coder   Bachelor’s degree            41.77\n",
       "             Master’s degree              32.72\n",
       "             College study/no degree       9.28\n",
       "             Other doctoral degree         7.59\n",
       "             Secondary school              3.34\n",
       "             Associate degree              2.25\n",
       "             Professional degree           1.51\n",
       "             No formal education           0.79\n",
       "             Primary/elementary school     0.75\n",
       "other_coder  Bachelor’s degree            47.00\n",
       "             Master’s degree              21.09\n",
       "             College study/no degree      13.19\n",
       "             Secondary school              9.18\n",
       "             Associate degree              3.38\n",
       "             Other doctoral degree         2.13\n",
       "             Primary/elementary school     1.80\n",
       "             Professional degree           1.37\n",
       "             No formal education           0.87\n",
       "Name: EdLevel, dtype: float64"
      ]
     },
     "execution_count": 8,
     "metadata": {},
     "output_type": "execute_result"
    }
   ],
   "source": [
    "# use groupby() to get the percentage of developers in each education level\n",
    "EdLevel_perc = df1.groupby('DevClass')['EdLevel'].value_counts(normalize=True)\n",
    "EdLevel_perc.round(4)*100"
   ]
  },
  {
   "cell_type": "code",
   "execution_count": 9,
   "metadata": {},
   "outputs": [
    {
     "data": {
      "text/html": [
       "<div>\n",
       "<style scoped>\n",
       "    .dataframe tbody tr th:only-of-type {\n",
       "        vertical-align: middle;\n",
       "    }\n",
       "\n",
       "    .dataframe tbody tr th {\n",
       "        vertical-align: top;\n",
       "    }\n",
       "\n",
       "    .dataframe thead th {\n",
       "        text-align: right;\n",
       "    }\n",
       "</style>\n",
       "<table border=\"1\" class=\"dataframe\">\n",
       "  <thead>\n",
       "    <tr style=\"text-align: right;\">\n",
       "      <th></th>\n",
       "      <th>DevClass</th>\n",
       "      <th>EdLevel</th>\n",
       "      <th>perc</th>\n",
       "    </tr>\n",
       "  </thead>\n",
       "  <tbody>\n",
       "    <tr>\n",
       "      <th>0</th>\n",
       "      <td>data_coder</td>\n",
       "      <td>Bachelor’s degree</td>\n",
       "      <td>0.417667</td>\n",
       "    </tr>\n",
       "    <tr>\n",
       "      <th>1</th>\n",
       "      <td>data_coder</td>\n",
       "      <td>Master’s degree</td>\n",
       "      <td>0.327235</td>\n",
       "    </tr>\n",
       "    <tr>\n",
       "      <th>2</th>\n",
       "      <td>data_coder</td>\n",
       "      <td>College study/no degree</td>\n",
       "      <td>0.092763</td>\n",
       "    </tr>\n",
       "    <tr>\n",
       "      <th>3</th>\n",
       "      <td>data_coder</td>\n",
       "      <td>Other doctoral degree</td>\n",
       "      <td>0.075865</td>\n",
       "    </tr>\n",
       "    <tr>\n",
       "      <th>4</th>\n",
       "      <td>data_coder</td>\n",
       "      <td>Secondary school</td>\n",
       "      <td>0.033446</td>\n",
       "    </tr>\n",
       "    <tr>\n",
       "      <th>5</th>\n",
       "      <td>data_coder</td>\n",
       "      <td>Associate degree</td>\n",
       "      <td>0.022492</td>\n",
       "    </tr>\n",
       "    <tr>\n",
       "      <th>6</th>\n",
       "      <td>data_coder</td>\n",
       "      <td>Professional degree</td>\n",
       "      <td>0.015150</td>\n",
       "    </tr>\n",
       "    <tr>\n",
       "      <th>7</th>\n",
       "      <td>data_coder</td>\n",
       "      <td>No formal education</td>\n",
       "      <td>0.007924</td>\n",
       "    </tr>\n",
       "    <tr>\n",
       "      <th>8</th>\n",
       "      <td>data_coder</td>\n",
       "      <td>Primary/elementary school</td>\n",
       "      <td>0.007458</td>\n",
       "    </tr>\n",
       "    <tr>\n",
       "      <th>9</th>\n",
       "      <td>other_coder</td>\n",
       "      <td>Bachelor’s degree</td>\n",
       "      <td>0.469969</td>\n",
       "    </tr>\n",
       "    <tr>\n",
       "      <th>10</th>\n",
       "      <td>other_coder</td>\n",
       "      <td>Master’s degree</td>\n",
       "      <td>0.210931</td>\n",
       "    </tr>\n",
       "    <tr>\n",
       "      <th>11</th>\n",
       "      <td>other_coder</td>\n",
       "      <td>College study/no degree</td>\n",
       "      <td>0.131894</td>\n",
       "    </tr>\n",
       "    <tr>\n",
       "      <th>12</th>\n",
       "      <td>other_coder</td>\n",
       "      <td>Secondary school</td>\n",
       "      <td>0.091791</td>\n",
       "    </tr>\n",
       "    <tr>\n",
       "      <th>13</th>\n",
       "      <td>other_coder</td>\n",
       "      <td>Associate degree</td>\n",
       "      <td>0.033777</td>\n",
       "    </tr>\n",
       "    <tr>\n",
       "      <th>14</th>\n",
       "      <td>other_coder</td>\n",
       "      <td>Other doctoral degree</td>\n",
       "      <td>0.021269</td>\n",
       "    </tr>\n",
       "    <tr>\n",
       "      <th>15</th>\n",
       "      <td>other_coder</td>\n",
       "      <td>Primary/elementary school</td>\n",
       "      <td>0.017953</td>\n",
       "    </tr>\n",
       "    <tr>\n",
       "      <th>16</th>\n",
       "      <td>other_coder</td>\n",
       "      <td>Professional degree</td>\n",
       "      <td>0.013715</td>\n",
       "    </tr>\n",
       "    <tr>\n",
       "      <th>17</th>\n",
       "      <td>other_coder</td>\n",
       "      <td>No formal education</td>\n",
       "      <td>0.008700</td>\n",
       "    </tr>\n",
       "  </tbody>\n",
       "</table>\n",
       "</div>"
      ],
      "text/plain": [
       "       DevClass                    EdLevel      perc\n",
       "0    data_coder          Bachelor’s degree  0.417667\n",
       "1    data_coder            Master’s degree  0.327235\n",
       "2    data_coder    College study/no degree  0.092763\n",
       "3    data_coder      Other doctoral degree  0.075865\n",
       "4    data_coder           Secondary school  0.033446\n",
       "5    data_coder           Associate degree  0.022492\n",
       "6    data_coder        Professional degree  0.015150\n",
       "7    data_coder        No formal education  0.007924\n",
       "8    data_coder  Primary/elementary school  0.007458\n",
       "9   other_coder          Bachelor’s degree  0.469969\n",
       "10  other_coder            Master’s degree  0.210931\n",
       "11  other_coder    College study/no degree  0.131894\n",
       "12  other_coder           Secondary school  0.091791\n",
       "13  other_coder           Associate degree  0.033777\n",
       "14  other_coder      Other doctoral degree  0.021269\n",
       "15  other_coder  Primary/elementary school  0.017953\n",
       "16  other_coder        Professional degree  0.013715\n",
       "17  other_coder        No formal education  0.008700"
      ]
     },
     "execution_count": 9,
     "metadata": {},
     "output_type": "execute_result"
    }
   ],
   "source": [
    "# convert the series into a dataframe object\n",
    "EdLevel_perc = EdLevel_perc.reset_index(name='perc')\n",
    "EdLevel_perc"
   ]
  },
  {
   "cell_type": "code",
   "execution_count": 10,
   "metadata": {},
   "outputs": [
    {
     "data": {
      "text/html": [
       "<div>\n",
       "<style scoped>\n",
       "    .dataframe tbody tr th:only-of-type {\n",
       "        vertical-align: middle;\n",
       "    }\n",
       "\n",
       "    .dataframe tbody tr th {\n",
       "        vertical-align: top;\n",
       "    }\n",
       "\n",
       "    .dataframe thead th {\n",
       "        text-align: right;\n",
       "    }\n",
       "</style>\n",
       "<table border=\"1\" class=\"dataframe\">\n",
       "  <thead>\n",
       "    <tr style=\"text-align: right;\">\n",
       "      <th>DevClass</th>\n",
       "      <th>data_coder</th>\n",
       "      <th>other_coder</th>\n",
       "    </tr>\n",
       "    <tr>\n",
       "      <th>EdLevel</th>\n",
       "      <th></th>\n",
       "      <th></th>\n",
       "    </tr>\n",
       "  </thead>\n",
       "  <tbody>\n",
       "    <tr>\n",
       "      <th>Associate degree</th>\n",
       "      <td>0.022492</td>\n",
       "      <td>0.033777</td>\n",
       "    </tr>\n",
       "    <tr>\n",
       "      <th>Bachelor’s degree</th>\n",
       "      <td>0.417667</td>\n",
       "      <td>0.469969</td>\n",
       "    </tr>\n",
       "    <tr>\n",
       "      <th>College study/no degree</th>\n",
       "      <td>0.092763</td>\n",
       "      <td>0.131894</td>\n",
       "    </tr>\n",
       "    <tr>\n",
       "      <th>Master’s degree</th>\n",
       "      <td>0.327235</td>\n",
       "      <td>0.210931</td>\n",
       "    </tr>\n",
       "    <tr>\n",
       "      <th>No formal education</th>\n",
       "      <td>0.007924</td>\n",
       "      <td>0.008700</td>\n",
       "    </tr>\n",
       "    <tr>\n",
       "      <th>Other doctoral degree</th>\n",
       "      <td>0.075865</td>\n",
       "      <td>0.021269</td>\n",
       "    </tr>\n",
       "    <tr>\n",
       "      <th>Primary/elementary school</th>\n",
       "      <td>0.007458</td>\n",
       "      <td>0.017953</td>\n",
       "    </tr>\n",
       "    <tr>\n",
       "      <th>Professional degree</th>\n",
       "      <td>0.015150</td>\n",
       "      <td>0.013715</td>\n",
       "    </tr>\n",
       "    <tr>\n",
       "      <th>Secondary school</th>\n",
       "      <td>0.033446</td>\n",
       "      <td>0.091791</td>\n",
       "    </tr>\n",
       "  </tbody>\n",
       "</table>\n",
       "</div>"
      ],
      "text/plain": [
       "DevClass                   data_coder  other_coder\n",
       "EdLevel                                           \n",
       "Associate degree             0.022492     0.033777\n",
       "Bachelor’s degree            0.417667     0.469969\n",
       "College study/no degree      0.092763     0.131894\n",
       "Master’s degree              0.327235     0.210931\n",
       "No formal education          0.007924     0.008700\n",
       "Other doctoral degree        0.075865     0.021269\n",
       "Primary/elementary school    0.007458     0.017953\n",
       "Professional degree          0.015150     0.013715\n",
       "Secondary school             0.033446     0.091791"
      ]
     },
     "execution_count": 10,
     "metadata": {},
     "output_type": "execute_result"
    }
   ],
   "source": [
    "# rearrange the data to have two coder types as columns\n",
    "EdLevel_perc = EdLevel_perc.pivot(index='EdLevel',columns='DevClass',values='perc')\n",
    "EdLevel_perc"
   ]
  },
  {
   "cell_type": "code",
   "execution_count": 11,
   "metadata": {},
   "outputs": [
    {
     "data": {
      "image/png": "[encoded data removed]",
      "text/plain": [
       "<Figure size 432x288 with 2 Axes>"
      ]
     },
     "metadata": {},
     "output_type": "display_data"
    }
   ],
   "source": [
    "# plot the heatmap\n",
    "sns.heatmap(EdLevel_perc.round(4)*100, cmap='Blues', annot = True);\n",
    "\n",
    "# set labels, title, xticks properties\n",
    "plt.xlabel('Developer Class', size=10)\n",
    "plt.ylabel('Education Level', size=10)\n",
    "plt.title('Education Level Perecentages for Data and Other Coders', size=10)\n",
    "plt.xticks(size=10);\n"
   ]
  },
  {
   "cell_type": "markdown",
   "metadata": {},
   "source": [
    "#### Comments on education levels:\n",
    "We observe from this heat map, that the percentages of data coders with higher education degrees (Master, Doctoral or Professional) are higher than the corresponding percentages for the other developers, in particular Master and Other Doctoral degrees. Specifically, about 42% of data coders have a higher education degree, compared to only 24.5 % for the other coders. Almost half of the other coders have a Bachelor's degree, the corresponding percentage is lower among the data coders. "
   ]
  },
  {
   "cell_type": "markdown",
   "metadata": {},
   "source": [
    "### Are there more data coders with math and stats degrees than other coders?"
   ]
  },
  {
   "cell_type": "code",
   "execution_count": 12,
   "metadata": {},
   "outputs": [
    {
     "data": {
      "text/plain": [
       "54    What was your primary field of study?\n",
       "Name: QuestionText, dtype: object"
      ]
     },
     "execution_count": 12,
     "metadata": {},
     "output_type": "execute_result"
    }
   ],
   "source": [
    "# get the question about undergraduate degree\n",
    "dfs[dfs.Column == 'UndergradMajor']['QuestionText']"
   ]
  },
  {
   "cell_type": "code",
   "execution_count": 13,
   "metadata": {},
   "outputs": [
    {
     "data": {
      "text/plain": [
       "array(['Computer science', nan, 'Math or stats', 'Engineering other',\n",
       "       'Humanities', 'Health science', 'Information system',\n",
       "       'Web dev/design', 'Natural science', 'Arts', 'No major',\n",
       "       'Social science', 'Business'], dtype=object)"
      ]
     },
     "execution_count": 13,
     "metadata": {},
     "output_type": "execute_result"
    }
   ],
   "source": [
    "# get the curated choices for the field of study\n",
    "df1.UndergradMajor.unique()"
   ]
  },
  {
   "cell_type": "code",
   "execution_count": 14,
   "metadata": {},
   "outputs": [],
   "source": [
    "# use groupby() to get the percentage of developers with each major\n",
    "UndergradMajor_perc = df1.groupby('DevClass')['UndergradMajor'].value_counts(normalize=True)\n",
    "UndergradMajor_perc = UndergradMajor_perc.round(4)*100"
   ]
  },
  {
   "cell_type": "code",
   "execution_count": 15,
   "metadata": {},
   "outputs": [
    {
     "data": {
      "text/html": [
       "<div>\n",
       "<style scoped>\n",
       "    .dataframe tbody tr th:only-of-type {\n",
       "        vertical-align: middle;\n",
       "    }\n",
       "\n",
       "    .dataframe tbody tr th {\n",
       "        vertical-align: top;\n",
       "    }\n",
       "\n",
       "    .dataframe thead th {\n",
       "        text-align: right;\n",
       "    }\n",
       "</style>\n",
       "<table border=\"1\" class=\"dataframe\">\n",
       "  <thead>\n",
       "    <tr style=\"text-align: right;\">\n",
       "      <th></th>\n",
       "      <th>DevClass</th>\n",
       "      <th>UndergradMajor</th>\n",
       "      <th>perc</th>\n",
       "    </tr>\n",
       "  </thead>\n",
       "  <tbody>\n",
       "    <tr>\n",
       "      <th>0</th>\n",
       "      <td>data_coder</td>\n",
       "      <td>Computer science</td>\n",
       "      <td>51.84</td>\n",
       "    </tr>\n",
       "    <tr>\n",
       "      <th>1</th>\n",
       "      <td>data_coder</td>\n",
       "      <td>Engineering other</td>\n",
       "      <td>12.03</td>\n",
       "    </tr>\n",
       "    <tr>\n",
       "      <th>2</th>\n",
       "      <td>data_coder</td>\n",
       "      <td>Math or stats</td>\n",
       "      <td>8.03</td>\n",
       "    </tr>\n",
       "    <tr>\n",
       "      <th>3</th>\n",
       "      <td>data_coder</td>\n",
       "      <td>Information system</td>\n",
       "      <td>7.65</td>\n",
       "    </tr>\n",
       "    <tr>\n",
       "      <th>4</th>\n",
       "      <td>data_coder</td>\n",
       "      <td>Natural science</td>\n",
       "      <td>7.36</td>\n",
       "    </tr>\n",
       "    <tr>\n",
       "      <th>5</th>\n",
       "      <td>data_coder</td>\n",
       "      <td>Business</td>\n",
       "      <td>4.57</td>\n",
       "    </tr>\n",
       "    <tr>\n",
       "      <th>6</th>\n",
       "      <td>data_coder</td>\n",
       "      <td>Social science</td>\n",
       "      <td>3.27</td>\n",
       "    </tr>\n",
       "    <tr>\n",
       "      <th>7</th>\n",
       "      <td>data_coder</td>\n",
       "      <td>Humanities</td>\n",
       "      <td>1.83</td>\n",
       "    </tr>\n",
       "    <tr>\n",
       "      <th>8</th>\n",
       "      <td>data_coder</td>\n",
       "      <td>Web dev/design</td>\n",
       "      <td>1.48</td>\n",
       "    </tr>\n",
       "    <tr>\n",
       "      <th>9</th>\n",
       "      <td>data_coder</td>\n",
       "      <td>No major</td>\n",
       "      <td>0.73</td>\n",
       "    </tr>\n",
       "    <tr>\n",
       "      <th>10</th>\n",
       "      <td>data_coder</td>\n",
       "      <td>Arts</td>\n",
       "      <td>0.62</td>\n",
       "    </tr>\n",
       "    <tr>\n",
       "      <th>11</th>\n",
       "      <td>data_coder</td>\n",
       "      <td>Health science</td>\n",
       "      <td>0.58</td>\n",
       "    </tr>\n",
       "    <tr>\n",
       "      <th>12</th>\n",
       "      <td>other_coder</td>\n",
       "      <td>Computer science</td>\n",
       "      <td>63.82</td>\n",
       "    </tr>\n",
       "    <tr>\n",
       "      <th>13</th>\n",
       "      <td>other_coder</td>\n",
       "      <td>Engineering other</td>\n",
       "      <td>8.81</td>\n",
       "    </tr>\n",
       "    <tr>\n",
       "      <th>14</th>\n",
       "      <td>other_coder</td>\n",
       "      <td>Information system</td>\n",
       "      <td>8.05</td>\n",
       "    </tr>\n",
       "    <tr>\n",
       "      <th>15</th>\n",
       "      <td>other_coder</td>\n",
       "      <td>Web dev/design</td>\n",
       "      <td>3.89</td>\n",
       "    </tr>\n",
       "    <tr>\n",
       "      <th>16</th>\n",
       "      <td>other_coder</td>\n",
       "      <td>Natural science</td>\n",
       "      <td>3.75</td>\n",
       "    </tr>\n",
       "    <tr>\n",
       "      <th>17</th>\n",
       "      <td>other_coder</td>\n",
       "      <td>Math or stats</td>\n",
       "      <td>2.80</td>\n",
       "    </tr>\n",
       "    <tr>\n",
       "      <th>18</th>\n",
       "      <td>other_coder</td>\n",
       "      <td>Business</td>\n",
       "      <td>2.35</td>\n",
       "    </tr>\n",
       "    <tr>\n",
       "      <th>19</th>\n",
       "      <td>other_coder</td>\n",
       "      <td>Humanities</td>\n",
       "      <td>2.00</td>\n",
       "    </tr>\n",
       "    <tr>\n",
       "      <th>20</th>\n",
       "      <td>other_coder</td>\n",
       "      <td>Arts</td>\n",
       "      <td>1.57</td>\n",
       "    </tr>\n",
       "    <tr>\n",
       "      <th>21</th>\n",
       "      <td>other_coder</td>\n",
       "      <td>Social science</td>\n",
       "      <td>1.56</td>\n",
       "    </tr>\n",
       "    <tr>\n",
       "      <th>22</th>\n",
       "      <td>other_coder</td>\n",
       "      <td>No major</td>\n",
       "      <td>0.92</td>\n",
       "    </tr>\n",
       "    <tr>\n",
       "      <th>23</th>\n",
       "      <td>other_coder</td>\n",
       "      <td>Health science</td>\n",
       "      <td>0.48</td>\n",
       "    </tr>\n",
       "  </tbody>\n",
       "</table>\n",
       "</div>"
      ],
      "text/plain": [
       "       DevClass      UndergradMajor   perc\n",
       "0    data_coder    Computer science  51.84\n",
       "1    data_coder   Engineering other  12.03\n",
       "2    data_coder       Math or stats   8.03\n",
       "3    data_coder  Information system   7.65\n",
       "4    data_coder     Natural science   7.36\n",
       "5    data_coder            Business   4.57\n",
       "6    data_coder      Social science   3.27\n",
       "7    data_coder          Humanities   1.83\n",
       "8    data_coder      Web dev/design   1.48\n",
       "9    data_coder            No major   0.73\n",
       "10   data_coder                Arts   0.62\n",
       "11   data_coder      Health science   0.58\n",
       "12  other_coder    Computer science  63.82\n",
       "13  other_coder   Engineering other   8.81\n",
       "14  other_coder  Information system   8.05\n",
       "15  other_coder      Web dev/design   3.89\n",
       "16  other_coder     Natural science   3.75\n",
       "17  other_coder       Math or stats   2.80\n",
       "18  other_coder            Business   2.35\n",
       "19  other_coder          Humanities   2.00\n",
       "20  other_coder                Arts   1.57\n",
       "21  other_coder      Social science   1.56\n",
       "22  other_coder            No major   0.92\n",
       "23  other_coder      Health science   0.48"
      ]
     },
     "execution_count": 15,
     "metadata": {},
     "output_type": "execute_result"
    }
   ],
   "source": [
    "# convert the series into a dataframe object\n",
    "UndergradMajor_perc = UndergradMajor_perc.reset_index(name='perc')\n",
    "UndergradMajor_perc "
   ]
  },
  {
   "cell_type": "code",
   "execution_count": 16,
   "metadata": {},
   "outputs": [
    {
     "data": {
      "image/png": "[encoded data removed]",
      "text/plain": [
       "<Figure size 864x432 with 1 Axes>"
      ]
     },
     "metadata": {},
     "output_type": "display_data"
    }
   ],
   "source": [
    "# set the figure size\n",
    "plt.figure(figsize=(12, 6))\n",
    "\n",
    "# create the plot\n",
    "g=sns.barplot(data=UndergradMajor_perc, x='UndergradMajor', y='perc', hue='DevClass')\n",
    "\n",
    "# set labels, title, xticks properties\n",
    "plt.xlabel('Undergraduate Major', size=10)\n",
    "plt.ylabel('Undergraduate Major Percentage', size=10)\n",
    "plt.title('Grouped Barplot: Undergraduate Major for Data and Other Coders', size=10)\n",
    "plt.xticks(size=10, rotation = 70);\n",
    "\n",
    "# annotate the bars\n",
    "for p in g.patches:\n",
    "    g.annotate(p.get_height().round(2), \n",
    "                   (p.get_x() + p.get_width() / 2., p.get_height()), \n",
    "                   ha = 'center', va = 'center', \n",
    "                   size=8,\n",
    "                   xytext = (0, 8), \n",
    "                   textcoords = 'offset points')"
   ]
  },
  {
   "cell_type": "markdown",
   "metadata": {},
   "source": [
    "#### Comments on undergraduate majors\n",
    "We see from our plot that the percentages of data coders with a mathematics or statistics degree, some engineering degree (other than computer science), or a science degree (both natural and social sciences) are higher than the corresponding values for developers that do not work with big data. However, the largest gap we observe for computer science graduates who form almost 64% of the other coders, compared with 52% for the data coders."
   ]
  },
  {
   "cell_type": "markdown",
   "metadata": {},
   "source": [
    "### Importance attributed to formal education"
   ]
  },
  {
   "cell_type": "code",
   "execution_count": 17,
   "metadata": {},
   "outputs": [
    {
     "data": {
      "text/plain": [
       "29    How important is a formal education, such as a university degree in computer science, to your career?\n",
       "Name: QuestionText, dtype: object"
      ]
     },
     "execution_count": 17,
     "metadata": {},
     "output_type": "execute_result"
    }
   ],
   "source": [
    "# get the question about the importance of formal education\n",
    "dfs[dfs.Column == 'NEWEdImpt']['QuestionText']"
   ]
  },
  {
   "cell_type": "code",
   "execution_count": 18,
   "metadata": {},
   "outputs": [
    {
     "data": {
      "text/plain": [
       "array(['Fairly important', nan, 'Not important', 'Very important',\n",
       "       'Somewhat important', 'Critically important'], dtype=object)"
      ]
     },
     "execution_count": 18,
     "metadata": {},
     "output_type": "execute_result"
    }
   ],
   "source": [
    "# get the choices for the education importance question\n",
    "df1.EdImpt.unique()"
   ]
  },
  {
   "cell_type": "code",
   "execution_count": 19,
   "metadata": {},
   "outputs": [],
   "source": [
    "# use groupby() to get the percentage of developers with each major\n",
    "EdImpt_perc = df1.groupby('DevClass')['EdImpt'].value_counts(normalize=True)\n",
    "EdImpt_perc = EdImpt_perc.round(4)*100"
   ]
  },
  {
   "cell_type": "code",
   "execution_count": 20,
   "metadata": {},
   "outputs": [
    {
     "data": {
      "text/html": [
       "<div>\n",
       "<style scoped>\n",
       "    .dataframe tbody tr th:only-of-type {\n",
       "        vertical-align: middle;\n",
       "    }\n",
       "\n",
       "    .dataframe tbody tr th {\n",
       "        vertical-align: top;\n",
       "    }\n",
       "\n",
       "    .dataframe thead th {\n",
       "        text-align: right;\n",
       "    }\n",
       "</style>\n",
       "<table border=\"1\" class=\"dataframe\">\n",
       "  <thead>\n",
       "    <tr style=\"text-align: right;\">\n",
       "      <th></th>\n",
       "      <th>DevClass</th>\n",
       "      <th>EdImpt</th>\n",
       "      <th>perc</th>\n",
       "    </tr>\n",
       "  </thead>\n",
       "  <tbody>\n",
       "    <tr>\n",
       "      <th>0</th>\n",
       "      <td>data_coder</td>\n",
       "      <td>Very important</td>\n",
       "      <td>28.61</td>\n",
       "    </tr>\n",
       "    <tr>\n",
       "      <th>1</th>\n",
       "      <td>data_coder</td>\n",
       "      <td>Fairly important</td>\n",
       "      <td>24.09</td>\n",
       "    </tr>\n",
       "    <tr>\n",
       "      <th>2</th>\n",
       "      <td>data_coder</td>\n",
       "      <td>Somewhat important</td>\n",
       "      <td>19.28</td>\n",
       "    </tr>\n",
       "    <tr>\n",
       "      <th>3</th>\n",
       "      <td>data_coder</td>\n",
       "      <td>Critically important</td>\n",
       "      <td>15.26</td>\n",
       "    </tr>\n",
       "    <tr>\n",
       "      <th>4</th>\n",
       "      <td>data_coder</td>\n",
       "      <td>Not important</td>\n",
       "      <td>12.76</td>\n",
       "    </tr>\n",
       "    <tr>\n",
       "      <th>5</th>\n",
       "      <td>other_coder</td>\n",
       "      <td>Fairly important</td>\n",
       "      <td>26.57</td>\n",
       "    </tr>\n",
       "    <tr>\n",
       "      <th>6</th>\n",
       "      <td>other_coder</td>\n",
       "      <td>Somewhat important</td>\n",
       "      <td>24.36</td>\n",
       "    </tr>\n",
       "    <tr>\n",
       "      <th>7</th>\n",
       "      <td>other_coder</td>\n",
       "      <td>Very important</td>\n",
       "      <td>23.64</td>\n",
       "    </tr>\n",
       "    <tr>\n",
       "      <th>8</th>\n",
       "      <td>other_coder</td>\n",
       "      <td>Not important</td>\n",
       "      <td>16.74</td>\n",
       "    </tr>\n",
       "    <tr>\n",
       "      <th>9</th>\n",
       "      <td>other_coder</td>\n",
       "      <td>Critically important</td>\n",
       "      <td>8.69</td>\n",
       "    </tr>\n",
       "  </tbody>\n",
       "</table>\n",
       "</div>"
      ],
      "text/plain": [
       "      DevClass                EdImpt   perc\n",
       "0   data_coder        Very important  28.61\n",
       "1   data_coder      Fairly important  24.09\n",
       "2   data_coder    Somewhat important  19.28\n",
       "3   data_coder  Critically important  15.26\n",
       "4   data_coder         Not important  12.76\n",
       "5  other_coder      Fairly important  26.57\n",
       "6  other_coder    Somewhat important  24.36\n",
       "7  other_coder        Very important  23.64\n",
       "8  other_coder         Not important  16.74\n",
       "9  other_coder  Critically important   8.69"
      ]
     },
     "execution_count": 20,
     "metadata": {},
     "output_type": "execute_result"
    }
   ],
   "source": [
    "# convert the series into a dataframe object\n",
    "EdImpt_perc = EdImpt_perc.reset_index(name='perc')\n",
    "EdImpt_perc "
   ]
  },
  {
   "cell_type": "code",
   "execution_count": 22,
   "metadata": {
    "scrolled": true
   },
   "outputs": [
    {
     "data": {
      "image/png": "[encoded data removed]",
      "text/plain": [
       "<Figure size 864x432 with 1 Axes>"
      ]
     },
     "metadata": {},
     "output_type": "display_data"
    }
   ],
   "source": [
    "# set the figure size\n",
    "plt.figure(figsize=(12, 6))\n",
    "\n",
    "# create order for the bars \n",
    "opinions = ['Critically important', 'Very important', 'Fairly important', \n",
    "            'Somewhat important', 'Not important']\n",
    "\n",
    "# create the plot\n",
    "g=sns.barplot(data=EdImpt_perc, x='EdImpt', y='perc', hue='DevClass',\n",
    "             order = opinions)\n",
    "\n",
    "# set labels, title, xticks properties\n",
    "plt.xlabel('Education Importance', size=10)\n",
    "plt.ylabel('Education Importance Percentages', size=10)\n",
    "plt.title('Opinion about Education Importance for Data and Other Coders', size=10)\n",
    "plt.xticks(size=10, rotation = 0);\n",
    "\n",
    "# annotate the bars\n",
    "for p in g.patches:\n",
    "    g.annotate(p.get_height().round(2), \n",
    "                   (p.get_x() + p.get_width() / 2., p.get_height()), \n",
    "                   ha = 'center', va = 'center', \n",
    "                   size=8,\n",
    "                   xytext = (0, 8), \n",
    "                   textcoords = 'offset points')"
   ]
  },
  {
   "cell_type": "markdown",
   "metadata": {},
   "source": [
    "#### Comments on the importance of formal education:\n",
    "There are higher percentages of data coders who considers a formal education critically or very important to their careers. On the other side, the other coders see a formal education only fairly important. "
   ]
  },
  {
   "cell_type": "code",
   "execution_count": null,
   "metadata": {},
   "outputs": [],
   "source": []
  },
  {
   "cell_type": "code",
   "execution_count": null,
   "metadata": {},
   "outputs": [],
   "source": []
  }
 ],
 "metadata": {
  "kernelspec": {
   "display_name": "Python 3",
   "language": "python",
   "name": "python3"
  },
  "language_info": {
   "codemirror_mode": {
    "name": "ipython",
    "version": 3
   },
   "file_extension": ".py",
   "mimetype": "text/x-python",
   "name": "python",
   "nbconvert_exporter": "python",
   "pygments_lexer": "ipython3",
   "version": "3.7.6"
  },
  "toc": {
   "base_numbering": 1,
   "nav_menu": {},
   "number_sections": true,
   "sideBar": true,
   "skip_h1_title": false,
   "title_cell": "Table of Contents",
   "title_sidebar": "Contents",
   "toc_cell": false,
   "toc_position": {},
   "toc_section_display": true,
   "toc_window_display": true
  }
 },
 "nbformat": 4,
 "nbformat_minor": 4
}
