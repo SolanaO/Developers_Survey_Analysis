{
 "cells": [
  {
   "cell_type": "markdown",
   "metadata": {},
   "source": [
    "# Analysis of StackOverflowSurvey. Part II"
   ]
  },
  {
   "cell_type": "code",
   "execution_count": 8,
   "metadata": {},
   "outputs": [],
   "source": [
    "# import neccessary packages and libraries\n",
    "import os\n",
    "from collections import defaultdict\n",
    "\n",
    "import numpy as np\n",
    "import pandas as pd\n",
    "\n",
    "import matplotlib.pyplot as plt\n",
    "# to render plots in the notebook\n",
    "%matplotlib inline\n",
    "\n",
    "import seaborn as sns\n",
    "# set a theme for seaborn\n",
    "sns.set_theme()"
   ]
  },
  {
   "cell_type": "code",
   "execution_count": 9,
   "metadata": {},
   "outputs": [],
   "source": [
    "# import local module containing the neccessary functions\n",
    "import utils_functions as uf\n",
    "\n",
    "# forces the interpreter to re-import the module\n",
    "import importlib\n",
    "importlib.reload(uf);\n",
    "\n",
    "# create a path string\n",
    "mypath = os.getcwd()"
   ]
  },
  {
   "cell_type": "code",
   "execution_count": 10,
   "metadata": {},
   "outputs": [],
   "source": [
    "# option to display the full text of the string columns\n",
    "pd.set_option('display.max_colwidth', None)"
   ]
  },
  {
   "cell_type": "code",
   "execution_count": 19,
   "metadata": {},
   "outputs": [],
   "source": [
    "# upload the datafiles as pandas dataframes\n",
    "df1 = pd.read_csv(mypath+'/data/survey20_updated.csv', index_col=[0])\n",
    "dfs = pd.read_csv(mypath+'/data/survey20_results_schema.csv')"
   ]
  },
  {
   "cell_type": "markdown",
   "metadata": {},
   "source": [
    "## The data coders\n",
    "\n",
    "Look at the subset of developers who checked at least one of the options of working with big data. These options are 'Data scientist or machine learning specialist', 'Data or business analyst' and 'Engineer, data'."
   ]
  },
  {
   "cell_type": "code",
   "execution_count": 21,
   "metadata": {},
   "outputs": [
    {
     "data": {
      "text/plain": [
       "(8679, 21)"
      ]
     },
     "execution_count": 21,
     "metadata": {},
     "output_type": "execute_result"
    }
   ],
   "source": [
    "# the subset of developers that checked at least one data related profession\n",
    "data_coders = df1[df1[\"DevClass\"] == 'data_coder']\n",
    "data_coders.shape"
   ]
  },
  {
   "cell_type": "code",
   "execution_count": 22,
   "metadata": {},
   "outputs": [
    {
     "data": {
      "text/plain": [
       "13.511746298631543"
      ]
     },
     "execution_count": 22,
     "metadata": {},
     "output_type": "execute_result"
    }
   ],
   "source": [
    "# the percentage of data coders among all respondents\n",
    "data_coders.shape[0]/df1.shape[0] * 100"
   ]
  },
  {
   "cell_type": "code",
   "execution_count": 23,
   "metadata": {},
   "outputs": [
    {
     "data": {
      "text/plain": [
       "(55554, 21)"
      ]
     },
     "execution_count": 23,
     "metadata": {},
     "output_type": "execute_result"
    }
   ],
   "source": [
    "# the developers that did not check any data related professions\n",
    "other_coders = df1[df1[\"DevClass\"] == 'other_coder']\n",
    "other_coders.shape"
   ]
  },
  {
   "cell_type": "markdown",
   "metadata": {},
   "source": [
    "## Education related information\n",
    "I will address now the questions I am interested in: \n",
    "> Do data developers have more formal educational background than the other developers? In particular, are there more data coders that major in math or stats than other developers? How is the education level related to job satisfaction and compensation? \n",
    "\n",
    "The questions regarding the education that I am interested in are related to the columns `EdLevel`, '`NewEdImpt`, `UndergradMajor`. I am also interested in how these options are related to salary, i.e. `ConvertedComp` and `JobSat`."
   ]
  },
  {
   "cell_type": "markdown",
   "metadata": {},
   "source": [
    "## Formal education and the two classes of developers"
   ]
  },
  {
   "cell_type": "markdown",
   "metadata": {},
   "source": [
    "### The education levels of data coders compared with the other coders"
   ]
  },
  {
   "cell_type": "code",
   "execution_count": 32,
   "metadata": {},
   "outputs": [
    {
     "data": {
      "text/plain": [
       "14    Which of the following best describes the highest level of formal education that you’ve completed?\n",
       "Name: QuestionText, dtype: object"
      ]
     },
     "execution_count": 32,
     "metadata": {},
     "output_type": "execute_result"
    }
   ],
   "source": [
    "# get the question about education level\n",
    "dfs[dfs.Column == 'EdLevel']['QuestionText']"
   ]
  },
  {
   "cell_type": "code",
   "execution_count": 33,
   "metadata": {},
   "outputs": [
    {
     "data": {
      "text/plain": [
       "array(['Master’s degree', 'Bachelor’s degree', nan, 'Secondary school',\n",
       "       'Professional degree', 'College study/no degree',\n",
       "       'Associate degree', 'Other doctoral degree',\n",
       "       'Primary/elementary school', 'No formal education'], dtype=object)"
      ]
     },
     "execution_count": 33,
     "metadata": {},
     "output_type": "execute_result"
    }
   ],
   "source": [
    "# get the curated choices for the education level question\n",
    "df1.EdLevel.unique()"
   ]
  },
  {
   "cell_type": "code",
   "execution_count": 49,
   "metadata": {},
   "outputs": [
    {
     "data": {
      "text/plain": [
       "DevClass     EdLevel                  \n",
       "data_coder   Bachelor’s degree            41.88\n",
       "             Master’s degree              32.74\n",
       "             College study/no degree       9.20\n",
       "             Other doctoral degree         7.59\n",
       "             Secondary school              3.33\n",
       "             Associate degree              2.25\n",
       "             Professional degree           1.52\n",
       "             No formal education           0.77\n",
       "             Primary/elementary school     0.73\n",
       "other_coder  Bachelor’s degree            47.00\n",
       "             Master’s degree              21.09\n",
       "             College study/no degree      13.19\n",
       "             Secondary school              9.18\n",
       "             Associate degree              3.38\n",
       "             Other doctoral degree         2.13\n",
       "             Primary/elementary school     1.80\n",
       "             Professional degree           1.37\n",
       "             No formal education           0.87\n",
       "Name: EdLevel, dtype: float64"
      ]
     },
     "execution_count": 49,
     "metadata": {},
     "output_type": "execute_result"
    }
   ],
   "source": [
    "# use groupby() to get the percentage of developers in each education level\n",
    "EdLevel_perc = df1.groupby('DevClass')['EdLevel'].value_counts(normalize=True)\n",
    "EdLevel_perc.round(4)*100"
   ]
  },
  {
   "cell_type": "code",
   "execution_count": 50,
   "metadata": {},
   "outputs": [
    {
     "data": {
      "text/html": [
       "<div>\n",
       "<style scoped>\n",
       "    .dataframe tbody tr th:only-of-type {\n",
       "        vertical-align: middle;\n",
       "    }\n",
       "\n",
       "    .dataframe tbody tr th {\n",
       "        vertical-align: top;\n",
       "    }\n",
       "\n",
       "    .dataframe thead th {\n",
       "        text-align: right;\n",
       "    }\n",
       "</style>\n",
       "<table border=\"1\" class=\"dataframe\">\n",
       "  <thead>\n",
       "    <tr style=\"text-align: right;\">\n",
       "      <th></th>\n",
       "      <th>DevClass</th>\n",
       "      <th>EdLevel</th>\n",
       "      <th>perc</th>\n",
       "    </tr>\n",
       "  </thead>\n",
       "  <tbody>\n",
       "    <tr>\n",
       "      <th>0</th>\n",
       "      <td>data_coder</td>\n",
       "      <td>Bachelor’s degree</td>\n",
       "      <td>0.418765</td>\n",
       "    </tr>\n",
       "    <tr>\n",
       "      <th>1</th>\n",
       "      <td>data_coder</td>\n",
       "      <td>Master’s degree</td>\n",
       "      <td>0.327398</td>\n",
       "    </tr>\n",
       "    <tr>\n",
       "      <th>2</th>\n",
       "      <td>data_coder</td>\n",
       "      <td>College study/no degree</td>\n",
       "      <td>0.091953</td>\n",
       "    </tr>\n",
       "    <tr>\n",
       "      <th>3</th>\n",
       "      <td>data_coder</td>\n",
       "      <td>Other doctoral degree</td>\n",
       "      <td>0.075905</td>\n",
       "    </tr>\n",
       "    <tr>\n",
       "      <th>4</th>\n",
       "      <td>data_coder</td>\n",
       "      <td>Secondary school</td>\n",
       "      <td>0.033267</td>\n",
       "    </tr>\n",
       "    <tr>\n",
       "      <th>5</th>\n",
       "      <td>data_coder</td>\n",
       "      <td>Associate degree</td>\n",
       "      <td>0.022490</td>\n",
       "    </tr>\n",
       "    <tr>\n",
       "      <th>6</th>\n",
       "      <td>data_coder</td>\n",
       "      <td>Professional degree</td>\n",
       "      <td>0.015228</td>\n",
       "    </tr>\n",
       "    <tr>\n",
       "      <th>7</th>\n",
       "      <td>data_coder</td>\n",
       "      <td>No formal education</td>\n",
       "      <td>0.007731</td>\n",
       "    </tr>\n",
       "    <tr>\n",
       "      <th>8</th>\n",
       "      <td>data_coder</td>\n",
       "      <td>Primary/elementary school</td>\n",
       "      <td>0.007263</td>\n",
       "    </tr>\n",
       "    <tr>\n",
       "      <th>9</th>\n",
       "      <td>other_coder</td>\n",
       "      <td>Bachelor’s degree</td>\n",
       "      <td>0.469995</td>\n",
       "    </tr>\n",
       "    <tr>\n",
       "      <th>10</th>\n",
       "      <td>other_coder</td>\n",
       "      <td>Master’s degree</td>\n",
       "      <td>0.210930</td>\n",
       "    </tr>\n",
       "    <tr>\n",
       "      <th>11</th>\n",
       "      <td>other_coder</td>\n",
       "      <td>College study/no degree</td>\n",
       "      <td>0.131875</td>\n",
       "    </tr>\n",
       "    <tr>\n",
       "      <th>12</th>\n",
       "      <td>other_coder</td>\n",
       "      <td>Secondary school</td>\n",
       "      <td>0.091813</td>\n",
       "    </tr>\n",
       "    <tr>\n",
       "      <th>13</th>\n",
       "      <td>other_coder</td>\n",
       "      <td>Associate degree</td>\n",
       "      <td>0.033754</td>\n",
       "    </tr>\n",
       "    <tr>\n",
       "      <th>14</th>\n",
       "      <td>other_coder</td>\n",
       "      <td>Other doctoral degree</td>\n",
       "      <td>0.021305</td>\n",
       "    </tr>\n",
       "    <tr>\n",
       "      <th>15</th>\n",
       "      <td>other_coder</td>\n",
       "      <td>Primary/elementary school</td>\n",
       "      <td>0.017956</td>\n",
       "    </tr>\n",
       "    <tr>\n",
       "      <th>16</th>\n",
       "      <td>other_coder</td>\n",
       "      <td>Professional degree</td>\n",
       "      <td>0.013703</td>\n",
       "    </tr>\n",
       "    <tr>\n",
       "      <th>17</th>\n",
       "      <td>other_coder</td>\n",
       "      <td>No formal education</td>\n",
       "      <td>0.008670</td>\n",
       "    </tr>\n",
       "  </tbody>\n",
       "</table>\n",
       "</div>"
      ],
      "text/plain": [
       "       DevClass                    EdLevel      perc\n",
       "0    data_coder          Bachelor’s degree  0.418765\n",
       "1    data_coder            Master’s degree  0.327398\n",
       "2    data_coder    College study/no degree  0.091953\n",
       "3    data_coder      Other doctoral degree  0.075905\n",
       "4    data_coder           Secondary school  0.033267\n",
       "5    data_coder           Associate degree  0.022490\n",
       "6    data_coder        Professional degree  0.015228\n",
       "7    data_coder        No formal education  0.007731\n",
       "8    data_coder  Primary/elementary school  0.007263\n",
       "9   other_coder          Bachelor’s degree  0.469995\n",
       "10  other_coder            Master’s degree  0.210930\n",
       "11  other_coder    College study/no degree  0.131875\n",
       "12  other_coder           Secondary school  0.091813\n",
       "13  other_coder           Associate degree  0.033754\n",
       "14  other_coder      Other doctoral degree  0.021305\n",
       "15  other_coder  Primary/elementary school  0.017956\n",
       "16  other_coder        Professional degree  0.013703\n",
       "17  other_coder        No formal education  0.008670"
      ]
     },
     "execution_count": 50,
     "metadata": {},
     "output_type": "execute_result"
    }
   ],
   "source": [
    "# convert the series into a dataframe object\n",
    "EdLevel_perc = EdLevel_perc.reset_index(name='perc')\n",
    "EdLevel_perc"
   ]
  },
  {
   "cell_type": "code",
   "execution_count": 51,
   "metadata": {},
   "outputs": [
    {
     "data": {
      "text/html": [
       "<div>\n",
       "<style scoped>\n",
       "    .dataframe tbody tr th:only-of-type {\n",
       "        vertical-align: middle;\n",
       "    }\n",
       "\n",
       "    .dataframe tbody tr th {\n",
       "        vertical-align: top;\n",
       "    }\n",
       "\n",
       "    .dataframe thead tr th {\n",
       "        text-align: left;\n",
       "    }\n",
       "\n",
       "    .dataframe thead tr:last-of-type th {\n",
       "        text-align: right;\n",
       "    }\n",
       "</style>\n",
       "<table border=\"1\" class=\"dataframe\">\n",
       "  <thead>\n",
       "    <tr>\n",
       "      <th></th>\n",
       "      <th colspan=\"2\" halign=\"left\">perc</th>\n",
       "    </tr>\n",
       "    <tr>\n",
       "      <th>DevClass</th>\n",
       "      <th>data_coder</th>\n",
       "      <th>other_coder</th>\n",
       "    </tr>\n",
       "    <tr>\n",
       "      <th>EdLevel</th>\n",
       "      <th></th>\n",
       "      <th></th>\n",
       "    </tr>\n",
       "  </thead>\n",
       "  <tbody>\n",
       "    <tr>\n",
       "      <th>Associate degree</th>\n",
       "      <td>0.022490</td>\n",
       "      <td>0.033754</td>\n",
       "    </tr>\n",
       "    <tr>\n",
       "      <th>Bachelor’s degree</th>\n",
       "      <td>0.418765</td>\n",
       "      <td>0.469995</td>\n",
       "    </tr>\n",
       "    <tr>\n",
       "      <th>College study/no degree</th>\n",
       "      <td>0.091953</td>\n",
       "      <td>0.131875</td>\n",
       "    </tr>\n",
       "    <tr>\n",
       "      <th>Master’s degree</th>\n",
       "      <td>0.327398</td>\n",
       "      <td>0.210930</td>\n",
       "    </tr>\n",
       "    <tr>\n",
       "      <th>No formal education</th>\n",
       "      <td>0.007731</td>\n",
       "      <td>0.008670</td>\n",
       "    </tr>\n",
       "    <tr>\n",
       "      <th>Other doctoral degree</th>\n",
       "      <td>0.075905</td>\n",
       "      <td>0.021305</td>\n",
       "    </tr>\n",
       "    <tr>\n",
       "      <th>Primary/elementary school</th>\n",
       "      <td>0.007263</td>\n",
       "      <td>0.017956</td>\n",
       "    </tr>\n",
       "    <tr>\n",
       "      <th>Professional degree</th>\n",
       "      <td>0.015228</td>\n",
       "      <td>0.013703</td>\n",
       "    </tr>\n",
       "    <tr>\n",
       "      <th>Secondary school</th>\n",
       "      <td>0.033267</td>\n",
       "      <td>0.091813</td>\n",
       "    </tr>\n",
       "  </tbody>\n",
       "</table>\n",
       "</div>"
      ],
      "text/plain": [
       "                                perc            \n",
       "DevClass                  data_coder other_coder\n",
       "EdLevel                                         \n",
       "Associate degree            0.022490    0.033754\n",
       "Bachelor’s degree           0.418765    0.469995\n",
       "College study/no degree     0.091953    0.131875\n",
       "Master’s degree             0.327398    0.210930\n",
       "No formal education         0.007731    0.008670\n",
       "Other doctoral degree       0.075905    0.021305\n",
       "Primary/elementary school   0.007263    0.017956\n",
       "Professional degree         0.015228    0.013703\n",
       "Secondary school            0.033267    0.091813"
      ]
     },
     "execution_count": 51,
     "metadata": {},
     "output_type": "execute_result"
    }
   ],
   "source": [
    "# put the columns in array form \n",
    "EdLevel_perc = EdLevel_perc.pivot(index='EdLevel', columns='DevClass')\n",
    "EdLevel_perc"
   ]
  },
  {
   "cell_type": "code",
   "execution_count": 52,
   "metadata": {},
   "outputs": [
    {
     "data": {
      "image/png": "[encoded data removed]",
      "text/plain": [
       "<Figure size 432x288 with 2 Axes>"
      ]
     },
     "metadata": {},
     "output_type": "display_data"
    }
   ],
   "source": [
    "# plot the heatmap\n",
    "sns.heatmap(EdLevel_perc.round(4)*100, cmap='Blues', annot = True);\n",
    "\n",
    "# set labels, title, xticks properties\n",
    "plt.xlabel('Developer Class', size=10)\n",
    "plt.ylabel('Education Level', size=10)\n",
    "plt.title('Education Level Perecentages for Data and Other Coders', size=10)\n",
    "plt.xticks(size=10);\n"
   ]
  },
  {
   "cell_type": "markdown",
   "metadata": {},
   "source": [
    "#### Comments on education levels:\n",
    "We observe from this heat map, that the percentages of data coders with higher education degrees (Master, Doctoral or Professional) are higher than the corresponding percentages for the other developers, in particular Master and Other Doctoral degrees. Specifically, about 42% of data coders have a higher education degree, compared to only 24.5 % for the other coders. Almost half of the other coders have a Bachelor's degree, the corresponding percentage is lower among the data coders. "
   ]
  },
  {
   "cell_type": "markdown",
   "metadata": {},
   "source": [
    "### Are there more data coders with math and stats degrees than other coders?"
   ]
  },
  {
   "cell_type": "code",
   "execution_count": 53,
   "metadata": {},
   "outputs": [
    {
     "data": {
      "text/plain": [
       "54    What was your primary field of study?\n",
       "Name: QuestionText, dtype: object"
      ]
     },
     "execution_count": 53,
     "metadata": {},
     "output_type": "execute_result"
    }
   ],
   "source": [
    "# get the question about undergraduate degree\n",
    "dfs[dfs.Column == 'UndergradMajor']['QuestionText']"
   ]
  },
  {
   "cell_type": "code",
   "execution_count": 54,
   "metadata": {},
   "outputs": [
    {
     "data": {
      "text/plain": [
       "array(['Computer science', nan, 'Math or stats', 'Engineering other',\n",
       "       'Humanities', 'Health science', 'Information system',\n",
       "       'Web dev/design', 'Natural science', 'Arts', 'No major',\n",
       "       'Social science', 'Business'], dtype=object)"
      ]
     },
     "execution_count": 54,
     "metadata": {},
     "output_type": "execute_result"
    }
   ],
   "source": [
    "# get the curated choices for the field of study\n",
    "df1.UndergradMajor.unique()"
   ]
  },
  {
   "cell_type": "code",
   "execution_count": 55,
   "metadata": {},
   "outputs": [],
   "source": [
    "# use groupby() to get the percentage of developers with each major\n",
    "UndergradMajor_perc = df1.groupby('DevClass')['UndergradMajor'].value_counts(normalize=True)\n",
    "UndergradMajor_perc = UndergradMajor_perc.round(4)*100"
   ]
  },
  {
   "cell_type": "code",
   "execution_count": 56,
   "metadata": {},
   "outputs": [
    {
     "data": {
      "text/html": [
       "<div>\n",
       "<style scoped>\n",
       "    .dataframe tbody tr th:only-of-type {\n",
       "        vertical-align: middle;\n",
       "    }\n",
       "\n",
       "    .dataframe tbody tr th {\n",
       "        vertical-align: top;\n",
       "    }\n",
       "\n",
       "    .dataframe thead th {\n",
       "        text-align: right;\n",
       "    }\n",
       "</style>\n",
       "<table border=\"1\" class=\"dataframe\">\n",
       "  <thead>\n",
       "    <tr style=\"text-align: right;\">\n",
       "      <th></th>\n",
       "      <th>DevClass</th>\n",
       "      <th>UndergradMajor</th>\n",
       "      <th>perc</th>\n",
       "    </tr>\n",
       "  </thead>\n",
       "  <tbody>\n",
       "    <tr>\n",
       "      <th>0</th>\n",
       "      <td>data_coder</td>\n",
       "      <td>Computer science</td>\n",
       "      <td>51.82</td>\n",
       "    </tr>\n",
       "    <tr>\n",
       "      <th>1</th>\n",
       "      <td>data_coder</td>\n",
       "      <td>Engineering other</td>\n",
       "      <td>12.03</td>\n",
       "    </tr>\n",
       "    <tr>\n",
       "      <th>2</th>\n",
       "      <td>data_coder</td>\n",
       "      <td>Math or stats</td>\n",
       "      <td>8.07</td>\n",
       "    </tr>\n",
       "    <tr>\n",
       "      <th>3</th>\n",
       "      <td>data_coder</td>\n",
       "      <td>Information system</td>\n",
       "      <td>7.61</td>\n",
       "    </tr>\n",
       "    <tr>\n",
       "      <th>4</th>\n",
       "      <td>data_coder</td>\n",
       "      <td>Natural science</td>\n",
       "      <td>7.37</td>\n",
       "    </tr>\n",
       "    <tr>\n",
       "      <th>5</th>\n",
       "      <td>data_coder</td>\n",
       "      <td>Business</td>\n",
       "      <td>4.57</td>\n",
       "    </tr>\n",
       "    <tr>\n",
       "      <th>6</th>\n",
       "      <td>data_coder</td>\n",
       "      <td>Social science</td>\n",
       "      <td>3.28</td>\n",
       "    </tr>\n",
       "    <tr>\n",
       "      <th>7</th>\n",
       "      <td>data_coder</td>\n",
       "      <td>Humanities</td>\n",
       "      <td>1.83</td>\n",
       "    </tr>\n",
       "    <tr>\n",
       "      <th>8</th>\n",
       "      <td>data_coder</td>\n",
       "      <td>Web dev/design</td>\n",
       "      <td>1.47</td>\n",
       "    </tr>\n",
       "    <tr>\n",
       "      <th>9</th>\n",
       "      <td>data_coder</td>\n",
       "      <td>No major</td>\n",
       "      <td>0.74</td>\n",
       "    </tr>\n",
       "    <tr>\n",
       "      <th>10</th>\n",
       "      <td>data_coder</td>\n",
       "      <td>Arts</td>\n",
       "      <td>0.62</td>\n",
       "    </tr>\n",
       "    <tr>\n",
       "      <th>11</th>\n",
       "      <td>data_coder</td>\n",
       "      <td>Health science</td>\n",
       "      <td>0.59</td>\n",
       "    </tr>\n",
       "    <tr>\n",
       "      <th>12</th>\n",
       "      <td>other_coder</td>\n",
       "      <td>Computer science</td>\n",
       "      <td>63.82</td>\n",
       "    </tr>\n",
       "    <tr>\n",
       "      <th>13</th>\n",
       "      <td>other_coder</td>\n",
       "      <td>Engineering other</td>\n",
       "      <td>8.82</td>\n",
       "    </tr>\n",
       "    <tr>\n",
       "      <th>14</th>\n",
       "      <td>other_coder</td>\n",
       "      <td>Information system</td>\n",
       "      <td>8.03</td>\n",
       "    </tr>\n",
       "    <tr>\n",
       "      <th>15</th>\n",
       "      <td>other_coder</td>\n",
       "      <td>Web dev/design</td>\n",
       "      <td>3.89</td>\n",
       "    </tr>\n",
       "    <tr>\n",
       "      <th>16</th>\n",
       "      <td>other_coder</td>\n",
       "      <td>Natural science</td>\n",
       "      <td>3.75</td>\n",
       "    </tr>\n",
       "    <tr>\n",
       "      <th>17</th>\n",
       "      <td>other_coder</td>\n",
       "      <td>Math or stats</td>\n",
       "      <td>2.80</td>\n",
       "    </tr>\n",
       "    <tr>\n",
       "      <th>18</th>\n",
       "      <td>other_coder</td>\n",
       "      <td>Business</td>\n",
       "      <td>2.34</td>\n",
       "    </tr>\n",
       "    <tr>\n",
       "      <th>19</th>\n",
       "      <td>other_coder</td>\n",
       "      <td>Humanities</td>\n",
       "      <td>2.01</td>\n",
       "    </tr>\n",
       "    <tr>\n",
       "      <th>20</th>\n",
       "      <td>other_coder</td>\n",
       "      <td>Arts</td>\n",
       "      <td>1.58</td>\n",
       "    </tr>\n",
       "    <tr>\n",
       "      <th>21</th>\n",
       "      <td>other_coder</td>\n",
       "      <td>Social science</td>\n",
       "      <td>1.56</td>\n",
       "    </tr>\n",
       "    <tr>\n",
       "      <th>22</th>\n",
       "      <td>other_coder</td>\n",
       "      <td>No major</td>\n",
       "      <td>0.92</td>\n",
       "    </tr>\n",
       "    <tr>\n",
       "      <th>23</th>\n",
       "      <td>other_coder</td>\n",
       "      <td>Health science</td>\n",
       "      <td>0.47</td>\n",
       "    </tr>\n",
       "  </tbody>\n",
       "</table>\n",
       "</div>"
      ],
      "text/plain": [
       "       DevClass      UndergradMajor   perc\n",
       "0    data_coder    Computer science  51.82\n",
       "1    data_coder   Engineering other  12.03\n",
       "2    data_coder       Math or stats   8.07\n",
       "3    data_coder  Information system   7.61\n",
       "4    data_coder     Natural science   7.37\n",
       "5    data_coder            Business   4.57\n",
       "6    data_coder      Social science   3.28\n",
       "7    data_coder          Humanities   1.83\n",
       "8    data_coder      Web dev/design   1.47\n",
       "9    data_coder            No major   0.74\n",
       "10   data_coder                Arts   0.62\n",
       "11   data_coder      Health science   0.59\n",
       "12  other_coder    Computer science  63.82\n",
       "13  other_coder   Engineering other   8.82\n",
       "14  other_coder  Information system   8.03\n",
       "15  other_coder      Web dev/design   3.89\n",
       "16  other_coder     Natural science   3.75\n",
       "17  other_coder       Math or stats   2.80\n",
       "18  other_coder            Business   2.34\n",
       "19  other_coder          Humanities   2.01\n",
       "20  other_coder                Arts   1.58\n",
       "21  other_coder      Social science   1.56\n",
       "22  other_coder            No major   0.92\n",
       "23  other_coder      Health science   0.47"
      ]
     },
     "execution_count": 56,
     "metadata": {},
     "output_type": "execute_result"
    }
   ],
   "source": [
    "# convert the series into a dataframe object\n",
    "UndergradMajor_perc = UndergradMajor_perc.reset_index(name='perc')\n",
    "UndergradMajor_perc "
   ]
  },
  {
   "cell_type": "code",
   "execution_count": 57,
   "metadata": {},
   "outputs": [
    {
     "data": {
      "image/png": "[encoded data removed]",
      "text/plain": [
       "<Figure size 864x432 with 1 Axes>"
      ]
     },
     "metadata": {},
     "output_type": "display_data"
    }
   ],
   "source": [
    "# set the figure size\n",
    "plt.figure(figsize=(12, 6))\n",
    "\n",
    "# create the plot\n",
    "g=sns.barplot(data=UndergradMajor_perc, x='UndergradMajor', y='perc', hue='DevClass')\n",
    "\n",
    "# set labels, title, xticks properties\n",
    "plt.xlabel('Undergraduate Major', size=10)\n",
    "plt.ylabel('Undergraduate Major Percentage', size=10)\n",
    "plt.title('Grouped Barplot: Undergraduate Major for Data and Other Coders', size=10)\n",
    "plt.xticks(size=10, rotation = 70);\n",
    "\n",
    "# annotate the bars\n",
    "for p in g.patches:\n",
    "    g.annotate(p.get_height().round(2), \n",
    "                   (p.get_x() + p.get_width() / 2., p.get_height()), \n",
    "                   ha = 'center', va = 'center', \n",
    "                   size=8,\n",
    "                   xytext = (0, 8), \n",
    "                   textcoords = 'offset points')"
   ]
  },
  {
   "cell_type": "markdown",
   "metadata": {},
   "source": [
    "#### Comments on undergraduate majors\n",
    "We see from our plot that the percentages of data coders with a mathematics or statistics degree, some engineering degree (other than computer science), or a science degree (both natural and social sciences) are higher than the corresponding values for developers that do not work with big data. However, the largest gap we observe for computer science graduates who form almost 64% of the other coders, compared with 52% for the data coders."
   ]
  },
  {
   "cell_type": "markdown",
   "metadata": {},
   "source": [
    "### Importance attributed to formal education"
   ]
  },
  {
   "cell_type": "code",
   "execution_count": 58,
   "metadata": {},
   "outputs": [
    {
     "data": {
      "text/plain": [
       "29    How important is a formal education, such as a university degree in computer science, to your career?\n",
       "Name: QuestionText, dtype: object"
      ]
     },
     "execution_count": 58,
     "metadata": {},
     "output_type": "execute_result"
    }
   ],
   "source": [
    "# get the question about the importance of formal education\n",
    "dfs[dfs.Column == 'NEWEdImpt']['QuestionText']"
   ]
  },
  {
   "cell_type": "code",
   "execution_count": 59,
   "metadata": {},
   "outputs": [
    {
     "data": {
      "text/plain": [
       "array(['Fairly important', nan, 'Not important', 'Very important',\n",
       "       'Somewhat important', 'Critically important'], dtype=object)"
      ]
     },
     "execution_count": 59,
     "metadata": {},
     "output_type": "execute_result"
    }
   ],
   "source": [
    "# get the choices for the education importance question\n",
    "df1.EdImpt.unique()"
   ]
  },
  {
   "cell_type": "code",
   "execution_count": 60,
   "metadata": {},
   "outputs": [],
   "source": [
    "# use groupby() to get the percentage of developers with each major\n",
    "EdImpt_perc = df1.groupby('DevClass')['EdImpt'].value_counts(normalize=True)\n",
    "EdImpt_perc = EdImpt_perc.round(4)*100"
   ]
  },
  {
   "cell_type": "code",
   "execution_count": 61,
   "metadata": {},
   "outputs": [
    {
     "data": {
      "text/html": [
       "<div>\n",
       "<style scoped>\n",
       "    .dataframe tbody tr th:only-of-type {\n",
       "        vertical-align: middle;\n",
       "    }\n",
       "\n",
       "    .dataframe tbody tr th {\n",
       "        vertical-align: top;\n",
       "    }\n",
       "\n",
       "    .dataframe thead th {\n",
       "        text-align: right;\n",
       "    }\n",
       "</style>\n",
       "<table border=\"1\" class=\"dataframe\">\n",
       "  <thead>\n",
       "    <tr style=\"text-align: right;\">\n",
       "      <th></th>\n",
       "      <th>DevClass</th>\n",
       "      <th>EdImpt</th>\n",
       "      <th>perc</th>\n",
       "    </tr>\n",
       "  </thead>\n",
       "  <tbody>\n",
       "    <tr>\n",
       "      <th>0</th>\n",
       "      <td>data_coder</td>\n",
       "      <td>Very important</td>\n",
       "      <td>28.67</td>\n",
       "    </tr>\n",
       "    <tr>\n",
       "      <th>1</th>\n",
       "      <td>data_coder</td>\n",
       "      <td>Fairly important</td>\n",
       "      <td>24.06</td>\n",
       "    </tr>\n",
       "    <tr>\n",
       "      <th>2</th>\n",
       "      <td>data_coder</td>\n",
       "      <td>Somewhat important</td>\n",
       "      <td>19.31</td>\n",
       "    </tr>\n",
       "    <tr>\n",
       "      <th>3</th>\n",
       "      <td>data_coder</td>\n",
       "      <td>Critically important</td>\n",
       "      <td>15.24</td>\n",
       "    </tr>\n",
       "    <tr>\n",
       "      <th>4</th>\n",
       "      <td>data_coder</td>\n",
       "      <td>Not important</td>\n",
       "      <td>12.72</td>\n",
       "    </tr>\n",
       "    <tr>\n",
       "      <th>5</th>\n",
       "      <td>other_coder</td>\n",
       "      <td>Fairly important</td>\n",
       "      <td>26.57</td>\n",
       "    </tr>\n",
       "    <tr>\n",
       "      <th>6</th>\n",
       "      <td>other_coder</td>\n",
       "      <td>Somewhat important</td>\n",
       "      <td>24.36</td>\n",
       "    </tr>\n",
       "    <tr>\n",
       "      <th>7</th>\n",
       "      <td>other_coder</td>\n",
       "      <td>Very important</td>\n",
       "      <td>23.65</td>\n",
       "    </tr>\n",
       "    <tr>\n",
       "      <th>8</th>\n",
       "      <td>other_coder</td>\n",
       "      <td>Not important</td>\n",
       "      <td>16.72</td>\n",
       "    </tr>\n",
       "    <tr>\n",
       "      <th>9</th>\n",
       "      <td>other_coder</td>\n",
       "      <td>Critically important</td>\n",
       "      <td>8.69</td>\n",
       "    </tr>\n",
       "  </tbody>\n",
       "</table>\n",
       "</div>"
      ],
      "text/plain": [
       "      DevClass                EdImpt   perc\n",
       "0   data_coder        Very important  28.67\n",
       "1   data_coder      Fairly important  24.06\n",
       "2   data_coder    Somewhat important  19.31\n",
       "3   data_coder  Critically important  15.24\n",
       "4   data_coder         Not important  12.72\n",
       "5  other_coder      Fairly important  26.57\n",
       "6  other_coder    Somewhat important  24.36\n",
       "7  other_coder        Very important  23.65\n",
       "8  other_coder         Not important  16.72\n",
       "9  other_coder  Critically important   8.69"
      ]
     },
     "execution_count": 61,
     "metadata": {},
     "output_type": "execute_result"
    }
   ],
   "source": [
    "# convert the series into a dataframe object\n",
    "EdImpt_perc = EdImpt_perc.reset_index(name='perc')\n",
    "EdImpt_perc "
   ]
  },
  {
   "cell_type": "code",
   "execution_count": 62,
   "metadata": {
    "scrolled": true
   },
   "outputs": [
    {
     "data": {
      "image/png": "[encoded data removed]",
      "text/plain": [
       "<Figure size 864x432 with 1 Axes>"
      ]
     },
     "metadata": {},
     "output_type": "display_data"
    }
   ],
   "source": [
    "# set the figure size\n",
    "plt.figure(figsize=(12, 6))\n",
    "\n",
    "# create order for the bars \n",
    "opinions = ['Critically important', 'Very important', 'Fairly important', \n",
    "            'Somewhat important', 'Not important']\n",
    "\n",
    "# create the plot\n",
    "g=sns.barplot(data=EdImpt_perc, x='EdImpt', y='perc', hue='DevClass',\n",
    "             order = opinions)\n",
    "\n",
    "# set labels, title, xticks properties\n",
    "plt.xlabel('Education Importance', size=10)\n",
    "plt.ylabel('Education Importance Percentages', size=10)\n",
    "plt.title('Opinion about Education Importance for Data and Other Coders', size=10)\n",
    "plt.xticks(size=10, rotation = 0);\n",
    "\n",
    "# annotate the bars\n",
    "for p in g.patches:\n",
    "    g.annotate(p.get_height().round(2), \n",
    "                   (p.get_x() + p.get_width() / 2., p.get_height()), \n",
    "                   ha = 'center', va = 'center', \n",
    "                   size=8,\n",
    "                   xytext = (0, 8), \n",
    "                   textcoords = 'offset points')"
   ]
  },
  {
   "cell_type": "markdown",
   "metadata": {},
   "source": [
    "#### Comments on the importance of formal education:\n",
    "There are higher percentages of data coders who considers a formal education critically or very important to their careers. On the other side, the other coders see a formal education only fairly important. "
   ]
  },
  {
   "cell_type": "code",
   "execution_count": null,
   "metadata": {},
   "outputs": [],
   "source": []
  }
 ],
 "metadata": {
  "kernelspec": {
   "display_name": "Python 3",
   "language": "python",
   "name": "python3"
  },
  "language_info": {
   "codemirror_mode": {
    "name": "ipython",
    "version": 3
   },
   "file_extension": ".py",
   "mimetype": "text/x-python",
   "name": "python",
   "nbconvert_exporter": "python",
   "pygments_lexer": "ipython3",
   "version": "3.7.6"
  },
  "toc": {
   "base_numbering": 1,
   "nav_menu": {},
   "number_sections": true,
   "sideBar": true,
   "skip_h1_title": false,
   "title_cell": "Table of Contents",
   "title_sidebar": "Contents",
   "toc_cell": false,
   "toc_position": {},
   "toc_section_display": true,
   "toc_window_display": true
  }
 },
 "nbformat": 4,
 "nbformat_minor": 4
}
