{
 "cells": [
  {
   "cell_type": "markdown",
   "id": "cccdd5b6",
   "metadata": {},
   "source": [
    "# References"
   ]
  },
  {
   "cell_type": "markdown",
   "id": "01b1cd12",
   "metadata": {},
   "source": [
    "## Books and published papers\n",
    "\n",
    "1. J. Brownlee, Machine Learning Mastery with Python (2020).\n",
    "\n",
    "2. A. Burkov, The Hundred-Page Machine Learning Book (2019).\n",
    "\n",
    "3. A. Burkov, Machine Learning Engineering, True Positive Inc. (September 5, 2020).\n",
    "\n",
    "4. A. Geron, Hands-On Machine Learning with Scikit-Learn, Keras, and TensorFlow,  2nd Edition, O'Reilly Media (October 15, 2019).\n",
    "\n",
    "5. M. Harrison, Machine Learning Pocket Reference, O'Reilly Media, Inc. (August 2019).\n",
    "\n",
    "6. S. Raschka, V. Mirjalili, Python Machine Learning, Packt Publishing (December 2019)."
   ]
  },
  {
   "cell_type": "markdown",
   "id": "c16f8298",
   "metadata": {},
   "source": [
    "## Blogs and notebooks\n",
    "\n",
    "1. J. Bernhard, How do you become a developer (Medium, March 2018 and associated repository).\n",
    "\n",
    "2. M.A. Reddy, Encoding categorical data in machine learning (Medium, June 2019).\n",
    "\n",
    "3. H. Ertan, Which features to use in your model (Medium, Feb. 2020).\n",
    "\n",
    "4. Sam T. ML Data Pipelines with Custom Transformers in Python (Medium, Feb. 2019).\n",
    "\n",
    "5. M. Mayo, Managing Machine Learning Workflows with Scikit-learn Pipelines (3 parts), KDnuggets (2018).\n",
    "\n",
    "6. V.S. Wijesinghe, Explaining Random Forest Model With Shapely Values (Kaggle, 2019).\n",
    "\n",
    "7. S. Hallows, Using XGBoost with Scikit-learn (Kaggle, 2018)"
   ]
  },
  {
   "cell_type": "code",
   "execution_count": null,
   "id": "06e862ec",
   "metadata": {},
   "outputs": [],
   "source": []
  }
 ],
 "metadata": {
  "kernelspec": {
   "display_name": "Python 3",
   "language": "python",
   "name": "python3"
  },
  "language_info": {
   "codemirror_mode": {
    "name": "ipython",
    "version": 3
   },
   "file_extension": ".py",
   "mimetype": "text/x-python",
   "name": "python",
   "nbconvert_exporter": "python",
   "pygments_lexer": "ipython3",
   "version": "3.7.6"
  },
  "toc": {
   "base_numbering": 1,
   "nav_menu": {},
   "number_sections": true,
   "sideBar": true,
   "skip_h1_title": false,
   "title_cell": "Table of Contents",
   "title_sidebar": "Contents",
   "toc_cell": false,
   "toc_position": {},
   "toc_section_display": true,
   "toc_window_display": false
  }
 },
 "nbformat": 4,
 "nbformat_minor": 5
}
