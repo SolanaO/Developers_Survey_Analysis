{
 "cells": [
  {
   "cell_type": "markdown",
   "metadata": {},
   "source": [
    "# Analysis of StackOverflow Survey. Part III"
   ]
  },
  {
   "cell_type": "code",
   "execution_count": 12,
   "metadata": {},
   "outputs": [],
   "source": [
    "# import neccessary packages and libraries\n",
    "import os\n",
    "import sys\n",
    "from collections import defaultdict\n",
    "\n",
    "import numpy as np\n",
    "import pandas as pd\n",
    "\n",
    "import matplotlib.pyplot as plt\n",
    "# to render plots in the notebook\n",
    "%matplotlib inline\n",
    "\n",
    "import seaborn as sns\n",
    "# set a theme for seaborn\n",
    "sns.set_theme()\n",
    "\n",
    "from sklearn.linear_model import LinearRegression\n",
    "\n",
    "from sklearn import (\n",
    "    ensemble,\n",
    "    preprocessing,\n",
    "    tree,\n",
    ")\n",
    "from sklearn.model_selection import (\n",
    "    train_test_split,\n",
    "    StratifiedKFold,\n",
    ")\n",
    "from sklearn.metrics import (\n",
    "    r2_score, \n",
    "    mean_squared_error,\n",
    "    auc,\n",
    "    confusion_matrix,\n",
    "    roc_auc_score,\n",
    "    roc_curve,\n",
    ")"
   ]
  },
  {
   "cell_type": "code",
   "execution_count": 14,
   "metadata": {},
   "outputs": [],
   "source": [
    "# import local module containing the neccessary functions\n",
    "import utils_functions as uf\n",
    "\n",
    "# forces the interpreter to re-import the module\n",
    "import importlib\n",
    "importlib.reload(uf);"
   ]
  },
  {
   "cell_type": "code",
   "execution_count": 15,
   "metadata": {},
   "outputs": [],
   "source": [
    "# from https://stackoverflow.com/questions/40428931\n",
    "# print to a file a list of packages and their versions used in this jupyter notebook\n",
    "\n",
    "with open('packageinfo.txt', 'w') as f:\n",
    "    print('Python {}'.format(sys.version), file=f)\n",
    "    print('Packages:', file=f)\n",
    "    print('\\n'.join(f'{m.__name__} {m.__version__}' \n",
    "                    for m in globals().values() if getattr(m, '__version__', None)),file=f)"
   ]
  },
  {
   "cell_type": "markdown",
   "metadata": {},
   "source": [
    "## State the question and outline\n",
    "\n",
    "We are addressing the second question in this notebook. How do the salaries of data coders compare with the salaries of the other coders? In particular, we shall determine if there is a statistically significant difference between the average converted compensation of data coders versus the other coders.\n",
    "\n",
    "We conduct a Z-test for independent means to compare the averages of the converted compensation, using the entries from the column 'imputedComp' obtained after imputing the missing values in 'ConvertedComp'. We will test the null hypothesis \n",
    "$$H_0: \\mu_c \\leq  \\mu_o $$\n",
    "that the mean converted compensation of the data coders ($\\mu_c$) is larger than for the other coders ($\\mu_o$), against the alternative\n",
    "$$H_a: \\mu_c > \\mu_o $$\n",
    "\n",
    "I will work with a $1 \\%$ significance level so that $\\alpha = 0.01$."
   ]
  },
  {
   "cell_type": "markdown",
   "metadata": {},
   "source": [
    "### Upload the processed data"
   ]
  },
  {
   "cell_type": "code",
   "execution_count": 19,
   "metadata": {},
   "outputs": [
    {
     "data": {
      "text/plain": [
       "(60430, 33)"
      ]
     },
     "execution_count": 19,
     "metadata": {},
     "output_type": "execute_result"
    }
   ],
   "source": [
    "# create a path string\n",
    "mypath = os.getcwd()\n",
    "\n",
    "# upload the datafiles as pandas dataframes\n",
    "df1 = pd.read_csv(mypath+'/data/survey20_updated.csv')\n",
    "\n",
    "# check the uploaded data\n",
    "df1.shape"
   ]
  },
  {
   "cell_type": "markdown",
   "metadata": {},
   "source": [
    "### Data Processing"
   ]
  },
  {
   "cell_type": "code",
   "execution_count": 20,
   "metadata": {},
   "outputs": [
    {
     "data": {
      "text/html": [
       "<div>\n",
       "<style scoped>\n",
       "    .dataframe tbody tr th:only-of-type {\n",
       "        vertical-align: middle;\n",
       "    }\n",
       "\n",
       "    .dataframe tbody tr th {\n",
       "        vertical-align: top;\n",
       "    }\n",
       "\n",
       "    .dataframe thead th {\n",
       "        text-align: right;\n",
       "    }\n",
       "</style>\n",
       "<table border=\"1\" class=\"dataframe\">\n",
       "  <thead>\n",
       "    <tr style=\"text-align: right;\">\n",
       "      <th></th>\n",
       "      <th>imputedComp</th>\n",
       "      <th>DevClass</th>\n",
       "    </tr>\n",
       "  </thead>\n",
       "  <tbody>\n",
       "    <tr>\n",
       "      <th>0</th>\n",
       "      <td>62697.0</td>\n",
       "      <td>other_coder</td>\n",
       "    </tr>\n",
       "    <tr>\n",
       "      <th>1</th>\n",
       "      <td>67215.0</td>\n",
       "      <td>other_coder</td>\n",
       "    </tr>\n",
       "  </tbody>\n",
       "</table>\n",
       "</div>"
      ],
      "text/plain": [
       "  imputedComp     DevClass\n",
       "0     62697.0  other_coder\n",
       "1     67215.0  other_coder"
      ]
     },
     "execution_count": 20,
     "metadata": {},
     "output_type": "execute_result"
    }
   ],
   "source": [
    "# create a dataframe with the variables of interest only\n",
    "df2 = pd.DataFrame([df1.imputedComp, df1.DevClass]).transpose()\n",
    "df2.head(2)"
   ]
  },
  {
   "cell_type": "code",
   "execution_count": 21,
   "metadata": {},
   "outputs": [
    {
     "name": "stdout",
     "output_type": "stream",
     "text": [
      "<class 'pandas.core.frame.DataFrame'>\n",
      "RangeIndex: 60430 entries, 0 to 60429\n",
      "Data columns (total 2 columns):\n",
      " #   Column       Non-Null Count  Dtype \n",
      "---  ------       --------------  ----- \n",
      " 0   imputedComp  60430 non-null  object\n",
      " 1   DevClass     60430 non-null  object\n",
      "dtypes: object(2)\n",
      "memory usage: 944.3+ KB\n"
     ]
    }
   ],
   "source": [
    "# check the attributes of the dataframe\n",
    "df2.info()"
   ]
  },
  {
   "cell_type": "code",
   "execution_count": 22,
   "metadata": {},
   "outputs": [
    {
     "name": "stdout",
     "output_type": "stream",
     "text": [
      "<class 'pandas.core.frame.DataFrame'>\n",
      "RangeIndex: 60430 entries, 0 to 60429\n",
      "Data columns (total 2 columns):\n",
      " #   Column       Non-Null Count  Dtype  \n",
      "---  ------       --------------  -----  \n",
      " 0   imputedComp  60430 non-null  float64\n",
      " 1   DevClass     60430 non-null  object \n",
      "dtypes: float64(1), object(1)\n",
      "memory usage: 944.3+ KB\n"
     ]
    }
   ],
   "source": [
    "# change the Dtype of the imputedComp column\n",
    "df2['imputedComp'] = pd.to_numeric(df2[\"imputedComp\"])\n",
    "df2.info()"
   ]
  },
  {
   "cell_type": "code",
   "execution_count": 23,
   "metadata": {},
   "outputs": [
    {
     "data": {
      "text/plain": [
       "(190, 2)"
      ]
     },
     "execution_count": 23,
     "metadata": {},
     "output_type": "execute_result"
    }
   ],
   "source": [
    "# determine how many entries have 0 compensation\n",
    "df2[df2.imputedComp == 0.0].shape"
   ]
  },
  {
   "cell_type": "code",
   "execution_count": 24,
   "metadata": {},
   "outputs": [],
   "source": [
    "# drop those values with 0 imputedCompensation\n",
    "df2.drop(df2[df2.imputedComp == 0.0].index, inplace = True)"
   ]
  },
  {
   "cell_type": "code",
   "execution_count": 25,
   "metadata": {},
   "outputs": [
    {
     "data": {
      "text/plain": [
       "(0, 2)"
      ]
     },
     "execution_count": 25,
     "metadata": {},
     "output_type": "execute_result"
    }
   ],
   "source": [
    "# check for success\n",
    "df2[df2.imputedComp == 0.0].shape"
   ]
  },
  {
   "cell_type": "code",
   "execution_count": 26,
   "metadata": {},
   "outputs": [
    {
     "data": {
      "text/plain": [
       "(51566, 2)"
      ]
     },
     "execution_count": 26,
     "metadata": {},
     "output_type": "execute_result"
    }
   ],
   "source": [
    "# the records for the other coders\n",
    "df2_other = df2[df2.DevClass == 'other_coder']\n",
    "df2_other.shape"
   ]
  },
  {
   "cell_type": "code",
   "execution_count": 27,
   "metadata": {},
   "outputs": [
    {
     "data": {
      "text/plain": [
       "(8674, 2)"
      ]
     },
     "execution_count": 27,
     "metadata": {},
     "output_type": "execute_result"
    }
   ],
   "source": [
    "# the records for the data coders\n",
    "df2_data = df2[df2.DevClass == 'data_coder']\n",
    "df2_data.shape"
   ]
  },
  {
   "cell_type": "code",
   "execution_count": 19,
   "metadata": {},
   "outputs": [],
   "source": [
    "# take a look at the data with profiling, save the output in a file\n",
    "# from pandas_profiling import ProfileReport\n",
    "# profile = ProfileReport(df2)\n",
    "# profile.to_file(output_file='imputedComp_profile.html')"
   ]
  },
  {
   "cell_type": "code",
   "execution_count": 28,
   "metadata": {},
   "outputs": [
    {
     "data": {
      "text/plain": [
       "<seaborn.axisgrid.FacetGrid at 0x7f191466b890>"
      ]
     },
     "execution_count": 28,
     "metadata": {},
     "output_type": "execute_result"
    },
    {
     "data": {
      "text/plain": [
       "<Figure size 1152x864 with 0 Axes>"
      ]
     },
     "metadata": {},
     "output_type": "display_data"
    },
    {
     "data": {
      "image/png": "[encoded data removed]",
      "text/plain": [
       "<Figure size 432x216 with 2 Axes>"
      ]
     },
     "metadata": {},
     "output_type": "display_data"
    }
   ],
   "source": [
    "# resize the figure\n",
    "plt.figure(figsize=[16, 12])\n",
    "\n",
    "# create a facet plot with histograms for the two subsets\n",
    "bin_edges = np.arange(-2, df2['imputedComp'].max()+1, 1000)\n",
    "g = sns.FacetGrid(data = df2, col='DevClass', sharey=False)\n",
    "g.map(plt.hist, 'imputedComp', bins=bin_edges, color='blue')"
   ]
  },
  {
   "cell_type": "code",
   "execution_count": 30,
   "metadata": {},
   "outputs": [
    {
     "data": {
      "image/png": "[encoded data removed]",
      "text/plain": [
       "<Figure size 1440x1152 with 4 Axes>"
      ]
     },
     "metadata": {},
     "output_type": "display_data"
    }
   ],
   "source": [
    "# set the figure sizecenter plot\n",
    "plt.figure(figsize = [20, 16])\n",
    "\n",
    "# left upper plot: histogram\n",
    "plt.subplot(2, 2, 1)\n",
    "sns.histplot(data=df2_data, x='imputedComp');\n",
    "plt.title('Compensation data coders', fontsize=14);\n",
    "\n",
    "\n",
    "# right upper plot: histogram\n",
    "plt.subplot(2, 2, 2)\n",
    "sns.histplot(data=df2_data, x='imputedComp',log_scale = True);\n",
    "plt.title('Compensation data coders - logscale', fontsize=14);\n",
    "\n",
    "# left lower plot: histogram\n",
    "plt.subplot(2, 2, 3)\n",
    "sns.histplot(data=df2_other, x='imputedComp');\n",
    "plt.title('Compensation other coders', fontsize=14);\n",
    "\n",
    "# right lower plot: histogram\n",
    "plt.subplot(2, 2, 4)\n",
    "sns.histplot(data=df2_other, x='imputedComp',log_scale = True );\n",
    "plt.title('Compensation other coders - logscale', fontsize=14);\n"
   ]
  },
  {
   "cell_type": "code",
   "execution_count": 31,
   "metadata": {},
   "outputs": [
    {
     "data": {
      "image/png": "[encoded data removed]",
      "text/plain": [
       "<Figure size 1440x432 with 2 Axes>"
      ]
     },
     "metadata": {},
     "output_type": "display_data"
    }
   ],
   "source": [
    "# set the figure sizecenter plot\n",
    "plt.figure(figsize = [20, 6])\n",
    "\n",
    "# left upper plot: histogram\n",
    "plt.subplot(1, 2, 1)\n",
    "sns.boxplot(data=df2_data, x='imputedComp');\n",
    "plt.title('Compensation data coders', fontsize=14);\n",
    "\n",
    "\n",
    "# right upper plot: histogram\n",
    "plt.subplot(1, 2, 2)\n",
    "sns.boxplot(data=df2_other, x='imputedComp');\n",
    "plt.title('Compensation other coders', fontsize=14);"
   ]
  },
  {
   "cell_type": "markdown",
   "metadata": {},
   "source": [
    "### Evaluate statistics"
   ]
  },
  {
   "cell_type": "code",
   "execution_count": 33,
   "metadata": {},
   "outputs": [],
   "source": [
    "# create the two data arrays for the z-test\n",
    "x_data = df2_data.imputedComp\n",
    "x_other = df2_other.imputedComp\n"
   ]
  },
  {
   "cell_type": "code",
   "execution_count": 39,
   "metadata": {},
   "outputs": [
    {
     "name": "stdout",
     "output_type": "stream",
     "text": [
      "The test statistic is -6.775 and the p-value is 0.00000\n"
     ]
    }
   ],
   "source": [
    "from scipy.stats import ttest_ind\n",
    "statistic,pvalue = ttest_ind(x_other, x_data, equal_var=False, alternative='less')\n",
    "print('The test statistic is %.3f and the p-value is %.5f'%(statistic,pvalue))"
   ]
  },
  {
   "cell_type": "markdown",
   "metadata": {},
   "source": [
    "#### Comments regarding the Z-test:\n",
    "\n",
    "We test the null hypothesis \n",
    "$$H_0: \\mu_c - \\mu_o  \\geq 0$$\n",
    "that the mean converted compensation of the data coders ($\\mu_c$) is larger than for the other coders ($\\mu_o$), against the alternative\n",
    "$$H_a: \\mu_c - \\mu_o  < 0.$$\n",
    "\n",
    "I will work with a $1 \\%$ significance level so that $\\alpha = 0.01$.\n",
    "\n",
    "We perform a right - tailed test and a Z-test of two means, with known population standard deviations. \n",
    "\n",
    "For the significance level of $\\alpha = 0.01$ the critical value is $z_{\\scriptsize critical} = 2.33$  with rejection region $R = \\lbrace z: z > 2.33 \\rbrace$. \n",
    "\n",
    "We compute a z-statistic $z = 6.775 \\geq 2.33$ and we conclude that the null hypothesis is rejected. \n",
    "\n",
    "Using the p-value approach: since the p-value $p=0 < 0.01$, we conclude that he null hypothesis is rejected again.\n",
    "\n",
    "We have $99 \\%$ confidence that the mean compensation for data coders $\\mu_c$ lies in the interval $[10016.38 + \\mu_o, 22305.62 + \\mu_o]$. \n",
    "\n",
    "A few comments about these conclusions:\n",
    "- about $46 \\%$ of the data is missing in the ConvComp column;\n",
    "- we imputed most of the values with the country medians and droped the remaining zero and missing values;\n",
    "- the compensation is converted, but we still have to keep in mind that the compensation levels differ substantially among countries;\n",
    "- another aspect not taken into account (an this is only one of the many) is that the developers have various levels of seniority, and we averaged over all experience levels.\n",
    "\n",
    "With all these observations in mind, we can just say that there is some evidence that, in average, the developers working with big data have higher compensation than the other developers. We can affirm, with a $99\\%$ level of confidence, that this difference is somewhere between 10K and 20K."
   ]
  },
  {
   "cell_type": "code",
   "execution_count": null,
   "metadata": {},
   "outputs": [],
   "source": []
  }
 ],
 "metadata": {
  "kernelspec": {
   "display_name": "Python 3",
   "language": "python",
   "name": "python3"
  },
  "language_info": {
   "codemirror_mode": {
    "name": "ipython",
    "version": 3
   },
   "file_extension": ".py",
   "mimetype": "text/x-python",
   "name": "python",
   "nbconvert_exporter": "python",
   "pygments_lexer": "ipython3",
   "version": "3.7.6"
  },
  "toc": {
   "base_numbering": 1,
   "nav_menu": {},
   "number_sections": true,
   "sideBar": true,
   "skip_h1_title": false,
   "title_cell": "Table of Contents",
   "title_sidebar": "Contents",
   "toc_cell": false,
   "toc_position": {},
   "toc_section_display": true,
   "toc_window_display": false
  }
 },
 "nbformat": 4,
 "nbformat_minor": 4
}
