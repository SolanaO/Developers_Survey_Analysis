{
 "cells": [
  {
   "cell_type": "markdown",
   "metadata": {},
   "source": [
    "# Analysis of StackOverflow Survey. Part III"
   ]
  },
  {
   "cell_type": "code",
   "execution_count": 2,
   "metadata": {},
   "outputs": [],
   "source": [
    "# import neccessary packages and libraries\n",
    "import os\n",
    "import sys\n",
    "from collections import defaultdict\n",
    " \n",
    "import numpy as np\n",
    "import pandas as pd\n",
    "\n",
    "import matplotlib.pyplot as plt\n",
    "# to render plots in the notebook\n",
    "%matplotlib inline\n",
    "\n",
    "import seaborn as sns\n",
    "# set a theme for seaborn\n",
    "sns.set_theme()"
   ]
  },
  {
   "cell_type": "code",
   "execution_count": 3,
   "metadata": {},
   "outputs": [],
   "source": [
    "# import local module containing the neccessary functions\n",
    "import utils_functions as uf\n",
    "\n",
    "# forces the interpreter to re-import the module\n",
    "import importlib\n",
    "importlib.reload(uf);\n",
    "\n",
    "# create a path string\n",
    "mypath = os.getcwd()"
   ]
  },
  {
   "cell_type": "markdown",
   "metadata": {},
   "source": [
    "## State the question \n",
    "\n",
    "We are addressing the second question in this notebook. How do the salaries of data coders compare with the salaries of the other coders? In particular, we shall determine if there is a statistically significant difference between the average converted compensation of data coders versus the average converted compensation of the other coders.\n",
    "\n",
    "We conduct a Z-test for independent means to compare the averages of the converted compensation, using the entries from the column 'imputedComp' obtained after imputing the missing values in 'ConvertedComp'. We will test the null hypothesis \n",
    "$$H_0: \\mu_c \\leq  \\mu_o $$\n",
    "that the mean converted compensation of the data coders ($\\mu_c$) is less than for the other coders ($\\mu_o$), against the alternative\n",
    "$$H_a: \\mu_c > \\mu_o $$\n",
    "\n",
    "I will work with a $1 \\%$ significance level so that $\\alpha = 0.01$."
   ]
  },
  {
   "cell_type": "markdown",
   "metadata": {},
   "source": [
    "### Upload the processed data"
   ]
  },
  {
   "cell_type": "code",
   "execution_count": 4,
   "metadata": {},
   "outputs": [
    {
     "data": {
      "text/plain": [
       "(64233, 22)"
      ]
     },
     "execution_count": 4,
     "metadata": {},
     "output_type": "execute_result"
    }
   ],
   "source": [
    "# create a path string\n",
    "mypath = os.getcwd()\n",
    "\n",
    "# upload the datafiles as pandas dataframes\n",
    "df1 = pd.read_csv(mypath+'/data/survey20_updated.csv')\n",
    "\n",
    "# check the uploaded data\n",
    "df1.shape"
   ]
  },
  {
   "cell_type": "markdown",
   "metadata": {},
   "source": [
    "### Impute data in ConvertedComp column"
   ]
  },
  {
   "cell_type": "code",
   "execution_count": 5,
   "metadata": {},
   "outputs": [
    {
     "data": {
      "text/plain": [
       "count      34570.00\n",
       "mean      103835.90\n",
       "std       226855.16\n",
       "min            0.00\n",
       "25%        24744.00\n",
       "50%        54049.00\n",
       "75%        95000.00\n",
       "max      2000000.00\n",
       "Name: ConvertedComp, dtype: float64"
      ]
     },
     "execution_count": 5,
     "metadata": {},
     "output_type": "execute_result"
    }
   ],
   "source": [
    "# take a look at the records statistics\n",
    "df1.ConvertedComp.describe().round(3)"
   ]
  },
  {
   "cell_type": "code",
   "execution_count": 6,
   "metadata": {},
   "outputs": [
    {
     "data": {
      "text/plain": [
       "32355    2000000.0\n",
       "13463    2000000.0\n",
       "14016    2000000.0\n",
       "63231    2000000.0\n",
       "48991    2000000.0\n",
       "           ...    \n",
       "64228          NaN\n",
       "64229          NaN\n",
       "64230          NaN\n",
       "64231          NaN\n",
       "64232          NaN\n",
       "Name: ConvertedComp, Length: 64233, dtype: float64"
      ]
     },
     "execution_count": 6,
     "metadata": {},
     "output_type": "execute_result"
    }
   ],
   "source": [
    "# there are numerous extreme values and also almost half of values missing\n",
    "df1.ConvertedComp.sort_values(ascending=False)"
   ]
  },
  {
   "cell_type": "code",
   "execution_count": 7,
   "metadata": {},
   "outputs": [
    {
     "data": {
      "text/plain": [
       "(257, 22)"
      ]
     },
     "execution_count": 7,
     "metadata": {},
     "output_type": "execute_result"
    }
   ],
   "source": [
    "# the extreme values\n",
    "df1[df1.ConvertedComp == 2000000].shape"
   ]
  },
  {
   "cell_type": "code",
   "execution_count": 8,
   "metadata": {},
   "outputs": [],
   "source": [
    "# impute the ConvertedComp missing values with the median of the corresponding country\n",
    "# save the existing values and the imputed values in a new column\n",
    "df1['ImputedComp'] = df1['ConvertedComp'].fillna(df1.groupby('Country')['ConvertedComp'].transform('median'))"
   ]
  },
  {
   "cell_type": "code",
   "execution_count": 9,
   "metadata": {},
   "outputs": [
    {
     "data": {
      "text/plain": [
       "453"
      ]
     },
     "execution_count": 9,
     "metadata": {},
     "output_type": "execute_result"
    }
   ],
   "source": [
    "# check how many values are still missing\n",
    "df1.ImputedComp.isnull().sum()"
   ]
  },
  {
   "cell_type": "code",
   "execution_count": 10,
   "metadata": {},
   "outputs": [
    {
     "data": {
      "text/plain": [
       "(63780, 23)"
      ]
     },
     "execution_count": 10,
     "metadata": {},
     "output_type": "execute_result"
    }
   ],
   "source": [
    "# drop all rows that have NaN in ImputedComp column\n",
    "df1.dropna(subset = ['ImputedComp'], inplace=True)\n",
    "df1.shape"
   ]
  },
  {
   "cell_type": "code",
   "execution_count": 11,
   "metadata": {},
   "outputs": [
    {
     "data": {
      "text/plain": [
       "(140, 23)"
      ]
     },
     "execution_count": 11,
     "metadata": {},
     "output_type": "execute_result"
    }
   ],
   "source": [
    "# how many values are 0\n",
    "df1[df1.ImputedComp == 0.0].shape"
   ]
  },
  {
   "cell_type": "code",
   "execution_count": 12,
   "metadata": {},
   "outputs": [
    {
     "data": {
      "text/plain": [
       "(63640, 23)"
      ]
     },
     "execution_count": 12,
     "metadata": {},
     "output_type": "execute_result"
    }
   ],
   "source": [
    "# drop those values with 0 imputedCompensation\n",
    "df1.drop(df1[df1.ImputedComp == 0.0].index, inplace = True)\n",
    "\n",
    "# check for success\n",
    "df1.shape"
   ]
  },
  {
   "cell_type": "markdown",
   "metadata": {},
   "source": [
    "### Data Processing"
   ]
  },
  {
   "cell_type": "code",
   "execution_count": 16,
   "metadata": {},
   "outputs": [
    {
     "data": {
      "text/html": [
       "<div>\n",
       "<style scoped>\n",
       "    .dataframe tbody tr th:only-of-type {\n",
       "        vertical-align: middle;\n",
       "    }\n",
       "\n",
       "    .dataframe tbody tr th {\n",
       "        vertical-align: top;\n",
       "    }\n",
       "\n",
       "    .dataframe thead th {\n",
       "        text-align: right;\n",
       "    }\n",
       "</style>\n",
       "<table border=\"1\" class=\"dataframe\">\n",
       "  <thead>\n",
       "    <tr style=\"text-align: right;\">\n",
       "      <th></th>\n",
       "      <th>ImputedComp</th>\n",
       "      <th>DevClass</th>\n",
       "    </tr>\n",
       "  </thead>\n",
       "  <tbody>\n",
       "    <tr>\n",
       "      <th>0</th>\n",
       "      <td>62697.0</td>\n",
       "      <td>other_coder</td>\n",
       "    </tr>\n",
       "    <tr>\n",
       "      <th>1</th>\n",
       "      <td>67215.0</td>\n",
       "      <td>other_coder</td>\n",
       "    </tr>\n",
       "  </tbody>\n",
       "</table>\n",
       "</div>"
      ],
      "text/plain": [
       "  ImputedComp     DevClass\n",
       "0     62697.0  other_coder\n",
       "1     67215.0  other_coder"
      ]
     },
     "execution_count": 16,
     "metadata": {},
     "output_type": "execute_result"
    }
   ],
   "source": [
    "# create a dataframe with the variables of interest only\n",
    "df2 = pd.DataFrame([df1.ImputedComp, df1.DevClass]).T\n",
    "df2.head(2)"
   ]
  },
  {
   "cell_type": "code",
   "execution_count": 17,
   "metadata": {},
   "outputs": [
    {
     "name": "stdout",
     "output_type": "stream",
     "text": [
      "<class 'pandas.core.frame.DataFrame'>\n",
      "Int64Index: 63640 entries, 0 to 64232\n",
      "Data columns (total 2 columns):\n",
      " #   Column       Non-Null Count  Dtype \n",
      "---  ------       --------------  ----- \n",
      " 0   ImputedComp  63640 non-null  object\n",
      " 1   DevClass     63640 non-null  object\n",
      "dtypes: object(2)\n",
      "memory usage: 3.5+ MB\n"
     ]
    }
   ],
   "source": [
    "# check the attributes of the dataframe\n",
    "df2.info()"
   ]
  },
  {
   "cell_type": "code",
   "execution_count": 18,
   "metadata": {},
   "outputs": [
    {
     "name": "stdout",
     "output_type": "stream",
     "text": [
      "<class 'pandas.core.frame.DataFrame'>\n",
      "Int64Index: 63640 entries, 0 to 64232\n",
      "Data columns (total 2 columns):\n",
      " #   Column       Non-Null Count  Dtype  \n",
      "---  ------       --------------  -----  \n",
      " 0   ImputedComp  63640 non-null  float64\n",
      " 1   DevClass     63640 non-null  object \n",
      "dtypes: float64(1), object(1)\n",
      "memory usage: 3.5+ MB\n"
     ]
    }
   ],
   "source": [
    "# change the Dtype of the imputedComp column\n",
    "df2['ImputedComp'] = pd.to_numeric(df2[\"ImputedComp\"])\n",
    "df2.info()"
   ]
  },
  {
   "cell_type": "code",
   "execution_count": 19,
   "metadata": {},
   "outputs": [
    {
     "data": {
      "text/plain": [
       "(54993, 2)"
      ]
     },
     "execution_count": 19,
     "metadata": {},
     "output_type": "execute_result"
    }
   ],
   "source": [
    "# the records for the other coders\n",
    "df2_other = df2[df2.DevClass == 'other_coder']\n",
    "df2_other.shape"
   ]
  },
  {
   "cell_type": "code",
   "execution_count": 20,
   "metadata": {},
   "outputs": [
    {
     "data": {
      "text/plain": [
       "(8647, 2)"
      ]
     },
     "execution_count": 20,
     "metadata": {},
     "output_type": "execute_result"
    }
   ],
   "source": [
    "# the records for the data coders\n",
    "df2_data = df2[df2.DevClass == 'data_coder']\n",
    "df2_data.shape"
   ]
  },
  {
   "cell_type": "code",
   "execution_count": 21,
   "metadata": {},
   "outputs": [
    {
     "data": {
      "text/plain": [
       "<Figure size 1152x864 with 0 Axes>"
      ]
     },
     "metadata": {},
     "output_type": "display_data"
    },
    {
     "data": {
      "image/png": "[encoded data removed]",
      "text/plain": [
       "<Figure size 432x216 with 2 Axes>"
      ]
     },
     "metadata": {},
     "output_type": "display_data"
    }
   ],
   "source": [
    "# resize the figure\n",
    "plt.figure(figsize=[16, 12])\n",
    "\n",
    "# create a facet plot with histograms for the two subsets\n",
    "bin_edges = np.arange(-2, df2['ImputedComp'].max()+1, 1000)\n",
    "g = sns.FacetGrid(data = df2, col='DevClass', sharey=False)\n",
    "g.map(plt.hist, 'ImputedComp', bins=bin_edges, color='blue');"
   ]
  },
  {
   "cell_type": "code",
   "execution_count": 22,
   "metadata": {},
   "outputs": [
    {
     "data": {
      "image/png": "[encoded data removed]",
      "text/plain": [
       "<Figure size 1440x1152 with 4 Axes>"
      ]
     },
     "metadata": {},
     "output_type": "display_data"
    }
   ],
   "source": [
    "# set the figure sizecenter plot\n",
    "plt.figure(figsize = [20, 16])\n",
    "\n",
    "# left upper plot: histogram\n",
    "plt.subplot(2, 2, 1)\n",
    "sns.histplot(data=df2_data, x='ImputedComp');\n",
    "plt.title('Compensation data coders', fontsize=14);\n",
    "\n",
    "\n",
    "# right upper plot: histogram\n",
    "plt.subplot(2, 2, 2)\n",
    "sns.histplot(data=df2_data, x='ImputedComp',log_scale = True);\n",
    "plt.title('Compensation data coders - logscale', fontsize=14);\n",
    "\n",
    "# left lower plot: histogram\n",
    "plt.subplot(2, 2, 3)\n",
    "sns.histplot(data=df2_other, x='ImputedComp');\n",
    "plt.title('Compensation other coders', fontsize=14);\n",
    "\n",
    "# right lower plot: histogram\n",
    "plt.subplot(2, 2, 4)\n",
    "sns.histplot(data=df2_other, x='ImputedComp',log_scale = True );\n",
    "plt.title('Compensation other coders - logscale', fontsize=14);\n"
   ]
  },
  {
   "cell_type": "code",
   "execution_count": 23,
   "metadata": {},
   "outputs": [
    {
     "data": {
      "image/png": "[encoded data removed]",
      "text/plain": [
       "<Figure size 1440x432 with 2 Axes>"
      ]
     },
     "metadata": {},
     "output_type": "display_data"
    }
   ],
   "source": [
    "# set the figure sizecenter plot\n",
    "plt.figure(figsize = [20, 6])\n",
    "\n",
    "# left upper plot: histogram\n",
    "plt.subplot(1, 2, 1)\n",
    "sns.boxplot(data=df2_data, x='ImputedComp');\n",
    "plt.title('Compensation data coders', fontsize=14);\n",
    "\n",
    "\n",
    "# right upper plot: histogram\n",
    "plt.subplot(1, 2, 2)\n",
    "sns.boxplot(data=df2_other, x='ImputedComp');\n",
    "plt.title('Compensation other coders', fontsize=14);"
   ]
  },
  {
   "cell_type": "markdown",
   "metadata": {},
   "source": [
    "### Evaluate statistics"
   ]
  },
  {
   "cell_type": "code",
   "execution_count": 25,
   "metadata": {},
   "outputs": [],
   "source": [
    "# create the two data arrays for the z-test\n",
    "x_data = df2_data.ImputedComp \n",
    "x_other = df2_other.ImputedComp  \n"
   ]
  },
  {
   "cell_type": "code",
   "execution_count": 26,
   "metadata": {},
   "outputs": [
    {
     "data": {
      "text/plain": [
       "18287.143417660205"
      ]
     },
     "execution_count": 26,
     "metadata": {},
     "output_type": "execute_result"
    }
   ],
   "source": [
    "# compute the difference of averages\n",
    "x_data.mean() - x_other.mean()"
   ]
  },
  {
   "cell_type": "code",
   "execution_count": 27,
   "metadata": {},
   "outputs": [
    {
     "name": "stdout",
     "output_type": "stream",
     "text": [
      "The test statistic is 7.747 and the p-value is 0.00000\n"
     ]
    }
   ],
   "source": [
    "from scipy.stats import ttest_ind\n",
    "statistic,pvalue = ttest_ind(x_data, x_other, equal_var=False, alternative='greater')\n",
    "print('The test statistic is %.3f and the p-value is %.5f'%(statistic,pvalue))"
   ]
  },
  {
   "cell_type": "markdown",
   "metadata": {},
   "source": [
    "#### Comments regarding the Z-test:\n",
    "\n",
    "We are interested to see if the converted compensation of the tata coders is larger in average than the converted compensation of the other coders. We test the null hypothesis \n",
    "$$H_0: \\mu_c - \\mu_o  \\leq 0$$\n",
    "that the mean converted compensation of the data coders ($\\mu_c$) is smaller than for the other coders ($\\mu_o$), against the alternative\n",
    "$$H_a: \\mu_c - \\mu_o  > 0.$$\n",
    "\n",
    "We will work with a $1 \\%$ significance level so that $\\alpha = 0.01$.\n",
    "\n",
    "We perform a right - tailed test and a Z-test of two means, with known population standard deviations. \n",
    "\n",
    "For the significance level of $\\alpha = 0.01$ the critical value is $z_{\\scriptsize critical} = 2.33$  with rejection region $R = \\lbrace z: z > 2.33 \\rbrace$. \n",
    "\n",
    "We compute a z-statistic $z = 7.9 \\geq 2.33$ and we conclude that the null hypothesis is rejected. \n",
    "\n",
    "Using the p-value approach: since the p-value $p = 0 < 0.01$, we conclude that the null hypothesis is rejected.\n",
    "\n",
    "We found a difference in average converted compensation between data coders and other coders $18696 \\$$, with a p-value of $0.00$, consistent with our hypothesis that there is a difference in compensation between data coders and the other coders.\n",
    "\n",
    "A few comments about these conclusions:\n",
    "- about $46 \\%$ of the data is missing in the ConvComp column;\n",
    "- we imputed most of the values with the country medians and dropped the remaining zero and missing values;\n",
    "- there are numerous outliers in the data;\n",
    "- the compensation is converted, but we still have to keep in mind that the compensation levels differ substantially among countries;\n",
    "- another aspect not taken into account (an this is only one of the many) is that the developers have various levels of seniority, and we averaged over all experience levels.\n",
    "\n",
    "With all these observations in mind, we can just say that there is some evidence that, in average, the developers working with big data have higher compensation than the other developers. "
   ]
  },
  {
   "cell_type": "code",
   "execution_count": null,
   "metadata": {},
   "outputs": [],
   "source": []
  }
 ],
 "metadata": {
  "kernelspec": {
   "display_name": "Python 3",
   "language": "python",
   "name": "python3"
  },
  "language_info": {
   "codemirror_mode": {
    "name": "ipython",
    "version": 3
   },
   "file_extension": ".py",
   "mimetype": "text/x-python",
   "name": "python",
   "nbconvert_exporter": "python",
   "pygments_lexer": "ipython3",
   "version": "3.7.6"
  },
  "toc": {
   "base_numbering": 1,
   "nav_menu": {},
   "number_sections": true,
   "sideBar": true,
   "skip_h1_title": false,
   "title_cell": "Table of Contents",
   "title_sidebar": "Contents",
   "toc_cell": false,
   "toc_position": {},
   "toc_section_display": true,
   "toc_window_display": false
  }
 },
 "nbformat": 4,
 "nbformat_minor": 4
}
