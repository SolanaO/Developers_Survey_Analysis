{
 "cells": [
  {
   "cell_type": "markdown",
   "id": "7993e6b6",
   "metadata": {},
   "source": [
    "# Analysis of StackOverflow Survey. Part IV \n",
    "\n",
    "In this notebook we build a predictiv model for job satisfaction. "
   ]
  },
  {
   "cell_type": "code",
   "execution_count": 2,
   "id": "837206f6",
   "metadata": {},
   "outputs": [],
   "source": [
    "# import neccessary packages and libraries\n",
    "import os\n",
    "from collections import defaultdict\n",
    "\n",
    "import numpy as np\n",
    "import pandas as pd\n",
    "\n",
    "import matplotlib.pyplot as plt\n",
    "# to render plots in the notebook\n",
    "%matplotlib inline\n",
    "\n",
    "import seaborn as sns\n",
    "# set a theme for seaborn\n",
    "sns.set_theme()\n",
    "\n",
    "from sklearn.linear_model import LinearRegression\n",
    "\n",
    "from sklearn import (\n",
    "    ensemble,\n",
    "    preprocessing,\n",
    "    tree,\n",
    ")\n",
    "from sklearn.model_selection import (\n",
    "    train_test_split,\n",
    "    StratifiedKFold,\n",
    ")\n",
    "from sklearn.metrics import (\n",
    "    r2_score, \n",
    "    mean_squared_error,\n",
    "    auc,\n",
    "    confusion_matrix,\n",
    "    roc_auc_score,\n",
    "    roc_curve,\n",
    ")"
   ]
  },
  {
   "cell_type": "code",
   "execution_count": 56,
   "id": "ed1cca52",
   "metadata": {},
   "outputs": [],
   "source": [
    "# import local module containing the neccessary functions\n",
    "import utils_functions as uf\n",
    "\n",
    "# forces the interpreter to re-import the module\n",
    "import importlib\n",
    "importlib.reload(uf);"
   ]
  },
  {
   "cell_type": "markdown",
   "id": "9bc49bb0",
   "metadata": {},
   "source": [
    "## State the question\n",
    "I am addressing the third question in this notebook. What can we tell about the job satisfaction of a data coder? What factors do influence it? Also, predict the job satisfaction for a developer who works with big data. \n",
    "\n",
    "This is a classification question, we are predicting a satisfaction level for a data developer, which includes: data scientist or machine learning specialist, data or business analyst and data engineer."
   ]
  },
  {
   "cell_type": "markdown",
   "id": "ffcfad12",
   "metadata": {},
   "source": [
    "## Performance metric"
   ]
  },
  {
   "cell_type": "markdown",
   "id": "452d2a27",
   "metadata": {},
   "source": [
    "## Gather the data\n",
    "\n",
    "Upload the data and keep just the subset that contains those developers that work in data science related fields."
   ]
  },
  {
   "cell_type": "code",
   "execution_count": 72,
   "id": "fb9ad29e",
   "metadata": {},
   "outputs": [
    {
     "data": {
      "text/plain": [
       "(64461, 61)"
      ]
     },
     "execution_count": 72,
     "metadata": {},
     "output_type": "execute_result"
    }
   ],
   "source": [
    "# create a path string\n",
    "mypath = os.getcwd()\n",
    "\n",
    "# upload the datafiles as pandas dataframes\n",
    "df = pd.read_csv(mypath+'/data/survey20_results_public.csv')\n",
    "\n",
    "# check the uploaded data\n",
    "df.shape"
   ]
  },
  {
   "cell_type": "markdown",
   "id": "2a6c4287",
   "metadata": {},
   "source": [
    "## Data preprocessing "
   ]
  },
  {
   "cell_type": "code",
   "execution_count": 73,
   "id": "81f3a49a",
   "metadata": {},
   "outputs": [],
   "source": [
    "# rename the data engineer string in the full dataset\n",
    "df.DevType = df.DevType.str.replace('Engineer, data', 'Data engineer')"
   ]
  },
  {
   "cell_type": "code",
   "execution_count": 74,
   "id": "39e5a1b5",
   "metadata": {},
   "outputs": [
    {
     "data": {
      "text/plain": [
       "other_coder    55735\n",
       "data_coder      8726\n",
       "Name: DevClass, dtype: int64"
      ]
     },
     "execution_count": 74,
     "metadata": {},
     "output_type": "execute_result"
    }
   ],
   "source": [
    "# create column DevClass, entry data_coder or other_coder, based on DevType contains data or not\n",
    "df['DevClass'] = np.where(df['DevType'].str.contains(\"Data \", na = False),\n",
    "                          'data_coder', 'other_coder')\n",
    "df['DevClass'].value_counts()"
   ]
  },
  {
   "cell_type": "code",
   "execution_count": 75,
   "id": "8354b521",
   "metadata": {},
   "outputs": [
    {
     "data": {
      "text/plain": [
       "(8726, 62)"
      ]
     },
     "execution_count": 75,
     "metadata": {},
     "output_type": "execute_result"
    }
   ],
   "source": [
    "# the data frame that contains the data developers only\n",
    "df = df[df.DevClass == 'data_coder']\n",
    "\n",
    "# check the size of the data\n",
    "df.shape"
   ]
  },
  {
   "cell_type": "code",
   "execution_count": 76,
   "id": "00aebee9",
   "metadata": {},
   "outputs": [],
   "source": [
    "# create a list of columns to be used in this analysis\n",
    "list_cols = ['MainBranch', 'ConvertedComp', 'Country',\n",
    "       'EdLevel', 'Employment', 'JobFactors',\n",
    "       'JobSat', 'NEWEdImpt',\n",
    "       'NEWLearn', 'NEWOvertime', 'OpSys', 'OrgSize', \n",
    "       'UndergradMajor', 'WorkWeekHrs']"
   ]
  },
  {
   "cell_type": "code",
   "execution_count": 77,
   "id": "c81c52d3",
   "metadata": {},
   "outputs": [
    {
     "data": {
      "text/plain": [
       "(8726, 14)"
      ]
     },
     "execution_count": 77,
     "metadata": {},
     "output_type": "execute_result"
    }
   ],
   "source": [
    "# the dataset that contains only the listed columns\n",
    "df = df[list_cols]\n",
    "df.shape"
   ]
  },
  {
   "cell_type": "code",
   "execution_count": 78,
   "id": "fc4a44e1",
   "metadata": {},
   "outputs": [
    {
     "data": {
      "text/plain": [
       "Index(['MainBranch', 'ConvertedComp', 'Country', 'EdLevel', 'Employment',\n",
       "       'JobFactors', 'JobSat', 'EdImpt', 'Learn', 'Overtime', 'OpSys',\n",
       "       'OrgSize', 'UndergradMajor', 'WorkWeekHrs'],\n",
       "      dtype='object')"
      ]
     },
     "execution_count": 78,
     "metadata": {},
     "output_type": "execute_result"
    }
   ],
   "source": [
    " # drop the NEW prefix in some of the columns' names\n",
    "df.columns = [col.replace('NEW', '') for col in df.columns]\n",
    "df.columns"
   ]
  },
  {
   "cell_type": "code",
   "execution_count": 79,
   "id": "065ec945",
   "metadata": {},
   "outputs": [],
   "source": [
    "# reset the index \n",
    "df.reset_index(drop=True, inplace=True)"
   ]
  },
  {
   "cell_type": "markdown",
   "id": "fccdce8e",
   "metadata": {},
   "source": [
    "## Data profiling"
   ]
  },
  {
   "cell_type": "code",
   "execution_count": 80,
   "id": "8a6a5520",
   "metadata": {},
   "outputs": [
    {
     "data": {
      "application/vnd.jupyter.widget-view+json": {
       "model_id": "fbf69652408943cb890a3c7f49f7493a",
       "version_major": 2,
       "version_minor": 0
      },
      "text/plain": [
       "Summarize dataset:   0%|          | 0/27 [00:00<?, ?it/s]"
      ]
     },
     "metadata": {},
     "output_type": "display_data"
    },
    {
     "data": {
      "application/vnd.jupyter.widget-view+json": {
       "model_id": "010518456fef4c6e8804dc1aedc6ed9e",
       "version_major": 2,
       "version_minor": 0
      },
      "text/plain": [
       "Generate report structure:   0%|          | 0/1 [00:00<?, ?it/s]"
      ]
     },
     "metadata": {},
     "output_type": "display_data"
    },
    {
     "data": {
      "application/vnd.jupyter.widget-view+json": {
       "model_id": "b7540964f12f4144b5657f5963862aef",
       "version_major": 2,
       "version_minor": 0
      },
      "text/plain": [
       "Render HTML:   0%|          | 0/1 [00:00<?, ?it/s]"
      ]
     },
     "metadata": {},
     "output_type": "display_data"
    },
    {
     "data": {
      "application/vnd.jupyter.widget-view+json": {
       "model_id": "97fa79199721431cb8d554f1bbcb1cd1",
       "version_major": 2,
       "version_minor": 0
      },
      "text/plain": [
       "Export report to file:   0%|          | 0/1 [00:00<?, ?it/s]"
      ]
     },
     "metadata": {},
     "output_type": "display_data"
    }
   ],
   "source": [
    "# run this once to generate a profiling report and save it as html file\n",
    "\n",
    "#import pandas_profiling\n",
    "#profile = pandas_profiling.ProfileReport(df, minimal=False)\n",
    "#profile.to_file(output_file=\"data_coders_report.html\")"
   ]
  },
  {
   "cell_type": "markdown",
   "id": "d86455db",
   "metadata": {},
   "source": [
    "## Remove duplicates"
   ]
  },
  {
   "cell_type": "code",
   "execution_count": 81,
   "id": "dac1c8f5",
   "metadata": {},
   "outputs": [],
   "source": [
    "# drop duplicate rows, if any\n",
    "df.drop_duplicates(subset=None, keep='first', inplace=True)"
   ]
  },
  {
   "cell_type": "markdown",
   "id": "aaae0199",
   "metadata": {},
   "source": [
    "## Transform categorical data "
   ]
  },
  {
   "cell_type": "code",
   "execution_count": 82,
   "id": "f6a0caa8",
   "metadata": {},
   "outputs": [],
   "source": [
    "# create a list of categorical features\n",
    "cat_cols = df.select_dtypes(include=['object']).copy().columns\n",
    "non_cat = ['ConvertedComp', 'WorkWeekHrs']"
   ]
  },
  {
   "cell_type": "code",
   "execution_count": 83,
   "id": "7a4c1627",
   "metadata": {},
   "outputs": [],
   "source": [
    "# encode the categorical variablesas dummy, drop the first column for each feature\n",
    "df = pd.get_dummies(df, columns=cat_cols, drop_first=True)"
   ]
  },
  {
   "cell_type": "code",
   "execution_count": 84,
   "id": "733823e0",
   "metadata": {},
   "outputs": [
    {
     "data": {
      "text/plain": [
       "(8722, 419)"
      ]
     },
     "execution_count": 84,
     "metadata": {},
     "output_type": "execute_result"
    }
   ],
   "source": [
    "df.shape\n"
   ]
  },
  {
   "cell_type": "code",
   "execution_count": 85,
   "id": "0b3fc7a6",
   "metadata": {},
   "outputs": [
    {
     "data": {
      "text/plain": [
       "Index(['ConvertedComp', 'WorkWeekHrs',\n",
       "       'MainBranch_I am a student who is learning to code',\n",
       "       'MainBranch_I am not primarily a developer, but I write code sometimes as part of my work',\n",
       "       'MainBranch_I code primarily as a hobby',\n",
       "       'MainBranch_I used to be a developer by profession, but no longer am',\n",
       "       'Country_Albania', 'Country_Algeria', 'Country_Andorra',\n",
       "       'Country_Argentina',\n",
       "       ...\n",
       "       'UndergradMajor_A humanities discipline (such as literature, history, philosophy, etc.)',\n",
       "       'UndergradMajor_A natural science (such as biology, chemistry, physics, etc.)',\n",
       "       'UndergradMajor_A social science (such as anthropology, psychology, political science, etc.)',\n",
       "       'UndergradMajor_Another engineering discipline (such as civil, electrical, mechanical, etc.)',\n",
       "       'UndergradMajor_Computer science, computer engineering, or software engineering',\n",
       "       'UndergradMajor_Fine arts or performing arts (such as graphic design, music, studio art, etc.)',\n",
       "       'UndergradMajor_I never declared a major',\n",
       "       'UndergradMajor_Information systems, information technology, or system administration',\n",
       "       'UndergradMajor_Mathematics or statistics',\n",
       "       'UndergradMajor_Web development or web design'],\n",
       "      dtype='object', length=419)"
      ]
     },
     "execution_count": 85,
     "metadata": {},
     "output_type": "execute_result"
    }
   ],
   "source": [
    "df.columns"
   ]
  },
  {
   "cell_type": "code",
   "execution_count": 86,
   "id": "3a1df46e",
   "metadata": {},
   "outputs": [
    {
     "ename": "ModuleNotFoundError",
     "evalue": "No module named 'janitor'",
     "output_type": "error",
     "traceback": [
      "\u001b[0;31m---------------------------------------------------------------------------\u001b[0m",
      "\u001b[0;31mModuleNotFoundError\u001b[0m                       Traceback (most recent call last)",
      "\u001b[0;32m<ipython-input-86-c6d3c28ddec6>\u001b[0m in \u001b[0;36m<module>\u001b[0;34m\u001b[0m\n\u001b[0;32m----> 1\u001b[0;31m \u001b[0;32mimport\u001b[0m \u001b[0mjanitor\u001b[0m \u001b[0;32mas\u001b[0m \u001b[0mjn\u001b[0m\u001b[0;34m\u001b[0m\u001b[0;34m\u001b[0m\u001b[0m\n\u001b[0m\u001b[1;32m      2\u001b[0m \u001b[0mX\u001b[0m\u001b[0;34m,\u001b[0m \u001b[0my\u001b[0m \u001b[0;34m=\u001b[0m \u001b[0mjn\u001b[0m\u001b[0;34m.\u001b[0m\u001b[0mget_features_targets\u001b[0m\u001b[0;34m(\u001b[0m\u001b[0mdf\u001b[0m\u001b[0;34m,\u001b[0m \u001b[0mtarget_columns\u001b[0m\u001b[0;34m=\u001b[0m\u001b[0;34m'JobSat'\u001b[0m\u001b[0;34m)\u001b[0m\u001b[0;34m\u001b[0m\u001b[0;34m\u001b[0m\u001b[0m\n",
      "\u001b[0;31mModuleNotFoundError\u001b[0m: No module named 'janitor'"
     ]
    }
   ],
   "source": [
    "import janitor as jn\n",
    "X, y = jn.get_features_targets(df, target_columns='JobSat')"
   ]
  },
  {
   "cell_type": "markdown",
   "id": "f01b694d",
   "metadata": {},
   "source": [
    "## Create a training set and a test set"
   ]
  },
  {
   "cell_type": "code",
   "execution_count": null,
   "id": "b3ba38b0",
   "metadata": {},
   "outputs": [],
   "source": [
    "# create the "
   ]
  },
  {
   "cell_type": "markdown",
   "id": "d1028dd5",
   "metadata": {},
   "source": [
    "### Comments: dropping columns\n",
    "\n",
    "I will build a classification model to predict the level of job satisfaction a developer has. Several of the columns have very high cardinality, and also there are a few redundant columns which can be dropped at this point. Here is a list of columns we can drop:"
   ]
  },
  {
   "cell_type": "markdown",
   "id": "0036af32",
   "metadata": {},
   "source": [
    "### Clean Data\n",
    "\n",
    "Some preliminary processing was already performed on the data. "
   ]
  }
 ],
 "metadata": {
  "kernelspec": {
   "display_name": "Python 3",
   "language": "python",
   "name": "python3"
  },
  "language_info": {
   "codemirror_mode": {
    "name": "ipython",
    "version": 3
   },
   "file_extension": ".py",
   "mimetype": "text/x-python",
   "name": "python",
   "nbconvert_exporter": "python",
   "pygments_lexer": "ipython3",
   "version": "3.7.6"
  },
  "toc": {
   "base_numbering": 1,
   "nav_menu": {},
   "number_sections": true,
   "sideBar": true,
   "skip_h1_title": false,
   "title_cell": "Table of Contents",
   "title_sidebar": "Contents",
   "toc_cell": false,
   "toc_position": {},
   "toc_section_display": true,
   "toc_window_display": false
  }
 },
 "nbformat": 4,
 "nbformat_minor": 5
}
