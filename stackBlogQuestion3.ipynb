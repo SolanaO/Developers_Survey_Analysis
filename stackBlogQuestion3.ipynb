{
 "cells": [
  {
   "cell_type": "markdown",
   "id": "7993e6b6",
   "metadata": {},
   "source": [
    "# Analysis of StackOverflow Survey. Part IV \n",
    "\n",
    "In this notebook we build a predictiv model for job satisfaction. "
   ]
  },
  {
   "cell_type": "code",
   "execution_count": 1,
   "id": "837206f6",
   "metadata": {},
   "outputs": [],
   "source": [
    "# import neccessary packages and libraries\n",
    "import os\n",
    "from collections import defaultdict\n",
    "\n",
    "import numpy as np\n",
    "import pandas as pd\n",
    "\n",
    "import matplotlib.pyplot as plt\n",
    "# to render plots in the notebook\n",
    "%matplotlib inline\n",
    "\n",
    "import seaborn as sns\n",
    "# set a theme for seaborn\n",
    "sns.set_theme()\n",
    "\n",
    "from sklearn.linear_model import LinearRegression\n",
    "from sklearn.impute import KNNImputer\n",
    "from sklearn.dummy import DummyClassifier\n",
    "from sklearn.neighbors import KNeighborsClassifier\n",
    "from sklearn.preprocessing import OneHotEncoder\n",
    "from sklearn.preprocessing import LabelEncoder\n",
    "from sklearn.feature_selection import SelectKBest, chi2, mutual_info_classif\n",
    "\n",
    "from sklearn import (\n",
    "    ensemble,\n",
    "    preprocessing,\n",
    "    tree,\n",
    ")\n",
    "from sklearn.model_selection import (\n",
    "    train_test_split,\n",
    "    StratifiedKFold,\n",
    ")\n",
    "from sklearn.metrics import (\n",
    "    classification_report,\n",
    "    r2_score, \n",
    "    mean_squared_error,\n",
    "    auc,\n",
    "    confusion_matrix,\n",
    "    accuracy_score,\n",
    "    roc_auc_score,\n",
    "    roc_curve,\n",
    ")\n"
   ]
  },
  {
   "cell_type": "code",
   "execution_count": 2,
   "id": "ed1cca52",
   "metadata": {},
   "outputs": [],
   "source": [
    "# import local module containing the neccessary functions\n",
    "import utils_functions as uf\n",
    "\n",
    "# forces the interpreter to re-import the module\n",
    "import importlib\n",
    "importlib.reload(uf);"
   ]
  },
  {
   "cell_type": "markdown",
   "id": "9bc49bb0",
   "metadata": {},
   "source": [
    "## State the question\n",
    "I am addressing the third question in this notebook. What can we tell about the job satisfaction of a data coder? What factors do influence it? Also, predict the job satisfaction for a developer who works with big data. \n",
    "\n",
    "This is a classification question, we are predicting a satisfaction level for a data developer, which includes: data scientist or machine learning specialist, data or business analyst and data engineer."
   ]
  },
  {
   "cell_type": "markdown",
   "id": "ffcfad12",
   "metadata": {},
   "source": [
    "## Performance metrics - to review at the end\n",
    "\n",
    "The following performance measures will be used in this project:\n",
    "1. Cross validation via StratifiedKFold with 10 folds.\n",
    "2. Confusion matrix, in particular precision, recall and F1 score.\n",
    "3. The ROC curve and the related AUC score."
   ]
  },
  {
   "cell_type": "markdown",
   "id": "452d2a27",
   "metadata": {},
   "source": [
    "## Gather and prepare the data\n",
    "\n",
    "Upload the data and keep the subset that contains those developers that work in data science related fields. \n",
    "\n",
    "Manually inspect (using the profiling html file, for example) the remaining columns and drop the following columns: \n",
    " - DevClass, Country both introduce noise in the model,\n",
    " - JobFactors, Stuck, PlatformWorkedWith they consist of numerous string combinations, as a result of multiple options and choices, the columns have high cardinality and many missing values."
   ]
  },
  {
   "cell_type": "code",
   "execution_count": 3,
   "id": "fb9ad29e",
   "metadata": {},
   "outputs": [
    {
     "data": {
      "text/plain": [
       "(64217, 21)"
      ]
     },
     "execution_count": 3,
     "metadata": {},
     "output_type": "execute_result"
    }
   ],
   "source": [
    "# create a path string\n",
    "mypath = os.getcwd()\n",
    "\n",
    "# upload the datafiles as pandas dataframes\n",
    "df1 = pd.read_csv(mypath+'/data/survey20_updated.csv', index_col=[0])\n",
    "\n",
    "# check the uploaded data\n",
    "df1.shape"
   ]
  },
  {
   "cell_type": "code",
   "execution_count": 4,
   "id": "8354b521",
   "metadata": {},
   "outputs": [],
   "source": [
    "# the data frame that contains the data developers only\n",
    "df1 = df1[df1.DevClass == 'data_coder']"
   ]
  },
  {
   "cell_type": "code",
   "execution_count": 5,
   "id": "3af85dd4",
   "metadata": {},
   "outputs": [
    {
     "data": {
      "text/plain": [
       "Index(['Age', 'ConvertedComp', 'EdLevel', 'Employment', 'JobSat', 'JobSeek',\n",
       "       'DevOpsImpt', 'EdImpt', 'Learn', 'OnboardGood', 'Overtime', 'OpSys',\n",
       "       'OrgSize', 'UndergradMajor', 'WorkWeekHrs', 'YearsCode'],\n",
       "      dtype='object')"
      ]
     },
     "execution_count": 5,
     "metadata": {},
     "output_type": "execute_result"
    }
   ],
   "source": [
    "# drop the columns mentioned above\n",
    "df1.drop(columns=['DevClass', 'Country', 'JobFactors', 'Stuck', 'PlatformWorkedWith'], inplace=True)\n",
    "\n",
    "# check for success\n",
    "df1.columns"
   ]
  },
  {
   "cell_type": "code",
   "execution_count": 6,
   "id": "00aebee9",
   "metadata": {},
   "outputs": [],
   "source": [
    "# create a list of columns to be used in this analysis\n",
    "#list_cols = ['MainBranch', 'ConvertedComp', 'EdLevel', 'Employment', 'JobSat', 'EdImpt',\n",
    "       #'Learn', 'Overtime', 'OpSys', 'OrgSize','UndergradMajor', 'WorkWeekHrs']\n",
    "\n",
    "    # the dataset that contains only the listed columns\n",
    "#df1 = df1[list_cols]"
   ]
  },
  {
   "cell_type": "markdown",
   "id": "fccdce8e",
   "metadata": {},
   "source": [
    "## Data profiling"
   ]
  },
  {
   "cell_type": "code",
   "execution_count": 7,
   "id": "6a33e150",
   "metadata": {},
   "outputs": [],
   "source": [
    "# run this once to generate a profiling report and save it as html file\n",
    "\n",
    "#import pandas_profiling\n",
    "#profile = pandas_profiling.ProfileReport(df, minimal=False)\n",
    "#profile.to_file(output_file=\"data_coders_report.html\")"
   ]
  },
  {
   "cell_type": "markdown",
   "id": "2a6c4287",
   "metadata": {},
   "source": [
    "## Data preprocessing "
   ]
  },
  {
   "cell_type": "markdown",
   "id": "80e8cb62",
   "metadata": {},
   "source": [
    "### Drop rows based on the Employment column"
   ]
  },
  {
   "cell_type": "code",
   "execution_count": 8,
   "id": "fd26a1d5",
   "metadata": {},
   "outputs": [
    {
     "data": {
      "text/plain": [
       "['Employed full-time',\n",
       " 'Independent contractor, freelancer, or self-employed',\n",
       " 'Not employed, but looking for work',\n",
       " 'Employed part-time']"
      ]
     },
     "execution_count": 8,
     "metadata": {},
     "output_type": "execute_result"
    }
   ],
   "source": [
    "# check possible Employment choices\n",
    "employment = df1.Employment.value_counts().index.to_list()\n",
    "employment"
   ]
  },
  {
   "cell_type": "code",
   "execution_count": 9,
   "id": "d1f83350",
   "metadata": {},
   "outputs": [
    {
     "data": {
      "text/plain": [
       "Employed full-time                                      6875\n",
       "Independent contractor, freelancer, or self-employed    1062\n",
       "Employed part-time                                       352\n",
       "Name: Employment, dtype: int64"
      ]
     },
     "execution_count": 9,
     "metadata": {},
     "output_type": "execute_result"
    }
   ],
   "source": [
    "# retain only the employed data davelopers\n",
    "df1 = df1[df1['Employment'] != 'Not employed, but looking for work']\n",
    "\n",
    "# check for success\n",
    "df1.Employment.value_counts()"
   ]
  },
  {
   "cell_type": "markdown",
   "id": "badc8282",
   "metadata": {},
   "source": [
    "### Create bins for the WorkWeekHrs column"
   ]
  },
  {
   "cell_type": "code",
   "execution_count": 10,
   "id": "f38e9f27",
   "metadata": {},
   "outputs": [
    {
     "data": {
      "text/plain": [
       "30-40      3848\n",
       "40-50      1837\n",
       "more-50     563\n",
       "less-10     284\n",
       "20-30       276\n",
       "10-20       140\n",
       "Name: WorkWeek_Bins, dtype: int64"
      ]
     },
     "execution_count": 10,
     "metadata": {},
     "output_type": "execute_result"
    }
   ],
   "source": [
    "# create the labels\n",
    "cut_labels = ['less-10', '10-20', '20-30', '30-40', '40-50', 'more-50']\n",
    "\n",
    "# define the bins \n",
    "m = df1.WorkWeekHrs.max()\n",
    "cut_bins = [0, 10, 20, 30, 40, 50, m]\n",
    "\n",
    "# create a new column which contains the new labels\n",
    "df1['WorkWeek_Bins'] = pd.cut(df1['WorkWeekHrs'], bins=cut_bins, labels=cut_labels)\n",
    "\n",
    "# check for success\n",
    "df1['WorkWeek_Bins'].value_counts()"
   ]
  },
  {
   "cell_type": "code",
   "execution_count": 11,
   "id": "1dfe3260",
   "metadata": {},
   "outputs": [],
   "source": [
    "# change the type of the newly created column\n",
    "df1['WorkWeek_Bins'] = df1['WorkWeek_Bins'].astype('object')"
   ]
  },
  {
   "cell_type": "code",
   "execution_count": 12,
   "id": "622851d2",
   "metadata": {},
   "outputs": [],
   "source": [
    "# drop the WorkWeekHrs column\n",
    "df1.drop(columns = 'WorkWeekHrs', inplace=True);"
   ]
  },
  {
   "cell_type": "markdown",
   "id": "7360c337",
   "metadata": {},
   "source": [
    "### Create bins for the ConvertedComp column"
   ]
  },
  {
   "cell_type": "code",
   "execution_count": 13,
   "id": "f06f88ad",
   "metadata": {},
   "outputs": [],
   "source": [
    "# we could use quantile, however I prefer custom bins here\n",
    "cut_labels = ['less-10K', '10K-30K', '30K-50K', '50K-100K', '100K-200K', 'more-200K']\n",
    "\n",
    "# define the bins \n",
    "m = df1.ConvertedComp.max()\n",
    "cut_bins = [0, 10000, 30000, 50000, 100000, 200000, m]\n",
    "\n",
    "# create a new column which contains the new labels\n",
    "df1['Comp_Bins'] = pd.cut(df1['ConvertedComp'], bins=cut_bins, labels=cut_labels)\n",
    "\n",
    "# change the type of the newly created column\n",
    "df1['Comp_Bins'] = df1['Comp_Bins'].astype('object')\n",
    "\n",
    "# drop the WorkWeekHrs column\n",
    "df1.drop(columns = 'ConvertedComp', inplace=True);"
   ]
  },
  {
   "cell_type": "markdown",
   "id": "90f30ade",
   "metadata": {},
   "source": [
    "### Create bins for the Age column"
   ]
  },
  {
   "cell_type": "code",
   "execution_count": 14,
   "id": "b6297d1c",
   "metadata": {},
   "outputs": [],
   "source": [
    "# define the bin edges\n",
    "cut_labels = ['<20', '20-30', '30-40', '40-50', '50-60', '60-70', '70-80', '>80']\n",
    "\n",
    "# define the bins \n",
    "m = df1.Age.max()\n",
    "cut_bins = [0, 20, 30, 40, 50, 60, 70, 80, m]\n",
    "\n",
    "# create a new column which contains the new labels\n",
    "df1['Age_Bins'] = pd.cut(df1['Age'], bins=cut_bins, labels=cut_labels)\n",
    "\n",
    "# change the type of the newly created column\n",
    "df1['Age_Bins'] = df1['Age_Bins'].astype('object')\n",
    "\n",
    "# drop the WorkWeekHrs column\n",
    "df1.drop(columns = 'Age', inplace=True);"
   ]
  },
  {
   "cell_type": "markdown",
   "id": "ff817994",
   "metadata": {},
   "source": [
    "### Remove the rows that contain mostly missing values"
   ]
  },
  {
   "cell_type": "code",
   "execution_count": 15,
   "id": "7e323f38",
   "metadata": {},
   "outputs": [
    {
     "data": {
      "text/plain": [
       "(8289, 16)"
      ]
     },
     "execution_count": 15,
     "metadata": {},
     "output_type": "execute_result"
    }
   ],
   "source": [
    "# keep only the rows with at least 10 non-NA values\n",
    "df1.dropna(thresh=10)\n",
    "\n",
    "# check the result\n",
    "df1.shape"
   ]
  },
  {
   "cell_type": "code",
   "execution_count": 16,
   "id": "6243357a",
   "metadata": {},
   "outputs": [
    {
     "data": {
      "text/plain": [
       "601"
      ]
     },
     "execution_count": 16,
     "metadata": {},
     "output_type": "execute_result"
    }
   ],
   "source": [
    "df1.JobSat.isnull().sum()"
   ]
  },
  {
   "cell_type": "code",
   "execution_count": 17,
   "id": "aa6c1915",
   "metadata": {},
   "outputs": [],
   "source": [
    "df1.dropna( how='any', subset=['JobSat'], inplace=True)"
   ]
  },
  {
   "cell_type": "code",
   "execution_count": 18,
   "id": "d9685410",
   "metadata": {},
   "outputs": [
    {
     "data": {
      "text/plain": [
       "0"
      ]
     },
     "execution_count": 18,
     "metadata": {},
     "output_type": "execute_result"
    }
   ],
   "source": [
    "df1.JobSat.isnull().sum()"
   ]
  },
  {
   "cell_type": "markdown",
   "id": "2ad0c14a",
   "metadata": {},
   "source": [
    "### Remove duplicates"
   ]
  },
  {
   "cell_type": "code",
   "execution_count": 19,
   "id": "6c883ea3",
   "metadata": {},
   "outputs": [
    {
     "data": {
      "text/plain": [
       "(7687, 16)"
      ]
     },
     "execution_count": 19,
     "metadata": {},
     "output_type": "execute_result"
    }
   ],
   "source": [
    "# drop duplicate rows, if any\n",
    "df1.drop_duplicates(subset=None, keep='first', inplace=True)\n",
    "df1.shape"
   ]
  },
  {
   "cell_type": "markdown",
   "id": "1c7b99f9",
   "metadata": {},
   "source": [
    "## Create features and target\n",
    "\n",
    "Create a dataframe (X) with the features and a pandas series (y) that contains the labels."
   ]
  },
  {
   "cell_type": "code",
   "execution_count": 20,
   "id": "59b40b62",
   "metadata": {},
   "outputs": [],
   "source": [
    "# create a copy of the pre-processed dataframe\n",
    "df2 = df1.copy()"
   ]
  },
  {
   "cell_type": "code",
   "execution_count": 21,
   "id": "fdf816df",
   "metadata": {},
   "outputs": [
    {
     "name": "stdout",
     "output_type": "stream",
     "text": [
      "<class 'pandas.core.frame.DataFrame'>\n",
      "Int64Index: 7687 entries, 21 to 64127\n",
      "Data columns (total 15 columns):\n",
      " #   Column          Non-Null Count  Dtype \n",
      "---  ------          --------------  ----- \n",
      " 0   EdLevel         7577 non-null   object\n",
      " 1   Employment      7687 non-null   object\n",
      " 2   JobSeek         7268 non-null   object\n",
      " 3   DevOpsImpt      7069 non-null   object\n",
      " 4   EdImpt          7566 non-null   object\n",
      " 5   Learn           7089 non-null   object\n",
      " 6   OnboardGood     7260 non-null   object\n",
      " 7   Overtime        7357 non-null   object\n",
      " 8   OpSys           7191 non-null   object\n",
      " 9   OrgSize         7527 non-null   object\n",
      " 10  UndergradMajor  7186 non-null   object\n",
      " 11  YearsCode       7619 non-null   object\n",
      " 12  WorkWeek_Bins   6930 non-null   object\n",
      " 13  Comp_Bins       5738 non-null   object\n",
      " 14  Age_Bins        6084 non-null   object\n",
      "dtypes: object(15)\n",
      "memory usage: 960.9+ KB\n"
     ]
    },
    {
     "data": {
      "text/plain": [
       "(None, 7687)"
      ]
     },
     "execution_count": 21,
     "metadata": {},
     "output_type": "execute_result"
    }
   ],
   "source": [
    "# create the predictors dataframe\n",
    "X = df2.drop(columns = 'JobSat')\n",
    "\n",
    "# create the labels\n",
    "y = df2['JobSat']\n",
    "\n",
    "# check for success\n",
    "X.info(), len(y)"
   ]
  },
  {
   "cell_type": "code",
   "execution_count": 22,
   "id": "c049e8f6",
   "metadata": {},
   "outputs": [],
   "source": [
    "# format all the fields as strings in the feature matrix\n",
    "X = X.astype(str)"
   ]
  },
  {
   "cell_type": "markdown",
   "id": "5a45ce76",
   "metadata": {},
   "source": [
    "## Sample data\n",
    "\n",
    "We will use $30 \\%$ data for testing:"
   ]
  },
  {
   "cell_type": "code",
   "execution_count": 23,
   "id": "bf0d97b4",
   "metadata": {},
   "outputs": [
    {
     "name": "stdout",
     "output_type": "stream",
     "text": [
      "Train (5380, 15) (5380,)\n",
      "Test (2307, 15) (2307,)\n"
     ]
    }
   ],
   "source": [
    "# split the data in train and testing sets\n",
    "X_train, X_test, y_train, y_test = train_test_split(X, y, test_size=0.3, random_state=42)\n",
    "\n",
    "# summarize the data\n",
    "print('Train', X_train.shape, y_train.shape)\n",
    "print('Test', X_test.shape, y_test.shape)"
   ]
  },
  {
   "cell_type": "markdown",
   "id": "d3a115bc",
   "metadata": {},
   "source": [
    "## Impute missing values\n",
    "\n",
    "Now that we have test and train data, we can impute missing values on the training set, and use the trained imputer to fill in the test dataset. I will use the KNN imputer from sklearn."
   ]
  },
  {
   "cell_type": "code",
   "execution_count": 24,
   "id": "0d4945f0",
   "metadata": {},
   "outputs": [],
   "source": [
    "# create an instance of the imputer\n",
    "#imputer = KNNImputer(n_neighbors=5)\n",
    "\n",
    "# fit the imputer on the dataset\n",
    "#X_train_trans = pd.DataFrame(imputer.fit_transform(X_train), columns = X_train.columns)\n",
    "\n",
    "# check for success\n",
    "#X_train_trans.isna().any()\n",
    "from sklearn.impute import SimpleImputer\n",
    "def impute_predictors(X_train, X_test):\n",
    "    imputer = SimpleImputer(strategy='constant', fill_value='missing')\n",
    "    imputer.fit(X_train)\n",
    "    X_train_trans = pd.DataFrame(imputer.transform(X_train), columns=X_train.columns)\n",
    "    X_test_trans = pd.DataFrame(imputer.transform(X_test), columns=X_test.columns)\n",
    "    return X_train_trans, X_test_trans"
   ]
  },
  {
   "cell_type": "code",
   "execution_count": 25,
   "id": "483501ca",
   "metadata": {},
   "outputs": [],
   "source": [
    "X_train_trans, X_test_trans = impute_predictors(X_train, X_test)"
   ]
  },
  {
   "cell_type": "markdown",
   "id": "4962e5b1",
   "metadata": {},
   "source": [
    "from sklearn.compose import ColumnTransformer\n",
    "from sklearn.preprocessing import OneHotEncoder\n",
    "from sklearn.impute import SimpleImputer\n",
    "from sklearn.pipeline import Pipeline\n",
    "\n",
    "categorical_transformer = Pipeline(steps=[\n",
    "    ('imputer', SimpleImputer(strategy='constant', fill_value='missing')),\n",
    "    ('encoder', OneHotEncoder(handle_unknown='ignore'))])\n",
    "\n",
    "preprocessor = ColumnTransformer(\n",
    "    transformers=[\n",
    "        ('cat', categorical_transformer, [0])\n",
    "    ])"
   ]
  },
  {
   "cell_type": "code",
   "execution_count": 26,
   "id": "21c2de48",
   "metadata": {},
   "outputs": [
    {
     "data": {
      "text/plain": [
       "EdLevel           0\n",
       "Employment        0\n",
       "JobSeek           0\n",
       "DevOpsImpt        0\n",
       "EdImpt            0\n",
       "Learn             0\n",
       "OnboardGood       0\n",
       "Overtime          0\n",
       "OpSys             0\n",
       "OrgSize           0\n",
       "UndergradMajor    0\n",
       "YearsCode         0\n",
       "WorkWeek_Bins     0\n",
       "Comp_Bins         0\n",
       "Age_Bins          0\n",
       "dtype: int64"
      ]
     },
     "execution_count": 26,
     "metadata": {},
     "output_type": "execute_result"
    }
   ],
   "source": [
    "X_train_trans.isna().sum()"
   ]
  },
  {
   "cell_type": "markdown",
   "id": "4aa411ff",
   "metadata": {},
   "source": [
    "## Encode the data\n",
    "\n",
    "The best practice when encoding variables is to fit the encoding on the training dataset, then apply it to the train and test datasets.\n",
    "\n",
    "The function below named prepare_inputs() takes the input data for the train and test"
   ]
  },
  {
   "cell_type": "code",
   "execution_count": 27,
   "id": "16463bad",
   "metadata": {},
   "outputs": [],
   "source": [
    " # prepare input data\n",
    "def encode_predictors(X_train, X_test):\n",
    "\tenc = OneHotEncoder(handle_unknown='ignore')\n",
    "\tenc.fit(X_train)\n",
    "\tX_train_enc = enc.transform(X_train)\n",
    "\tX_test_enc = enc.transform(X_test)\n",
    "\treturn X_train_enc, X_test_enc"
   ]
  },
  {
   "cell_type": "code",
   "execution_count": 30,
   "id": "96179add",
   "metadata": {},
   "outputs": [],
   "source": [
    "X_train_enc, X_test_enc = encode_predictors(X_train_trans, X_test_trans)"
   ]
  },
  {
   "cell_type": "code",
   "execution_count": 31,
   "id": "3d614018",
   "metadata": {},
   "outputs": [
    {
     "data": {
      "text/plain": [
       "<5380x148 sparse matrix of type '<class 'numpy.float64'>'\n",
       "\twith 80700 stored elements in Compressed Sparse Row format>"
      ]
     },
     "execution_count": 31,
     "metadata": {},
     "output_type": "execute_result"
    }
   ],
   "source": [
    "X_train_enc"
   ]
  },
  {
   "cell_type": "markdown",
   "id": "19108de7",
   "metadata": {},
   "source": [
    "Regarding the output data, the target, since it is already encoded as an integer with values from 0 to 5, no other encoding steps are needed at this point.\n",
    "\n",
    "Alternative would be:"
   ]
  },
  {
   "cell_type": "code",
   "execution_count": 32,
   "id": "99c6ae2d",
   "metadata": {},
   "outputs": [],
   "source": [
    "# prepare target\n",
    "#def encode_targets(y_train, y_test):\n",
    "\t#le = LabelEncoder()\n",
    "\t#le.fit(y_train)\n",
    "\t#y_train_enc = le.transform(y_train)\n",
    "\t#y_test_enc = le.transform(y_test)\n",
    "\t#return y_train_enc, y_test_enc"
   ]
  },
  {
   "cell_type": "markdown",
   "id": "dcfbb331",
   "metadata": {},
   "source": [
    "### Perform feature selection\n",
    "\n"
   ]
  },
  {
   "cell_type": "code",
   "execution_count": 33,
   "id": "e0224ded",
   "metadata": {},
   "outputs": [],
   "source": [
    "# feature selection\n",
    "def select_features(X_train, y_train, X_test):\n",
    "\tfs = SelectKBest(score_func=mutual_info_classif, k=20)\n",
    "\tfs.fit(X_train, y_train)\n",
    "\tX_train_fs = fs.transform(X_train)\n",
    "\tX_test_fs = fs.transform(X_test)\n",
    "\treturn X_train_fs, X_test_fs, fs\n"
   ]
  },
  {
   "cell_type": "code",
   "execution_count": 34,
   "id": "96000d0e",
   "metadata": {},
   "outputs": [],
   "source": [
    "X_train_fs, X_test_fs, fs = select_features(X_train_enc, y_train, X_test_enc)"
   ]
  },
  {
   "cell_type": "code",
   "execution_count": 35,
   "id": "870cb0b2",
   "metadata": {},
   "outputs": [],
   "source": [
    "# what are scores for the features\n",
    "#for i in range(len(fs.scores_)):\n",
    "\t#print('Feature %d: %f' % (i, fs.scores_[i]))"
   ]
  },
  {
   "cell_type": "code",
   "execution_count": 36,
   "id": "64aab928",
   "metadata": {},
   "outputs": [
    {
     "data": {
      "text/plain": [
       "<BarContainer object of 148 artists>"
      ]
     },
     "execution_count": 36,
     "metadata": {},
     "output_type": "execute_result"
    },
    {
     "data": {
      "image/png": "[encoded data removed]",
      "text/plain": [
       "<Figure size 432x288 with 1 Axes>"
      ]
     },
     "metadata": {},
     "output_type": "display_data"
    }
   ],
   "source": [
    "# plot the scores\n",
    "plt.bar([i for i in range(len(fs.scores_))], fs.scores_)\n"
   ]
  },
  {
   "cell_type": "code",
   "execution_count": 149,
   "id": "8821360f",
   "metadata": {},
   "outputs": [],
   "source": [
    "mi = pd.Series(fs.scores_)\n"
   ]
  },
  {
   "cell_type": "code",
   "execution_count": null,
   "id": "97eb6d1f",
   "metadata": {},
   "outputs": [],
   "source": []
  },
  {
   "cell_type": "markdown",
   "id": "e0bd6ebe",
   "metadata": {},
   "source": [
    "## Refactor code\n"
   ]
  },
  {
   "cell_type": "code",
   "execution_count": 97,
   "id": "17aef62a",
   "metadata": {},
   "outputs": [
    {
     "data": {
      "text/plain": [
       "<5380x20 sparse matrix of type '<class 'numpy.float64'>'\n",
       "\twith 24431 stored elements in Compressed Sparse Row format>"
      ]
     },
     "execution_count": 97,
     "metadata": {},
     "output_type": "execute_result"
    }
   ],
   "source": [
    "X_train_fs"
   ]
  },
  {
   "cell_type": "code",
   "execution_count": 3,
   "id": "5c06092e",
   "metadata": {},
   "outputs": [],
   "source": [
    "# create a path string\n",
    "mypath = os.getcwd()\n",
    "\n",
    "# read the data from the file\n",
    "df = pd.read_csv(mypath+'/data/survey20_updated.csv')\n",
    "# preprocess, split and process data\n",
    "preproc_df = uf.preprocess_data(df)\n",
    "X_train, y_train, X_test, y_test = uf.process_data(preproc_df, 'JobSat')"
   ]
  },
  {
   "cell_type": "markdown",
   "id": "c0d47cc4",
   "metadata": {},
   "source": [
    "## Baseline model: K NearestNeighbors"
   ]
  },
  {
   "cell_type": "code",
   "execution_count": 37,
   "id": "f9934c05",
   "metadata": {},
   "outputs": [],
   "source": [
    "# create an instance of the classifier\n",
    "knn_clf = KNeighborsClassifier(n_neighbors=5)\n",
    "\n",
    "# fit the classifier\n",
    "knn_clf.fit(X_train_fs, y_train)\n",
    "\n",
    "# predict output values\n",
    "y_pred = knn_clf.predict(X_test_fs)"
   ]
  },
  {
   "cell_type": "code",
   "execution_count": 38,
   "id": "22c3bf63",
   "metadata": {},
   "outputs": [
    {
     "name": "stdout",
     "output_type": "stream",
     "text": [
      "Confusion Matrix:\n",
      "[[ 26  37  19  43  60]\n",
      " [ 36 100  28 131  57]\n",
      " [ 19  73  39 104  46]\n",
      " [ 32 160  65 281 157]\n",
      " [ 33 105  47 215 394]]\n",
      "\n",
      "Classification Report:\n",
      "              precision    recall  f1-score   support\n",
      "\n",
      "         1.0       0.18      0.14      0.16       185\n",
      "         2.0       0.21      0.28      0.24       352\n",
      "         3.0       0.20      0.14      0.16       281\n",
      "         4.0       0.36      0.40      0.38       695\n",
      "         5.0       0.55      0.50      0.52       794\n",
      "\n",
      "    accuracy                           0.36      2307\n",
      "   macro avg       0.30      0.29      0.29      2307\n",
      "weighted avg       0.37      0.36      0.36      2307\n",
      "\n",
      "Accuracy: 0.364\n"
     ]
    }
   ],
   "source": [
    "# print evaluation metrics and results\n",
    "\n",
    "result1 = confusion_matrix(y_test, y_pred)\n",
    "print('Confusion Matrix:')\n",
    "print(result1)\n",
    "\n",
    "result2 = classification_report(y_test, y_pred)\n",
    "print('\\nClassification Report:')\n",
    "print (result2)\n",
    "\n",
    "result3 = accuracy_score(y_test,y_pred)  \n",
    "print('Accuracy: %.3f' %result3)\n",
    "         "
   ]
  },
  {
   "cell_type": "markdown",
   "id": "bf8cd09a",
   "metadata": {},
   "source": [
    "## Several other algorithms "
   ]
  },
  {
   "cell_type": "code",
   "execution_count": 39,
   "id": "9f664a43",
   "metadata": {},
   "outputs": [
    {
     "data": {
      "text/plain": [
       "SVC(gamma='auto', random_state=42)"
      ]
     },
     "execution_count": 39,
     "metadata": {},
     "output_type": "execute_result"
    }
   ],
   "source": [
    "from sklearn.svm import SVC\n",
    "\n",
    "# create classifier instance\n",
    "svm_clf = SVC(gamma=\"auto\", random_state=42)\n",
    "# fit the model\n",
    "svm_clf.fit(X_train_fs, y_train)"
   ]
  },
  {
   "cell_type": "code",
   "execution_count": 40,
   "id": "5a0f5392",
   "metadata": {},
   "outputs": [
    {
     "data": {
      "text/plain": [
       "(4.0, 2.0)"
      ]
     },
     "execution_count": 40,
     "metadata": {},
     "output_type": "execute_result"
    }
   ],
   "source": [
    "# predict on the test set\n",
    "y_pred = svm_clf.predict(X_test_fs)\n",
    "\n",
    "# test one value\n",
    "y_test.iloc[20],  y_pred[20]"
   ]
  },
  {
   "cell_type": "code",
   "execution_count": 41,
   "id": "ae437bc7",
   "metadata": {},
   "outputs": [
    {
     "data": {
      "text/plain": [
       "array([ 1.96792161,  4.26910282,  0.77959714,  3.21192879, -0.26498715])"
      ]
     },
     "execution_count": 41,
     "metadata": {},
     "output_type": "execute_result"
    }
   ],
   "source": [
    "some_digit_scores = svm_clf.decision_function(X_test_fs)\n",
    "some_digit_scores[20]"
   ]
  },
  {
   "cell_type": "code",
   "execution_count": 42,
   "id": "4fd7f7f7",
   "metadata": {},
   "outputs": [
    {
     "data": {
      "text/plain": [
       "1"
      ]
     },
     "execution_count": 42,
     "metadata": {},
     "output_type": "execute_result"
    }
   ],
   "source": [
    "np.argmax(some_digit_scores[20])"
   ]
  },
  {
   "cell_type": "code",
   "execution_count": 43,
   "id": "0acae03d",
   "metadata": {},
   "outputs": [
    {
     "data": {
      "text/plain": [
       "array([1., 2., 3., 4., 5.])"
      ]
     },
     "execution_count": 43,
     "metadata": {},
     "output_type": "execute_result"
    }
   ],
   "source": [
    "svm_clf.classes_"
   ]
  },
  {
   "cell_type": "code",
   "execution_count": 44,
   "id": "376bba3e",
   "metadata": {},
   "outputs": [
    {
     "data": {
      "text/plain": [
       "3.0"
      ]
     },
     "execution_count": 44,
     "metadata": {},
     "output_type": "execute_result"
    }
   ],
   "source": [
    "y_test.values[0]"
   ]
  },
  {
   "cell_type": "code",
   "execution_count": 48,
   "id": "173c0f2a",
   "metadata": {},
   "outputs": [
    {
     "data": {
      "text/plain": [
       "array([0.40692641, 0.38961039, 0.38961039, 0.44588745, 0.41991342,\n",
       "       0.38095238, 0.43290043, 0.46086957, 0.38695652, 0.4173913 ])"
      ]
     },
     "execution_count": 48,
     "metadata": {},
     "output_type": "execute_result"
    }
   ],
   "source": [
    "from sklearn.model_selection import cross_val_score\n",
    "cross_val_score(svm_clf, X_test_fs, y_test, cv=10, scoring=\"accuracy\")"
   ]
  },
  {
   "cell_type": "code",
   "execution_count": 49,
   "id": "4e0d8b09",
   "metadata": {},
   "outputs": [
    {
     "name": "stdout",
     "output_type": "stream",
     "text": [
      "Confusion Matrix:\n",
      "[[  0  57   0  75  53]\n",
      " [  0  94   0 225  33]\n",
      " [  0  50   0 200  31]\n",
      " [  0  80   0 501 114]\n",
      " [  0  30   0 379 385]]\n",
      "\n",
      "Classification Report:\n",
      "              precision    recall  f1-score   support\n",
      "\n",
      "         1.0       0.00      0.00      0.00       185\n",
      "         2.0       0.30      0.27      0.28       352\n",
      "         3.0       0.00      0.00      0.00       281\n",
      "         4.0       0.36      0.72      0.48       695\n",
      "         5.0       0.62      0.48      0.55       794\n",
      "\n",
      "    accuracy                           0.42      2307\n",
      "   macro avg       0.26      0.29      0.26      2307\n",
      "weighted avg       0.37      0.42      0.38      2307\n",
      "\n",
      "Accuracy: 0.425\n"
     ]
    }
   ],
   "source": [
    "# print evaluation metrics and results\n",
    "\n",
    "result1 = confusion_matrix(y_test, y_pred)\n",
    "print('Confusion Matrix:')\n",
    "print(result1)\n",
    "\n",
    "result2 = classification_report(y_test, y_pred, zero_division=0)\n",
    "print('\\nClassification Report:')\n",
    "print (result2)\n",
    "\n",
    "result3 = accuracy_score(y_test,y_pred)  \n",
    "print('Accuracy: %.3f' %result3)\n",
    "         "
   ]
  },
  {
   "cell_type": "code",
   "execution_count": 50,
   "id": "6b45d132",
   "metadata": {},
   "outputs": [],
   "source": [
    "from sklearn.multiclass import OneVsRestClassifier\n",
    "ovr_clf = OneVsRestClassifier(SVC(gamma=\"auto\", random_state=42))\n",
    "ovr_clf.fit(X_train_fs, y_train)\n",
    "y_pred = ovr_clf.predict(X_test_fs)"
   ]
  },
  {
   "cell_type": "code",
   "execution_count": 51,
   "id": "ac945a78",
   "metadata": {},
   "outputs": [
    {
     "name": "stdout",
     "output_type": "stream",
     "text": [
      "Confusion Matrix:\n",
      "[[ 20  35   8  29  93]\n",
      " [ 35  68  29 119 101]\n",
      " [ 28  47  14 101  91]\n",
      " [ 49 100  48 226 272]\n",
      " [ 26  63  41 134 530]]\n",
      "\n",
      "Classification Report:\n",
      "              precision    recall  f1-score   support\n",
      "\n",
      "         1.0       0.13      0.11      0.12       185\n",
      "         2.0       0.22      0.19      0.20       352\n",
      "         3.0       0.10      0.05      0.07       281\n",
      "         4.0       0.37      0.33      0.35       695\n",
      "         5.0       0.49      0.67      0.56       794\n",
      "\n",
      "    accuracy                           0.37      2307\n",
      "   macro avg       0.26      0.27      0.26      2307\n",
      "weighted avg       0.34      0.37      0.35      2307\n",
      "\n",
      "Accuracy: 0.372\n"
     ]
    }
   ],
   "source": [
    "result1 = confusion_matrix(y_test, y_pred)\n",
    "print('Confusion Matrix:')\n",
    "print(result1)\n",
    "\n",
    "result2 = classification_report(y_test, y_pred, zero_division=0)\n",
    "print('\\nClassification Report:')\n",
    "print (result2)\n",
    "\n",
    "result3 = accuracy_score(y_test,y_pred)  \n",
    "print('Accuracy: %.3f' %result3)"
   ]
  },
  {
   "cell_type": "code",
   "execution_count": 52,
   "id": "b4f0b71e",
   "metadata": {},
   "outputs": [],
   "source": [
    "from sklearn.linear_model import SGDClassifier\n",
    "from sklearn.preprocessing import StandardScaler\n",
    "from sklearn.pipeline import make_pipeline\n",
    "\n",
    "# Always scale the input. The most convenient way is to use a pipeline.\n",
    "sgd_clf = make_pipeline(StandardScaler(with_mean=False),SGDClassifier(max_iter=1000, tol=1e-3))\n",
    "sgd_clf.fit(X_train_fs, y_train)\n",
    "y_pred = sgd_clf.predict(X_test_fs)"
   ]
  },
  {
   "cell_type": "code",
   "execution_count": 53,
   "id": "3033a0f7",
   "metadata": {},
   "outputs": [
    {
     "name": "stdout",
     "output_type": "stream",
     "text": [
      "Confusion Matrix:\n",
      "[[ 25  20   0  58  82]\n",
      " [ 51  33   1 174  93]\n",
      " [ 23  24   0 147  87]\n",
      " [ 56  42   1 359 237]\n",
      " [ 32  16   0 254 492]]\n",
      "\n",
      "Classification Report:\n",
      "              precision    recall  f1-score   support\n",
      "\n",
      "         1.0       0.13      0.14      0.13       185\n",
      "         2.0       0.24      0.09      0.14       352\n",
      "         3.0       0.00      0.00      0.00       281\n",
      "         4.0       0.36      0.52      0.43       695\n",
      "         5.0       0.50      0.62      0.55       794\n",
      "\n",
      "    accuracy                           0.39      2307\n",
      "   macro avg       0.25      0.27      0.25      2307\n",
      "weighted avg       0.33      0.39      0.35      2307\n",
      "\n",
      "Accuracy: 0.394\n"
     ]
    }
   ],
   "source": [
    "result1 = confusion_matrix(y_test, y_pred)\n",
    "print('Confusion Matrix:')\n",
    "print(result1)\n",
    "\n",
    "result2 = classification_report(y_test, y_pred, zero_division=0)\n",
    "print('\\nClassification Report:')\n",
    "print (result2)\n",
    "\n",
    "result3 = accuracy_score(y_test,y_pred)  \n",
    "print('Accuracy: %.3f' %result3)"
   ]
  },
  {
   "cell_type": "code",
   "execution_count": 54,
   "id": "aed95eb4",
   "metadata": {},
   "outputs": [
    {
     "ename": "TypeError",
     "evalue": "cannot concatenate object of type '<class 'scipy.sparse.csr.csr_matrix'>'; only Series and DataFrame objs are valid",
     "output_type": "error",
     "traceback": [
      "\u001b[0;31m---------------------------------------------------------------------------\u001b[0m",
      "\u001b[0;31mTypeError\u001b[0m                                 Traceback (most recent call last)",
      "\u001b[0;32m<ipython-input-54-9c2130ad7b2a>\u001b[0m in \u001b[0;36m<module>\u001b[0;34m\u001b[0m\n\u001b[0;32m----> 1\u001b[0;31m \u001b[0mX\u001b[0m \u001b[0;34m=\u001b[0m \u001b[0mpd\u001b[0m\u001b[0;34m.\u001b[0m\u001b[0mconcat\u001b[0m\u001b[0;34m(\u001b[0m\u001b[0;34m[\u001b[0m\u001b[0mX_train_fs\u001b[0m\u001b[0;34m,\u001b[0m \u001b[0mX_test_fs\u001b[0m\u001b[0;34m]\u001b[0m\u001b[0;34m)\u001b[0m\u001b[0;34m\u001b[0m\u001b[0;34m\u001b[0m\u001b[0m\n\u001b[0m\u001b[1;32m      2\u001b[0m \u001b[0my\u001b[0m \u001b[0;34m=\u001b[0m \u001b[0mpd\u001b[0m\u001b[0;34m.\u001b[0m\u001b[0mconcat\u001b[0m\u001b[0;34m(\u001b[0m\u001b[0;34m[\u001b[0m\u001b[0my_train\u001b[0m\u001b[0;34m,\u001b[0m \u001b[0my_test\u001b[0m\u001b[0;34m]\u001b[0m\u001b[0;34m)\u001b[0m\u001b[0;34m\u001b[0m\u001b[0;34m\u001b[0m\u001b[0m\n",
      "\u001b[0;32m~/anaconda3/lib/python3.7/site-packages/pandas/core/reshape/concat.py\u001b[0m in \u001b[0;36mconcat\u001b[0;34m(objs, axis, join, ignore_index, keys, levels, names, verify_integrity, sort, copy)\u001b[0m\n\u001b[1;32m    293\u001b[0m         \u001b[0mverify_integrity\u001b[0m\u001b[0;34m=\u001b[0m\u001b[0mverify_integrity\u001b[0m\u001b[0;34m,\u001b[0m\u001b[0;34m\u001b[0m\u001b[0;34m\u001b[0m\u001b[0m\n\u001b[1;32m    294\u001b[0m         \u001b[0mcopy\u001b[0m\u001b[0;34m=\u001b[0m\u001b[0mcopy\u001b[0m\u001b[0;34m,\u001b[0m\u001b[0;34m\u001b[0m\u001b[0;34m\u001b[0m\u001b[0m\n\u001b[0;32m--> 295\u001b[0;31m         \u001b[0msort\u001b[0m\u001b[0;34m=\u001b[0m\u001b[0msort\u001b[0m\u001b[0;34m,\u001b[0m\u001b[0;34m\u001b[0m\u001b[0;34m\u001b[0m\u001b[0m\n\u001b[0m\u001b[1;32m    296\u001b[0m     )\n\u001b[1;32m    297\u001b[0m \u001b[0;34m\u001b[0m\u001b[0m\n",
      "\u001b[0;32m~/anaconda3/lib/python3.7/site-packages/pandas/core/reshape/concat.py\u001b[0m in \u001b[0;36m__init__\u001b[0;34m(self, objs, axis, join, keys, levels, names, ignore_index, verify_integrity, copy, sort)\u001b[0m\n\u001b[1;32m    368\u001b[0m                     \u001b[0;34m\"only Series and DataFrame objs are valid\"\u001b[0m\u001b[0;34m\u001b[0m\u001b[0;34m\u001b[0m\u001b[0m\n\u001b[1;32m    369\u001b[0m                 )\n\u001b[0;32m--> 370\u001b[0;31m                 \u001b[0;32mraise\u001b[0m \u001b[0mTypeError\u001b[0m\u001b[0;34m(\u001b[0m\u001b[0mmsg\u001b[0m\u001b[0;34m)\u001b[0m\u001b[0;34m\u001b[0m\u001b[0;34m\u001b[0m\u001b[0m\n\u001b[0m\u001b[1;32m    371\u001b[0m \u001b[0;34m\u001b[0m\u001b[0m\n\u001b[1;32m    372\u001b[0m             \u001b[0;31m# consolidate\u001b[0m\u001b[0;34m\u001b[0m\u001b[0;34m\u001b[0m\u001b[0;34m\u001b[0m\u001b[0m\n",
      "\u001b[0;31mTypeError\u001b[0m: cannot concatenate object of type '<class 'scipy.sparse.csr.csr_matrix'>'; only Series and DataFrame objs are valid"
     ]
    }
   ],
   "source": [
    "X = pd.concat([X_train_fs, X_test_fs])\n",
    "y = pd.concat([y_train, y_test])"
   ]
  },
  {
   "cell_type": "code",
   "execution_count": 55,
   "id": "c23bdba8",
   "metadata": {},
   "outputs": [],
   "source": [
    "from sklearn import model_selection\n",
    "from sklearn.linear_model import (LogisticRegression)\n",
    "from sklearn.tree import DecisionTreeClassifier\n",
    "from sklearn.neighbors import (KNeighborsClassifier)\n",
    "from sklearn.naive_bayes import GaussianNB\n",
    "from sklearn.svm import SVC\n",
    "from sklearn.ensemble import (RandomForestClassifier)\n",
    "import xgboost as xgb\n",
    "from sklearn.metrics import classification_report"
   ]
  },
  {
   "cell_type": "code",
   "execution_count": 56,
   "id": "02d44922",
   "metadata": {},
   "outputs": [
    {
     "name": "stdout",
     "output_type": "stream",
     "text": [
      "DecisionTreeClassifier  CV_Mean:0.300 CV_STD: 0.03\n",
      "KNeighborsClassifier    CV_Mean:0.343 CV_STD: 0.03\n",
      "GaussianNB              CV_Mean:0.393 CV_STD: 0.02\n",
      "SVC                     CV_Mean:0.416 CV_STD: 0.03\n",
      "RandomForestClassifier  CV_Mean:0.336 CV_STD: 0.03\n",
      "SGDClassifier           CV_Mean:0.375 CV_STD: 0.03\n"
     ]
    }
   ],
   "source": [
    "for model in [DecisionTreeClassifier, KNeighborsClassifier, GaussianNB, SVC, \n",
    "              RandomForestClassifier, SGDClassifier]:\n",
    "    make_pipeline(StandardScaler(),model())\n",
    "    classifier = model()\n",
    "    kfold = model_selection.KFold(n_splits=10)\n",
    "    classifier.fit(X_train_fs.toarray(), y_train)\n",
    "    s = model_selection.cross_val_score(classifier, X_test_fs.toarray(),y_test, cv=kfold)\n",
    "    #result2 = classification_report(y_test, y_pred, zero_division=0)\n",
    "    #s = model_selection.cross_val_score(cls, X, y, cv=kfold)\n",
    "    print(f\"{model.__name__:22}  CV_Mean:\" f\"{s.mean():.3f} CV_STD: {s.std():.2f}\")"
   ]
  },
  {
   "cell_type": "code",
   "execution_count": 57,
   "id": "91249c23",
   "metadata": {},
   "outputs": [
    {
     "data": {
      "text/plain": [
       "XGBClassifier(objective='multi:softprob', random_state=42)"
      ]
     },
     "execution_count": 57,
     "metadata": {},
     "output_type": "execute_result"
    }
   ],
   "source": [
    "xgb_model = xgb.XGBClassifier(objective=\"multi:softprob\", random_state=42)\n",
    "xgb_model.fit(X_train_fs, y_train)\n"
   ]
  },
  {
   "cell_type": "code",
   "execution_count": 59,
   "id": "82e1ab8a",
   "metadata": {},
   "outputs": [
    {
     "name": "stdout",
     "output_type": "stream",
     "text": [
      "[[  7  35   2  60  81]\n",
      " [  8  64   2 197  81]\n",
      " [  3  29   1 180  68]\n",
      " [  6  44   1 413 231]\n",
      " [  5  12   1 262 514]]\n"
     ]
    }
   ],
   "source": [
    "y_pred = xgb_model.predict(X_test_fs)\n",
    "\n",
    "print(confusion_matrix(y_test, y_pred))"
   ]
  },
  {
   "cell_type": "code",
   "execution_count": 61,
   "id": "e9ba9767",
   "metadata": {},
   "outputs": [
    {
     "name": "stdout",
     "output_type": "stream",
     "text": [
      "              precision    recall  f1-score   support\n",
      "\n",
      "         1.0       0.24      0.04      0.07       185\n",
      "         2.0       0.35      0.18      0.24       352\n",
      "         3.0       0.14      0.00      0.01       281\n",
      "         4.0       0.37      0.59      0.46       695\n",
      "         5.0       0.53      0.65      0.58       794\n",
      "\n",
      "    accuracy                           0.43      2307\n",
      "   macro avg       0.33      0.29      0.27      2307\n",
      "weighted avg       0.38      0.43      0.38      2307\n",
      "\n"
     ]
    }
   ],
   "source": [
    "print(classification_report(y_test, y_pred))"
   ]
  },
  {
   "cell_type": "code",
   "execution_count": 67,
   "id": "c6423fd4",
   "metadata": {},
   "outputs": [],
   "source": [
    "import numpy as np\n",
    "\n",
    "from scipy.stats import uniform, randint\n",
    "\n",
    "from sklearn.datasets import load_breast_cancer, load_diabetes, load_wine\n",
    "from sklearn.metrics import auc, accuracy_score, confusion_matrix, mean_squared_error\n",
    "from sklearn.model_selection import cross_val_score, GridSearchCV, KFold, RandomizedSearchCV, train_test_split"
   ]
  },
  {
   "cell_type": "code",
   "execution_count": 69,
   "id": "633392f7",
   "metadata": {},
   "outputs": [
    {
     "name": "stdout",
     "output_type": "stream",
     "text": [
      "Fitting 3 folds for each of 200 candidates, totalling 600 fits\n"
     ]
    },
    {
     "data": {
      "text/plain": [
       "RandomizedSearchCV(cv=3,\n",
       "                   estimator=XGBClassifier(objective='multi:softprob',\n",
       "                                           random_state=42),\n",
       "                   n_iter=200, n_jobs=1,\n",
       "                   param_distributions={'colsample_bytree': <scipy.stats._distn_infrastructure.rv_frozen object at 0x7feb4b7e63d0>,\n",
       "                                        'gamma': <scipy.stats._distn_infrastructure.rv_frozen object at 0x7feb4b7e6190>,\n",
       "                                        'learning_rate': <scipy.stats._distn_infrastructure.rv_frozen object at 0x7feb4b7e6950>,\n",
       "                                        'max_depth': <scipy.stats._distn_infrastructure.rv_frozen object at 0x7feb5007d410>,\n",
       "                                        'n_estimators': <scipy.stats._distn_infrastructure.rv_frozen object at 0x7feb5007db50>,\n",
       "                                        'subsample': <scipy.stats._distn_infrastructure.rv_frozen object at 0x7feb5007d590>},\n",
       "                   random_state=42, return_train_score=True, verbose=1)"
      ]
     },
     "execution_count": 69,
     "metadata": {},
     "output_type": "execute_result"
    }
   ],
   "source": [
    "xgb_model = xgb.XGBClassifier(objective=\"multi:softprob\", random_state=42)\n",
    "\n",
    "params = {\n",
    "    \"colsample_bytree\": uniform(0.7, 0.3),\n",
    "    \"gamma\": uniform(0, 0.5),\n",
    "    \"learning_rate\": uniform(0.03, 0.3), # default 0.1 \n",
    "    \"max_depth\": randint(2, 6), # default 3\n",
    "    \"n_estimators\": randint(100, 150), # default 100\n",
    "    \"subsample\": uniform(0.6, 0.4)\n",
    "}\n",
    "\n",
    "search = RandomizedSearchCV(xgb_model, param_distributions=params, random_state=42, \n",
    "                            n_iter=200, cv=3, verbose=1, n_jobs=1, return_train_score=True)\n",
    "\n",
    "search.fit(X_train_fs, y_train)\n",
    "\n",
    "#report_best_scores(search.cv_results_, 1)"
   ]
  },
  {
   "cell_type": "code",
   "execution_count": 73,
   "id": "3e065f86",
   "metadata": {},
   "outputs": [
    {
     "data": {
      "text/plain": [
       "array([0.43401732, 0.39089574, 0.43308726, 0.41134067, 0.41914684,\n",
       "       0.4109675 , 0.4332742 , 0.4236077 , 0.43717713, 0.43531816,\n",
       "       0.40743794, 0.4128269 , 0.41654496, 0.39535547, 0.41821771,\n",
       "       0.43290145, 0.41710258, 0.43197233, 0.41357001, 0.43587609,\n",
       "       0.40836583, 0.43587609, 0.4316002 , 0.42936972, 0.43327317,\n",
       "       0.43308653, 0.41673086, 0.42286418, 0.43123004, 0.417289  ,\n",
       "       0.42342128, 0.43308788, 0.43531836, 0.43383058, 0.39126746,\n",
       "       0.43401732, 0.43383079, 0.41543034, 0.42174966, 0.39702968,\n",
       "       0.43550396, 0.42416626, 0.41635812, 0.42565311, 0.40390641,\n",
       "       0.39758668, 0.43160103, 0.433274  , 0.41078305, 0.43717724,\n",
       "       0.42881189, 0.41431458, 0.43420302, 0.43197326, 0.43234435,\n",
       "       0.41784579, 0.43401628, 0.43661879, 0.43513194, 0.42565207,\n",
       "       0.42398004, 0.43345856, 0.43847735, 0.42156323, 0.43457463,\n",
       "       0.40576518, 0.43568966, 0.43420271, 0.40167541, 0.41765978,\n",
       "       0.42825479, 0.40297635, 0.43606189, 0.4362479 , 0.39349628,\n",
       "       0.40873816, 0.40223303, 0.43234425, 0.43327431, 0.39442696,\n",
       "       0.41970467, 0.40762302, 0.42695415, 0.41691781, 0.42602482,\n",
       "       0.43457432, 0.43643298, 0.43438841, 0.43308778, 0.4369905 ,\n",
       "       0.40911081, 0.43699071, 0.39554189, 0.43568935, 0.42528119,\n",
       "       0.41449997, 0.41877482, 0.43476043, 0.43531836, 0.41245487,\n",
       "       0.4369906 , 0.43364519, 0.4369906 , 0.41208389, 0.43699112,\n",
       "       0.43606169, 0.42992869, 0.43122859, 0.42844194, 0.43476064,\n",
       "       0.43568977, 0.43327348, 0.42695374, 0.40409263, 0.43568997,\n",
       "       0.41375706, 0.43513235, 0.43513235, 0.43624739, 0.40836614,\n",
       "       0.43234352, 0.42881251, 0.43141543, 0.42137608, 0.4338311 ,\n",
       "       0.39405411, 0.4358765 , 0.43661951, 0.43587547, 0.43346053,\n",
       "       0.43401732, 0.41059828, 0.43215855, 0.40502217, 0.42955645,\n",
       "       0.40464839, 0.43271544, 0.43531712, 0.41858901, 0.42305029,\n",
       "       0.4358763 , 0.41041082, 0.43438903, 0.42082033, 0.43011366,\n",
       "       0.43178621, 0.43160165, 0.43253005, 0.41357074, 0.43364571,\n",
       "       0.41412908, 0.41505779, 0.41226979, 0.43234352, 0.43550407,\n",
       "       0.43122859, 0.42881344, 0.43252995, 0.43494634, 0.433831  ,\n",
       "       0.42676939, 0.42304998, 0.43383162, 0.42490958, 0.43085678,\n",
       "       0.43048703, 0.41134067, 0.43475981, 0.42658192, 0.43643309,\n",
       "       0.43754854, 0.43457463, 0.43364571, 0.43308788, 0.43420302,\n",
       "       0.43308778, 0.41096864, 0.43290187, 0.43308757, 0.43364467,\n",
       "       0.4364335 , 0.42881199, 0.42769654, 0.4353193 , 0.40130339,\n",
       "       0.41431541, 0.43141481, 0.40316299, 0.42732566, 0.42658161,\n",
       "       0.42955583, 0.42639695, 0.42714048, 0.4334599 , 0.40427823,\n",
       "       0.42807002, 0.43308767, 0.436619  , 0.42806929, 0.4046488 ])"
      ]
     },
     "execution_count": 73,
     "metadata": {},
     "output_type": "execute_result"
    }
   ],
   "source": [
    "search.cv_results_['mean_test_score']"
   ]
  },
  {
   "cell_type": "code",
   "execution_count": 70,
   "id": "5400b90e",
   "metadata": {},
   "outputs": [
    {
     "data": {
      "text/plain": [
       "{'colsample_bytree': 0.7719362077472209,\n",
       " 'gamma': 0.046936645040645875,\n",
       " 'learning_rate': 0.08485979913219219,\n",
       " 'max_depth': 2,\n",
       " 'n_estimators': 100,\n",
       " 'subsample': 0.9819461122652776}"
      ]
     },
     "execution_count": 70,
     "metadata": {},
     "output_type": "execute_result"
    }
   ],
   "source": [
    "search.best_params_"
   ]
  },
  {
   "cell_type": "code",
   "execution_count": null,
   "id": "f60865dd",
   "metadata": {},
   "outputs": [],
   "source": [
    "#from stack\n",
    "clf_xgb = xgb.XGBClassifier(objective = 'binary:logistic')\n",
    "param_dist = {'n_estimators': stats.randint(150, 1000),\n",
    "              'learning_rate': stats.uniform(0.01, 0.59),\n",
    "              'subsample': stats.uniform(0.3, 0.6),\n",
    "              'max_depth': [3, 4, 5, 6, 7, 8, 9],\n",
    "              'colsample_bytree': stats.uniform(0.5, 0.4),\n",
    "              'min_child_weight': [1, 2, 3, 4]\n",
    "             }\n",
    "\n",
    "numFolds = 5\n",
    "kfold_5 = cross_validation.KFold(n = len(X), shuffle = True, n_folds = numFolds)\n",
    "\n",
    "clf = RandomizedSearchCV(clf_xgb, \n",
    "                         param_distributions = param_dist,\n",
    "                         cv = kfold_5,  \n",
    "                         n_iter = 5, # you want 5 here not 25 if I understand you correctly \n",
    "                         scoring = 'roc_auc', \n",
    "                         error_score = 0, \n",
    "                         verbose = 3, \n",
    "                         n_jobs = -1)"
   ]
  },
  {
   "cell_type": "code",
   "execution_count": 64,
   "id": "9cbdc5a8",
   "metadata": {},
   "outputs": [
    {
     "ename": "KeyError",
     "evalue": "\"None of [Int64Index([   0,    1,    2,    3,    4,    5,    6,    7,    9,   10,\\n            ...\\n            5365, 5366, 5368, 5369, 5371, 5372, 5375, 5377, 5378, 5379],\\n           dtype='int64', length=4304)] are in the [columns]\"",
     "output_type": "error",
     "traceback": [
      "\u001b[0;31m---------------------------------------------------------------------------\u001b[0m",
      "\u001b[0;31mKeyError\u001b[0m                                  Traceback (most recent call last)",
      "\u001b[0;32m<ipython-input-64-50933678a63a>\u001b[0m in \u001b[0;36m<module>\u001b[0;34m\u001b[0m\n\u001b[1;32m      5\u001b[0m \u001b[0;34m\u001b[0m\u001b[0m\n\u001b[1;32m      6\u001b[0m \u001b[0;32mfor\u001b[0m \u001b[0mtrain_index\u001b[0m\u001b[0;34m,\u001b[0m \u001b[0mtest_index\u001b[0m \u001b[0;32min\u001b[0m \u001b[0mkfold\u001b[0m\u001b[0;34m.\u001b[0m\u001b[0msplit\u001b[0m\u001b[0;34m(\u001b[0m\u001b[0mX_train_fs\u001b[0m\u001b[0;34m)\u001b[0m\u001b[0;34m:\u001b[0m\u001b[0;34m\u001b[0m\u001b[0;34m\u001b[0m\u001b[0m\n\u001b[0;32m----> 7\u001b[0;31m     \u001b[0mX_train\u001b[0m\u001b[0;34m,\u001b[0m \u001b[0mX_test\u001b[0m \u001b[0;34m=\u001b[0m \u001b[0mX\u001b[0m\u001b[0;34m[\u001b[0m\u001b[0mtrain_index\u001b[0m\u001b[0;34m]\u001b[0m\u001b[0;34m,\u001b[0m \u001b[0mX\u001b[0m\u001b[0;34m[\u001b[0m\u001b[0mtest_index\u001b[0m\u001b[0;34m]\u001b[0m\u001b[0;34m\u001b[0m\u001b[0;34m\u001b[0m\u001b[0m\n\u001b[0m\u001b[1;32m      8\u001b[0m     \u001b[0my_train\u001b[0m\u001b[0;34m,\u001b[0m \u001b[0my_test\u001b[0m \u001b[0;34m=\u001b[0m \u001b[0my\u001b[0m\u001b[0;34m[\u001b[0m\u001b[0mtrain_index\u001b[0m\u001b[0;34m]\u001b[0m\u001b[0;34m,\u001b[0m \u001b[0my\u001b[0m\u001b[0;34m[\u001b[0m\u001b[0mtest_index\u001b[0m\u001b[0;34m]\u001b[0m\u001b[0;34m\u001b[0m\u001b[0;34m\u001b[0m\u001b[0m\n\u001b[1;32m      9\u001b[0m \u001b[0;34m\u001b[0m\u001b[0m\n",
      "\u001b[0;32m~/anaconda3/lib/python3.7/site-packages/pandas/core/frame.py\u001b[0m in \u001b[0;36m__getitem__\u001b[0;34m(self, key)\u001b[0m\n\u001b[1;32m   3028\u001b[0m             \u001b[0;32mif\u001b[0m \u001b[0mis_iterator\u001b[0m\u001b[0;34m(\u001b[0m\u001b[0mkey\u001b[0m\u001b[0;34m)\u001b[0m\u001b[0;34m:\u001b[0m\u001b[0;34m\u001b[0m\u001b[0;34m\u001b[0m\u001b[0m\n\u001b[1;32m   3029\u001b[0m                 \u001b[0mkey\u001b[0m \u001b[0;34m=\u001b[0m \u001b[0mlist\u001b[0m\u001b[0;34m(\u001b[0m\u001b[0mkey\u001b[0m\u001b[0;34m)\u001b[0m\u001b[0;34m\u001b[0m\u001b[0;34m\u001b[0m\u001b[0m\n\u001b[0;32m-> 3030\u001b[0;31m             \u001b[0mindexer\u001b[0m \u001b[0;34m=\u001b[0m \u001b[0mself\u001b[0m\u001b[0;34m.\u001b[0m\u001b[0mloc\u001b[0m\u001b[0;34m.\u001b[0m\u001b[0m_get_listlike_indexer\u001b[0m\u001b[0;34m(\u001b[0m\u001b[0mkey\u001b[0m\u001b[0;34m,\u001b[0m \u001b[0maxis\u001b[0m\u001b[0;34m=\u001b[0m\u001b[0;36m1\u001b[0m\u001b[0;34m,\u001b[0m \u001b[0mraise_missing\u001b[0m\u001b[0;34m=\u001b[0m\u001b[0;32mTrue\u001b[0m\u001b[0;34m)\u001b[0m\u001b[0;34m[\u001b[0m\u001b[0;36m1\u001b[0m\u001b[0;34m]\u001b[0m\u001b[0;34m\u001b[0m\u001b[0;34m\u001b[0m\u001b[0m\n\u001b[0m\u001b[1;32m   3031\u001b[0m \u001b[0;34m\u001b[0m\u001b[0m\n\u001b[1;32m   3032\u001b[0m         \u001b[0;31m# take() does not accept boolean indexers\u001b[0m\u001b[0;34m\u001b[0m\u001b[0;34m\u001b[0m\u001b[0;34m\u001b[0m\u001b[0m\n",
      "\u001b[0;32m~/anaconda3/lib/python3.7/site-packages/pandas/core/indexing.py\u001b[0m in \u001b[0;36m_get_listlike_indexer\u001b[0;34m(self, key, axis, raise_missing)\u001b[0m\n\u001b[1;32m   1264\u001b[0m             \u001b[0mkeyarr\u001b[0m\u001b[0;34m,\u001b[0m \u001b[0mindexer\u001b[0m\u001b[0;34m,\u001b[0m \u001b[0mnew_indexer\u001b[0m \u001b[0;34m=\u001b[0m \u001b[0max\u001b[0m\u001b[0;34m.\u001b[0m\u001b[0m_reindex_non_unique\u001b[0m\u001b[0;34m(\u001b[0m\u001b[0mkeyarr\u001b[0m\u001b[0;34m)\u001b[0m\u001b[0;34m\u001b[0m\u001b[0;34m\u001b[0m\u001b[0m\n\u001b[1;32m   1265\u001b[0m \u001b[0;34m\u001b[0m\u001b[0m\n\u001b[0;32m-> 1266\u001b[0;31m         \u001b[0mself\u001b[0m\u001b[0;34m.\u001b[0m\u001b[0m_validate_read_indexer\u001b[0m\u001b[0;34m(\u001b[0m\u001b[0mkeyarr\u001b[0m\u001b[0;34m,\u001b[0m \u001b[0mindexer\u001b[0m\u001b[0;34m,\u001b[0m \u001b[0maxis\u001b[0m\u001b[0;34m,\u001b[0m \u001b[0mraise_missing\u001b[0m\u001b[0;34m=\u001b[0m\u001b[0mraise_missing\u001b[0m\u001b[0;34m)\u001b[0m\u001b[0;34m\u001b[0m\u001b[0;34m\u001b[0m\u001b[0m\n\u001b[0m\u001b[1;32m   1267\u001b[0m         \u001b[0;32mreturn\u001b[0m \u001b[0mkeyarr\u001b[0m\u001b[0;34m,\u001b[0m \u001b[0mindexer\u001b[0m\u001b[0;34m\u001b[0m\u001b[0;34m\u001b[0m\u001b[0m\n\u001b[1;32m   1268\u001b[0m \u001b[0;34m\u001b[0m\u001b[0m\n",
      "\u001b[0;32m~/anaconda3/lib/python3.7/site-packages/pandas/core/indexing.py\u001b[0m in \u001b[0;36m_validate_read_indexer\u001b[0;34m(self, key, indexer, axis, raise_missing)\u001b[0m\n\u001b[1;32m   1306\u001b[0m             \u001b[0;32mif\u001b[0m \u001b[0mmissing\u001b[0m \u001b[0;34m==\u001b[0m \u001b[0mlen\u001b[0m\u001b[0;34m(\u001b[0m\u001b[0mindexer\u001b[0m\u001b[0;34m)\u001b[0m\u001b[0;34m:\u001b[0m\u001b[0;34m\u001b[0m\u001b[0;34m\u001b[0m\u001b[0m\n\u001b[1;32m   1307\u001b[0m                 \u001b[0maxis_name\u001b[0m \u001b[0;34m=\u001b[0m \u001b[0mself\u001b[0m\u001b[0;34m.\u001b[0m\u001b[0mobj\u001b[0m\u001b[0;34m.\u001b[0m\u001b[0m_get_axis_name\u001b[0m\u001b[0;34m(\u001b[0m\u001b[0maxis\u001b[0m\u001b[0;34m)\u001b[0m\u001b[0;34m\u001b[0m\u001b[0;34m\u001b[0m\u001b[0m\n\u001b[0;32m-> 1308\u001b[0;31m                 \u001b[0;32mraise\u001b[0m \u001b[0mKeyError\u001b[0m\u001b[0;34m(\u001b[0m\u001b[0;34mf\"None of [{key}] are in the [{axis_name}]\"\u001b[0m\u001b[0;34m)\u001b[0m\u001b[0;34m\u001b[0m\u001b[0;34m\u001b[0m\u001b[0m\n\u001b[0m\u001b[1;32m   1309\u001b[0m \u001b[0;34m\u001b[0m\u001b[0m\n\u001b[1;32m   1310\u001b[0m             \u001b[0max\u001b[0m \u001b[0;34m=\u001b[0m \u001b[0mself\u001b[0m\u001b[0;34m.\u001b[0m\u001b[0mobj\u001b[0m\u001b[0;34m.\u001b[0m\u001b[0m_get_axis\u001b[0m\u001b[0;34m(\u001b[0m\u001b[0maxis\u001b[0m\u001b[0;34m)\u001b[0m\u001b[0;34m\u001b[0m\u001b[0;34m\u001b[0m\u001b[0m\n",
      "\u001b[0;31mKeyError\u001b[0m: \"None of [Int64Index([   0,    1,    2,    3,    4,    5,    6,    7,    9,   10,\\n            ...\\n            5365, 5366, 5368, 5369, 5371, 5372, 5375, 5377, 5378, 5379],\\n           dtype='int64', length=4304)] are in the [columns]\""
     ]
    }
   ],
   "source": [
    "from sklearn.model_selection import KFold\n",
    "kfold = KFold(n_splits=5, shuffle=True, random_state=42)\n",
    "\n",
    "scores = []\n",
    "\n",
    "for train_index, test_index in kfold.split(X_train_fs):   \n",
    "    X_train, X_test = X[train_index], X[test_index]\n",
    "    y_train, y_test = y[train_index], y[test_index]\n",
    "\n",
    "    xgb_model = xgb.XGBClassifier(objective=\"multi:softprob\", random_state=42)\n",
    "    xgb_model.fit(X_train_fs, y_train)\n",
    "    \n",
    "    y_pred = xgb_model.predict(X_test_fs)\n",
    "    \n",
    "    scores.append(mean_squared_error(y_test, y_pred))\n",
    "    \n",
    "display_scores(np.sqrt(scores))"
   ]
  },
  {
   "cell_type": "code",
   "execution_count": 22,
   "id": "9856f647",
   "metadata": {},
   "outputs": [],
   "source": [
    "cls = RandomForestClassifier()\n",
    "kfold = model_selection.KFold(n_splits=10)\n",
    "s = model_selection.cross_val_score(cls, X,y, cv=kfold)"
   ]
  },
  {
   "cell_type": "code",
   "execution_count": 24,
   "id": "575e4e54",
   "metadata": {},
   "outputs": [],
   "source": [
    "cls_rf = RandomForestClassifier()\n",
    "kfold = model_selection.KFold(n_splits=10)\n",
    "cls_rf.fit(X_train, y_train)\n",
    "y_pred = cls_rf.predict(X_test)\n",
    "s = model_selection.cross_val_score(cls_rf, X_test,y_test, cv=kfold)"
   ]
  },
  {
   "cell_type": "code",
   "execution_count": null,
   "id": "07becbdf",
   "metadata": {},
   "outputs": [],
   "source": [
    "print(classification_report(y_test, y_pred, target_names=labels))"
   ]
  },
  {
   "cell_type": "code",
   "execution_count": 45,
   "id": "056881af",
   "metadata": {},
   "outputs": [],
   "source": [
    "df1 = pd.read_csv(mypath+'/data/survey20_updated.csv')"
   ]
  },
  {
   "cell_type": "code",
   "execution_count": 46,
   "id": "3c8fd5d8",
   "metadata": {},
   "outputs": [
    {
     "data": {
      "text/plain": [
       "(64461, 25)"
      ]
     },
     "execution_count": 46,
     "metadata": {},
     "output_type": "execute_result"
    }
   ],
   "source": [
    "df1.shape"
   ]
  },
  {
   "cell_type": "code",
   "execution_count": 47,
   "id": "900b0112",
   "metadata": {},
   "outputs": [],
   "source": [
    "df1 = df1[df1['JobSat'] !=0]"
   ]
  },
  {
   "cell_type": "code",
   "execution_count": 48,
   "id": "d76c9a54",
   "metadata": {},
   "outputs": [
    {
     "data": {
      "text/plain": [
       "(45194, 25)"
      ]
     },
     "execution_count": 48,
     "metadata": {},
     "output_type": "execute_result"
    }
   ],
   "source": [
    "df1.shape"
   ]
  },
  {
   "cell_type": "code",
   "execution_count": 49,
   "id": "6435fa5f",
   "metadata": {},
   "outputs": [
    {
     "data": {
      "text/plain": [
       "5    14611\n",
       "4    13930\n",
       "2     7124\n",
       "3     5783\n",
       "1     3746\n",
       "Name: JobSat, dtype: int64"
      ]
     },
     "execution_count": 49,
     "metadata": {},
     "output_type": "execute_result"
    }
   ],
   "source": [
    "df1.JobSat.value_counts()"
   ]
  },
  {
   "cell_type": "code",
   "execution_count": 50,
   "id": "2b842412",
   "metadata": {},
   "outputs": [],
   "source": [
    "# read the data from the file\n",
    "#df = pd.read_csv(mypath+'/data/survey20_updated.csv')\n",
    "# preprocess, split and process data\n",
    "preproc_df1 = uf.preprocess_data(df1)\n",
    "X1_train, y1_train, X1_test, y1_test = uf.process_data(preproc_df1, 'JobSat')"
   ]
  },
  {
   "cell_type": "code",
   "execution_count": 55,
   "id": "c4736c42",
   "metadata": {},
   "outputs": [],
   "source": [
    "from sklearn.linear_model import SGDClassifier\n",
    "from sklearn.preprocessing import StandardScaler\n",
    "from sklearn.pipeline import make_pipeline\n",
    "\n",
    "# Always scale the input. The most convenient way is to use a pipeline.\n",
    "sgd_clf = make_pipeline(StandardScaler(),SGDClassifier(max_iter=1000, tol=1e-3))\n",
    "sgd_clf.fit(X1_train, y1_train)\n",
    "y1_pred = sgd_clf.predict(X1_test)"
   ]
  },
  {
   "cell_type": "code",
   "execution_count": 56,
   "id": "f1ab63bb",
   "metadata": {},
   "outputs": [
    {
     "name": "stdout",
     "output_type": "stream",
     "text": [
      "Confusion Matrix:\n",
      "[[  8  24   8  60  81]\n",
      " [ 21  33  33 149 127]\n",
      " [ 17  30  22 109  96]\n",
      " [ 36  64  44 270 300]\n",
      " [ 33  76  56 278 343]]\n",
      "\n",
      "Classification Report:\n",
      "              precision    recall  f1-score   support\n",
      "\n",
      "           1       0.07      0.04      0.05       181\n",
      "           2       0.15      0.09      0.11       363\n",
      "           3       0.13      0.08      0.10       274\n",
      "           4       0.31      0.38      0.34       714\n",
      "           5       0.36      0.44      0.40       786\n",
      "\n",
      "    accuracy                           0.29      2318\n",
      "   macro avg       0.20      0.21      0.20      2318\n",
      "weighted avg       0.26      0.29      0.27      2318\n",
      "\n",
      "Accuracy: 0.292\n"
     ]
    }
   ],
   "source": [
    "result1 = confusion_matrix(y1_test, y1_pred)\n",
    "print('Confusion Matrix:')\n",
    "print(result1)\n",
    "\n",
    "result2 = classification_report(y1_test, y1_pred, zero_division=0)\n",
    "print('\\nClassification Report:')\n",
    "print (result2)\n",
    "\n",
    "result3 = accuracy_score(y1_test,y1_pred)  \n",
    "print('Accuracy: %.3f' %result3)"
   ]
  },
  {
   "cell_type": "code",
   "execution_count": 5,
   "id": "d93da4cd",
   "metadata": {},
   "outputs": [
    {
     "data": {
      "text/plain": [
       "Index(['Unnamed: 0', 'MainBranch', 'Hobbyist', 'ConvertedComp', 'Country',\n",
       "       'DevType', 'EdLevel', 'Employment', 'Gender', 'JobFactors', 'JobSat',\n",
       "       'JobSeek', 'LanguageWorkedWith', 'DevOps', 'DevOpsImpt', 'EdImpt',\n",
       "       'JobHunt', 'JobHuntResearch', 'Learn', 'Overtime', 'OpSys', 'OrgSize',\n",
       "       'UndergradMajor', 'WorkWeekHrs', 'DevClass'],\n",
       "      dtype='object')"
      ]
     },
     "execution_count": 5,
     "metadata": {},
     "output_type": "execute_result"
    }
   ],
   "source": [
    "# create a path string\n",
    "mypath = os.getcwd()\n",
    "\n",
    "df2 = pd.read_csv(mypath+'/data/survey20_updated.csv')\n",
    "df2.columns"
   ]
  },
  {
   "cell_type": "code",
   "execution_count": 8,
   "id": "482491d7",
   "metadata": {},
   "outputs": [],
   "source": [
    "# preprocess, split and process data\n",
    "#preproc_df2 = uf.preprocess_data(df2)\n",
    "X2_train, y2_train, X2_test, y2_test = uf.process_data(preproc_df2, 'JobSat')"
   ]
  },
  {
   "cell_type": "code",
   "execution_count": 9,
   "id": "e18f87c8",
   "metadata": {},
   "outputs": [],
   "source": [
    "X2 = pd.concat([X2_train, X2_test])\n",
    "y2 = pd.concat([y2_train, y2_test])"
   ]
  },
  {
   "cell_type": "code",
   "execution_count": 10,
   "id": "30eb1928",
   "metadata": {},
   "outputs": [
    {
     "data": {
      "text/plain": [
       "(50533, 72)"
      ]
     },
     "execution_count": 10,
     "metadata": {},
     "output_type": "execute_result"
    }
   ],
   "source": [
    "X2.shape"
   ]
  },
  {
   "cell_type": "code",
   "execution_count": null,
   "id": "c864feb8",
   "metadata": {},
   "outputs": [
    {
     "name": "stdout",
     "output_type": "stream",
     "text": [
      "DecisionTreeClassifier  CV_Mean:0.323 CV_STD: 0.01\n",
      "KNeighborsClassifier    CV_Mean:0.339 CV_STD: 0.01\n",
      "GaussianNB              CV_Mean:0.353 CV_STD: 0.01\n"
     ]
    }
   ],
   "source": [
    "for model in [DecisionTreeClassifier, KNeighborsClassifier, GaussianNB, SVC, \n",
    "              RandomForestClassifier, SGDClassifier]:\n",
    "    make_pipeline(StandardScaler(),model())\n",
    "    classifier = model()\n",
    "    kfold = model_selection.KFold(n_splits=10)\n",
    "    classifier.fit(X2, y2)\n",
    "    s = model_selection.cross_val_score(classifier, X2,y2, cv=kfold)\n",
    "    #result2 = classification_report(y_test, y_pred, zero_division=0)\n",
    "    #s = model_selection.cross_val_score(cls, X, y, cv=kfold)\n",
    "    print(f\"{model.__name__:22}  CV_Mean:\" f\"{s.mean():.3f} CV_STD: {s.std():.2f}\")"
   ]
  },
  {
   "cell_type": "code",
   "execution_count": 12,
   "id": "fec7cd7c",
   "metadata": {},
   "outputs": [],
   "source": [
    "from sklearn.linear_model import SGDClassifier\n",
    "from sklearn.preprocessing import StandardScaler\n",
    "from sklearn.pipeline import make_pipeline\n",
    "\n",
    "# Always scale the input. The most convenient way is to use a pipeline.\n",
    "sgd_clf = make_pipeline(StandardScaler(),SGDClassifier(max_iter=1000, tol=1e-3))\n",
    "sgd_clf.fit(X2_train, y2_train)\n",
    "y2_pred = sgd_clf.predict(X2_test)"
   ]
  },
  {
   "cell_type": "code",
   "execution_count": 13,
   "id": "6c07d63b",
   "metadata": {},
   "outputs": [
    {
     "name": "stdout",
     "output_type": "stream",
     "text": [
      "Confusion Matrix:\n",
      "[[1589   10    9    9   10   15]\n",
      " [   8  190  106   70  238  522]\n",
      " [   3  324  215  145  518  954]\n",
      " [  10  313  189  143  377  693]\n",
      " [  15  652  379  297  967 1922]\n",
      " [  19  619  350  341  840 2099]]\n",
      "\n",
      "Classification Report:\n",
      "              precision    recall  f1-score   support\n",
      "\n",
      "           0       0.97      0.97      0.97      1642\n",
      "           1       0.09      0.17      0.12      1134\n",
      "           2       0.17      0.10      0.13      2159\n",
      "           3       0.14      0.08      0.10      1725\n",
      "           4       0.33      0.23      0.27      4232\n",
      "           5       0.34      0.49      0.40      4268\n",
      "\n",
      "    accuracy                           0.34     15160\n",
      "   macro avg       0.34      0.34      0.33     15160\n",
      "weighted avg       0.34      0.34      0.33     15160\n",
      "\n",
      "Accuracy: 0.343\n"
     ]
    }
   ],
   "source": [
    "result1 = confusion_matrix(y2_test, y2_pred)\n",
    "print('Confusion Matrix:')\n",
    "print(result1)\n",
    "\n",
    "result2 = classification_report(y2_test, y2_pred, zero_division=0)\n",
    "print('\\nClassification Report:')\n",
    "print (result2)\n",
    "\n",
    "result3 = accuracy_score(y2_test,y2_pred)  \n",
    "print('Accuracy: %.3f' %result3)"
   ]
  },
  {
   "cell_type": "code",
   "execution_count": null,
   "id": "805a3165",
   "metadata": {},
   "outputs": [],
   "source": []
  }
 ],
 "metadata": {
  "kernelspec": {
   "display_name": "Python 3",
   "language": "python",
   "name": "python3"
  },
  "language_info": {
   "codemirror_mode": {
    "name": "ipython",
    "version": 3
   },
   "file_extension": ".py",
   "mimetype": "text/x-python",
   "name": "python",
   "nbconvert_exporter": "python",
   "pygments_lexer": "ipython3",
   "version": "3.7.6"
  },
  "toc": {
   "base_numbering": 1,
   "nav_menu": {},
   "number_sections": true,
   "sideBar": true,
   "skip_h1_title": false,
   "title_cell": "Table of Contents",
   "title_sidebar": "Contents",
   "toc_cell": false,
   "toc_position": {},
   "toc_section_display": true,
   "toc_window_display": false
  }
 },
 "nbformat": 4,
 "nbformat_minor": 5
}
