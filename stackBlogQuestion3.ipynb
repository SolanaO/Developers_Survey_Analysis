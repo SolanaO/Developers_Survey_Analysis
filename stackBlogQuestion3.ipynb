{
 "cells": [
  {
   "cell_type": "markdown",
   "id": "7993e6b6",
   "metadata": {},
   "source": [
    "# Analysis of StackOverflow Survey. Part IV \n",
    "\n",
    "In this notebook we build a predictiv model for job satisfaction. "
   ]
  },
  {
   "cell_type": "code",
   "execution_count": 1,
   "id": "837206f6",
   "metadata": {},
   "outputs": [],
   "source": [
    "# import neccessary packages and libraries\n",
    "import os\n",
    "from collections import defaultdict\n",
    "\n",
    "import numpy as np\n",
    "import pandas as pd\n",
    "\n",
    "import matplotlib.pyplot as plt\n",
    "# to render plots in the notebook\n",
    "%matplotlib inline\n",
    "\n",
    "import seaborn as sns\n",
    "# set a theme for seaborn\n",
    "sns.set_theme()\n",
    "\n",
    "from sklearn.linear_model import LinearRegression\n",
    "\n",
    "from sklearn import (\n",
    "    ensemble,\n",
    "    preprocessing,\n",
    "    tree,\n",
    ")\n",
    "from sklearn.model_selection import (\n",
    "    train_test_split,\n",
    "    StratifiedKFold,\n",
    ")\n",
    "from sklearn.metrics import (\n",
    "    r2_score, \n",
    "    mean_squared_error,\n",
    "    auc,\n",
    "    confusion_matrix,\n",
    "    roc_auc_score,\n",
    "    roc_curve,\n",
    ")"
   ]
  },
  {
   "cell_type": "code",
   "execution_count": 2,
   "id": "ed1cca52",
   "metadata": {},
   "outputs": [],
   "source": [
    "# import local module containing the neccessary functions\n",
    "import utils_functions as uf\n",
    "\n",
    "# forces the interpreter to re-import the module\n",
    "import importlib\n",
    "importlib.reload(uf);"
   ]
  },
  {
   "cell_type": "markdown",
   "id": "9bc49bb0",
   "metadata": {},
   "source": [
    "## State the question\n",
    "I am addressing the third question in this notebook. What can we tell about the job satisfaction of a data coder? What factors do influence it? Also, predict the job satisfaction for a developer who works with big data. \n",
    "\n",
    "This is a classification question, we are predicting a satisfaction level for a data developer, this means: data scientist or machine learning specialist, data or business analyst and data engineer."
   ]
  },
  {
   "cell_type": "markdown",
   "id": "452d2a27",
   "metadata": {},
   "source": [
    "## Gather the data\n",
    "\n",
    "Upload the data and keep just the subset that contains those developers that work in data science related fields."
   ]
  },
  {
   "cell_type": "code",
   "execution_count": 3,
   "id": "fb9ad29e",
   "metadata": {},
   "outputs": [
    {
     "data": {
      "text/plain": [
       "(64461, 61)"
      ]
     },
     "execution_count": 3,
     "metadata": {},
     "output_type": "execute_result"
    }
   ],
   "source": [
    "# create a path string\n",
    "mypath = os.getcwd()\n",
    "\n",
    "# upload the datafiles as pandas dataframes\n",
    "df = pd.read_csv(mypath+'/data/survey20_results_public.csv')\n",
    "\n",
    "# check the uploaded data\n",
    "df.shape"
   ]
  },
  {
   "cell_type": "markdown",
   "id": "2a6c4287",
   "metadata": {},
   "source": [
    "### 1.5.1  Create a column to label the developers "
   ]
  },
  {
   "cell_type": "code",
   "execution_count": 20,
   "id": "81f3a49a",
   "metadata": {},
   "outputs": [],
   "source": [
    "# rename the data engineer string in the full dataset\n",
    "df.DevType = df.DevType.str.replace('Engineer, data', 'Data engineer')"
   ]
  },
  {
   "cell_type": "code",
   "execution_count": 21,
   "id": "39e5a1b5",
   "metadata": {},
   "outputs": [
    {
     "data": {
      "text/plain": [
       "other_coder    55735\n",
       "data_coder      8726\n",
       "Name: DevClass, dtype: int64"
      ]
     },
     "execution_count": 21,
     "metadata": {},
     "output_type": "execute_result"
    }
   ],
   "source": [
    "# create column DevClass, entry data_coder or other_coder, based on DevType contains data or not\n",
    "df.DevClass = np.where(df.DevType.str.contains(\"Data \", na = False), 'data_coder', 'other_coder')\n",
    "df.DevClass.value_counts()"
   ]
  },
  {
   "cell_type": "code",
   "execution_count": 38,
   "id": "8354b521",
   "metadata": {},
   "outputs": [
    {
     "data": {
      "text/plain": [
       "(8726, 62)"
      ]
     },
     "execution_count": 38,
     "metadata": {},
     "output_type": "execute_result"
    }
   ],
   "source": [
    "# the data frame that contains the data developers only\n",
    "df = df[df.DevClass == 'data_coder']\n",
    "\n",
    "# check the size of the data\n",
    "df.shape"
   ]
  },
  {
   "cell_type": "code",
   "execution_count": 39,
   "id": "00aebee9",
   "metadata": {},
   "outputs": [],
   "source": [
    "# create a list of columns to be used in this analysis\n",
    "list_cols = ['MainBranch', 'Hobbyist', 'Country',\n",
    "       'EdLevel', 'Employment', 'Gender', 'JobFactors',\n",
    "       'JobSat', 'JobSeek', 'NEWEdImpt', 'NEWJobHunt', 'NEWJobHuntResearch',\n",
    "       'NEWLearn', 'NEWOvertime',  'NEWPurpleLink', 'NEWStuck', 'OpSys', 'OrgSize', \n",
    "       'UndergradMajor', 'WorkWeekHrs']"
   ]
  },
  {
   "cell_type": "code",
   "execution_count": 41,
   "id": "c81c52d3",
   "metadata": {},
   "outputs": [
    {
     "data": {
      "text/plain": [
       "(8726, 20)"
      ]
     },
     "execution_count": 41,
     "metadata": {},
     "output_type": "execute_result"
    }
   ],
   "source": [
    "# the dataset that contains only the listed columns\n",
    "df = df[list_cols]\n",
    "df.shape"
   ]
  },
  {
   "cell_type": "code",
   "execution_count": 42,
   "id": "fc4a44e1",
   "metadata": {},
   "outputs": [
    {
     "data": {
      "text/plain": [
       "Index(['MainBranch', 'Hobbyist', 'Country', 'EdLevel', 'Employment', 'Gender',\n",
       "       'JobFactors', 'JobSat', 'JobSeek', 'EdImpt', 'JobHunt',\n",
       "       'JobHuntResearch', 'Learn', 'Overtime', 'PurpleLink', 'Stuck', 'OpSys',\n",
       "       'OrgSize', 'UndergradMajor', 'WorkWeekHrs'],\n",
       "      dtype='object')"
      ]
     },
     "execution_count": 42,
     "metadata": {},
     "output_type": "execute_result"
    }
   ],
   "source": [
    " # drop the NEW prefix in some of the columns' names\n",
    "df.columns = [col.replace('NEW', '') for col in df.columns]\n",
    "df.columns"
   ]
  },
  {
   "cell_type": "code",
   "execution_count": null,
   "id": "55d08bb4",
   "metadata": {},
   "outputs": [],
   "source": []
  },
  {
   "cell_type": "code",
   "execution_count": null,
   "id": "dac1c8f5",
   "metadata": {},
   "outputs": [],
   "source": [
    "# create test and train sets \n",
    "X_train, X_test, y_train, y_test = train_test_split(X, y, test_size = .30, random_state=42)"
   ]
  },
  {
   "cell_type": "code",
   "execution_count": null,
   "id": "733823e0",
   "metadata": {},
   "outputs": [],
   "source": [
    "\n",
    "\n",
    "X_train, X_test, y_train, y_test = train_test_split(X, y, test_size = .30, random_state=42)\n"
   ]
  },
  {
   "cell_type": "code",
   "execution_count": 35,
   "id": "8a8c05b1",
   "metadata": {},
   "outputs": [],
   "source": [
    "df4 = df3[list_cols]"
   ]
  },
  {
   "cell_type": "markdown",
   "id": "d1028dd5",
   "metadata": {},
   "source": [
    "### Comments: dropping columns\n",
    "\n",
    "I will build a classification model to predict the level of job satisfaction a developer has. Several of the columns have very high cardinality, and also there are a few redundant columns which can be dropped at this point. Here is a list of columns we can drop:"
   ]
  },
  {
   "cell_type": "code",
   "execution_count": 20,
   "id": "fb9c7295",
   "metadata": {},
   "outputs": [
    {
     "data": {
      "text/plain": [
       "(8706, 21)"
      ]
     },
     "execution_count": 20,
     "metadata": {},
     "output_type": "execute_result"
    }
   ],
   "source": [
    "# list of columns to drop\n",
    "drop_cols = ['Unnamed: 0', 'Respondent', 'ConvertedComp','DevType', 'DevClass',\n",
    "            'DatabaseWorkedWith', 'LanguageWorkedWith', 'PlatformWorkedWith',\n",
    "            'WebframeWorkedWith', 'CollabToolsWorkedWith', 'DevOps', 'DevOpsImpt']\n",
    "\n",
    "# drop columns in the list\n",
    "df3 = df3.drop(drop_cols, axis = 1)\n",
    "\n",
    "# reset the index also\n",
    "df3.reset_index(drop=True, inplace=True)\n",
    "\n",
    "# check the shape of the new dataset\n",
    "df3.shape"
   ]
  },
  {
   "cell_type": "markdown",
   "id": "b2c08110",
   "metadata": {},
   "source": [
    "### Generate a profiling report"
   ]
  },
  {
   "cell_type": "code",
   "execution_count": 21,
   "id": "8a6a5520",
   "metadata": {},
   "outputs": [
    {
     "data": {
      "application/vnd.jupyter.widget-view+json": {
       "model_id": "4ab58c13e35746449b0e9a83fd8da2e5",
       "version_major": 2,
       "version_minor": 0
      },
      "text/plain": [
       "Summarize dataset:   0%|          | 0/34 [00:00<?, ?it/s]"
      ]
     },
     "metadata": {},
     "output_type": "display_data"
    },
    {
     "data": {
      "application/vnd.jupyter.widget-view+json": {
       "model_id": "33180ca1eafa4fd691b1e4bd8f3faa2a",
       "version_major": 2,
       "version_minor": 0
      },
      "text/plain": [
       "Generate report structure:   0%|          | 0/1 [00:00<?, ?it/s]"
      ]
     },
     "metadata": {},
     "output_type": "display_data"
    },
    {
     "data": {
      "application/vnd.jupyter.widget-view+json": {
       "model_id": "f888da3202d94ada90b221f4dd1a6faa",
       "version_major": 2,
       "version_minor": 0
      },
      "text/plain": [
       "Render HTML:   0%|          | 0/1 [00:00<?, ?it/s]"
      ]
     },
     "metadata": {},
     "output_type": "display_data"
    },
    {
     "data": {
      "application/vnd.jupyter.widget-view+json": {
       "model_id": "7d4dd06a70344b99a96b88e446a2345f",
       "version_major": 2,
       "version_minor": 0
      },
      "text/plain": [
       "Export report to file:   0%|          | 0/1 [00:00<?, ?it/s]"
      ]
     },
     "metadata": {},
     "output_type": "display_data"
    }
   ],
   "source": [
    "# run this once to generate the report and save it as html file\n",
    "\n",
    "import pandas_profiling\n",
    "profile = pandas_profiling.ProfileReport(df3, minimal=False)\n",
    "profile.to_file(output_file=\"data_coders_report.html\")"
   ]
  },
  {
   "cell_type": "markdown",
   "id": "0036af32",
   "metadata": {},
   "source": [
    "### Clean Data\n",
    "\n",
    "Some preliminary processing was already performed on the data. "
   ]
  }
 ],
 "metadata": {
  "kernelspec": {
   "display_name": "Python 3",
   "language": "python",
   "name": "python3"
  },
  "language_info": {
   "codemirror_mode": {
    "name": "ipython",
    "version": 3
   },
   "file_extension": ".py",
   "mimetype": "text/x-python",
   "name": "python",
   "nbconvert_exporter": "python",
   "pygments_lexer": "ipython3",
   "version": "3.7.6"
  },
  "toc": {
   "base_numbering": 1,
   "nav_menu": {},
   "number_sections": true,
   "sideBar": true,
   "skip_h1_title": false,
   "title_cell": "Table of Contents",
   "title_sidebar": "Contents",
   "toc_cell": false,
   "toc_position": {},
   "toc_section_display": true,
   "toc_window_display": false
  }
 },
 "nbformat": 4,
 "nbformat_minor": 5
}
