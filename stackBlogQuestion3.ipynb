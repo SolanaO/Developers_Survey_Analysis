{
 "cells": [
  {
   "cell_type": "markdown",
   "id": "7993e6b6",
   "metadata": {},
   "source": [
    "# Analysis of StackOverflow Survey. Part IV "
   ]
  },
  {
   "cell_type": "code",
   "execution_count": 1,
   "id": "837206f6",
   "metadata": {},
   "outputs": [],
   "source": [
    "# import neccessary packages and libraries\n",
    "import os\n",
    "from collections import defaultdict\n",
    "\n",
    "import numpy as np\n",
    "import pandas as pd\n",
    "\n",
    "import matplotlib.pyplot as plt\n",
    "# to render plots in the notebook\n",
    "%matplotlib inline\n",
    "\n",
    "import seaborn as sns\n",
    "# set a theme for seaborn\n",
    "sns.set_theme()\n",
    "\n",
    "from sklearn.linear_model import LinearRegression\n",
    "\n",
    "from sklearn import (\n",
    "    ensemble,\n",
    "    preprocessing,\n",
    "    tree,\n",
    ")\n",
    "from sklearn.model_selection import (\n",
    "    train_test_split,\n",
    "    StratifiedKFold,\n",
    ")\n",
    "from sklearn.metrics import (\n",
    "    r2_score, \n",
    "    mean_squared_error,\n",
    "    auc,\n",
    "    confusion_matrix,\n",
    "    roc_auc_score,\n",
    "    roc_curve,\n",
    ")"
   ]
  },
  {
   "cell_type": "code",
   "execution_count": 2,
   "id": "ed1cca52",
   "metadata": {},
   "outputs": [],
   "source": [
    "# import local module containing the neccessary functions\n",
    "import utils_functions as uf\n",
    "\n",
    "# forces the interpreter to re-import the module\n",
    "import importlib\n",
    "importlib.reload(uf);"
   ]
  },
  {
   "cell_type": "markdown",
   "id": "9bc49bb0",
   "metadata": {},
   "source": [
    "## 1.1  State the question and outline\n",
    "I am addressing the third question in this notebook. What can we tell about he job satisfaction of a data coder? First, what factors do influence it? Secondly, predict the job satisfaction for a developer who works with big data. \n",
    "\n",
    "This is a classification question, we are predicting a satisfaction level for a data developer."
   ]
  },
  {
   "cell_type": "markdown",
   "id": "452d2a27",
   "metadata": {},
   "source": [
    "## Gather the data\n",
    "\n",
    "Upload the processed data and keep just the subset that contains those developers that work in data science related fields."
   ]
  },
  {
   "cell_type": "code",
   "execution_count": 16,
   "id": "fb9ad29e",
   "metadata": {},
   "outputs": [
    {
     "data": {
      "text/plain": [
       "(60430, 33)"
      ]
     },
     "execution_count": 16,
     "metadata": {},
     "output_type": "execute_result"
    }
   ],
   "source": [
    "# create a path string\n",
    "mypath = os.getcwd()\n",
    "\n",
    "# upload the datafiles as pandas dataframes\n",
    "df1 = pd.read_csv(mypath+'/data/survey20_updated.csv')\n",
    "\n",
    "# check the uploaded data\n",
    "df1.shape"
   ]
  },
  {
   "cell_type": "code",
   "execution_count": 17,
   "id": "8354b521",
   "metadata": {},
   "outputs": [
    {
     "data": {
      "text/plain": [
       "(8706, 33)"
      ]
     },
     "execution_count": 17,
     "metadata": {},
     "output_type": "execute_result"
    }
   ],
   "source": [
    "# the data frame that contains the data devlopers\n",
    "df3 = df1[df1.DevClass == 'data_coder']\n",
    "\n",
    "# check the size of the data\n",
    "df3.shape"
   ]
  },
  {
   "cell_type": "code",
   "execution_count": 18,
   "id": "c81c52d3",
   "metadata": {},
   "outputs": [
    {
     "data": {
      "text/plain": [
       "Index(['Unnamed: 0', 'Respondent', 'MainBranch', 'Hobbyist', 'ConvertedComp',\n",
       "       'Country', 'DatabaseWorkedWith', 'DevType', 'EdLevel', 'Employment',\n",
       "       'Gender', 'JobFactors', 'JobSat', 'JobSeek', 'LanguageWorkedWith',\n",
       "       'CollabToolsWorkedWith', 'DevOps', 'DevOpsImpt', 'EdImpt', 'JobHunt',\n",
       "       'JobHuntResearch', 'Learn', 'Overtime', 'PurpleLink', 'Stuck', 'OpSys',\n",
       "       'OrgSize', 'PlatformWorkedWith', 'UndergradMajor', 'WebframeWorkedWith',\n",
       "       'WorkWeekHrs', 'DevClass', 'imputedComp'],\n",
       "      dtype='object')"
      ]
     },
     "execution_count": 18,
     "metadata": {},
     "output_type": "execute_result"
    }
   ],
   "source": [
    "# the columns in the dataset\n",
    "df3.columns"
   ]
  },
  {
   "cell_type": "markdown",
   "id": "d1028dd5",
   "metadata": {},
   "source": [
    "### Comments: dropping columns\n",
    "\n",
    "I will build a classification model to predict the level of job satisfaction a developer has. Several of the columns have very high cardinality, and also there are a few redundant columns which can be dropped at this point. Here is a list of columns we can drop:"
   ]
  },
  {
   "cell_type": "code",
   "execution_count": 20,
   "id": "fb9c7295",
   "metadata": {},
   "outputs": [
    {
     "data": {
      "text/plain": [
       "(8706, 21)"
      ]
     },
     "execution_count": 20,
     "metadata": {},
     "output_type": "execute_result"
    }
   ],
   "source": [
    "# list of columns to drop\n",
    "drop_cols = ['Unnamed: 0', 'Respondent', 'ConvertedComp','DevType', 'DevClass',\n",
    "            'DatabaseWorkedWith', 'LanguageWorkedWith', 'PlatformWorkedWith',\n",
    "            'WebframeWorkedWith', 'CollabToolsWorkedWith', 'DevOps', 'DevOpsImpt']\n",
    "\n",
    "# drop columns in the list\n",
    "df3 = df3.drop(drop_cols, axis = 1)\n",
    "\n",
    "# reset the index also\n",
    "df3.reset_index(drop=True, inplace=True)\n",
    "\n",
    "# check the shape of the new dataset\n",
    "df3.shape"
   ]
  },
  {
   "cell_type": "markdown",
   "id": "b2c08110",
   "metadata": {},
   "source": [
    "### Generate a profiling report"
   ]
  },
  {
   "cell_type": "code",
   "execution_count": 21,
   "id": "8a6a5520",
   "metadata": {},
   "outputs": [
    {
     "data": {
      "application/vnd.jupyter.widget-view+json": {
       "model_id": "4ab58c13e35746449b0e9a83fd8da2e5",
       "version_major": 2,
       "version_minor": 0
      },
      "text/plain": [
       "Summarize dataset:   0%|          | 0/34 [00:00<?, ?it/s]"
      ]
     },
     "metadata": {},
     "output_type": "display_data"
    },
    {
     "data": {
      "application/vnd.jupyter.widget-view+json": {
       "model_id": "33180ca1eafa4fd691b1e4bd8f3faa2a",
       "version_major": 2,
       "version_minor": 0
      },
      "text/plain": [
       "Generate report structure:   0%|          | 0/1 [00:00<?, ?it/s]"
      ]
     },
     "metadata": {},
     "output_type": "display_data"
    },
    {
     "data": {
      "application/vnd.jupyter.widget-view+json": {
       "model_id": "f888da3202d94ada90b221f4dd1a6faa",
       "version_major": 2,
       "version_minor": 0
      },
      "text/plain": [
       "Render HTML:   0%|          | 0/1 [00:00<?, ?it/s]"
      ]
     },
     "metadata": {},
     "output_type": "display_data"
    },
    {
     "data": {
      "application/vnd.jupyter.widget-view+json": {
       "model_id": "7d4dd06a70344b99a96b88e446a2345f",
       "version_major": 2,
       "version_minor": 0
      },
      "text/plain": [
       "Export report to file:   0%|          | 0/1 [00:00<?, ?it/s]"
      ]
     },
     "metadata": {},
     "output_type": "display_data"
    }
   ],
   "source": [
    "# run this once to generate the report and save it as html file\n",
    "\n",
    "import pandas_profiling\n",
    "profile = pandas_profiling.ProfileReport(df3, minimal=False)\n",
    "profile.to_file(output_file=\"data_coders_report.html\")"
   ]
  },
  {
   "cell_type": "markdown",
   "id": "0036af32",
   "metadata": {},
   "source": [
    "### Clean Data\n",
    "\n",
    "Some preliminary processing was already performed on the data. "
   ]
  }
 ],
 "metadata": {
  "kernelspec": {
   "display_name": "Python 3",
   "language": "python",
   "name": "python3"
  },
  "language_info": {
   "codemirror_mode": {
    "name": "ipython",
    "version": 3
   },
   "file_extension": ".py",
   "mimetype": "text/x-python",
   "name": "python",
   "nbconvert_exporter": "python",
   "pygments_lexer": "ipython3",
   "version": "3.7.6"
  },
  "toc": {
   "base_numbering": 1,
   "nav_menu": {},
   "number_sections": true,
   "sideBar": true,
   "skip_h1_title": false,
   "title_cell": "Table of Contents",
   "title_sidebar": "Contents",
   "toc_cell": false,
   "toc_position": {},
   "toc_section_display": true,
   "toc_window_display": false
  }
 },
 "nbformat": 4,
 "nbformat_minor": 5
}
