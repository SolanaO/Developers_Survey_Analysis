{
 "cells": [
  {
   "cell_type": "markdown",
   "id": "7993e6b6",
   "metadata": {},
   "source": [
    "# Analysis of StackOverflow Survey. Part IV \n",
    "\n",
    "In this notebook we build a predictiv model for job satisfaction. "
   ]
  },
  {
   "cell_type": "code",
   "execution_count": 1,
   "id": "837206f6",
   "metadata": {},
   "outputs": [],
   "source": [
    "# import neccessary packages and libraries\n",
    "import os\n",
    "from collections import defaultdict\n",
    "\n",
    "import numpy as np\n",
    "import pandas as pd\n",
    "\n",
    "import matplotlib.pyplot as plt\n",
    "# to render plots in the notebook\n",
    "%matplotlib inline\n",
    "\n",
    "import seaborn as sns\n",
    "# set a theme for seaborn\n",
    "sns.set_theme()\n",
    "\n",
    "from sklearn.linear_model import LinearRegression\n",
    "\n",
    "from sklearn import (\n",
    "    ensemble,\n",
    "    preprocessing,\n",
    "    tree,\n",
    ")\n",
    "from sklearn.model_selection import (\n",
    "    train_test_split,\n",
    "    StratifiedKFold,\n",
    ")\n",
    "from sklearn.metrics import (\n",
    "    r2_score, \n",
    "    mean_squared_error,\n",
    "    auc,\n",
    "    confusion_matrix,\n",
    "    roc_auc_score,\n",
    "    roc_curve,\n",
    ")"
   ]
  },
  {
   "cell_type": "code",
   "execution_count": 2,
   "id": "ed1cca52",
   "metadata": {},
   "outputs": [],
   "source": [
    "# import local module containing the neccessary functions\n",
    "import utils_functions as uf\n",
    "\n",
    "# forces the interpreter to re-import the module\n",
    "import importlib\n",
    "importlib.reload(uf);"
   ]
  },
  {
   "cell_type": "markdown",
   "id": "9bc49bb0",
   "metadata": {},
   "source": [
    "## State the question\n",
    "I am addressing the third question in this notebook. What can we tell about the job satisfaction of a data coder? What factors do influence it? Also, predict the job satisfaction for a developer who works with big data. \n",
    "\n",
    "This is a classification question, we are predicting a satisfaction level for a data developer, which includes: data scientist or machine learning specialist, data or business analyst and data engineer."
   ]
  },
  {
   "cell_type": "markdown",
   "id": "ffcfad12",
   "metadata": {},
   "source": [
    "## Performance metrics - to review at the end\n",
    "\n",
    "The following performance measures will be used in this project:\n",
    "1. Cross validation via StratifiedKFold with 10 folds.\n",
    "2. Confusion matrix, in particular precision, recall and F1 score.\n",
    "3. The ROC curve and the related AUC score."
   ]
  },
  {
   "cell_type": "markdown",
   "id": "452d2a27",
   "metadata": {},
   "source": [
    "## Gather the data\n",
    "\n",
    "Upload the data and keep the subset that contains those developers that work in data science related fields."
   ]
  },
  {
   "cell_type": "code",
   "execution_count": 20,
   "id": "fb9ad29e",
   "metadata": {},
   "outputs": [
    {
     "data": {
      "text/plain": [
       "(64461, 25)"
      ]
     },
     "execution_count": 20,
     "metadata": {},
     "output_type": "execute_result"
    }
   ],
   "source": [
    "# create a path string\n",
    "mypath = os.getcwd()\n",
    "\n",
    "# upload the datafiles as pandas dataframes\n",
    "df1 = pd.read_csv(mypath+'/data/survey20_updated.csv')\n",
    "\n",
    "# check the uploaded data\n",
    "df1.shape"
   ]
  },
  {
   "cell_type": "code",
   "execution_count": 21,
   "id": "8354b521",
   "metadata": {},
   "outputs": [
    {
     "data": {
      "text/plain": [
       "(8726, 25)"
      ]
     },
     "execution_count": 21,
     "metadata": {},
     "output_type": "execute_result"
    }
   ],
   "source": [
    "# the data frame that contains the data developers only\n",
    "df1 = df1[df1.DevClass == 'data_coder']\n",
    "\n",
    "# check the size of the data\n",
    "df1.shape"
   ]
  },
  {
   "cell_type": "code",
   "execution_count": 22,
   "id": "00aebee9",
   "metadata": {},
   "outputs": [],
   "source": [
    "# create a list of columns to be used in this analysis\n",
    "list_cols = ['MainBranch', 'ConvertedComp', 'Country',\n",
    "       'EdLevel', 'Employment', 'JobFactors',\n",
    "       'JobSat', 'EdImpt',\n",
    "       'Learn', 'Overtime', 'OpSys', 'OrgSize', \n",
    "       'UndergradMajor', 'WorkWeekHrs']"
   ]
  },
  {
   "cell_type": "code",
   "execution_count": 23,
   "id": "c81c52d3",
   "metadata": {},
   "outputs": [
    {
     "data": {
      "text/plain": [
       "(8726, 14)"
      ]
     },
     "execution_count": 23,
     "metadata": {},
     "output_type": "execute_result"
    }
   ],
   "source": [
    "# the dataset that contains only the listed columns\n",
    "df1 = df1[list_cols]\n",
    "df1.shape"
   ]
  },
  {
   "cell_type": "code",
   "execution_count": 24,
   "id": "065ec945",
   "metadata": {},
   "outputs": [],
   "source": [
    "# reset the index \n",
    "df1.reset_index(drop=True, inplace=True)"
   ]
  },
  {
   "cell_type": "code",
   "execution_count": 25,
   "id": "61bed308",
   "metadata": {},
   "outputs": [
    {
     "name": "stdout",
     "output_type": "stream",
     "text": [
      "<class 'pandas.core.frame.DataFrame'>\n",
      "RangeIndex: 8726 entries, 0 to 8725\n",
      "Data columns (total 14 columns):\n",
      " #   Column          Non-Null Count  Dtype  \n",
      "---  ------          --------------  -----  \n",
      " 0   MainBranch      8699 non-null   object \n",
      " 1   ConvertedComp   5810 non-null   float64\n",
      " 2   Country         8726 non-null   object \n",
      " 3   EdLevel         8581 non-null   object \n",
      " 4   Employment      8726 non-null   object \n",
      " 5   JobFactors      7555 non-null   object \n",
      " 6   JobSat          8726 non-null   int64  \n",
      " 7   EdImpt          8206 non-null   object \n",
      " 8   Learn           7979 non-null   object \n",
      " 9   Overtime        7424 non-null   object \n",
      " 10  OpSys           8120 non-null   object \n",
      " 11  OrgSize         7590 non-null   object \n",
      " 12  UndergradMajor  8053 non-null   object \n",
      " 13  WorkWeekHrs     6995 non-null   float64\n",
      "dtypes: float64(2), int64(1), object(11)\n",
      "memory usage: 954.5+ KB\n"
     ]
    }
   ],
   "source": [
    "# gather information on dtypes and missing values\n",
    "df1.info()"
   ]
  },
  {
   "cell_type": "markdown",
   "id": "fccdce8e",
   "metadata": {},
   "source": [
    "## Data profiling"
   ]
  },
  {
   "cell_type": "code",
   "execution_count": 26,
   "id": "6a33e150",
   "metadata": {},
   "outputs": [],
   "source": [
    "# run this once to generate a profiling report and save it as html file\n",
    "\n",
    "#import pandas_profiling\n",
    "#profile = pandas_profiling.ProfileReport(df, minimal=False)\n",
    "#profile.to_file(output_file=\"data_coders_report.html\")"
   ]
  },
  {
   "cell_type": "markdown",
   "id": "2a6c4287",
   "metadata": {},
   "source": [
    "## Data preprocessing "
   ]
  },
  {
   "cell_type": "markdown",
   "id": "2ad0c14a",
   "metadata": {},
   "source": [
    "### Remove duplicates"
   ]
  },
  {
   "cell_type": "code",
   "execution_count": 27,
   "id": "6c883ea3",
   "metadata": {},
   "outputs": [
    {
     "data": {
      "text/plain": [
       "(8722, 14)"
      ]
     },
     "execution_count": 27,
     "metadata": {},
     "output_type": "execute_result"
    }
   ],
   "source": [
    "# drop duplicate rows, if any\n",
    "df1.drop_duplicates(subset=None, keep='first', inplace=True)\n",
    "df1.shape"
   ]
  },
  {
   "cell_type": "markdown",
   "id": "badc8282",
   "metadata": {},
   "source": [
    "### Create bins for the WorkWeekHrs column"
   ]
  },
  {
   "cell_type": "code",
   "execution_count": 28,
   "id": "f38e9f27",
   "metadata": {},
   "outputs": [
    {
     "data": {
      "text/plain": [
       "30-40    3846\n",
       "40-50    1837\n",
       ">50       610\n",
       "<10       284\n",
       "20-30     276\n",
       "10-20     140\n",
       "Name: WorkWeek_Bins, dtype: int64"
      ]
     },
     "execution_count": 28,
     "metadata": {},
     "output_type": "execute_result"
    }
   ],
   "source": [
    "# create the labels\n",
    "cut_labels = ['<10', '10-20', '20-30', '30-40', '40-50', '>50']\n",
    "\n",
    "# define the bins \n",
    "m = df1.WorkWeekHrs.max()\n",
    "cut_bins = [0, 10, 20, 30, 40, 50, m]\n",
    "\n",
    "# create a new column which contains the new labels\n",
    "df1['WorkWeek_Bins'] = pd.cut(df1['WorkWeekHrs'], bins=cut_bins, labels=cut_labels)\n",
    "\n",
    "# check for success\n",
    "df1['WorkWeek_Bins'].value_counts()"
   ]
  },
  {
   "cell_type": "code",
   "execution_count": 29,
   "id": "2d4bde5d",
   "metadata": {},
   "outputs": [
    {
     "data": {
      "text/plain": [
       "1729"
      ]
     },
     "execution_count": 29,
     "metadata": {},
     "output_type": "execute_result"
    }
   ],
   "source": [
    "# count the missing values in the new column\n",
    "df1['WorkWeek_Bins'].isnull().sum()"
   ]
  },
  {
   "cell_type": "code",
   "execution_count": 30,
   "id": "1dfe3260",
   "metadata": {},
   "outputs": [],
   "source": [
    "# change the type of the newly created column\n",
    "df1['WorkWeek_Bins'] = df1['WorkWeek_Bins'].astype('object')"
   ]
  },
  {
   "cell_type": "code",
   "execution_count": 31,
   "id": "bf67bf2b",
   "metadata": {},
   "outputs": [
    {
     "data": {
      "text/plain": [
       "30-40      3846\n",
       "40-50      1837\n",
       "missing    1729\n",
       ">50         610\n",
       "<10         284\n",
       "20-30       276\n",
       "10-20       140\n",
       "Name: WorkWeek_Bins, dtype: int64"
      ]
     },
     "execution_count": 31,
     "metadata": {},
     "output_type": "execute_result"
    }
   ],
   "source": [
    "# fill NaN in a specific column\n",
    "df1[['WorkWeek_Bins']] = df1[['WorkWeek_Bins']].fillna('missing')\n",
    "\n",
    "# check for success\n",
    "df1['WorkWeek_Bins'].value_counts()"
   ]
  },
  {
   "cell_type": "code",
   "execution_count": 32,
   "id": "622851d2",
   "metadata": {},
   "outputs": [],
   "source": [
    "# drop the WorkWeekHrs column\n",
    "df1.drop(columns = 'WorkWeekHrs', inplace=True);"
   ]
  },
  {
   "cell_type": "markdown",
   "id": "1c7b99f9",
   "metadata": {},
   "source": [
    "## Create features and target\n",
    "\n",
    "Create a dataframe (X) with the features and a pandas series (y) that contains the labels."
   ]
  },
  {
   "cell_type": "code",
   "execution_count": 81,
   "id": "59b40b62",
   "metadata": {},
   "outputs": [],
   "source": [
    "# create a copy of the pre-processed dataframe\n",
    "df2 = df1.copy()"
   ]
  },
  {
   "cell_type": "code",
   "execution_count": 82,
   "id": "fdf816df",
   "metadata": {},
   "outputs": [
    {
     "name": "stdout",
     "output_type": "stream",
     "text": [
      "<class 'pandas.core.frame.DataFrame'>\n",
      "Int64Index: 8722 entries, 0 to 8725\n",
      "Data columns (total 13 columns):\n",
      " #   Column          Non-Null Count  Dtype  \n",
      "---  ------          --------------  -----  \n",
      " 0   MainBranch      8695 non-null   object \n",
      " 1   ConvertedComp   5809 non-null   float64\n",
      " 2   Country         8722 non-null   object \n",
      " 3   EdLevel         8577 non-null   object \n",
      " 4   Employment      8722 non-null   object \n",
      " 5   JobFactors      7554 non-null   object \n",
      " 6   EdImpt          8202 non-null   object \n",
      " 7   Learn           7977 non-null   object \n",
      " 8   Overtime        7422 non-null   object \n",
      " 9   OpSys           8118 non-null   object \n",
      " 10  OrgSize         7587 non-null   object \n",
      " 11  UndergradMajor  8049 non-null   object \n",
      " 12  WorkWeek_Bins   8722 non-null   object \n",
      "dtypes: float64(1), object(12)\n",
      "memory usage: 954.0+ KB\n"
     ]
    },
    {
     "data": {
      "text/plain": [
       "(None, 8722)"
      ]
     },
     "execution_count": 82,
     "metadata": {},
     "output_type": "execute_result"
    }
   ],
   "source": [
    "# create the predictors dataframe\n",
    "X = df2.drop(columns = 'JobSat')\n",
    "\n",
    "# create the labels\n",
    "y = df2['JobSat']\n",
    "\n",
    "# check for success\n",
    "X.info(), len(y)"
   ]
  },
  {
   "cell_type": "markdown",
   "id": "5a45ce76",
   "metadata": {},
   "source": [
    "## Sample data\n",
    "\n",
    "We will use $30 \\%$ data for testing:"
   ]
  },
  {
   "cell_type": "code",
   "execution_count": 83,
   "id": "bf0d97b4",
   "metadata": {},
   "outputs": [],
   "source": [
    "# split the data in train and testing sets\n",
    "X_train, X_test, y_train, y_test = train_test_split(X, y, test_size=0.3, random_state=42)"
   ]
  },
  {
   "cell_type": "code",
   "execution_count": 86,
   "id": "4f75610f",
   "metadata": {},
   "outputs": [
    {
     "data": {
      "text/plain": [
       "((6105, 13), 6105, (2617, 13), 2617)"
      ]
     },
     "execution_count": 86,
     "metadata": {},
     "output_type": "execute_result"
    }
   ],
   "source": [
    "# check for success\n",
    "X_train.shape, len(y_train), X_test.shape, len(y_test)"
   ]
  },
  {
   "cell_type": "code",
   "execution_count": null,
   "id": "127e0839",
   "metadata": {},
   "outputs": [],
   "source": []
  },
  {
   "cell_type": "markdown",
   "id": "d3a115bc",
   "metadata": {},
   "source": [
    "## Impute missing values in ConvertedCompensation column\n",
    "\n",
    "Now that we have test and train data, we can impute missing values on the training set, and use the trained imputers to fill in the test dataset."
   ]
  },
  {
   "cell_type": "code",
   "execution_count": 87,
   "id": "4ff36204",
   "metadata": {},
   "outputs": [
    {
     "data": {
      "text/plain": [
       "<Figure size 864x432 with 0 Axes>"
      ]
     },
     "metadata": {},
     "output_type": "display_data"
    },
    {
     "data": {
      "image/png": "[encoded data removed]",
      "text/plain": [
       "<Figure size 432x288 with 1 Axes>"
      ]
     },
     "metadata": {},
     "output_type": "display_data"
    }
   ],
   "source": [
    "# set the figure size\n",
    "plt.figure(figsize = [12,6])\n",
    "\n",
    "fig, ax = plt.subplots()\n",
    "X_train['ConvertedComp'].hist(bins=30, color='#A9C5D3', \n",
    "                             edgecolor='black', grid=False)\n",
    "ax.set_title('Converted Compensation Histogram', fontsize=12)\n",
    "ax.set_xlabel('Converted Compensation', fontsize=12)\n",
    "ax.set_ylabel('Frequency', fontsize=12);"
   ]
  },
  {
   "cell_type": "markdown",
   "id": "86eeda2c",
   "metadata": {},
   "source": [
    "The above distribution depicts a right skew in the income with lots of 0 values and fewer data coders earning more money. There are also many missing entries in this column. Since, from the point of view of this analysis the 0 entries and the missing entries will be treated similarly, we fill all the missing values with 0."
   ]
  },
  {
   "cell_type": "code",
   "execution_count": 88,
   "id": "3a3f366e",
   "metadata": {},
   "outputs": [
    {
     "data": {
      "text/plain": [
       "2009"
      ]
     },
     "execution_count": 88,
     "metadata": {},
     "output_type": "execute_result"
    }
   ],
   "source": [
    "# determine the number of missing values in the training set\n",
    "X_train.ConvertedComp.isnull().sum()"
   ]
  },
  {
   "cell_type": "code",
   "execution_count": 96,
   "id": "b6bf7a64",
   "metadata": {},
   "outputs": [],
   "source": [
    "# find the country medians\n",
    "temps = X_train.groupby('Country')"
   ]
  },
  {
   "cell_type": "code",
   "execution_count": 97,
   "id": "b4c31968",
   "metadata": {},
   "outputs": [],
   "source": [
    "# impute the ConvertedComp missing values with the median of the corresponding country\n",
    "# save the existing values and the imputed values in a new column\n",
    "\n",
    "X_train.loc[:,'ImputedComp'] = X_train.loc[:, 'ConvertedComp'].fillna(temps['ConvertedComp'].transform('median'))"
   ]
  },
  {
   "cell_type": "code",
   "execution_count": 98,
   "id": "cb63caef",
   "metadata": {},
   "outputs": [
    {
     "data": {
      "text/plain": [
       "20"
      ]
     },
     "execution_count": 98,
     "metadata": {},
     "output_type": "execute_result"
    }
   ],
   "source": [
    "# check how many values are still missing\n",
    "X_train.ImputedComp.isnull().sum()"
   ]
  },
  {
   "cell_type": "code",
   "execution_count": 100,
   "id": "918a8367",
   "metadata": {},
   "outputs": [
    {
     "data": {
      "text/plain": [
       "21"
      ]
     },
     "execution_count": 100,
     "metadata": {},
     "output_type": "execute_result"
    }
   ],
   "source": [
    "# fill NaN in a specific column\n",
    "X_train.loc[:,'ImputedComp'].fillna(0)\n",
    "\n",
    "# drop those values with 0 imputedCompensation\n",
    "#.drop(df1[df1.ImputedComp == 0.0].index, inplace = True)\n",
    "\n",
    "# check for success\n",
    "len(X_train[X_train['ImputedComp'] == 0])"
   ]
  },
  {
   "cell_type": "markdown",
   "id": "86c247ce",
   "metadata": {},
   "source": [
    "### Create bins for numerical columns: ImputedComp"
   ]
  },
  {
   "cell_type": "code",
   "execution_count": 124,
   "id": "12f76c57",
   "metadata": {},
   "outputs": [],
   "source": [
    "# create the labels\n",
    "cut_labels = ['<10K', '10K-30K', '30K-50K', '50K-100K', '100K-200K', '>200K']\n",
    "\n",
    "# define the bins \n",
    "m = df1.ImputedComp.max()\n",
    "cut_bins = [0, 10000, 30000, 50000, 100000, 200000, m]\n",
    "\n",
    "# create a new column which contains the new labels\n",
    "df1['Comp_Bins'] = pd.cut(df1['ImputedComp'], bins=cut_bins, labels=cut_labels)"
   ]
  },
  {
   "cell_type": "code",
   "execution_count": 126,
   "id": "12198d77",
   "metadata": {},
   "outputs": [
    {
     "data": {
      "text/plain": [
       "50K-100K     2445\n",
       "10K-30K      2086\n",
       "100K-200K    1665\n",
       "30K-50K      1292\n",
       "<10K          761\n",
       ">200K         430\n",
       "Name: Comp_Bins, dtype: int64"
      ]
     },
     "execution_count": 126,
     "metadata": {},
     "output_type": "execute_result"
    }
   ],
   "source": [
    "# check for success\n",
    "df1.Comp_Bins.value_counts()"
   ]
  },
  {
   "cell_type": "markdown",
   "id": "17c6c08d",
   "metadata": {},
   "source": [
    "### Create bins for numerical columns: WorkWeekHrs"
   ]
  },
  {
   "cell_type": "code",
   "execution_count": 150,
   "id": "54e3577a",
   "metadata": {},
   "outputs": [
    {
     "ename": "NameError",
     "evalue": "name 'NaN' is not defined",
     "output_type": "error",
     "traceback": [
      "\u001b[0;31m---------------------------------------------------------------------------\u001b[0m",
      "\u001b[0;31mNameError\u001b[0m                                 Traceback (most recent call last)",
      "\u001b[0;32m<ipython-input-150-36e3c17235e3>\u001b[0m in \u001b[0;36m<module>\u001b[0;34m\u001b[0m\n\u001b[1;32m      4\u001b[0m \u001b[0;31m# define the bins\u001b[0m\u001b[0;34m\u001b[0m\u001b[0;34m\u001b[0m\u001b[0;34m\u001b[0m\u001b[0m\n\u001b[1;32m      5\u001b[0m \u001b[0mm\u001b[0m \u001b[0;34m=\u001b[0m \u001b[0mdf1\u001b[0m\u001b[0;34m.\u001b[0m\u001b[0mWorkWeekHrs\u001b[0m\u001b[0;34m.\u001b[0m\u001b[0mmax\u001b[0m\u001b[0;34m(\u001b[0m\u001b[0;34m)\u001b[0m\u001b[0;34m\u001b[0m\u001b[0;34m\u001b[0m\u001b[0m\n\u001b[0;32m----> 6\u001b[0;31m \u001b[0mcut_bins\u001b[0m \u001b[0;34m=\u001b[0m \u001b[0;34m[\u001b[0m\u001b[0mNaN\u001b[0m\u001b[0;34m,\u001b[0m \u001b[0;36m10\u001b[0m\u001b[0;34m,\u001b[0m \u001b[0;36m20\u001b[0m\u001b[0;34m,\u001b[0m \u001b[0;36m30\u001b[0m\u001b[0;34m,\u001b[0m \u001b[0;36m40\u001b[0m\u001b[0;34m,\u001b[0m \u001b[0;36m50\u001b[0m\u001b[0;34m,\u001b[0m \u001b[0mm\u001b[0m\u001b[0;34m]\u001b[0m\u001b[0;34m\u001b[0m\u001b[0;34m\u001b[0m\u001b[0m\n\u001b[0m\u001b[1;32m      7\u001b[0m \u001b[0;34m\u001b[0m\u001b[0m\n\u001b[1;32m      8\u001b[0m \u001b[0;31m# create a new column which contains the new labels\u001b[0m\u001b[0;34m\u001b[0m\u001b[0;34m\u001b[0m\u001b[0;34m\u001b[0m\u001b[0m\n",
      "\u001b[0;31mNameError\u001b[0m: name 'NaN' is not defined"
     ]
    }
   ],
   "source": [
    "# create the labels\n",
    "cut_labels = ['missing', '<10', '10-20', '20-30', '30-40', '40-50', '>50']\n",
    "\n",
    "# define the bins \n",
    "m = df1.WorkWeekHrs.max()\n",
    "cut_bins = [NaN, 10, 20, 30, 40, 50, m]\n",
    "\n",
    "# create a new column which contains the new labels\n",
    "df1['WorkWeek_Bins'] = pd.cut(df1['WorkWeekHrs'], bins=cut_bins, labels=cut_labels)"
   ]
  },
  {
   "cell_type": "code",
   "execution_count": 147,
   "id": "63201311",
   "metadata": {},
   "outputs": [
    {
     "data": {
      "text/plain": [
       "30-40    3843\n",
       "40-50    1831\n",
       ">50       603\n",
       "<10       280\n",
       "20-30     272\n",
       "10-20     138\n",
       "Name: WorkWeek_Bins, dtype: int64"
      ]
     },
     "execution_count": 147,
     "metadata": {},
     "output_type": "execute_result"
    }
   ],
   "source": [
    "# check for success\n",
    "df1.WorkWeek_Bins.value_counts()"
   ]
  },
  {
   "cell_type": "code",
   "execution_count": 160,
   "id": "f1f17c5b",
   "metadata": {},
   "outputs": [],
   "source": [
    "df1['WorkWeekHrs_Bins'] = df1['WorkWeek_Bins'].astype('object')"
   ]
  },
  {
   "cell_type": "code",
   "execution_count": 161,
   "id": "3a8f9d4f",
   "metadata": {},
   "outputs": [
    {
     "name": "stdout",
     "output_type": "stream",
     "text": [
      "<class 'pandas.core.frame.DataFrame'>\n",
      "Int64Index: 8679 entries, 0 to 8725\n",
      "Data columns (total 19 columns):\n",
      " #   Column            Non-Null Count  Dtype   \n",
      "---  ------            --------------  -----   \n",
      " 0   MainBranch        8652 non-null   object  \n",
      " 1   ConvertedComp     5785 non-null   float64 \n",
      " 2   Country           8679 non-null   object  \n",
      " 3   EdLevel           8537 non-null   object  \n",
      " 4   Employment        8679 non-null   object  \n",
      " 5   JobFactors        7516 non-null   object  \n",
      " 6   JobSat            8679 non-null   int64   \n",
      " 7   EdImpt            8165 non-null   object  \n",
      " 8   Learn             7938 non-null   object  \n",
      " 9   Overtime          7393 non-null   object  \n",
      " 10  OpSys             8081 non-null   object  \n",
      " 11  OrgSize           7562 non-null   object  \n",
      " 12  UndergradMajor    8015 non-null   object  \n",
      " 13  WorkWeekHrs       6967 non-null   float64 \n",
      " 14  ImputedComp       8679 non-null   float64 \n",
      " 15  Comp_Bins         8679 non-null   category\n",
      " 16  WorkWeek_Bins     6967 non-null   category\n",
      " 17  B                 6967 non-null   object  \n",
      " 18  WorkWeekHrs_Bins  6967 non-null   object  \n",
      "dtypes: category(2), float64(3), int64(1), object(13)\n",
      "memory usage: 1.2+ MB\n"
     ]
    }
   ],
   "source": [
    "df1.info()"
   ]
  },
  {
   "cell_type": "code",
   "execution_count": 163,
   "id": "68c9ce1e",
   "metadata": {},
   "outputs": [],
   "source": [
    "df1['WorkWeekHrs_Bins'] = df1['WorkWeekHrs_Bins'].fillna(\"unknown\")"
   ]
  },
  {
   "cell_type": "code",
   "execution_count": 164,
   "id": "099f3d39",
   "metadata": {},
   "outputs": [
    {
     "data": {
      "text/plain": [
       "30-40      3843\n",
       "40-50      1831\n",
       "unknown    1712\n",
       ">50         603\n",
       "<10         280\n",
       "20-30       272\n",
       "10-20       138\n",
       "Name: WorkWeekHrs_Bins, dtype: int64"
      ]
     },
     "execution_count": 164,
     "metadata": {},
     "output_type": "execute_result"
    }
   ],
   "source": [
    "# fill NaN in a specific column\n",
    "df1.WorkWeekHrs_Bins.value_counts()"
   ]
  },
  {
   "cell_type": "markdown",
   "id": "aaae0199",
   "metadata": {},
   "source": [
    "## Transform categorical data "
   ]
  },
  {
   "cell_type": "code",
   "execution_count": 82,
   "id": "f6a0caa8",
   "metadata": {},
   "outputs": [],
   "source": [
    "# create a list of categorical features\n",
    "cat_cols = df.select_dtypes(include=['object']).copy().columns\n",
    "non_cat = ['ConvertedComp', 'WorkWeekHrs']"
   ]
  },
  {
   "cell_type": "code",
   "execution_count": 83,
   "id": "7a4c1627",
   "metadata": {},
   "outputs": [],
   "source": [
    "# encode the categorical variablesas dummy, drop the first column for each feature\n",
    "df = pd.get_dummies(df, columns=cat_cols, drop_first=True)"
   ]
  },
  {
   "cell_type": "code",
   "execution_count": 84,
   "id": "733823e0",
   "metadata": {},
   "outputs": [
    {
     "data": {
      "text/plain": [
       "(8722, 419)"
      ]
     },
     "execution_count": 84,
     "metadata": {},
     "output_type": "execute_result"
    }
   ],
   "source": [
    "df.shape\n"
   ]
  },
  {
   "cell_type": "code",
   "execution_count": 85,
   "id": "0b3fc7a6",
   "metadata": {},
   "outputs": [
    {
     "data": {
      "text/plain": [
       "Index(['ConvertedComp', 'WorkWeekHrs',\n",
       "       'MainBranch_I am a student who is learning to code',\n",
       "       'MainBranch_I am not primarily a developer, but I write code sometimes as part of my work',\n",
       "       'MainBranch_I code primarily as a hobby',\n",
       "       'MainBranch_I used to be a developer by profession, but no longer am',\n",
       "       'Country_Albania', 'Country_Algeria', 'Country_Andorra',\n",
       "       'Country_Argentina',\n",
       "       ...\n",
       "       'UndergradMajor_A humanities discipline (such as literature, history, philosophy, etc.)',\n",
       "       'UndergradMajor_A natural science (such as biology, chemistry, physics, etc.)',\n",
       "       'UndergradMajor_A social science (such as anthropology, psychology, political science, etc.)',\n",
       "       'UndergradMajor_Another engineering discipline (such as civil, electrical, mechanical, etc.)',\n",
       "       'UndergradMajor_Computer science, computer engineering, or software engineering',\n",
       "       'UndergradMajor_Fine arts or performing arts (such as graphic design, music, studio art, etc.)',\n",
       "       'UndergradMajor_I never declared a major',\n",
       "       'UndergradMajor_Information systems, information technology, or system administration',\n",
       "       'UndergradMajor_Mathematics or statistics',\n",
       "       'UndergradMajor_Web development or web design'],\n",
       "      dtype='object', length=419)"
      ]
     },
     "execution_count": 85,
     "metadata": {},
     "output_type": "execute_result"
    }
   ],
   "source": [
    "df.columns"
   ]
  },
  {
   "cell_type": "code",
   "execution_count": 86,
   "id": "3a1df46e",
   "metadata": {},
   "outputs": [
    {
     "ename": "ModuleNotFoundError",
     "evalue": "No module named 'janitor'",
     "output_type": "error",
     "traceback": [
      "\u001b[0;31m---------------------------------------------------------------------------\u001b[0m",
      "\u001b[0;31mModuleNotFoundError\u001b[0m                       Traceback (most recent call last)",
      "\u001b[0;32m<ipython-input-86-c6d3c28ddec6>\u001b[0m in \u001b[0;36m<module>\u001b[0;34m\u001b[0m\n\u001b[0;32m----> 1\u001b[0;31m \u001b[0;32mimport\u001b[0m \u001b[0mjanitor\u001b[0m \u001b[0;32mas\u001b[0m \u001b[0mjn\u001b[0m\u001b[0;34m\u001b[0m\u001b[0;34m\u001b[0m\u001b[0m\n\u001b[0m\u001b[1;32m      2\u001b[0m \u001b[0mX\u001b[0m\u001b[0;34m,\u001b[0m \u001b[0my\u001b[0m \u001b[0;34m=\u001b[0m \u001b[0mjn\u001b[0m\u001b[0;34m.\u001b[0m\u001b[0mget_features_targets\u001b[0m\u001b[0;34m(\u001b[0m\u001b[0mdf\u001b[0m\u001b[0;34m,\u001b[0m \u001b[0mtarget_columns\u001b[0m\u001b[0;34m=\u001b[0m\u001b[0;34m'JobSat'\u001b[0m\u001b[0;34m)\u001b[0m\u001b[0;34m\u001b[0m\u001b[0;34m\u001b[0m\u001b[0m\n",
      "\u001b[0;31mModuleNotFoundError\u001b[0m: No module named 'janitor'"
     ]
    }
   ],
   "source": [
    "import janitor as jn\n",
    "X, y = jn.get_features_targets(df, target_columns='JobSat')"
   ]
  },
  {
   "cell_type": "markdown",
   "id": "f01b694d",
   "metadata": {},
   "source": [
    "## Create a training set and a test set"
   ]
  },
  {
   "cell_type": "code",
   "execution_count": null,
   "id": "b3ba38b0",
   "metadata": {},
   "outputs": [],
   "source": [
    "# create the "
   ]
  },
  {
   "cell_type": "markdown",
   "id": "d1028dd5",
   "metadata": {},
   "source": [
    "### Comments: dropping columns\n",
    "\n",
    "I will build a classification model to predict the level of job satisfaction a developer has. Several of the columns have very high cardinality, and also there are a few redundant columns which can be dropped at this point. Here is a list of columns we can drop:"
   ]
  },
  {
   "cell_type": "markdown",
   "id": "0036af32",
   "metadata": {},
   "source": [
    "### Clean Data\n",
    "\n",
    "Some preliminary processing was already performed on the data. "
   ]
  }
 ],
 "metadata": {
  "kernelspec": {
   "display_name": "Python 3",
   "language": "python",
   "name": "python3"
  },
  "language_info": {
   "codemirror_mode": {
    "name": "ipython",
    "version": 3
   },
   "file_extension": ".py",
   "mimetype": "text/x-python",
   "name": "python",
   "nbconvert_exporter": "python",
   "pygments_lexer": "ipython3",
   "version": "3.7.6"
  },
  "toc": {
   "base_numbering": 1,
   "nav_menu": {},
   "number_sections": true,
   "sideBar": true,
   "skip_h1_title": false,
   "title_cell": "Table of Contents",
   "title_sidebar": "Contents",
   "toc_cell": false,
   "toc_position": {},
   "toc_section_display": true,
   "toc_window_display": false
  }
 },
 "nbformat": 4,
 "nbformat_minor": 5
}
