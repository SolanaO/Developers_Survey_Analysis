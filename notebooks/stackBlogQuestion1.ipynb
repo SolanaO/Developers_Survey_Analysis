{
 "cells": [
  {
   "cell_type": "markdown",
   "metadata": {},
   "source": [
    "# Analysis of StackOverflowSurvey. Part 1\n",
    "\n",
    "In this notebook we investigate our first question, using exploratory data analysis:\n",
    "\n",
    "**Do data coders have more formal educational background than the other coders?**"
   ]
  },
  {
   "cell_type": "markdown",
   "metadata": {},
   "source": [
    "### Import libraries and modules"
   ]
  },
  {
   "cell_type": "code",
   "execution_count": null,
   "metadata": {},
   "outputs": [],
   "source": [
    "# general packages and libraries\n",
    "import os\n",
    "import sys\n",
    "from collections import defaultdict\n",
    "import importlib\n",
    "\n",
    "# data manipulation packages\n",
    "import numpy as np\n",
    "import pandas as pd\n",
    "from scipy import stats\n",
    "\n",
    "# data visualizations packages\n",
    "import matplotlib.pyplot as plt\n",
    "# to render plots in the notebook\n",
    "%matplotlib inline\n",
    "\n",
    "import seaborn as sns\n",
    "# set a theme for seaborn\n",
    "sns.set_theme()"
   ]
  },
  {
   "cell_type": "code",
   "execution_count": null,
   "metadata": {},
   "outputs": [],
   "source": [
    "# create a string for the working directory\n",
    "mypath = '/home/silvia/Documents/udacityND/ml_dsnd/proj1_dsnd/'\n",
    "\n",
    "# add src folder to sys.path to use the local modules\n",
    "sys.path.insert(1, mypath + 'src')"
   ]
  },
  {
   "cell_type": "code",
   "execution_count": null,
   "metadata": {},
   "outputs": [],
   "source": [
    "# import local module containing the neccessary functions\n",
    "import utils_functions as uf\n",
    "\n",
    "# forces the interpreter to re-import the module\n",
    "import importlib\n",
    "importlib.reload(uf);"
   ]
  },
  {
   "cell_type": "code",
   "execution_count": null,
   "metadata": {},
   "outputs": [],
   "source": [
    "# option to display the full text of the string columns\n",
    "pd.set_option('display.max_colwidth', None)"
   ]
  },
  {
   "cell_type": "markdown",
   "metadata": {},
   "source": [
    "### Upload the data"
   ]
  },
  {
   "cell_type": "code",
   "execution_count": null,
   "metadata": {},
   "outputs": [],
   "source": [
    "# upload the datafiles as pandas dataframes\n",
    "df1 = pd.read_csv(mypath+'data/interim/survey20_updated.csv', index_col=[0])\n",
    "dfs = pd.read_csv(mypath+'data/raw/survey20_results_schema.csv')"
   ]
  },
  {
   "cell_type": "markdown",
   "metadata": {},
   "source": [
    "## The data coders\n",
    "\n",
    "Look at the subset of developers who checked at least one of the options of working with big data. These options are:\n",
    "\n",
    " - Data scientist or machine learning specialist  \n",
    " - Data or business analyst  \n",
    " - Engineer, data."
   ]
  },
  {
   "cell_type": "code",
   "execution_count": null,
   "metadata": {},
   "outputs": [],
   "source": [
    "# the subset of developers that checked at least one data related profession\n",
    "data_coders = df1[df1[\"DevClass\"] == 'data_coder']\n",
    "data_coders.shape"
   ]
  },
  {
   "cell_type": "code",
   "execution_count": null,
   "metadata": {},
   "outputs": [],
   "source": [
    "# the percentage of data coders among all respondents\n",
    "data_coders.shape[0]/df1.shape[0] * 100"
   ]
  },
  {
   "cell_type": "code",
   "execution_count": null,
   "metadata": {},
   "outputs": [],
   "source": [
    "# the developers that did not check any data related professions\n",
    "other_coders = df1[df1[\"DevClass\"] == 'other_coder']\n",
    "other_coders.shape"
   ]
  },
  {
   "cell_type": "markdown",
   "metadata": {},
   "source": [
    "## Education related information\n",
    "I will address now the questions I am interested in: \n",
    "> Do data developers have more formal educational background than the other developers? In particular, are there more data coders that major in math or stats than other developers? How is the education level related to job satisfaction and compensation? \n",
    "\n",
    "The information regarding the education can be extracted from the columns `EdLevel`, `NewEdImpt`, `UndergradMajor`. I am also interested in how these options relate to salary and job satisfaction, i.e. the columns `ConvertedComp` and `JobSat`."
   ]
  },
  {
   "cell_type": "markdown",
   "metadata": {},
   "source": [
    "## Formal education and the two classes of developers"
   ]
  },
  {
   "cell_type": "markdown",
   "metadata": {},
   "source": [
    "### The education levels of data coders compared with the other coders"
   ]
  },
  {
   "cell_type": "code",
   "execution_count": null,
   "metadata": {},
   "outputs": [],
   "source": [
    "# get the question about education level\n",
    "dfs[dfs.Column == 'EdLevel']['QuestionText']"
   ]
  },
  {
   "cell_type": "code",
   "execution_count": null,
   "metadata": {},
   "outputs": [],
   "source": [
    "# create a dataframe with percentages (computed out of data_coders or other_coders)\n",
    "EdLevel_perc = uf.groupby_to_df(df1, 'DevClass', 'EdLevel', True)\n",
    "# check the outcome\n",
    "EdLevel_perc"
   ]
  },
  {
   "cell_type": "code",
   "execution_count": null,
   "metadata": {},
   "outputs": [],
   "source": [
    "# plot the heatmap\n",
    "sns.heatmap(EdLevel_perc.round(4)*100, cmap='Blues', annot = True);\n",
    "\n",
    "# set labels, title, xticks properties\n",
    "plt.xlabel('Developer Class', size=10)\n",
    "plt.ylabel('Education Level', size=10)\n",
    "plt.title('Education Level Perecentages for Data and Other Coders', size=10)\n",
    "plt.xticks(size=10);\n",
    "\n",
    "# save the plot to a file\n",
    "plt.savefig(mypath + 'reports/images/edLevel_heatmap.png', \n",
    "            bbox_inches='tight', pad_inches=0.3)\n"
   ]
  },
  {
   "cell_type": "markdown",
   "metadata": {},
   "source": [
    "#### Comments on education levels:\n",
    "We observe from this heat map, that the percentages of data coders with higher education degrees (Master, Doctoral or Professional) are higher than the corresponding percentages for the other developers, in particular Master and Other Doctoral degrees. Specifically, about 42% of data coders have a higher education degree, compared to only 24.5 % for the other coders. Almost half of the other coders have a Bachelor's degree, the corresponding percentage is lower among the data coders. "
   ]
  },
  {
   "cell_type": "markdown",
   "metadata": {},
   "source": [
    "### Are there more data coders with math and stats degrees than other coders?"
   ]
  },
  {
   "cell_type": "code",
   "execution_count": null,
   "metadata": {},
   "outputs": [],
   "source": [
    "# get the question about undergraduate degree\n",
    "dfs[dfs.Column == 'UndergradMajor']['QuestionText']"
   ]
  },
  {
   "cell_type": "code",
   "execution_count": null,
   "metadata": {},
   "outputs": [],
   "source": [
    "# get the curated choices for the field of study\n",
    "df1.UndergradMajor.unique()"
   ]
  },
  {
   "cell_type": "code",
   "execution_count": null,
   "metadata": {},
   "outputs": [],
   "source": [
    "# use groupby() to get the percentage of developers with each major\n",
    "UndergradMajor_perc = df1.groupby('DevClass')['UndergradMajor'].value_counts(normalize=True)\n",
    "UndergradMajor_perc = UndergradMajor_perc.round(4)*100\n",
    "\n",
    "# convert the series into a dataframe object\n",
    "UndergradMajor_perc = UndergradMajor_perc.reset_index(name='perc')"
   ]
  },
  {
   "cell_type": "code",
   "execution_count": null,
   "metadata": {},
   "outputs": [],
   "source": [
    "# set the figure size\n",
    "plt.figure(figsize=(12, 6))\n",
    "\n",
    "# create the plot\n",
    "g=sns.barplot(data=UndergradMajor_perc, x='UndergradMajor',\n",
    "              y='perc', hue='DevClass')\n",
    "\n",
    "# set labels, title, xticks properties\n",
    "plt.xlabel('Undergraduate Major', size=10)\n",
    "plt.ylabel('Undergraduate Major Percentage', size=10)\n",
    "plt.title('Grouped Barplot: Undergraduate Major for Data and Other Coders', size=10)\n",
    "plt.xticks(size=10, rotation = 70);\n",
    "\n",
    "# annotate the bars\n",
    "for p in g.patches:\n",
    "    g.annotate(p.get_height().round(2), \n",
    "                   (p.get_x() + p.get_width() / 2., p.get_height()), \n",
    "                   ha = 'center', va = 'center', \n",
    "                   size=8,\n",
    "                   xytext = (0, 8), \n",
    "                   textcoords = 'offset points')\n",
    "# save the plot to a file\n",
    "plt.savefig(mypath + 'reports/images/undergradMajor_barplot.png', \n",
    "            bbox_inches='tight', pad_inches=.3)"
   ]
  },
  {
   "cell_type": "markdown",
   "metadata": {},
   "source": [
    "#### Comments on undergraduate majors\n",
    "We see from our plot that the percentages of data coders with a mathematics or statistics degree, some engineering degree (other than computer science), or a science degree (both natural and social sciences) are higher than the corresponding values for developers that do not work with big data. However, the largest gap we observe for computer science graduates who form almost 64% of the other coders, compared with 52% for the data coders."
   ]
  },
  {
   "cell_type": "markdown",
   "metadata": {},
   "source": [
    "### Importance attributed to formal education"
   ]
  },
  {
   "cell_type": "code",
   "execution_count": null,
   "metadata": {},
   "outputs": [],
   "source": [
    "# get the question about the importance of formal education\n",
    "dfs[dfs.Column == 'NEWEdImpt']['QuestionText']"
   ]
  },
  {
   "cell_type": "code",
   "execution_count": null,
   "metadata": {},
   "outputs": [],
   "source": [
    "# get the choices for the education importance question\n",
    "df1.EdImpt.unique()"
   ]
  },
  {
   "cell_type": "code",
   "execution_count": null,
   "metadata": {},
   "outputs": [],
   "source": [
    "# use groupby() to get the percentage of developers with each major\n",
    "EdImpt_perc = df1.groupby('DevClass')['EdImpt'].value_counts(normalize=True)\n",
    "EdImpt_perc = EdImpt_perc.round(4)*100"
   ]
  },
  {
   "cell_type": "code",
   "execution_count": null,
   "metadata": {},
   "outputs": [],
   "source": [
    "# convert the series into a dataframe object\n",
    "EdImpt_perc = EdImpt_perc.reset_index(name='perc')\n",
    "EdImpt_perc "
   ]
  },
  {
   "cell_type": "code",
   "execution_count": null,
   "metadata": {
    "scrolled": true
   },
   "outputs": [],
   "source": [
    "# set the figure size\n",
    "plt.figure(figsize=(12, 6))\n",
    "\n",
    "# create order for the bars \n",
    "opinions = ['Critically important', 'Very important', 'Fairly important', \n",
    "            'Somewhat important', 'Not important']\n",
    "\n",
    "# create the plot\n",
    "g=sns.barplot(data=EdImpt_perc, x='EdImpt', y='perc', hue='DevClass',\n",
    "             order = opinions)\n",
    "\n",
    "# set labels, title, xticks properties\n",
    "plt.xlabel('Education Importance', size=10)\n",
    "plt.ylabel('Education Importance Percentages', size=10)\n",
    "plt.title('Opinion about Education Importance for Data and Other Coders', size=10)\n",
    "plt.xticks(size=10, rotation = 0);\n",
    "\n",
    "# annotate the bars\n",
    "for p in g.patches:\n",
    "    g.annotate(p.get_height().round(2), \n",
    "                   (p.get_x() + p.get_width() / 2., p.get_height()), \n",
    "                   ha = 'center', va = 'center', \n",
    "                   size=8,\n",
    "                   xytext = (0, 8), \n",
    "                   textcoords = 'offset points')"
   ]
  },
  {
   "cell_type": "markdown",
   "metadata": {},
   "source": [
    "#### Comments on the importance of formal education:\n",
    "There are higher percentages of data coders who considers a formal education critically or very important to their careers. On the other side, the other coders see a formal education only fairly important. "
   ]
  }
 ],
 "metadata": {
  "kernelspec": {
   "display_name": "Python 3 (ipykernel)",
   "language": "python",
   "name": "python3"
  },
  "language_info": {
   "codemirror_mode": {
    "name": "ipython",
    "version": 3
   },
   "file_extension": ".py",
   "mimetype": "text/x-python",
   "name": "python",
   "nbconvert_exporter": "python",
   "pygments_lexer": "ipython3",
   "version": "3.7.11"
  },
  "toc": {
   "base_numbering": 1,
   "nav_menu": {},
   "number_sections": true,
   "sideBar": true,
   "skip_h1_title": false,
   "title_cell": "Table of Contents",
   "title_sidebar": "Contents",
   "toc_cell": false,
   "toc_position": {},
   "toc_section_display": true,
   "toc_window_display": false
  }
 },
 "nbformat": 4,
 "nbformat_minor": 4
}
