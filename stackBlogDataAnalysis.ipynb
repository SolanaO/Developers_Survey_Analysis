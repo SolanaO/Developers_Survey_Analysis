{
 "cells": [
  {
   "cell_type": "markdown",
   "metadata": {},
   "source": [
    "# Analysis of StackOverflow Survey. Part I"
   ]
  },
  {
   "cell_type": "code",
   "execution_count": 1,
   "metadata": {},
   "outputs": [],
   "source": [
    "# import neccessary packages and libraries\n",
    "import os\n",
    "from collections import defaultdict\n",
    "\n",
    "import numpy as np\n",
    "import pandas as pd\n",
    "\n",
    "import matplotlib.pyplot as plt\n",
    "# to render plots in the notebook\n",
    "%matplotlib inline\n",
    "\n",
    "import seaborn as sns\n",
    "# set a theme for seaborn\n",
    "sns.set_theme()\n",
    "\n",
    "from sklearn.linear_model import LinearRegression\n",
    "\n",
    "from sklearn import (\n",
    "    ensemble,\n",
    "    preprocessing,\n",
    "    tree,\n",
    ")\n",
    "from sklearn.model_selection import (\n",
    "    train_test_split,\n",
    "    StratifiedKFold,\n",
    ")\n",
    "from sklearn.metrics import (\n",
    "    r2_score, \n",
    "    mean_squared_error,\n",
    "    auc,\n",
    "    confusion_matrix,\n",
    "    roc_auc_score,\n",
    "    roc_curve,\n",
    ")"
   ]
  },
  {
   "cell_type": "code",
   "execution_count": 2,
   "metadata": {},
   "outputs": [],
   "source": [
    "# import local module containing the neccessary functions\n",
    "import utils_functions as uf\n",
    "\n",
    "# forces the interpreter to re-import the module\n",
    "import importlib\n",
    "importlib.reload(uf);"
   ]
  },
  {
   "cell_type": "markdown",
   "metadata": {},
   "source": [
    "## Ask Questions\n",
    "\n",
    "The well known questions and answers website Stack Overflow has been conducted annual surveys for a decade now.  These are the largest and the most comprehensive surveys of coders ever conducted. The anonymized results of the surveys are publicly available for analysis at [Stack Overflow Anual Developer Survey](https://insights.stackoverflow.com/survey).\n",
    "\n",
    "The 2020 Stack Overflow Survey was conducted in February 2020, just before the COVID-19 pandemic affected the entire world. The survey consists of 60 questions distributed over six sections:\n",
    "\n",
    "1. Basic Information\n",
    "2. Education, Work, Career\n",
    "3. Technology and Tech Culture\n",
    "4. Stack Overflow Usage + Community\n",
    "5. Demographic Information\n",
    "6. Survey Opinion and Final Questions\n",
    "\n",
    "The survey had 64461 (almost 65k) responses from 184 countries and regions.\n",
    "\n",
    "I am interested in learning more about those developers who work with big data, such as data scientists, machine learning engineers, data and business analysts and data engineers. I call them data coders for short. In this analysis I will answer the following questions:\n",
    "\n",
    "1. Do data coders have more formal educational background than the other coders? \n",
    "2. How does the salary of data coders compare with the salary of the other coders? \n",
    "3. Predict the job satisfaction of a data coder and determine the key factors affecting it."
   ]
  },
  {
   "cell_type": "markdown",
   "metadata": {},
   "source": [
    "## Gather Data and Check the Uploads\n",
    "\n",
    "There are two csv files:\n",
    " - `results_public.csv` contains the survey results;\n",
    " - `results_schema.csv` contains the list of columns in the first file, together with their associated questions. "
   ]
  },
  {
   "cell_type": "code",
   "execution_count": 3,
   "metadata": {},
   "outputs": [],
   "source": [
    "# create a path string\n",
    "mypath = os.getcwd()\n",
    "\n",
    "# upload the datafiles as pandas dataframes\n",
    "df = pd.read_csv(mypath+'/data/survey20_results_public.csv')\n",
    "dfs = pd.read_csv(mypath+'/data/survey20_results_schema.csv')"
   ]
  },
  {
   "cell_type": "code",
   "execution_count": 4,
   "metadata": {},
   "outputs": [],
   "source": [
    "# option to display the full text of the string columns\n",
    "pd.set_option('display.max_colwidth', None)"
   ]
  },
  {
   "cell_type": "code",
   "execution_count": 5,
   "metadata": {
    "scrolled": true
   },
   "outputs": [
    {
     "data": {
      "text/html": [
       "<div>\n",
       "<style scoped>\n",
       "    .dataframe tbody tr th:only-of-type {\n",
       "        vertical-align: middle;\n",
       "    }\n",
       "\n",
       "    .dataframe tbody tr th {\n",
       "        vertical-align: top;\n",
       "    }\n",
       "\n",
       "    .dataframe thead th {\n",
       "        text-align: right;\n",
       "    }\n",
       "</style>\n",
       "<table border=\"1\" class=\"dataframe\">\n",
       "  <thead>\n",
       "    <tr style=\"text-align: right;\">\n",
       "      <th></th>\n",
       "      <th>Respondent</th>\n",
       "      <th>MainBranch</th>\n",
       "      <th>Hobbyist</th>\n",
       "      <th>Age</th>\n",
       "      <th>Age1stCode</th>\n",
       "      <th>CompFreq</th>\n",
       "      <th>CompTotal</th>\n",
       "      <th>ConvertedComp</th>\n",
       "      <th>Country</th>\n",
       "      <th>CurrencyDesc</th>\n",
       "      <th>...</th>\n",
       "      <th>SurveyEase</th>\n",
       "      <th>SurveyLength</th>\n",
       "      <th>Trans</th>\n",
       "      <th>UndergradMajor</th>\n",
       "      <th>WebframeDesireNextYear</th>\n",
       "      <th>WebframeWorkedWith</th>\n",
       "      <th>WelcomeChange</th>\n",
       "      <th>WorkWeekHrs</th>\n",
       "      <th>YearsCode</th>\n",
       "      <th>YearsCodePro</th>\n",
       "    </tr>\n",
       "  </thead>\n",
       "  <tbody>\n",
       "    <tr>\n",
       "      <th>0</th>\n",
       "      <td>1</td>\n",
       "      <td>I am a developer by profession</td>\n",
       "      <td>Yes</td>\n",
       "      <td>NaN</td>\n",
       "      <td>13</td>\n",
       "      <td>Monthly</td>\n",
       "      <td>NaN</td>\n",
       "      <td>NaN</td>\n",
       "      <td>Germany</td>\n",
       "      <td>European Euro</td>\n",
       "      <td>...</td>\n",
       "      <td>Neither easy nor difficult</td>\n",
       "      <td>Appropriate in length</td>\n",
       "      <td>No</td>\n",
       "      <td>Computer science, computer engineering, or software engineering</td>\n",
       "      <td>ASP.NET Core</td>\n",
       "      <td>ASP.NET;ASP.NET Core</td>\n",
       "      <td>Just as welcome now as I felt last year</td>\n",
       "      <td>50.0</td>\n",
       "      <td>36</td>\n",
       "      <td>27</td>\n",
       "    </tr>\n",
       "    <tr>\n",
       "      <th>1</th>\n",
       "      <td>2</td>\n",
       "      <td>I am a developer by profession</td>\n",
       "      <td>No</td>\n",
       "      <td>NaN</td>\n",
       "      <td>19</td>\n",
       "      <td>NaN</td>\n",
       "      <td>NaN</td>\n",
       "      <td>NaN</td>\n",
       "      <td>United Kingdom</td>\n",
       "      <td>Pound sterling</td>\n",
       "      <td>...</td>\n",
       "      <td>NaN</td>\n",
       "      <td>NaN</td>\n",
       "      <td>NaN</td>\n",
       "      <td>Computer science, computer engineering, or software engineering</td>\n",
       "      <td>NaN</td>\n",
       "      <td>NaN</td>\n",
       "      <td>Somewhat more welcome now than last year</td>\n",
       "      <td>NaN</td>\n",
       "      <td>7</td>\n",
       "      <td>4</td>\n",
       "    </tr>\n",
       "  </tbody>\n",
       "</table>\n",
       "<p>2 rows × 61 columns</p>\n",
       "</div>"
      ],
      "text/plain": [
       "   Respondent                      MainBranch Hobbyist  Age Age1stCode  \\\n",
       "0           1  I am a developer by profession      Yes  NaN         13   \n",
       "1           2  I am a developer by profession       No  NaN         19   \n",
       "\n",
       "  CompFreq  CompTotal  ConvertedComp         Country    CurrencyDesc  ...  \\\n",
       "0  Monthly        NaN            NaN         Germany   European Euro  ...   \n",
       "1      NaN        NaN            NaN  United Kingdom  Pound sterling  ...   \n",
       "\n",
       "                   SurveyEase           SurveyLength Trans  \\\n",
       "0  Neither easy nor difficult  Appropriate in length    No   \n",
       "1                         NaN                    NaN   NaN   \n",
       "\n",
       "                                                    UndergradMajor  \\\n",
       "0  Computer science, computer engineering, or software engineering   \n",
       "1  Computer science, computer engineering, or software engineering   \n",
       "\n",
       "  WebframeDesireNextYear    WebframeWorkedWith  \\\n",
       "0           ASP.NET Core  ASP.NET;ASP.NET Core   \n",
       "1                    NaN                   NaN   \n",
       "\n",
       "                              WelcomeChange WorkWeekHrs YearsCode YearsCodePro  \n",
       "0   Just as welcome now as I felt last year        50.0        36           27  \n",
       "1  Somewhat more welcome now than last year         NaN         7            4  \n",
       "\n",
       "[2 rows x 61 columns]"
      ]
     },
     "execution_count": 5,
     "metadata": {},
     "output_type": "execute_result"
    }
   ],
   "source": [
    "# peek at the survey file\n",
    "df.head(2)"
   ]
  },
  {
   "cell_type": "code",
   "execution_count": 6,
   "metadata": {},
   "outputs": [
    {
     "data": {
      "text/html": [
       "<div>\n",
       "<style scoped>\n",
       "    .dataframe tbody tr th:only-of-type {\n",
       "        vertical-align: middle;\n",
       "    }\n",
       "\n",
       "    .dataframe tbody tr th {\n",
       "        vertical-align: top;\n",
       "    }\n",
       "\n",
       "    .dataframe thead th {\n",
       "        text-align: right;\n",
       "    }\n",
       "</style>\n",
       "<table border=\"1\" class=\"dataframe\">\n",
       "  <thead>\n",
       "    <tr style=\"text-align: right;\">\n",
       "      <th></th>\n",
       "      <th>Column</th>\n",
       "      <th>QuestionText</th>\n",
       "    </tr>\n",
       "  </thead>\n",
       "  <tbody>\n",
       "    <tr>\n",
       "      <th>0</th>\n",
       "      <td>Respondent</td>\n",
       "      <td>Randomized respondent ID number (not in order of survey response time)</td>\n",
       "    </tr>\n",
       "    <tr>\n",
       "      <th>1</th>\n",
       "      <td>MainBranch</td>\n",
       "      <td>Which of the following options best describes you today? Here, by \"developer\" we mean \"someone who writes code.\"</td>\n",
       "    </tr>\n",
       "    <tr>\n",
       "      <th>2</th>\n",
       "      <td>Hobbyist</td>\n",
       "      <td>Do you code as a hobby?</td>\n",
       "    </tr>\n",
       "    <tr>\n",
       "      <th>3</th>\n",
       "      <td>Age</td>\n",
       "      <td>What is your age (in years)? If you prefer not to answer, you may leave this question blank.</td>\n",
       "    </tr>\n",
       "    <tr>\n",
       "      <th>4</th>\n",
       "      <td>Age1stCode</td>\n",
       "      <td>At what age did you write your first line of code or program? (e.g., webpage, Hello World, Scratch project)</td>\n",
       "    </tr>\n",
       "  </tbody>\n",
       "</table>\n",
       "</div>"
      ],
      "text/plain": [
       "       Column  \\\n",
       "0  Respondent   \n",
       "1  MainBranch   \n",
       "2    Hobbyist   \n",
       "3         Age   \n",
       "4  Age1stCode   \n",
       "\n",
       "                                                                                                       QuestionText  \n",
       "0                                            Randomized respondent ID number (not in order of survey response time)  \n",
       "1  Which of the following options best describes you today? Here, by \"developer\" we mean \"someone who writes code.\"  \n",
       "2                                                                                           Do you code as a hobby?  \n",
       "3                      What is your age (in years)? If you prefer not to answer, you may leave this question blank.  \n",
       "4       At what age did you write your first line of code or program? (e.g., webpage, Hello World, Scratch project)  "
      ]
     },
     "execution_count": 6,
     "metadata": {},
     "output_type": "execute_result"
    }
   ],
   "source": [
    "# peek at the description file\n",
    "dfs.head()"
   ]
  },
  {
   "cell_type": "markdown",
   "metadata": {},
   "source": [
    "## Investigate the Data"
   ]
  },
  {
   "cell_type": "code",
   "execution_count": 7,
   "metadata": {},
   "outputs": [
    {
     "data": {
      "text/plain": [
       "(64461, 61)"
      ]
     },
     "execution_count": 7,
     "metadata": {},
     "output_type": "execute_result"
    }
   ],
   "source": [
    "# get the shape of the data\n",
    "df.shape"
   ]
  },
  {
   "cell_type": "code",
   "execution_count": 8,
   "metadata": {},
   "outputs": [],
   "source": [
    "# save the column names as a list for later investigation if needed\n",
    "cols = list(dfs.Column.unique())\n",
    "# print(cols)"
   ]
  },
  {
   "cell_type": "code",
   "execution_count": 9,
   "metadata": {},
   "outputs": [],
   "source": [
    "# general data information including the non-null values\n",
    "#df.info();"
   ]
  },
  {
   "cell_type": "code",
   "execution_count": 10,
   "metadata": {},
   "outputs": [],
   "source": [
    "# get the number of NaN values in each column\n",
    "df_null = df.isnull().sum()\n",
    "#df_null"
   ]
  },
  {
   "cell_type": "code",
   "execution_count": 11,
   "metadata": {},
   "outputs": [
    {
     "data": {
      "text/plain": [
       "{'Respondent'}"
      ]
     },
     "execution_count": 11,
     "metadata": {},
     "output_type": "execute_result"
    }
   ],
   "source": [
    "# the columns with no missing data\n",
    "no_null = set(df.columns[np.sum(df.isnull()) == 0]) \n",
    "no_null"
   ]
  },
  {
   "cell_type": "code",
   "execution_count": 12,
   "metadata": {},
   "outputs": [
    {
     "data": {
      "text/plain": [
       "Index([], dtype='object')"
      ]
     },
     "execution_count": 12,
     "metadata": {},
     "output_type": "execute_result"
    }
   ],
   "source": [
    "# there are no columns with more than 50% values missing\n",
    "most_missing_cols = df.columns[df.isnull().mean() > 0.50]\n",
    "most_missing_cols"
   ]
  },
  {
   "cell_type": "code",
   "execution_count": 13,
   "metadata": {},
   "outputs": [
    {
     "data": {
      "text/plain": [
       "ConvertedComp             0.461\n",
       "CompTotal                 0.460\n",
       "NEWPurchaseResearch       0.421\n",
       "PurchaseWhat              0.389\n",
       "WebframeDesireNextYear    0.379\n",
       "                          ...  \n",
       "Employment                0.009\n",
       "Country                   0.006\n",
       "MainBranch                0.005\n",
       "Hobbyist                  0.001\n",
       "Respondent                0.000\n",
       "Length: 61, dtype: float64"
      ]
     },
     "execution_count": 13,
     "metadata": {},
     "output_type": "execute_result"
    }
   ],
   "source": [
    "# most missing values, in descending order, written as percentages\n",
    "df.isnull().mean().sort_values(ascending=False).round(3)"
   ]
  },
  {
   "cell_type": "code",
   "execution_count": 14,
   "metadata": {},
   "outputs": [],
   "source": [
    "# columns with more than 30% of the values missing\n",
    "most_missing_vals = df.columns[df.isnull().mean() > 0.30]\n",
    "#print(most_missing_vals)"
   ]
  },
  {
   "cell_type": "code",
   "execution_count": 15,
   "metadata": {},
   "outputs": [
    {
     "data": {
      "text/html": [
       "<div>\n",
       "<style scoped>\n",
       "    .dataframe tbody tr th:only-of-type {\n",
       "        vertical-align: middle;\n",
       "    }\n",
       "\n",
       "    .dataframe tbody tr th {\n",
       "        vertical-align: top;\n",
       "    }\n",
       "\n",
       "    .dataframe thead th {\n",
       "        text-align: right;\n",
       "    }\n",
       "</style>\n",
       "<table border=\"1\" class=\"dataframe\">\n",
       "  <thead>\n",
       "    <tr style=\"text-align: right;\">\n",
       "      <th></th>\n",
       "      <th>Respondent</th>\n",
       "      <th>Age</th>\n",
       "      <th>CompTotal</th>\n",
       "      <th>ConvertedComp</th>\n",
       "      <th>WorkWeekHrs</th>\n",
       "    </tr>\n",
       "  </thead>\n",
       "  <tbody>\n",
       "    <tr>\n",
       "      <th>count</th>\n",
       "      <td>64461.00</td>\n",
       "      <td>45446.00</td>\n",
       "      <td>3.482600e+04</td>\n",
       "      <td>34756.00</td>\n",
       "      <td>41151.00</td>\n",
       "    </tr>\n",
       "    <tr>\n",
       "      <th>mean</th>\n",
       "      <td>32554.08</td>\n",
       "      <td>30.83</td>\n",
       "      <td>3.190464e+242</td>\n",
       "      <td>103756.05</td>\n",
       "      <td>40.78</td>\n",
       "    </tr>\n",
       "    <tr>\n",
       "      <th>std</th>\n",
       "      <td>18967.44</td>\n",
       "      <td>9.59</td>\n",
       "      <td>inf</td>\n",
       "      <td>226885.30</td>\n",
       "      <td>17.82</td>\n",
       "    </tr>\n",
       "    <tr>\n",
       "      <th>min</th>\n",
       "      <td>1.00</td>\n",
       "      <td>1.00</td>\n",
       "      <td>0.000000e+00</td>\n",
       "      <td>0.00</td>\n",
       "      <td>1.00</td>\n",
       "    </tr>\n",
       "    <tr>\n",
       "      <th>25%</th>\n",
       "      <td>16116.00</td>\n",
       "      <td>24.00</td>\n",
       "      <td>2.000000e+04</td>\n",
       "      <td>24648.00</td>\n",
       "      <td>40.00</td>\n",
       "    </tr>\n",
       "    <tr>\n",
       "      <th>50%</th>\n",
       "      <td>32231.00</td>\n",
       "      <td>29.00</td>\n",
       "      <td>6.300000e+04</td>\n",
       "      <td>54049.00</td>\n",
       "      <td>40.00</td>\n",
       "    </tr>\n",
       "    <tr>\n",
       "      <th>75%</th>\n",
       "      <td>49142.00</td>\n",
       "      <td>35.00</td>\n",
       "      <td>1.250000e+05</td>\n",
       "      <td>95000.00</td>\n",
       "      <td>44.00</td>\n",
       "    </tr>\n",
       "    <tr>\n",
       "      <th>max</th>\n",
       "      <td>65639.00</td>\n",
       "      <td>279.00</td>\n",
       "      <td>1.111111e+247</td>\n",
       "      <td>2000000.00</td>\n",
       "      <td>475.00</td>\n",
       "    </tr>\n",
       "  </tbody>\n",
       "</table>\n",
       "</div>"
      ],
      "text/plain": [
       "       Respondent       Age      CompTotal  ConvertedComp  WorkWeekHrs\n",
       "count    64461.00  45446.00   3.482600e+04       34756.00     41151.00\n",
       "mean     32554.08     30.83  3.190464e+242      103756.05        40.78\n",
       "std      18967.44      9.59            inf      226885.30        17.82\n",
       "min          1.00      1.00   0.000000e+00           0.00         1.00\n",
       "25%      16116.00     24.00   2.000000e+04       24648.00        40.00\n",
       "50%      32231.00     29.00   6.300000e+04       54049.00        40.00\n",
       "75%      49142.00     35.00   1.250000e+05       95000.00        44.00\n",
       "max      65639.00    279.00  1.111111e+247     2000000.00       475.00"
      ]
     },
     "execution_count": 15,
     "metadata": {},
     "output_type": "execute_result"
    }
   ],
   "source": [
    "# look at the numerical data\n",
    "df.describe().round(2) "
   ]
  },
  {
   "cell_type": "markdown",
   "metadata": {},
   "source": [
    "#### Observations on the numerical data:\n",
    "- the column with most missing values is `ConvertedComp`, almost half of the values are missing;\n",
    "- more than 30% values are missing in the `WorkWeekHours`;\n",
    "- there are outliers in the numerical columns, as we can see from min/max values."
   ]
  },
  {
   "cell_type": "markdown",
   "metadata": {},
   "source": [
    "#### Generate a profiling report \n",
    "The more recent `pandas_profiling` library builds a profile report of the data. It summarizes all the important information regarding the data, including missing data and high cardinality data. Use the minimal mode that disables expensive computations (such as correlations and dynamic binning) to avoid 'maximum allowed size' error."
   ]
  },
  {
   "cell_type": "code",
   "execution_count": 16,
   "metadata": {},
   "outputs": [],
   "source": [
    "# run this once to generate the report and save it as html file\n",
    "\n",
    "# import pandas_profiling\n",
    "# profile = pandas_profiling.ProfileReport(df, minimal=True)\n",
    "# profile.to_file(output_file=\"data_report.html\")"
   ]
  },
  {
   "cell_type": "markdown",
   "metadata": {},
   "source": [
    "## Specific Information from Data\n",
    "\n",
    "### Distribution by country"
   ]
  },
  {
   "cell_type": "code",
   "execution_count": 17,
   "metadata": {},
   "outputs": [
    {
     "data": {
      "text/plain": [
       "184"
      ]
     },
     "execution_count": 17,
     "metadata": {},
     "output_type": "execute_result"
    }
   ],
   "source": [
    "# the number of countries involved\n",
    "len(df.Country.unique())"
   ]
  },
  {
   "cell_type": "code",
   "execution_count": 18,
   "metadata": {},
   "outputs": [
    {
     "data": {
      "text/plain": [
       "United States     12469\n",
       "India              8403\n",
       "United Kingdom     3896\n",
       "Germany            3890\n",
       "Canada             2191\n",
       "Name: Country, dtype: int64"
      ]
     },
     "execution_count": 18,
     "metadata": {},
     "output_type": "execute_result"
    }
   ],
   "source": [
    "# distribution of respondents per country\n",
    "country_counts = df.Country.value_counts()\n",
    "country_counts.head()"
   ]
  },
  {
   "cell_type": "code",
   "execution_count": 19,
   "metadata": {},
   "outputs": [
    {
     "data": {
      "text/plain": [
       "United States       19.460919\n",
       "India               13.114933\n",
       "United Kingdom       6.080659\n",
       "Germany              6.071295\n",
       "Canada               3.419590\n",
       "                      ...    \n",
       "Lesotho              0.001561\n",
       "Marshall Islands     0.001561\n",
       "Saint Lucia          0.001561\n",
       "North Korea          0.001561\n",
       "Grenada              0.001561\n",
       "Name: Country, Length: 183, dtype: float64"
      ]
     },
     "execution_count": 19,
     "metadata": {},
     "output_type": "execute_result"
    }
   ],
   "source": [
    "# distribution of respondents on countries using percentages\n",
    "df.Country.value_counts(normalize=True) * 100"
   ]
  },
  {
   "cell_type": "code",
   "execution_count": 20,
   "metadata": {},
   "outputs": [
    {
     "data": {
      "image/png": "[encoded data removed]",
      "text/plain": [
       "<Figure size 432x288 with 1 Axes>"
      ]
     },
     "metadata": {},
     "output_type": "display_data"
    }
   ],
   "source": [
    "# the most represented countries, with more than 2000 respondents\n",
    "df_most_repres_countries = df[df.Country.map(df.Country.value_counts()) > 1500]\n",
    "\n",
    "# bar chart of the most represented countries\n",
    "sns.countplot(data = df_most_repres_countries, x='Country', color='b');\n",
    "# rotate the xtixks\n",
    "plt.xticks(size=10, rotation = 60);"
   ]
  },
  {
   "cell_type": "code",
   "execution_count": 21,
   "metadata": {},
   "outputs": [
    {
     "data": {
      "text/plain": [
       "53.6215696312499"
      ]
     },
     "execution_count": 21,
     "metadata": {},
     "output_type": "execute_result"
    }
   ],
   "source": [
    "# percentage of most represented countries respondents\n",
    "df_most_repres_countries.shape[0]/df.shape[0] * 100"
   ]
  },
  {
   "cell_type": "code",
   "execution_count": 22,
   "metadata": {},
   "outputs": [
    {
     "data": {
      "text/plain": [
       "114"
      ]
     },
     "execution_count": 22,
     "metadata": {},
     "output_type": "execute_result"
    }
   ],
   "source": [
    "# countries with less than 100 respondents\n",
    "least_represented_countries = country_counts[country_counts < 100]\n",
    "len(least_represented_countries)"
   ]
  },
  {
   "cell_type": "markdown",
   "metadata": {},
   "source": [
    "#### Observations on countries distribution of respondents:\n",
    "- there are 184 countries and territories,\n",
    "- 53% of the respondents come from 7 countries with more than 15k respondents per country,\n",
    "- the countries with largest number of respondents are US (almost 20%) and India (13%),\n",
    "- more than 100 (114 to be precise) have fewer than 100 respondents."
   ]
  },
  {
   "cell_type": "markdown",
   "metadata": {},
   "source": [
    "### Distribution of respondents by gender"
   ]
  },
  {
   "cell_type": "code",
   "execution_count": 23,
   "metadata": {},
   "outputs": [
    {
     "data": {
      "text/plain": [
       "Man                                                            46013\n",
       "Woman                                                           3844\n",
       "Non-binary, genderqueer, or gender non-conforming                385\n",
       "Man;Non-binary, genderqueer, or gender non-conforming            121\n",
       "Woman;Non-binary, genderqueer, or gender non-conforming           92\n",
       "Woman;Man                                                         76\n",
       "Woman;Man;Non-binary, genderqueer, or gender non-conforming       26\n",
       "Name: Gender, dtype: int64"
      ]
     },
     "execution_count": 23,
     "metadata": {},
     "output_type": "execute_result"
    }
   ],
   "source": [
    "# distribution by gender in counts\n",
    "df.Gender.value_counts()"
   ]
  },
  {
   "cell_type": "code",
   "execution_count": 24,
   "metadata": {},
   "outputs": [
    {
     "data": {
      "text/plain": [
       "Man                                                            91.012125\n",
       "Woman                                                           7.603299\n",
       "Non-binary, genderqueer, or gender non-conforming               0.761517\n",
       "Man;Non-binary, genderqueer, or gender non-conforming           0.239334\n",
       "Woman;Non-binary, genderqueer, or gender non-conforming         0.181973\n",
       "Woman;Man                                                       0.150325\n",
       "Woman;Man;Non-binary, genderqueer, or gender non-conforming     0.051427\n",
       "Name: Gender, dtype: float64"
      ]
     },
     "execution_count": 24,
     "metadata": {},
     "output_type": "execute_result"
    }
   ],
   "source": [
    "# distribution by gender in percentages\n",
    "# notice that this method excludes NaN values\n",
    "df.Gender.value_counts(normalize=True) * 100"
   ]
  },
  {
   "cell_type": "code",
   "execution_count": 25,
   "metadata": {},
   "outputs": [
    {
     "data": {
      "text/plain": [
       "Man                                                            71.381145\n",
       "NaN                                                            21.569631\n",
       "Woman                                                           5.963296\n",
       "Non-binary, genderqueer, or gender non-conforming               0.597260\n",
       "Man;Non-binary, genderqueer, or gender non-conforming           0.187710\n",
       "Woman;Non-binary, genderqueer, or gender non-conforming         0.142722\n",
       "Woman;Man                                                       0.117901\n",
       "Woman;Man;Non-binary, genderqueer, or gender non-conforming     0.040334\n",
       "Name: Gender, dtype: float64"
      ]
     },
     "execution_count": 25,
     "metadata": {},
     "output_type": "execute_result"
    }
   ],
   "source": [
    "# to evaluate percentages with respect to full size of the set, including the NaN values\n",
    "df.Gender.value_counts(normalize=True, dropna=False) * 100"
   ]
  },
  {
   "cell_type": "code",
   "execution_count": 26,
   "metadata": {},
   "outputs": [
    {
     "data": {
      "image/png": "[encoded data removed]",
      "text/plain": [
       "<Figure size 864x432 with 1 Axes>"
      ]
     },
     "metadata": {},
     "output_type": "display_data"
    }
   ],
   "source": [
    "# distribution by gender and country, for the countries with most respondents\n",
    "# set the figure size\n",
    "plt.figure(figsize = [12,6])\n",
    "\n",
    "# adapted clustered bar chart of country and gender\n",
    "sns.countplot(data=df_most_repres_countries, x='Country', hue='Gender');"
   ]
  },
  {
   "cell_type": "markdown",
   "metadata": {},
   "source": [
    "#### Observations regarding the distribution by gender:\n",
    "- with more than 21% of the gender values missing, 71% of the respondents are male."
   ]
  },
  {
   "cell_type": "markdown",
   "metadata": {},
   "source": [
    "**Remark**\n",
    "\n",
    "I will compute percentages relative to the entire dataset, including NaN counts. "
   ]
  },
  {
   "cell_type": "markdown",
   "metadata": {},
   "source": [
    "### Who are the developers?"
   ]
  },
  {
   "cell_type": "code",
   "execution_count": 27,
   "metadata": {
    "scrolled": true
   },
   "outputs": [
    {
     "data": {
      "text/plain": [
       "I am a developer by profession                                                   73.211709\n",
       "I am a student who is learning to code                                           12.364065\n",
       "I am not primarily a developer, but I write code sometimes as part of my work     8.535393\n",
       "I code primarily as a hobby                                                       3.589767\n",
       "I used to be a developer by profession, but no longer am                          1.835218\n",
       "NaN                                                                               0.463846\n",
       "Name: MainBranch, dtype: float64"
      ]
     },
     "execution_count": 27,
     "metadata": {},
     "output_type": "execute_result"
    }
   ],
   "source": [
    "# distribution by MainBranch professional level\n",
    "df.MainBranch.value_counts(normalize=True, dropna=False) * 100"
   ]
  },
  {
   "cell_type": "code",
   "execution_count": 28,
   "metadata": {},
   "outputs": [
    {
     "data": {
      "image/png": "[encoded data removed]",
      "text/plain": [
       "<Figure size 432x288 with 1 Axes>"
      ]
     },
     "metadata": {},
     "output_type": "display_data"
    }
   ],
   "source": [
    "# plot the value counts with their categories\n",
    "g = sns.barplot(x=df.MainBranch.value_counts().index, y=df.MainBranch.value_counts(), color='b');\n",
    "# create a list of shorter labels\n",
    "new_ticks = ['Professional developer', 'Student learning to code', \n",
    "             'I code for work', 'I code as hobby', 'No longer pro developer']\n",
    "# change and rotate the xticks\n",
    "g.set_xticklabels(new_ticks, rotation=70);"
   ]
  },
  {
   "cell_type": "code",
   "execution_count": 29,
   "metadata": {},
   "outputs": [
    {
     "data": {
      "text/plain": [
       "Yes    78.168195\n",
       "No     21.761996\n",
       "NaN     0.069810\n",
       "Name: Hobbyist, dtype: float64"
      ]
     },
     "execution_count": 29,
     "metadata": {},
     "output_type": "execute_result"
    }
   ],
   "source": [
    "# distribution by Hobbyist in percentages - if developers code as hobby\n",
    "df.Hobbyist.value_counts(normalize=True, dropna=False) * 100"
   ]
  },
  {
   "cell_type": "markdown",
   "metadata": {},
   "source": [
    "#### Observations regarding the professional distribution of the respondents:\n",
    "- there are very few missing values, about 0.4%, in the professional status\n",
    "- more than 73% of the respondents are professional developers."
   ]
  },
  {
   "cell_type": "markdown",
   "metadata": {},
   "source": [
    "### What type of developer are you?"
   ]
  },
  {
   "cell_type": "code",
   "execution_count": 30,
   "metadata": {},
   "outputs": [],
   "source": [
    "# rename the data engineer string in the full dataset\n",
    "df['DevType'] = df['DevType'].str.replace('Engineer, data', 'Data engineer')"
   ]
  },
  {
   "cell_type": "code",
   "execution_count": 31,
   "metadata": {},
   "outputs": [
    {
     "data": {
      "text/html": [
       "<div>\n",
       "<style scoped>\n",
       "    .dataframe tbody tr th:only-of-type {\n",
       "        vertical-align: middle;\n",
       "    }\n",
       "\n",
       "    .dataframe tbody tr th {\n",
       "        vertical-align: top;\n",
       "    }\n",
       "\n",
       "    .dataframe thead th {\n",
       "        text-align: right;\n",
       "    }\n",
       "</style>\n",
       "<table border=\"1\" class=\"dataframe\">\n",
       "  <thead>\n",
       "    <tr style=\"text-align: right;\">\n",
       "      <th></th>\n",
       "      <th>index</th>\n",
       "      <th>DevType</th>\n",
       "    </tr>\n",
       "  </thead>\n",
       "  <tbody>\n",
       "    <tr>\n",
       "      <th>0</th>\n",
       "      <td>Developer, full-stack</td>\n",
       "      <td>4424</td>\n",
       "    </tr>\n",
       "    <tr>\n",
       "      <th>1</th>\n",
       "      <td>Developer, back-end</td>\n",
       "      <td>3086</td>\n",
       "    </tr>\n",
       "    <tr>\n",
       "      <th>2</th>\n",
       "      <td>Developer, back-end;Developer, front-end;Developer, full-stack</td>\n",
       "      <td>2227</td>\n",
       "    </tr>\n",
       "    <tr>\n",
       "      <th>3</th>\n",
       "      <td>Developer, back-end;Developer, full-stack</td>\n",
       "      <td>1476</td>\n",
       "    </tr>\n",
       "  </tbody>\n",
       "</table>\n",
       "</div>"
      ],
      "text/plain": [
       "                                                            index  DevType\n",
       "0                                           Developer, full-stack     4424\n",
       "1                                             Developer, back-end     3086\n",
       "2  Developer, back-end;Developer, front-end;Developer, full-stack     2227\n",
       "3                       Developer, back-end;Developer, full-stack     1476"
      ]
     },
     "execution_count": 31,
     "metadata": {},
     "output_type": "execute_result"
    }
   ],
   "source": [
    "# respondents choose more than one answer as we can see below\n",
    "DevType_counts = df.DevType.value_counts().reset_index()\n",
    "DevType_counts.head(4)"
   ]
  },
  {
   "cell_type": "code",
   "execution_count": 32,
   "metadata": {},
   "outputs": [
    {
     "data": {
      "text/plain": [
       "8269"
      ]
     },
     "execution_count": 32,
     "metadata": {},
     "output_type": "execute_result"
    }
   ],
   "source": [
    "# how many combinations are there\n",
    "DevType_counts.shape[0]"
   ]
  },
  {
   "cell_type": "code",
   "execution_count": 33,
   "metadata": {},
   "outputs": [
    {
     "data": {
      "text/html": [
       "<div>\n",
       "<style scoped>\n",
       "    .dataframe tbody tr th:only-of-type {\n",
       "        vertical-align: middle;\n",
       "    }\n",
       "\n",
       "    .dataframe tbody tr th {\n",
       "        vertical-align: top;\n",
       "    }\n",
       "\n",
       "    .dataframe thead th {\n",
       "        text-align: right;\n",
       "    }\n",
       "</style>\n",
       "<table border=\"1\" class=\"dataframe\">\n",
       "  <thead>\n",
       "    <tr style=\"text-align: right;\">\n",
       "      <th></th>\n",
       "      <th>devChoice</th>\n",
       "      <th>count</th>\n",
       "    </tr>\n",
       "  </thead>\n",
       "  <tbody>\n",
       "    <tr>\n",
       "      <th>0</th>\n",
       "      <td>Developer, full-stack</td>\n",
       "      <td>4424</td>\n",
       "    </tr>\n",
       "    <tr>\n",
       "      <th>1</th>\n",
       "      <td>Developer, back-end</td>\n",
       "      <td>3086</td>\n",
       "    </tr>\n",
       "  </tbody>\n",
       "</table>\n",
       "</div>"
      ],
      "text/plain": [
       "               devChoice  count\n",
       "0  Developer, full-stack   4424\n",
       "1    Developer, back-end   3086"
      ]
     },
     "execution_count": 33,
     "metadata": {},
     "output_type": "execute_result"
    }
   ],
   "source": [
    "# rename the columns in the results dataframe\n",
    "DevType_counts.rename(columns = {'index':'devChoice', 'DevType':'count'}, inplace=True)\n",
    "DevType_counts.head(2)"
   ]
  },
  {
   "cell_type": "code",
   "execution_count": 34,
   "metadata": {},
   "outputs": [
    {
     "name": "stdout",
     "output_type": "stream",
     "text": [
      "['Developer, full-stack', 'Developer, back-end', 'Developer, front-end', 'Developer, mobile', 'Developer, desktop or enterprise applications', 'Developer, embedded applications or devices', 'Data scientist or machine learning specialist', 'Data or business analyst', 'Developer, QA or test', 'Designer', 'Academic researcher', 'Engineering manager', 'Data engineer', 'DevOps specialist', 'System administrator', 'Database administrator', 'Developer, game or graphics', 'Senior executive/VP', 'Scientist', 'Product manager', 'Educator', 'Engineer, site reliability', 'Marketing or sales professional']\n"
     ]
    }
   ],
   "source": [
    "# create a list of the individual answers that can be marked by a user\n",
    "dev_choice = list(DevType_counts.devChoice.str.split(';', expand=True)[0].unique())\n",
    "print(dev_choice)"
   ]
  },
  {
   "cell_type": "code",
   "execution_count": 35,
   "metadata": {},
   "outputs": [
    {
     "name": "stdout",
     "output_type": "stream",
     "text": [
      "['Developer, full-stack', 'Developer, back-end', 'Developer, front-end', 'Developer, mobile', 'Developer, desktop or enterprise applications', 'Developer, embedded applications or devices', 'Developer, QA or test', 'Designer', 'Academic researcher', 'Engineering manager', 'DevOps specialist', 'System administrator', 'Database administrator', 'Developer, game or graphics', 'Senior executive/VP', 'Scientist', 'Product manager', 'Educator', 'Engineer, site reliability', 'Marketing or sales professional']\n"
     ]
    }
   ],
   "source": [
    "# we create an adjusted dev_choice list, with no data coders\n",
    "dev_choice_short = [x for x in dev_choice if not 'Data ' in x]\n",
    "print(dev_choice_short)"
   ]
  },
  {
   "cell_type": "code",
   "execution_count": 36,
   "metadata": {},
   "outputs": [
    {
     "name": "stdout",
     "output_type": "stream",
     "text": [
      "['Data scientist or machine learning specialist', 'Data or business analyst', 'Data engineer']\n"
     ]
    }
   ],
   "source": [
    "# the list of types of developers working with data\n",
    "data_dev = [x for x in dev_choice if 'Data ' in x]\n",
    "print(data_dev)"
   ]
  },
  {
   "cell_type": "code",
   "execution_count": 37,
   "metadata": {},
   "outputs": [],
   "source": [
    "# count the individual choices strings in the column DevTypes\n",
    "dev_types = uf.counts_strings(dev_choice,df,'DevType')\n",
    "#developers_types"
   ]
  },
  {
   "cell_type": "code",
   "execution_count": 38,
   "metadata": {},
   "outputs": [
    {
     "data": {
      "text/html": [
       "<div>\n",
       "<style scoped>\n",
       "    .dataframe tbody tr th:only-of-type {\n",
       "        vertical-align: middle;\n",
       "    }\n",
       "\n",
       "    .dataframe tbody tr th {\n",
       "        vertical-align: top;\n",
       "    }\n",
       "\n",
       "    .dataframe thead th {\n",
       "        text-align: right;\n",
       "    }\n",
       "</style>\n",
       "<table border=\"1\" class=\"dataframe\">\n",
       "  <thead>\n",
       "    <tr style=\"text-align: right;\">\n",
       "      <th></th>\n",
       "      <th>DevTypes</th>\n",
       "      <th>counts</th>\n",
       "    </tr>\n",
       "  </thead>\n",
       "  <tbody>\n",
       "    <tr>\n",
       "      <th>0</th>\n",
       "      <td>Developer, full-stack</td>\n",
       "      <td>27125</td>\n",
       "    </tr>\n",
       "    <tr>\n",
       "      <th>1</th>\n",
       "      <td>Developer, back-end</td>\n",
       "      <td>27228</td>\n",
       "    </tr>\n",
       "  </tbody>\n",
       "</table>\n",
       "</div>"
      ],
      "text/plain": [
       "                DevTypes  counts\n",
       "0  Developer, full-stack   27125\n",
       "1    Developer, back-end   27228"
      ]
     },
     "execution_count": 38,
     "metadata": {},
     "output_type": "execute_result"
    }
   ],
   "source": [
    "# rename the columns in the results dataframe\n",
    "dev_types.rename(columns = {'index':'DevTypes', 0:'counts'}, inplace=True)\n",
    "dev_types.head(2)"
   ]
  },
  {
   "cell_type": "code",
   "execution_count": 39,
   "metadata": {},
   "outputs": [
    {
     "data": {
      "image/png": "[encoded data removed]",
      "text/plain": [
       "<Figure size 864x864 with 1 Axes>"
      ]
     },
     "metadata": {},
     "output_type": "display_data"
    }
   ],
   "source": [
    "# set the figure size\n",
    "plt.figure(figsize = [12,12])\n",
    "\n",
    "# sort values\n",
    "devs_types = dev_types.sort_values('counts', ascending=False)\n",
    "\n",
    "# plot the value counts with their categories\n",
    "sns.barplot(y=devs_types.DevTypes, x=devs_types.counts, color='b');"
   ]
  },
  {
   "cell_type": "code",
   "execution_count": 40,
   "metadata": {},
   "outputs": [
    {
     "data": {
      "image/png": "[encoded data removed]",
      "text/plain": [
       "<Figure size 432x288 with 1 Axes>"
      ]
     },
     "metadata": {},
     "output_type": "display_data"
    }
   ],
   "source": [
    "# look at the most popular choices\n",
    "devs_types = dev_types.sort_values('counts', ascending=False).head(5)\n",
    "\n",
    "# plot the value counts with their categories\n",
    "sns.barplot(y=devs_types.DevTypes, x=devs_types.counts, color='b');"
   ]
  },
  {
   "cell_type": "markdown",
   "metadata": {},
   "source": [
    "#### Observations regarding the distribution of the developers types:\n",
    "- most of the respondents identify themselves as back-end, full-stack or front-end developers. "
   ]
  },
  {
   "cell_type": "markdown",
   "metadata": {},
   "source": [
    "## Data preparation\n",
    "\n",
    "### Create a column to label the developers in data coders and other developers\n"
   ]
  },
  {
   "cell_type": "code",
   "execution_count": 41,
   "metadata": {},
   "outputs": [],
   "source": [
    "# create a copy of the dataframe\n",
    "df1 = df.copy()"
   ]
  },
  {
   "cell_type": "code",
   "execution_count": 42,
   "metadata": {},
   "outputs": [
    {
     "data": {
      "text/plain": [
       "other_coder    55735\n",
       "data_coder      8726\n",
       "Name: DevClass, dtype: int64"
      ]
     },
     "execution_count": 42,
     "metadata": {},
     "output_type": "execute_result"
    }
   ],
   "source": [
    "# use np.where(condition, value if condition is true, value if condition is false)\n",
    "# create column DevClass, entry data_coder or other_coder, based on DevType contains data or not\n",
    "df1['DevClass'] = np.where(df1[\"DevType\"].str.contains(\"Data \", na = False), 'data_coder', 'other_coder')\n",
    "df1.DevClass.value_counts()"
   ]
  },
  {
   "cell_type": "markdown",
   "metadata": {},
   "source": [
    "### Change some descriptions into shorter strings"
   ]
  },
  {
   "cell_type": "code",
   "execution_count": 43,
   "metadata": {},
   "outputs": [
    {
     "data": {
      "text/plain": [
       "['Master’s degree (M.A., M.S., M.Eng., MBA, etc.)',\n",
       " 'Bachelor’s degree (B.A., B.S., B.Eng., etc.)',\n",
       " nan,\n",
       " 'Secondary school (e.g. American high school, German Realschule or Gymnasium, etc.)',\n",
       " 'Professional degree (JD, MD, etc.)',\n",
       " 'Some college/university study without earning a degree',\n",
       " 'Associate degree (A.A., A.S., etc.)',\n",
       " 'Other doctoral degree (Ph.D., Ed.D., etc.)',\n",
       " 'Primary/elementary school',\n",
       " 'I never completed any formal education']"
      ]
     },
     "execution_count": 43,
     "metadata": {},
     "output_type": "execute_result"
    }
   ],
   "source": [
    "# get the choices for the education level question\n",
    "edLevel_list = list(df1.EdLevel.unique())\n",
    "edLevel_list"
   ]
  },
  {
   "cell_type": "code",
   "execution_count": 44,
   "metadata": {},
   "outputs": [],
   "source": [
    "# create a dictionary with shorter strings for education levels\n",
    "new_edLevel = {'Master’s degree (M.A., M.S., M.Eng., MBA, etc.)': 'Master’s degree',\n",
    " 'Bachelor’s degree (B.A., B.S., B.Eng., etc.)': 'Bachelor’s degree',\n",
    " 'Secondary school (e.g. American high school, German Realschule or Gymnasium, etc.)':  'Secondary school',\n",
    " 'Professional degree (JD, MD, etc.)': 'Professional degree',\n",
    " 'Some college/university study without earning a degree': 'College study/no degree',\n",
    " 'Associate degree (A.A., A.S., etc.)' : 'Associate degree',\n",
    " 'Other doctoral degree (Ph.D., Ed.D., etc.)': 'Other doctoral degree',\n",
    " 'I never completed any formal education' : 'No formal education'}"
   ]
  },
  {
   "cell_type": "code",
   "execution_count": 45,
   "metadata": {},
   "outputs": [
    {
     "data": {
      "text/plain": [
       "array(['Master’s degree', 'Bachelor’s degree', nan, 'Secondary school',\n",
       "       'Professional degree', 'College study/no degree',\n",
       "       'Associate degree', 'Other doctoral degree',\n",
       "       'Primary/elementary school', 'No formal education'], dtype=object)"
      ]
     },
     "execution_count": 45,
     "metadata": {},
     "output_type": "execute_result"
    }
   ],
   "source": [
    "# check for success\n",
    "df1.replace(new_edLevel, inplace=True)\n",
    "df1.EdLevel.unique()"
   ]
  },
  {
   "cell_type": "code",
   "execution_count": 46,
   "metadata": {},
   "outputs": [
    {
     "data": {
      "text/plain": [
       "array(['Computer science, computer engineering, or software engineering',\n",
       "       nan, 'Mathematics or statistics',\n",
       "       'Another engineering discipline (such as civil, electrical, mechanical, etc.)',\n",
       "       'A humanities discipline (such as literature, history, philosophy, etc.)',\n",
       "       'A health science (such as nursing, pharmacy, radiology, etc.)',\n",
       "       'Information systems, information technology, or system administration',\n",
       "       'Web development or web design',\n",
       "       'A natural science (such as biology, chemistry, physics, etc.)',\n",
       "       'Fine arts or performing arts (such as graphic design, music, studio art, etc.)',\n",
       "       'I never declared a major',\n",
       "       'A social science (such as anthropology, psychology, political science, etc.)',\n",
       "       'A business discipline (such as accounting, finance, marketing, etc.)'],\n",
       "      dtype=object)"
      ]
     },
     "execution_count": 46,
     "metadata": {},
     "output_type": "execute_result"
    }
   ],
   "source": [
    "# take a look of the undegraduate major options\n",
    "df1.UndergradMajor.unique()"
   ]
  },
  {
   "cell_type": "code",
   "execution_count": 47,
   "metadata": {},
   "outputs": [],
   "source": [
    "# create a dictionary with shorter descriptions for the undegraduate majors\n",
    "new_UndergradMajor = {'Computer science, computer engineering, or software engineering':\n",
    "                           'Computer science',\n",
    "       'Another engineering discipline (such as civil, electrical, mechanical, etc.)':'Engineering other',\n",
    "       'A humanities discipline (such as literature, history, philosophy, etc.)': 'Humanities',\n",
    "       'A health science (such as nursing, pharmacy, radiology, etc.)': 'Health science',\n",
    "       'Information systems, information technology, or system administration' : 'Information system',\n",
    "       'Web development or web design': 'Web dev/design',\n",
    "        'Mathematics or statistics': 'Math or stats',\n",
    "       'A natural science (such as biology, chemistry, physics, etc.)': 'Natural science',\n",
    "       'Fine arts or performing arts (such as graphic design, music, studio art, etc.)': 'Arts',\n",
    "       'I never declared a major': 'No major',\n",
    "       'A social science (such as anthropology, psychology, political science, etc.)': 'Social science',\n",
    "       'A business discipline (such as accounting, finance, marketing, etc.)': 'Business'}"
   ]
  },
  {
   "cell_type": "code",
   "execution_count": 48,
   "metadata": {},
   "outputs": [
    {
     "data": {
      "text/plain": [
       "array(['Computer science', nan, 'Math or stats', 'Engineering other',\n",
       "       'Humanities', 'Health science', 'Information system',\n",
       "       'Web dev/design', 'Natural science', 'Arts', 'No major',\n",
       "       'Social science', 'Business'], dtype=object)"
      ]
     },
     "execution_count": 48,
     "metadata": {},
     "output_type": "execute_result"
    }
   ],
   "source": [
    "# check for success\n",
    "df1.replace(new_UndergradMajor, inplace=True)\n",
    "df1.UndergradMajor.unique()"
   ]
  },
  {
   "cell_type": "code",
   "execution_count": 49,
   "metadata": {},
   "outputs": [
    {
     "data": {
      "text/plain": [
       "array(['Fairly important', nan, 'Not important', 'Very important',\n",
       "       'Somewhat important', 'Critically important'], dtype=object)"
      ]
     },
     "execution_count": 49,
     "metadata": {},
     "output_type": "execute_result"
    }
   ],
   "source": [
    "# replace some strings in the EdImpt column\n",
    "new_EdImpt = {'Not at all important/not necessary': 'Not important'}\n",
    "df1.replace(new_EdImpt, inplace=True)\n",
    "df1.NEWEdImpt.unique()"
   ]
  },
  {
   "cell_type": "markdown",
   "metadata": {},
   "source": [
    "### Drop columns not used in our analysis"
   ]
  },
  {
   "cell_type": "code",
   "execution_count": 50,
   "metadata": {},
   "outputs": [],
   "source": [
    "# list of columns not used in our analysis\n",
    "drop_cols = ['CompFreq', 'CompTotal', 'CurrencyDesc', 'CurrencySymbol',\n",
    "             'Ethnicity', 'NEWOffTopic', 'NEWOnboardGood', \n",
    "             'NEWOtherComms', 'NEWPurchaseResearch', \n",
    "             'PurchaseWhat', 'Sexuality', 'SOComm', \n",
    "             'SurveyEase', 'SurveyLength', 'Trans',  'WelcomeChange',\n",
    "             'Age','Age1stCode','YearsCode','YearsCodePro',\n",
    "             'NEWSOSites', 'SOAccount', 'SOPartFreq', 'SOVisitFreq',\n",
    "             'DatabaseDesireNextYear', 'LanguageDesireNextYear',\n",
    "             'MiscTechDesireNextYear', 'MiscTechWorkedWith',\n",
    "             'NEWCollabToolsDesireNextYear', 'PlatformDesireNextYear', \n",
    "             'WebframeDesireNextYear']"
   ]
  },
  {
   "cell_type": "code",
   "execution_count": 51,
   "metadata": {},
   "outputs": [
    {
     "data": {
      "text/plain": [
       "(64461, 31)"
      ]
     },
     "execution_count": 51,
     "metadata": {},
     "output_type": "execute_result"
    }
   ],
   "source": [
    "# drop all the columns in the list drop_cols\n",
    "df1 = df1.drop(drop_cols, axis = 1)\n",
    "\n",
    "# check the shape of the new dataset\n",
    "df1.shape"
   ]
  },
  {
   "cell_type": "markdown",
   "metadata": {},
   "source": [
    "#### Change some column names"
   ]
  },
  {
   "cell_type": "code",
   "execution_count": 52,
   "metadata": {},
   "outputs": [
    {
     "data": {
      "text/plain": [
       "Index(['Respondent', 'MainBranch', 'Hobbyist', 'ConvertedComp', 'Country',\n",
       "       'DatabaseWorkedWith', 'DevType', 'EdLevel', 'Employment', 'Gender',\n",
       "       'JobFactors', 'JobSat', 'JobSeek', 'LanguageWorkedWith',\n",
       "       'CollabToolsWorkedWith', 'DevOps', 'DevOpsImpt', 'EdImpt', 'JobHunt',\n",
       "       'JobHuntResearch', 'Learn', 'Overtime', 'PurpleLink', 'Stuck', 'OpSys',\n",
       "       'OrgSize', 'PlatformWorkedWith', 'UndergradMajor', 'WebframeWorkedWith',\n",
       "       'WorkWeekHrs', 'DevClass'],\n",
       "      dtype='object')"
      ]
     },
     "execution_count": 52,
     "metadata": {},
     "output_type": "execute_result"
    }
   ],
   "source": [
    "# drop the NEW prefix in some of the columns' names\n",
    "df1.columns = [col.replace('NEW', '') for col in df1.columns]\n",
    "df1.columns"
   ]
  },
  {
   "cell_type": "markdown",
   "metadata": {},
   "source": [
    "#### Drop rows with missing entries"
   ]
  },
  {
   "cell_type": "code",
   "execution_count": 53,
   "metadata": {},
   "outputs": [
    {
     "data": {
      "text/plain": [
       "(60430, 31)"
      ]
     },
     "execution_count": 53,
     "metadata": {},
     "output_type": "execute_result"
    }
   ],
   "source": [
    "# keep only the rows with at least 15 non-NA values\n",
    "df1 = df1.dropna(thresh=10)\n",
    "df1.shape"
   ]
  },
  {
   "cell_type": "markdown",
   "metadata": {},
   "source": [
    "### Impute data in ConvertedComp column"
   ]
  },
  {
   "cell_type": "code",
   "execution_count": 54,
   "metadata": {},
   "outputs": [
    {
     "data": {
      "text/plain": [
       "count      34754.000\n",
       "mean      103751.916\n",
       "std       226890.778\n",
       "min            0.000\n",
       "25%        24648.000\n",
       "50%        54049.000\n",
       "75%        95000.000\n",
       "max      2000000.000\n",
       "Name: ConvertedComp, dtype: float64"
      ]
     },
     "execution_count": 54,
     "metadata": {},
     "output_type": "execute_result"
    }
   ],
   "source": [
    "# take a look at the records statistics\n",
    "df1.ConvertedComp.describe().round(3)"
   ]
  },
  {
   "cell_type": "code",
   "execution_count": 55,
   "metadata": {},
   "outputs": [
    {
     "data": {
      "text/plain": [
       "18296    2000000.0\n",
       "56738    2000000.0\n",
       "32330    2000000.0\n",
       "4011     2000000.0\n",
       "19251    2000000.0\n",
       "           ...    \n",
       "64447          NaN\n",
       "64453          NaN\n",
       "64456          NaN\n",
       "64459          NaN\n",
       "64460          NaN\n",
       "Name: ConvertedComp, Length: 60430, dtype: float64"
      ]
     },
     "execution_count": 55,
     "metadata": {},
     "output_type": "execute_result"
    }
   ],
   "source": [
    "# there are numerous extreme values and also almost half of values missing\n",
    "df1.ConvertedComp.sort_values(ascending=False)"
   ]
  },
  {
   "cell_type": "code",
   "execution_count": 56,
   "metadata": {},
   "outputs": [
    {
     "data": {
      "text/plain": [
       "(258, 31)"
      ]
     },
     "execution_count": 56,
     "metadata": {},
     "output_type": "execute_result"
    }
   ],
   "source": [
    "# the extreme values\n",
    "df1[df1.ConvertedComp == 2000000].shape"
   ]
  },
  {
   "cell_type": "code",
   "execution_count": 57,
   "metadata": {},
   "outputs": [],
   "source": [
    "# impute the ConvertedComp missing values with the median of the corresponding country\n",
    "# save the existing values and the imputed values in a new column\n",
    "df1['imputedComp'] = df1['ConvertedComp'].fillna(df1.groupby('Country')['ConvertedComp'].transform('median'))"
   ]
  },
  {
   "cell_type": "code",
   "execution_count": 58,
   "metadata": {},
   "outputs": [
    {
     "data": {
      "text/plain": [
       "48"
      ]
     },
     "execution_count": 58,
     "metadata": {},
     "output_type": "execute_result"
    }
   ],
   "source": [
    "# check how many values are still missing\n",
    "df1.imputedComp.isnull().sum()"
   ]
  },
  {
   "cell_type": "code",
   "execution_count": 59,
   "metadata": {},
   "outputs": [
    {
     "data": {
      "text/plain": [
       "(142, 32)"
      ]
     },
     "execution_count": 59,
     "metadata": {},
     "output_type": "execute_result"
    }
   ],
   "source": [
    "# how many values are 0\n",
    "df1[df1.imputedComp == 0.0].shape"
   ]
  },
  {
   "cell_type": "code",
   "execution_count": 60,
   "metadata": {},
   "outputs": [
    {
     "data": {
      "text/plain": [
       "(0, 32)"
      ]
     },
     "execution_count": 60,
     "metadata": {},
     "output_type": "execute_result"
    }
   ],
   "source": [
    "# fill the remaining NaN with 1, to be able to use log scale for plots\n",
    "df1['imputedComp'] = df1['imputedComp'].fillna(0)\n",
    "\n",
    "# check for success\n",
    "df1[df1.imputedComp.isna()].shape"
   ]
  },
  {
   "cell_type": "markdown",
   "metadata": {},
   "source": [
    "### Save the processed dataframe to a file"
   ]
  },
  {
   "cell_type": "code",
   "execution_count": 61,
   "metadata": {},
   "outputs": [],
   "source": [
    "# save a copy of the prepared dataframe\n",
    "df1.to_csv(mypath + '/data/survey20_updated.csv')"
   ]
  },
  {
   "cell_type": "markdown",
   "metadata": {},
   "source": [
    "## The data coders\n",
    "\n",
    "Look at the subset of developers who checked at least one of the options of working with big data. These options are 'Data scientist or machine learning specialist', 'Data or business analyst' and 'Engineer, data'."
   ]
  },
  {
   "cell_type": "code",
   "execution_count": 62,
   "metadata": {},
   "outputs": [
    {
     "data": {
      "text/plain": [
       "(8706, 32)"
      ]
     },
     "execution_count": 62,
     "metadata": {},
     "output_type": "execute_result"
    }
   ],
   "source": [
    "# the subset of developers that checked at least one data related profession\n",
    "data_coders = df1[df1[\"DevClass\"] == 'data_coder']\n",
    "data_coders.shape"
   ]
  },
  {
   "cell_type": "code",
   "execution_count": 63,
   "metadata": {},
   "outputs": [
    {
     "data": {
      "text/plain": [
       "14.406751613437036"
      ]
     },
     "execution_count": 63,
     "metadata": {},
     "output_type": "execute_result"
    }
   ],
   "source": [
    "# the percentage of data coders among all respondents\n",
    "data_coders.shape[0]/df1.shape[0] * 100"
   ]
  },
  {
   "cell_type": "code",
   "execution_count": 64,
   "metadata": {
    "scrolled": true
   },
   "outputs": [
    {
     "data": {
      "text/plain": [
       "(51724, 32)"
      ]
     },
     "execution_count": 64,
     "metadata": {},
     "output_type": "execute_result"
    }
   ],
   "source": [
    "# the developers that did not check any data related professions\n",
    "other_coders = df1[df1[\"DevClass\"] == 'other_coder']\n",
    "other_coders.shape"
   ]
  },
  {
   "cell_type": "code",
   "execution_count": 65,
   "metadata": {},
   "outputs": [
    {
     "data": {
      "text/html": [
       "<div>\n",
       "<style scoped>\n",
       "    .dataframe tbody tr th:only-of-type {\n",
       "        vertical-align: middle;\n",
       "    }\n",
       "\n",
       "    .dataframe tbody tr th {\n",
       "        vertical-align: top;\n",
       "    }\n",
       "\n",
       "    .dataframe thead th {\n",
       "        text-align: right;\n",
       "    }\n",
       "</style>\n",
       "<table border=\"1\" class=\"dataframe\">\n",
       "  <thead>\n",
       "    <tr style=\"text-align: right;\">\n",
       "      <th></th>\n",
       "      <th>DevTypes</th>\n",
       "      <th>counts_data</th>\n",
       "      <th>perc_data</th>\n",
       "    </tr>\n",
       "  </thead>\n",
       "  <tbody>\n",
       "    <tr>\n",
       "      <th>1</th>\n",
       "      <td>Developer, back-end</td>\n",
       "      <td>4833</td>\n",
       "      <td>55.51</td>\n",
       "    </tr>\n",
       "    <tr>\n",
       "      <th>0</th>\n",
       "      <td>Developer, full-stack</td>\n",
       "      <td>3805</td>\n",
       "      <td>43.71</td>\n",
       "    </tr>\n",
       "  </tbody>\n",
       "</table>\n",
       "</div>"
      ],
      "text/plain": [
       "                DevTypes  counts_data  perc_data\n",
       "1    Developer, back-end         4833      55.51\n",
       "0  Developer, full-stack         3805      43.71"
      ]
     },
     "execution_count": 65,
     "metadata": {},
     "output_type": "execute_result"
    }
   ],
   "source": [
    "# what other DevTypes do the data coders choose\n",
    "data_coders_groups = uf.counts_strings(dev_choice_short,data_coders,'DevType')\n",
    "# rename the columns\n",
    "data_coders_groups.rename(columns = {'index':'DevTypes', 0:'counts_data'}, inplace=True)\n",
    "# add a column with percentages computed with respect to all data coders\n",
    "data_coders_groups['perc_data'] = (data_coders_groups.counts_data/data_coders.shape[0] * 100).round(2)\n",
    "# show the results ordered by counts and percentages\n",
    "data_coders_groups.sort_values('counts_data', ascending=False).head(2)"
   ]
  },
  {
   "cell_type": "code",
   "execution_count": 66,
   "metadata": {},
   "outputs": [
    {
     "data": {
      "text/html": [
       "<div>\n",
       "<style scoped>\n",
       "    .dataframe tbody tr th:only-of-type {\n",
       "        vertical-align: middle;\n",
       "    }\n",
       "\n",
       "    .dataframe tbody tr th {\n",
       "        vertical-align: top;\n",
       "    }\n",
       "\n",
       "    .dataframe thead th {\n",
       "        text-align: right;\n",
       "    }\n",
       "</style>\n",
       "<table border=\"1\" class=\"dataframe\">\n",
       "  <thead>\n",
       "    <tr style=\"text-align: right;\">\n",
       "      <th></th>\n",
       "      <th>DevTypes</th>\n",
       "      <th>counts_other</th>\n",
       "      <th>perc_other</th>\n",
       "    </tr>\n",
       "  </thead>\n",
       "  <tbody>\n",
       "    <tr>\n",
       "      <th>0</th>\n",
       "      <td>Developer, full-stack</td>\n",
       "      <td>23286</td>\n",
       "      <td>45.02</td>\n",
       "    </tr>\n",
       "    <tr>\n",
       "      <th>1</th>\n",
       "      <td>Developer, back-end</td>\n",
       "      <td>22367</td>\n",
       "      <td>43.24</td>\n",
       "    </tr>\n",
       "  </tbody>\n",
       "</table>\n",
       "</div>"
      ],
      "text/plain": [
       "                DevTypes  counts_other  perc_other\n",
       "0  Developer, full-stack         23286       45.02\n",
       "1    Developer, back-end         22367       43.24"
      ]
     },
     "execution_count": 66,
     "metadata": {},
     "output_type": "execute_result"
    }
   ],
   "source": [
    "# what DevTypes do the other developers choose\n",
    "other_coders_groups = uf.counts_strings(dev_choice_short, other_coders,'DevType')\n",
    "# rename the columns in the results table\n",
    "other_coders_groups.rename(columns = {'index':'DevTypes', 0:'counts_other'}, inplace=True)\n",
    "# add a column with percentages computed with respect to all other coders\n",
    "other_coders_groups['perc_other'] = (other_coders_groups.counts_other/other_coders.shape[0] * 100).round(2)\n",
    "# show the results ordered by counts\n",
    "other_coders_groups.sort_values('counts_other', ascending=False).head(2)"
   ]
  },
  {
   "cell_type": "markdown",
   "metadata": {},
   "source": [
    "#### Observations regarding DevTypes barplot:\n",
    "- this barplot is misleading since the developers choose more than one DevType, and the sums of percentages do not add to 100, the comparison is meaningless."
   ]
  },
  {
   "cell_type": "code",
   "execution_count": null,
   "metadata": {},
   "outputs": [],
   "source": []
  },
  {
   "cell_type": "markdown",
   "metadata": {},
   "source": [
    "## Scribbles"
   ]
  },
  {
   "cell_type": "code",
   "execution_count": 192,
   "metadata": {},
   "outputs": [
    {
     "data": {
      "image/png": "[encoded data removed]",
      "text/plain": [
       "<Figure size 720x864 with 1 Axes>"
      ]
     },
     "metadata": {},
     "output_type": "display_data"
    }
   ],
   "source": [
    "# plot the data side by side\n",
    "temp_groups = pd.merge(data_coders_groups, other_coders_groups, on='DevTypes')\n",
    "\n",
    "# horizontal barplot with the percentages \n",
    "sided_plot = temp_groups.plot(x = 'DevTypes', y = ['perc_data','perc_other'], \n",
    "                              kind='barh', figsize=(10, 12));\n",
    "plt.xlabel('')\n",
    "\n",
    "plt.xticks(fontsize=12)\n",
    "for spine in plt.gca().spines.values():\n",
    "    spine.set_visible(False)\n",
    "plt.yticks([])\n",
    "\n",
    "# Add this loop to add the annotations\n",
    "for p in sided_plot.patches:\n",
    "    width = p.get_width()\n",
    "    height = p.get_height()\n",
    "    x, y = p.get_xy() \n",
    "    sided_plot.annotate(f'{height:.0%}',\n",
    "                        (x + width + 1, y + height/2), ha='center', fontsize=8)"
   ]
  },
  {
   "cell_type": "code",
   "execution_count": 235,
   "metadata": {},
   "outputs": [],
   "source": [
    "def df_counts(dff, old_col, new_col, perc_name):\n",
    "    new_dff = pd.DataFrame(dff[old_col].value_counts()/dff.shape[0]).reset_index()\n",
    "    new_dff.rename(columns = {'index': new_col, old_col: perc_name}, inplace=True)\n",
    "    return new_dff\n",
    "    "
   ]
  },
  {
   "cell_type": "code",
   "execution_count": 291,
   "metadata": {},
   "outputs": [],
   "source": [
    "# merge the three databases\n",
    "#df_temp = pd.merge(all_perc, other_perc, on = 'Education')\n",
    "#df_temp_new = pd.merge(df_temp, data_perc, on = 'Education')\n",
    "#df_temp_new"
   ]
  },
  {
   "cell_type": "code",
   "execution_count": 305,
   "metadata": {},
   "outputs": [
    {
     "data": {
      "image/png": "[encoded data removed]",
      "text/plain": [
       "<Figure size 432x288 with 1 Axes>"
      ]
     },
     "metadata": {},
     "output_type": "display_data"
    }
   ],
   "source": [
    "# plot the data\n",
    "temp_ed = merge_df(data_perc, other_perc, 'Education')\n",
    "sided_plot = temp_ed.plot(x = 'Education', y = ['other_counts','data_counts'], kind=\"barh\")\n",
    "plt.xlabel('');\n"
   ]
  },
  {
   "cell_type": "code",
   "execution_count": null,
   "metadata": {},
   "outputs": [],
   "source": [
    "# an example of a query on data\n",
    "pd.DataFrame(df.query(condition).groupby(['Gender', 'FormalEducation']).mean()['Salary'])"
   ]
  },
  {
   "cell_type": "code",
   "execution_count": null,
   "metadata": {},
   "outputs": [],
   "source": [
    "# fill NaN in a specific column\n",
    "df_copy[['DevType']] = df_copy[['DevType']].fillna('none') # Specific columns"
   ]
  },
  {
   "cell_type": "code",
   "execution_count": null,
   "metadata": {},
   "outputs": [],
   "source": [
    "# drop those rows that have null values in DevType column\n",
    "df1 = df.dropna(subset=['DevType'], axis=0)"
   ]
  }
 ],
 "metadata": {
  "kernelspec": {
   "display_name": "Python 3",
   "language": "python",
   "name": "python3"
  },
  "language_info": {
   "codemirror_mode": {
    "name": "ipython",
    "version": 3
   },
   "file_extension": ".py",
   "mimetype": "text/x-python",
   "name": "python",
   "nbconvert_exporter": "python",
   "pygments_lexer": "ipython3",
   "version": "3.7.6"
  },
  "toc": {
   "base_numbering": 1,
   "nav_menu": {},
   "number_sections": true,
   "sideBar": true,
   "skip_h1_title": false,
   "title_cell": "Table of Contents",
   "title_sidebar": "Contents",
   "toc_cell": false,
   "toc_position": {
    "height": "calc(100% - 180px)",
    "left": "10px",
    "top": "150px",
    "width": "310.594px"
   },
   "toc_section_display": true,
   "toc_window_display": true
  }
 },
 "nbformat": 4,
 "nbformat_minor": 4
}
