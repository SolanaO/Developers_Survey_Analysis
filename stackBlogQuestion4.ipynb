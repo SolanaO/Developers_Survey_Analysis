{
 "cells": [
  {
   "cell_type": "markdown",
   "id": "77e278e6",
   "metadata": {},
   "source": [
    "# Analysis of StackOverflow Survey. Part IV\n",
    "\n",
    "In this notebook we address the third question, and we build a model to predict job satisfaction for data coders.\n",
    "\n",
    "The steps of the process are: all steps with substeps\n",
    "1. \n",
    "2. "
   ]
  },
  {
   "cell_type": "code",
   "execution_count": 1,
   "id": "9302f019",
   "metadata": {},
   "outputs": [],
   "source": [
    "# general packages and libraries\n",
    "import os\n",
    "import sys\n",
    "from collections import defaultdict\n",
    "import importlib"
   ]
  },
  {
   "cell_type": "code",
   "execution_count": 2,
   "id": "15959c9c",
   "metadata": {},
   "outputs": [],
   "source": [
    "# data manipulation packages\n",
    "import numpy as np\n",
    "import pandas as pd"
   ]
  },
  {
   "cell_type": "code",
   "execution_count": 3,
   "id": "8b486bd1",
   "metadata": {},
   "outputs": [],
   "source": [
    "# data visualizations packages\n",
    "import matplotlib.pyplot as plt\n",
    "# to render plots in the notebook\n",
    "%matplotlib inline\n",
    "\n",
    "import seaborn as sns\n",
    "# set a theme for seaborn\n",
    "sns.set_theme()"
   ]
  },
  {
   "cell_type": "code",
   "execution_count": 4,
   "id": "29bafd80",
   "metadata": {},
   "outputs": [],
   "source": [
    "# clean this up in the end\n",
    "\n",
    "from sklearn.linear_model import LinearRegression\n",
    "from sklearn.impute import KNNImputer\n",
    "from sklearn.impute import SimpleImputer\n",
    "from sklearn.dummy import DummyClassifier\n",
    "from sklearn.neighbors import KNeighborsClassifier\n",
    "from sklearn.preprocessing import OneHotEncoder, OrdinalEncoder\n",
    "from sklearn.preprocessing import LabelEncoder\n",
    "from sklearn.feature_selection import SelectKBest, chi2, mutual_info_classif\n",
    "\n",
    "\n",
    "from sklearn.linear_model import LinearRegression\n",
    "from sklearn.model_selection import train_test_split\n",
    "\n",
    "from sklearn.base import BaseEstimator, TransformerMixin\n",
    "from sklearn.preprocessing import OneHotEncoder, StandardScaler\n",
    "from sklearn.impute import SimpleImputer\n",
    "from sklearn.pipeline import FeatureUnion, Pipeline\n",
    "from sklearn import (\n",
    "    ensemble,\n",
    "    preprocessing,\n",
    "    tree,\n",
    ")\n",
    "from sklearn.model_selection import (\n",
    "    train_test_split,\n",
    "    StratifiedKFold,\n",
    ")\n",
    "from sklearn.metrics import (\n",
    "    classification_report,\n",
    "    r2_score, \n",
    "    mean_squared_error,\n",
    "    auc,\n",
    "    confusion_matrix,\n",
    "    accuracy_score,\n",
    "    roc_auc_score,\n",
    "    roc_curve,\n",
    ")\n"
   ]
  },
  {
   "cell_type": "code",
   "execution_count": 5,
   "id": "c403f1b1",
   "metadata": {},
   "outputs": [],
   "source": [
    "# import local module containing the neccessary functions\n",
    "import utils_functions as uf\n",
    "#import encoder_module as encm\n",
    "\n",
    "# forces the interpreter to re-load the module\n",
    "importlib.reload(uf);\n",
    "\n",
    "# create a path string\n",
    "mypath = os.getcwd()"
   ]
  },
  {
   "cell_type": "markdown",
   "id": "92e11193",
   "metadata": {},
   "source": [
    "## Formulate the questions\n",
    "\n",
    "We separate the respondents of the 2020 StackOverflow Developer Survey into data developers\n",
    "(data scientist or machine learning specialist, data or business analyst, data engineer) and other developers. In what follows we restrict the dataset to the data developers and address the following questions:  \n",
    " - What can we tell about the job satisfaction of a data developer? \n",
    " - What factors do influence the job satisfaction? \n",
    " \n",
    " We build a predictive model for the job satisfaction for data developers. This is a multi-class classification question, where the satisfaction levels are: very dissatisfied, slightly dissatisfied, neither satisfied nor dissatisfied, slightly satisfied, very satisfied."
   ]
  },
  {
   "cell_type": "markdown",
   "id": "5742328c",
   "metadata": {},
   "source": [
    "## Performance metrics - to review at the end\n",
    "\n",
    "The following performance measures will be used in this project:\n",
    "1. Cross validation via StratifiedKFold with 10 folds.\n",
    "2. Confusion matrix, in particular precision, recall and F1 score.\n",
    "3. The ROC curve and the related AUC score."
   ]
  },
  {
   "cell_type": "markdown",
   "id": "0e14fe65",
   "metadata": {},
   "source": [
    "# Gather and prepare the data\n",
    "\n",
    "Upload the data and keep the subset that contains those developers that work in data science related fields. \n"
   ]
  },
  {
   "cell_type": "markdown",
   "id": "19d46745",
   "metadata": {},
   "source": [
    "## Load the data"
   ]
  },
  {
   "cell_type": "code",
   "execution_count": 6,
   "id": "42d728ee",
   "metadata": {},
   "outputs": [
    {
     "data": {
      "text/plain": [
       "(64461, 61)"
      ]
     },
     "execution_count": 6,
     "metadata": {},
     "output_type": "execute_result"
    }
   ],
   "source": [
    "# upload the datafile as pandas dataframe\n",
    "df = pd.read_csv(mypath+'/data/survey20_updated.csv', index_col=[0])\n",
    "# check for success\n",
    "df.shape"
   ]
  },
  {
   "cell_type": "markdown",
   "id": "2c6be69c",
   "metadata": {},
   "source": [
    "## Remove unnecessary data"
   ]
  },
  {
   "cell_type": "code",
   "execution_count": 7,
   "id": "8826cbc3",
   "metadata": {},
   "outputs": [],
   "source": [
    "# create a copy of the data\n",
    "df1 = df.copy()"
   ]
  },
  {
   "cell_type": "markdown",
   "id": "a425fe00",
   "metadata": {},
   "source": [
    "### Keep the developers that work with data"
   ]
  },
  {
   "cell_type": "code",
   "execution_count": 8,
   "id": "a1706ab7",
   "metadata": {},
   "outputs": [
    {
     "data": {
      "text/plain": [
       "Respondent\n",
       "1    [Developer, desktop or enterprise applications...\n",
       "2           [Developer, full-stack, Developer, mobile]\n",
       "3                                                  NaN\n",
       "Name: DevType, dtype: object"
      ]
     },
     "execution_count": 8,
     "metadata": {},
     "output_type": "execute_result"
    }
   ],
   "source": [
    "# change each string in DevType column into a list of strings\n",
    "df1['DevType'] = df1['DevType'].str.split(';')\n",
    "\n",
    "# check the outcome\n",
    "df1.DevType.iloc[:3]"
   ]
  },
  {
   "cell_type": "code",
   "execution_count": 9,
   "id": "13c04778",
   "metadata": {},
   "outputs": [
    {
     "data": {
      "text/plain": [
       "(172185, 61)"
      ]
     },
     "execution_count": 9,
     "metadata": {},
     "output_type": "execute_result"
    }
   ],
   "source": [
    "# split a row with multiple choices strings in DevType into rows where\n",
    "# DevType contains only one choice, the index is replicated \n",
    "df1=df1.explode('DevType')\n",
    "\n",
    "# the new dataframe has many more rows now\n",
    "df1.shape"
   ]
  },
  {
   "cell_type": "code",
   "execution_count": 10,
   "id": "7034b86f",
   "metadata": {},
   "outputs": [
    {
     "data": {
      "text/plain": [
       "Respondent\n",
       "1    Developer, desktop or enterprise applications\n",
       "1                            Developer, full-stack\n",
       "2                            Developer, full-stack\n",
       "2                                Developer, mobile\n",
       "3                                              NaN\n",
       "Name: DevType, dtype: object"
      ]
     },
     "execution_count": 10,
     "metadata": {},
     "output_type": "execute_result"
    }
   ],
   "source": [
    "# check the outcome\n",
    "df1.DevType.iloc[:5]"
   ]
  },
  {
   "cell_type": "code",
   "execution_count": 11,
   "id": "fa81db4b",
   "metadata": {},
   "outputs": [
    {
     "data": {
      "text/plain": [
       "0"
      ]
     },
     "execution_count": 11,
     "metadata": {},
     "output_type": "execute_result"
    }
   ],
   "source": [
    "# drop the rows with missing values in DevType column\n",
    "df1.dropna(subset=['DevType'], inplace=True)\n",
    "\n",
    "# check the outcome\n",
    "df1.DevType.isnull().sum()"
   ]
  },
  {
   "cell_type": "code",
   "execution_count": 12,
   "id": "5eb6d645",
   "metadata": {},
   "outputs": [
    {
     "data": {
      "text/plain": [
       "Respondent\n",
       "22                                    Data engineer\n",
       "25                                    Data engineer\n",
       "30                         Data or business analyst\n",
       "36                         Data or business analyst\n",
       "36    Data scientist or machine learning specialist\n",
       "Name: DevType, dtype: object"
      ]
     },
     "execution_count": 12,
     "metadata": {},
     "output_type": "execute_result"
    }
   ],
   "source": [
    "# retain only those rows that contain data coders\n",
    "df1 = df1[df1['DevType'].str.contains('Data ')]\n",
    "\n",
    "# check for success\n",
    "df1.DevType.iloc[:5]"
   ]
  },
  {
   "cell_type": "markdown",
   "id": "b9bc697a",
   "metadata": {},
   "source": [
    "### Retain the developers that are employed"
   ]
  },
  {
   "cell_type": "code",
   "execution_count": 13,
   "id": "f3e9e854",
   "metadata": {},
   "outputs": [
    {
     "data": {
      "text/plain": [
       "Employed full-time                                      9236\n",
       "Independent contractor, freelancer, or self-employed    1481\n",
       "Not employed, but looking for work                       564\n",
       "Employed part-time                                       469\n",
       "Name: Employment, dtype: int64"
      ]
     },
     "execution_count": 13,
     "metadata": {},
     "output_type": "execute_result"
    }
   ],
   "source": [
    "# check the employment types for data coders\n",
    "df1.Employment.value_counts()"
   ]
  },
  {
   "cell_type": "code",
   "execution_count": 14,
   "id": "82aad2a4",
   "metadata": {},
   "outputs": [
    {
     "data": {
      "text/plain": [
       "Employed full-time                                      9236\n",
       "Independent contractor, freelancer, or self-employed    1481\n",
       "Employed part-time                                       469\n",
       "Name: Employment, dtype: int64"
      ]
     },
     "execution_count": 14,
     "metadata": {},
     "output_type": "execute_result"
    }
   ],
   "source": [
    "# retain only the employed data developers\n",
    "df1 = df1[df1['Employment'] != 'Not employed, but looking for work']\n",
    "\n",
    "# check for success\n",
    "df1.Employment.value_counts()"
   ]
  },
  {
   "cell_type": "markdown",
   "id": "d0acc63a",
   "metadata": {},
   "source": [
    "### Retain only the respondents that code professionally"
   ]
  },
  {
   "cell_type": "code",
   "execution_count": 15,
   "id": "a5c838e0",
   "metadata": {},
   "outputs": [
    {
     "data": {
      "text/plain": [
       "I am a developer by profession                                                   8207\n",
       "I am not primarily a developer, but I write code sometimes as part of my work    2275\n",
       "I am a student who is learning to code                                            296\n",
       "I used to be a developer by profession, but no longer am                          203\n",
       "I code primarily as a hobby                                                       163\n",
       "Name: MainBranch, dtype: int64"
      ]
     },
     "execution_count": 15,
     "metadata": {},
     "output_type": "execute_result"
    }
   ],
   "source": [
    "# check the professional status of the employed developers\n",
    "df1.MainBranch.value_counts()"
   ]
  },
  {
   "cell_type": "code",
   "execution_count": 16,
   "id": "121a5c7b",
   "metadata": {},
   "outputs": [
    {
     "data": {
      "text/plain": [
       "I am a developer by profession                                                   8207\n",
       "I am not primarily a developer, but I write code sometimes as part of my work    2275\n",
       "Name: MainBranch, dtype: int64"
      ]
     },
     "execution_count": 16,
     "metadata": {},
     "output_type": "execute_result"
    }
   ],
   "source": [
    "# create a list of main branch choices\n",
    "main_choices = df1.MainBranch.value_counts().index.to_list()\n",
    "# retain those rows where MainBranch contains the respondents that work professionally with data\n",
    "df1 = df1[df1.MainBranch.isin(main_choices[:2])]\n",
    "\n",
    "# check the outcome\n",
    "df1.MainBranch.value_counts()"
   ]
  },
  {
   "cell_type": "markdown",
   "id": "910799ff",
   "metadata": {},
   "source": [
    "### Remove unnecessary columns"
   ]
  },
  {
   "cell_type": "code",
   "execution_count": 17,
   "id": "0a943ce8",
   "metadata": {},
   "outputs": [],
   "source": [
    "# list of columns to be removed\n",
    "cols_del = [\n",
    "    # personal, demographics  information\n",
    "    #'Respondent', \n",
    "    'MainBranch', 'Employment', 'Hobbyist', \n",
    "    'Country','Ethnicity', 'Age',\n",
    "    'Gender', 'Sexuality', 'Trans', \n",
    "    \n",
    "    # related to ConvertedComp\n",
    "    'CompFreq', 'CompTotal', 'CurrencyDesc', 'CurrencySymbol',\n",
    "    \n",
    "    # questions regarding future activities\n",
    "    'DatabaseDesireNextYear', 'MiscTechDesireNextYear',\n",
    "    'CollabToolsDesireNextYear', 'PlatformDesireNextYear',\n",
    "    'LanguageDesireNextYear', 'WebframeDesireNextYear',\n",
    "    \n",
    "    # questions regarding this survey\n",
    "    'SurveyEase', 'SurveyLength', 'WelcomeChange',\n",
    "    \n",
    "    # question regarding participation is StackOverflow\n",
    "    'SOSites', 'SOComm', 'SOPartFreq',\n",
    "    'SOVisitFreq', 'SOAccount',\n",
    "\n",
    "    # columns related to other columns\n",
    "    'Age1stCode', 'YearsCodePro', 'DevClass', \n",
    "\n",
    "    # high cardinality, multiple choices columns, add noise \n",
    "    'MiscTechWorkedWith', 'DatabaseWorkedWith',\n",
    "    'WebframeWorkedWith', 'LanguageWorkedWith',\n",
    "\n",
    "    # questions not relevant to our goal\n",
    "    'JobHunt', 'JobHuntResearch', 'Stuck',\n",
    "    'PurchaseResearch', 'PurchaseWhat', \n",
    "    'Stuck', 'PurpleLink',\n",
    "    'OffTopic', 'OtherComms',\n",
    "    'JobFactors', 'JobSeek',\n",
    "\n",
    "    # auxiliary columns\n",
    "    'DevClass']"
   ]
  },
  {
   "cell_type": "code",
   "execution_count": 18,
   "id": "30fae562",
   "metadata": {},
   "outputs": [
    {
     "data": {
      "text/plain": [
       "(10482, 17)"
      ]
     },
     "execution_count": 18,
     "metadata": {},
     "output_type": "execute_result"
    }
   ],
   "source": [
    "# drop all the columns in the list\n",
    "df1.drop(columns=cols_del, inplace=True)\n",
    "\n",
    "# check the output\n",
    "df1.shape"
   ]
  },
  {
   "cell_type": "markdown",
   "id": "f2756f2e",
   "metadata": {},
   "source": [
    "## Preprocess data"
   ]
  },
  {
   "cell_type": "markdown",
   "id": "d4d0565c",
   "metadata": {},
   "source": [
    "### Replace JobSat categories with numerical code and drop missing values"
   ]
  },
  {
   "cell_type": "code",
   "execution_count": 19,
   "id": "34d0dab5",
   "metadata": {},
   "outputs": [],
   "source": [
    "# drop rows with missing JobSat\n",
    "#df1.dropna(subset=['JobSat'], inplace=True)\n",
    "\n",
    "# the replacement codes in a dictionary\n",
    "#replace_dict = {'Very dissatisfied': 1, 'Slightly dissatisfied': 2,\n",
    "               #'Neither satisfied nor dissatisfied': 3, \n",
    "               #'Slightly satisfied': 4, 'Very satisfied': 5}\n",
    "\n",
    "#  encode the 'JobSat' data to numerical values\n",
    "#df1['JobSat'] = df1['JobSat'].replace(replace_dict)\n",
    "\n",
    "# check for success\n",
    "#print(df1['JobSat'].value_counts())"
   ]
  },
  {
   "cell_type": "markdown",
   "id": "7b9b0500",
   "metadata": {},
   "source": [
    "### Update YearsCode column entries and dtype"
   ]
  },
  {
   "cell_type": "code",
   "execution_count": 20,
   "id": "b911d2b7",
   "metadata": {},
   "outputs": [],
   "source": [
    "# replace strings with numerical entries\n",
    "replace_dict = {'Less than 1 year': '0', 'More than 50 years': '51'}\n",
    "df1.replace(replace_dict, inplace=True)\n",
    "\n",
    "# change dtype to numeric\n",
    "df1['YearsCode'] = pd.to_numeric(df1['YearsCode'])"
   ]
  },
  {
   "cell_type": "markdown",
   "id": "45e1b115",
   "metadata": {},
   "source": [
    "### Replace multiple choices strings with single choice rows"
   ]
  },
  {
   "cell_type": "code",
   "execution_count": 21,
   "id": "907057ce",
   "metadata": {},
   "outputs": [
    {
     "data": {
      "text/plain": [
       "(165031, 17)"
      ]
     },
     "execution_count": 21,
     "metadata": {},
     "output_type": "execute_result"
    }
   ],
   "source": [
    "multi_cols = ['CollabToolsWorkedWith','PlatformWorkedWith']\n",
    "\n",
    "# explode the two columns\n",
    "for col in multi_cols:\n",
    "    df1 = uf.explode_col(df1, col)\n",
    "    \n",
    "# check the outcome\n",
    "df1.shape"
   ]
  },
  {
   "cell_type": "markdown",
   "id": "f73aade3",
   "metadata": {},
   "source": [
    "### Review data types and data distribution in columns"
   ]
  },
  {
   "cell_type": "code",
   "execution_count": 47,
   "id": "a39098d4",
   "metadata": {},
   "outputs": [
    {
     "name": "stdout",
     "output_type": "stream",
     "text": [
      "['ConvertedComp', 'WorkWeekHrs', 'YearsCode']\n"
     ]
    }
   ],
   "source": [
    "# the list of numerical columns\n",
    "num_cols = df1.select_dtypes(include='float64').columns.to_list()\n",
    "print(num_cols)"
   ]
  },
  {
   "cell_type": "code",
   "execution_count": 67,
   "id": "b27ae29c",
   "metadata": {},
   "outputs": [
    {
     "name": "stdout",
     "output_type": "stream",
     "text": [
      "['DevType', 'EdLevel', 'CollabToolsWorkedWith', 'DevOps', 'DevOpsImpt', 'EdImpt', 'Learn', 'OnboardGood', 'Overtime', 'OpSys', 'OrgSize', 'PlatformWorkedWith', 'UndergradMajor']\n"
     ]
    }
   ],
   "source": [
    "# the list of all categorical columns\n",
    "cat_cols = X.select_dtypes(include='object').columns.to_list()\n",
    "print(cat_cols)"
   ]
  },
  {
   "cell_type": "code",
   "execution_count": 68,
   "id": "d551b2d4",
   "metadata": {},
   "outputs": [
    {
     "name": "stdout",
     "output_type": "stream",
     "text": [
      "['DevOps', 'Overtime', 'Learn', 'OnboardGood', 'DevType', 'OrgSize', 'EdLevel', 'EdImpt', 'OpSys', 'DevOpsImpt', 'UndergradMajor']\n"
     ]
    }
   ],
   "source": [
    "# further divide the categorical columns in\n",
    "multi_cols = ['CollabToolsWorkedWith', 'PlatformWorkedWith']\n",
    "uni_cols = list(set(cat_cols) - set(multi_cols))\n",
    "print(uni_cols)"
   ]
  },
  {
   "cell_type": "code",
   "execution_count": 69,
   "id": "e9b18e9d",
   "metadata": {},
   "outputs": [],
   "source": [
    "# for each categorical column, print possible row values and their counts\n",
    "def list_answers(df, cat_cols):\n",
    "    for col in cat_cols:\n",
    "        print(col)\n",
    "        print(' ')\n",
    "        print(df1[col].value_counts())\n",
    "        print(' ')\n",
    "# print counts and values\n",
    "#list_answers(df1, all_cat_cols)"
   ]
  },
  {
   "cell_type": "markdown",
   "id": "563412d5",
   "metadata": {},
   "source": [
    "Comments:  \n",
    "\n",
    "All the categorical columns have unique strings as entries. So, at this point we can use one of the encoding methods from sklearn."
   ]
  },
  {
   "cell_type": "markdown",
   "id": "7ae6658c",
   "metadata": {},
   "source": [
    "### Remove duplicates"
   ]
  },
  {
   "cell_type": "code",
   "execution_count": 26,
   "id": "56b0a709",
   "metadata": {},
   "outputs": [
    {
     "data": {
      "text/plain": [
       "(164940, 17)"
      ]
     },
     "execution_count": 26,
     "metadata": {},
     "output_type": "execute_result"
    }
   ],
   "source": [
    "# drop duplicate rows, if any\n",
    "df1.drop_duplicates(subset=None, keep='first', inplace=True)\n",
    "df1.shape"
   ]
  },
  {
   "cell_type": "markdown",
   "id": "0647a0a0",
   "metadata": {},
   "source": [
    "## Refactor code\n",
    "\n",
    "Rewrite all of the steps for data pre-processing in a single function."
   ]
  },
  {
   "cell_type": "code",
   "execution_count": 27,
   "id": "9241d305",
   "metadata": {},
   "outputs": [],
   "source": [
    "# create a fresh copy of the dataset\n",
    "dft=df.copy()"
   ]
  },
  {
   "cell_type": "code",
   "execution_count": 28,
   "id": "b1c5a91e",
   "metadata": {},
   "outputs": [
    {
     "data": {
      "text/plain": [
       "(163969, 17)"
      ]
     },
     "execution_count": 28,
     "metadata": {},
     "output_type": "execute_result"
    }
   ],
   "source": [
    "# all data cleaning and preprocessing steps\n",
    "dft = uf.remove_clean_data(dft)\n",
    "# check the outcome\n",
    "dft.shape"
   ]
  },
  {
   "cell_type": "markdown",
   "id": "180d1d99",
   "metadata": {},
   "source": [
    "## Sample data, create features and target datasets\n",
    "\n",
    "Create a dataframe X of features and a pandas series y that contains the labels."
   ]
  },
  {
   "cell_type": "code",
   "execution_count": 70,
   "id": "ef2c2180",
   "metadata": {},
   "outputs": [],
   "source": [
    "# create a copy of the pre-processed dataframe\n",
    "df2 = df1.copy()"
   ]
  },
  {
   "cell_type": "code",
   "execution_count": 71,
   "id": "f33fcada",
   "metadata": {},
   "outputs": [
    {
     "data": {
      "text/plain": [
       "((164940, 16), 164940)"
      ]
     },
     "execution_count": 71,
     "metadata": {},
     "output_type": "execute_result"
    }
   ],
   "source": [
    "# create the predictors dataframe\n",
    "X = df2.drop(columns = 'JobSat')\n",
    "\n",
    "# create the labels\n",
    "y = df2['JobSat']\n",
    "\n",
    "# check for success\n",
    "X.shape, len(y)"
   ]
  },
  {
   "cell_type": "markdown",
   "id": "b75a23df",
   "metadata": {},
   "source": [
    "### Isolate a test set"
   ]
  },
  {
   "cell_type": "code",
   "execution_count": 72,
   "id": "d63ed50d",
   "metadata": {},
   "outputs": [
    {
     "name": "stdout",
     "output_type": "stream",
     "text": [
      "Train (115458, 16) (115458,)\n",
      "Test (49482, 16) (49482,)\n"
     ]
    }
   ],
   "source": [
    "# split the data into a training set and a test set\n",
    "X_train, X_test, y_train, y_test = train_test_split(X, y, test_size=0.3, random_state=42)\n",
    "\n",
    "# summarize the data\n",
    "print('Train', X_train.shape, y_train.shape)\n",
    "print('Test', X_test.shape, y_test.shape)"
   ]
  },
  {
   "cell_type": "markdown",
   "id": "633f54bb",
   "metadata": {},
   "source": [
    "## Impute the missing values"
   ]
  },
  {
   "cell_type": "code",
   "execution_count": 73,
   "id": "0d5c9262",
   "metadata": {},
   "outputs": [],
   "source": [
    "# take the numerical columns in the train dataset\n",
    "X_train_num = X_train[num_cols]\n",
    "# create an instance of the KNN imputer\n",
    "num_imputer = KNNImputer(n_neighbors=5)\n",
    "# fit_transform the imputer on the training set\n",
    "X_train_num_imp = pd.DataFrame(num_imputer.fit_transform(X_train_num), \n",
    "                               columns=X_train_num.columns)\n",
    "# separate the numerical columns in the test set\n",
    "X_test_num = X_test[num_cols]\n",
    "# transform the test set with the imputer that was fit on the training set\n",
    "X_test_num_imp = pd.DataFrame(num_imputer.transform(X_test_num), columns=X_test_num.columns)"
   ]
  },
  {
   "cell_type": "code",
   "execution_count": 99,
   "id": "b3d4fe84",
   "metadata": {},
   "outputs": [],
   "source": [
    "# create an instance of the scaler\n",
    "scaler = StandardScaler()\n",
    "\n",
    "# scale the numerical variables, fit and transform on the straining set\n",
    "X_train_scaled = pd.DataFrame(scaler.fit_transform(X_train_num_imp), \n",
    "                                columns=X_train_num_imp.columns)\n",
    "# use the scaler fit on training set to transform the test set\n",
    "X_test_scaled = pd.DataFrame(scaler.transform(X_test_num_imp), columns=X_test_num_imp.columns)\n",
    "     "
   ]
  },
  {
   "cell_type": "code",
   "execution_count": 75,
   "id": "fbf8a1fa",
   "metadata": {},
   "outputs": [],
   "source": [
    "# separate all the categorical columns in the training set\n",
    "X_train_cat = X_train[cat_cols]\n",
    "# create an instance of the imputer\n",
    "cat_imputer = SimpleImputer(strategy='constant', fill_value='missing')\n",
    "# fit and transform the training data\n",
    "X_train_cat_imp = pd.DataFrame(cat_imputer.fit_transform(X_train_cat), \n",
    "                               columns=X_train_cat.columns)\n",
    "# separate the categorical columns in the test set\n",
    "X_test_cat = X_test[cat_cols]\n",
    "# transform the test data with the imputer fit on the training set\n",
    "X_test_cat_imp=pd.DataFrame(cat_imputer.transform(X_test_cat), columns=X_test_cat.columns)"
   ]
  },
  {
   "cell_type": "code",
   "execution_count": 92,
   "id": "09cab43a",
   "metadata": {},
   "outputs": [],
   "source": [
    "# encode the low cardinality columns\n",
    "def ord_encode_predictors(X_train, X_test):\n",
    "    oe = OrdinalEncoder()\n",
    "    oe.fit(X_train)\n",
    "    X_train_enc = pd.DataFrame(oe.transform(X_train))\n",
    "    X_test_enc = pd.DataFrame(oe.transform(X_test))\n",
    "    return X_train_enc, X_test_enc"
   ]
  },
  {
   "cell_type": "code",
   "execution_count": 93,
   "id": "3f9a17c8",
   "metadata": {},
   "outputs": [],
   "source": [
    "# the low cardinality features\n",
    "X_train_uni_enc, X_test_uni_enc = ord_encode_predictors(X_train_cat_imp[uni_cols], X_test_cat_imp[uni_cols])"
   ]
  },
  {
   "cell_type": "code",
   "execution_count": 87,
   "id": "86ae83e1",
   "metadata": {},
   "outputs": [],
   "source": [
    "# encode the high cardinality columns\n",
    "def encode_predictors(X_train, X_test):\n",
    "    enc = OneHotEncoder(handle_unknown='ignore', sparse=False)\n",
    "    enc.fit(X_train)\n",
    "    X_train_enc = pd.DataFrame(enc.transform(X_train))\n",
    "    X_test_enc = pd.DataFrame(enc.transform(X_test))\n",
    "    return X_train_enc, X_test_enc"
   ]
  },
  {
   "cell_type": "code",
   "execution_count": 94,
   "id": "74cc7f93",
   "metadata": {},
   "outputs": [],
   "source": [
    "# the low cardinality features\n",
    "X_train_multi_enc, X_test_multi_enc = encode_predictors(X_train_cat_imp[multi_cols], X_test_cat_imp[multi_cols])"
   ]
  },
  {
   "cell_type": "code",
   "execution_count": 90,
   "id": "820a594e",
   "metadata": {},
   "outputs": [],
   "source": [
    "# encode the target variable\n",
    "def encode_targets(y_train, y_test):\n",
    "\tle = LabelEncoder()\n",
    "\tle.fit(y_train)\n",
    "\ty_train_enc = le.transform(y_train)\n",
    "\ty_test_enc = le.transform(y_test)\n",
    "\treturn y_train_enc, y_test_enc"
   ]
  },
  {
   "cell_type": "code",
   "execution_count": 91,
   "id": "bf311d71",
   "metadata": {},
   "outputs": [],
   "source": [
    "# encode the target variable\n",
    "y_train_enc, y_test_enc = encode_targets(y_train,y_test)"
   ]
  },
  {
   "cell_type": "code",
   "execution_count": 100,
   "id": "17c43b6b",
   "metadata": {},
   "outputs": [],
   "source": [
    "# combine the  X frames \n",
    "X_train_cat_enc = pd.concat([X_train_multi_enc, X_train_uni_enc], axis=1)\n",
    "X_train_prep = pd.concat([X_train_cat_enc, X_train_scaled], axis=1)\n",
    "\n",
    "X_test_cat_enc = pd.concat([X_test_multi_enc, X_test_uni_enc], axis=1)\n",
    "X_test_prep = pd.concat([X_test_cat_enc, X_test_scaled], axis=1)\n"
   ]
  },
  {
   "cell_type": "code",
   "execution_count": 104,
   "id": "d546b4ba",
   "metadata": {},
   "outputs": [
    {
     "data": {
      "text/plain": [
       "array([1, 4, 4, ..., 1, 2, 4])"
      ]
     },
     "execution_count": 104,
     "metadata": {},
     "output_type": "execute_result"
    }
   ],
   "source": [
    "y_train_enc"
   ]
  },
  {
   "cell_type": "code",
   "execution_count": 105,
   "id": "147b42aa",
   "metadata": {},
   "outputs": [],
   "source": [
    "# feature selection\n",
    "def select_features(X_train, y_train, X_test):\n",
    "\tfs = SelectKBest(score_func=mutual_info_classif, k=20)\n",
    "\tfs.fit(X_train, y_train)\n",
    "\tX_train_fs = fs.transform(X_train)\n",
    "\tX_test_fs = fs.transform(X_test)\n",
    "\treturn X_train_fs, X_test_fs, fs"
   ]
  },
  {
   "cell_type": "code",
   "execution_count": 108,
   "id": "255371e0",
   "metadata": {
    "scrolled": true
   },
   "outputs": [],
   "source": [
    "X_train_fs, X_test_fs, fs = select_features(X_train_prep, y_train_enc, X_test_prep)"
   ]
  },
  {
   "cell_type": "code",
   "execution_count": 126,
   "id": "dcc301e6",
   "metadata": {},
   "outputs": [],
   "source": [
    "df_sample = df.groupby('JobSat', group_keys=False).apply(\n",
    "    lambda x: x.sample(frac=0.3, replace=False, random_state=42))"
   ]
  },
  {
   "cell_type": "code",
   "execution_count": 127,
   "id": "0a2dc0da",
   "metadata": {},
   "outputs": [],
   "source": [
    "def cal_mutual_info(df, target_var=None, disc_features_only=True):\n",
    "    \"\"\"Calculate mutual information for feature selection, based on mutual_info_classif from sklearn.feature_selection.\n",
    "    :param df: Pandas dataframe\n",
    "    :param target_var: target variable\n",
    "    :param disc_features_only: boolean, calculate mutual information for discrete feature only\n",
    "    :return:\n",
    "        a Pandas dataframe with mutual information for features\n",
    "    \"\"\"\n",
    "    df = df.copy()\n",
    "\n",
    "    df_f_type = df.dtypes\n",
    "    df_f_type = df_f_type.loc[~df_f_type.index.isin([target_var])].copy()\n",
    "    cols_if_num = df_f_type.apply(lambda x: np.issubdtype(x, np.number))\n",
    "    discrete_f = ~cols_if_num\n",
    "    # get all categorical features\n",
    "    cols_num = cols_if_num[cols_if_num].index.tolist()\n",
    "    cols_cat = cols_if_num[~cols_if_num].index.tolist()\n",
    "\n",
    "    for col_cat in cols_cat:\n",
    "        df[col_cat] = df[col_cat].fillna('Missing')\n",
    "\n",
    "    for col_num in cols_num:\n",
    "        df[col_num] = df[col_num].fillna(df[col_num].mean())\n",
    "\n",
    "    enc = OrdinalEncoder()\n",
    "    df[cols_cat] = enc.fit_transform(df[cols_cat])\n",
    "    enc = OrdinalEncoder()\n",
    "    df.loc[:, target_var] = enc.fit_transform(df[[target_var]])\n",
    "\n",
    "    if not disc_features_only:\n",
    "        all_features = df_f_type.index.tolist()\n",
    "        mutual_info = mutual_info_classif(df[all_features], df[target_var].values,\n",
    "                                          discrete_features=discrete_f,\n",
    "                                          n_neighbors=20,\n",
    "                                          random_state=123)\n",
    "        df_mutual_info = pd.DataFrame(data=zip(all_features, mutual_info), columns=['columns', 'mutual_info'])\n",
    "        return df_mutual_info\n",
    "    else:\n",
    "\n",
    "        mutual_info = mutual_info_classif(df[cols_cat], df[target_var].values,\n",
    "                                          discrete_features=True)\n",
    "        df_mutual_info = pd.DataFrame(data=zip(cols_cat, mutual_info), columns=['columns', 'mutual_info'])\n",
    "        return df_mutual_info"
   ]
  },
  {
   "cell_type": "code",
   "execution_count": 132,
   "id": "ed2443e5",
   "metadata": {},
   "outputs": [],
   "source": [
    "multiple = [\n",
    "    'DatabaseDesireNextYear', 'MiscTechDesireNextYear',\n",
    "    'CollabToolsDesireNextYear', 'PlatformDesireNextYear',\n",
    "    'LanguageDesireNextYear', 'WebframeDesireNextYear',\n",
    "    'MiscTechWorkedWith', 'DatabaseWorkedWith',\n",
    "    'WebframeWorkedWith', 'LanguageWorkedWith',\n",
    "    'CollabToolsWorkedWith', 'PlatformWorkedWith']\n",
    "\n",
    "   "
   ]
  },
  {
   "cell_type": "code",
   "execution_count": 134,
   "id": "8bb86421",
   "metadata": {},
   "outputs": [],
   "source": [
    "df_f_mutual_info = cal_mutual_info(df_sample.drop(multiple, axis=1), target_var='JobSat', disc_features_only=False)"
   ]
  },
  {
   "cell_type": "code",
   "execution_count": 135,
   "id": "4f8ce7dd",
   "metadata": {
    "scrolled": true
   },
   "outputs": [
    {
     "data": {
      "text/html": [
       "<div>\n",
       "<style scoped>\n",
       "    .dataframe tbody tr th:only-of-type {\n",
       "        vertical-align: middle;\n",
       "    }\n",
       "\n",
       "    .dataframe tbody tr th {\n",
       "        vertical-align: top;\n",
       "    }\n",
       "\n",
       "    .dataframe thead th {\n",
       "        text-align: right;\n",
       "    }\n",
       "</style>\n",
       "<table border=\"1\" class=\"dataframe\">\n",
       "  <thead>\n",
       "    <tr style=\"text-align: right;\">\n",
       "      <th></th>\n",
       "      <th>columns</th>\n",
       "      <th>mutual_info</th>\n",
       "    </tr>\n",
       "  </thead>\n",
       "  <tbody>\n",
       "    <tr>\n",
       "      <th>0</th>\n",
       "      <td>MainBranch</td>\n",
       "      <td>0.000086</td>\n",
       "    </tr>\n",
       "    <tr>\n",
       "      <th>1</th>\n",
       "      <td>Hobbyist</td>\n",
       "      <td>0.000502</td>\n",
       "    </tr>\n",
       "    <tr>\n",
       "      <th>2</th>\n",
       "      <td>Age</td>\n",
       "      <td>0.007715</td>\n",
       "    </tr>\n",
       "    <tr>\n",
       "      <th>3</th>\n",
       "      <td>Age1stCode</td>\n",
       "      <td>0.010964</td>\n",
       "    </tr>\n",
       "    <tr>\n",
       "      <th>4</th>\n",
       "      <td>CompFreq</td>\n",
       "      <td>0.005972</td>\n",
       "    </tr>\n",
       "    <tr>\n",
       "      <th>5</th>\n",
       "      <td>CompTotal</td>\n",
       "      <td>0.002975</td>\n",
       "    </tr>\n",
       "    <tr>\n",
       "      <th>6</th>\n",
       "      <td>ConvertedComp</td>\n",
       "      <td>0.014892</td>\n",
       "    </tr>\n",
       "    <tr>\n",
       "      <th>7</th>\n",
       "      <td>Country</td>\n",
       "      <td>0.043485</td>\n",
       "    </tr>\n",
       "    <tr>\n",
       "      <th>8</th>\n",
       "      <td>CurrencyDesc</td>\n",
       "      <td>0.036236</td>\n",
       "    </tr>\n",
       "    <tr>\n",
       "      <th>9</th>\n",
       "      <td>CurrencySymbol</td>\n",
       "      <td>0.036236</td>\n",
       "    </tr>\n",
       "    <tr>\n",
       "      <th>10</th>\n",
       "      <td>DevType</td>\n",
       "      <td>0.380142</td>\n",
       "    </tr>\n",
       "    <tr>\n",
       "      <th>11</th>\n",
       "      <td>EdLevel</td>\n",
       "      <td>0.003022</td>\n",
       "    </tr>\n",
       "    <tr>\n",
       "      <th>12</th>\n",
       "      <td>Employment</td>\n",
       "      <td>0.001738</td>\n",
       "    </tr>\n",
       "    <tr>\n",
       "      <th>13</th>\n",
       "      <td>Ethnicity</td>\n",
       "      <td>0.024971</td>\n",
       "    </tr>\n",
       "    <tr>\n",
       "      <th>14</th>\n",
       "      <td>Gender</td>\n",
       "      <td>0.001903</td>\n",
       "    </tr>\n",
       "    <tr>\n",
       "      <th>15</th>\n",
       "      <td>JobFactors</td>\n",
       "      <td>0.040776</td>\n",
       "    </tr>\n",
       "    <tr>\n",
       "      <th>16</th>\n",
       "      <td>JobSeek</td>\n",
       "      <td>0.096458</td>\n",
       "    </tr>\n",
       "    <tr>\n",
       "      <th>17</th>\n",
       "      <td>DevOps</td>\n",
       "      <td>0.003279</td>\n",
       "    </tr>\n",
       "    <tr>\n",
       "      <th>18</th>\n",
       "      <td>DevOpsImpt</td>\n",
       "      <td>0.003664</td>\n",
       "    </tr>\n",
       "    <tr>\n",
       "      <th>19</th>\n",
       "      <td>EdImpt</td>\n",
       "      <td>0.003059</td>\n",
       "    </tr>\n",
       "    <tr>\n",
       "      <th>20</th>\n",
       "      <td>JobHunt</td>\n",
       "      <td>0.232587</td>\n",
       "    </tr>\n",
       "    <tr>\n",
       "      <th>21</th>\n",
       "      <td>JobHuntResearch</td>\n",
       "      <td>0.013436</td>\n",
       "    </tr>\n",
       "    <tr>\n",
       "      <th>22</th>\n",
       "      <td>Learn</td>\n",
       "      <td>0.001608</td>\n",
       "    </tr>\n",
       "    <tr>\n",
       "      <th>23</th>\n",
       "      <td>OffTopic</td>\n",
       "      <td>0.001678</td>\n",
       "    </tr>\n",
       "    <tr>\n",
       "      <th>24</th>\n",
       "      <td>OnboardGood</td>\n",
       "      <td>0.032317</td>\n",
       "    </tr>\n",
       "    <tr>\n",
       "      <th>25</th>\n",
       "      <td>OtherComms</td>\n",
       "      <td>0.000292</td>\n",
       "    </tr>\n",
       "    <tr>\n",
       "      <th>26</th>\n",
       "      <td>Overtime</td>\n",
       "      <td>0.002245</td>\n",
       "    </tr>\n",
       "    <tr>\n",
       "      <th>27</th>\n",
       "      <td>PurchaseResearch</td>\n",
       "      <td>0.016108</td>\n",
       "    </tr>\n",
       "    <tr>\n",
       "      <th>28</th>\n",
       "      <td>PurpleLink</td>\n",
       "      <td>0.002098</td>\n",
       "    </tr>\n",
       "    <tr>\n",
       "      <th>29</th>\n",
       "      <td>SOSites</td>\n",
       "      <td>0.014170</td>\n",
       "    </tr>\n",
       "    <tr>\n",
       "      <th>30</th>\n",
       "      <td>Stuck</td>\n",
       "      <td>0.053754</td>\n",
       "    </tr>\n",
       "    <tr>\n",
       "      <th>31</th>\n",
       "      <td>OpSys</td>\n",
       "      <td>0.002397</td>\n",
       "    </tr>\n",
       "    <tr>\n",
       "      <th>32</th>\n",
       "      <td>OrgSize</td>\n",
       "      <td>0.002574</td>\n",
       "    </tr>\n",
       "    <tr>\n",
       "      <th>33</th>\n",
       "      <td>PurchaseWhat</td>\n",
       "      <td>0.007123</td>\n",
       "    </tr>\n",
       "    <tr>\n",
       "      <th>34</th>\n",
       "      <td>Sexuality</td>\n",
       "      <td>0.004628</td>\n",
       "    </tr>\n",
       "    <tr>\n",
       "      <th>35</th>\n",
       "      <td>SOAccount</td>\n",
       "      <td>0.001156</td>\n",
       "    </tr>\n",
       "    <tr>\n",
       "      <th>36</th>\n",
       "      <td>SOComm</td>\n",
       "      <td>0.003419</td>\n",
       "    </tr>\n",
       "    <tr>\n",
       "      <th>37</th>\n",
       "      <td>SOPartFreq</td>\n",
       "      <td>0.001416</td>\n",
       "    </tr>\n",
       "    <tr>\n",
       "      <th>38</th>\n",
       "      <td>SOVisitFreq</td>\n",
       "      <td>0.002404</td>\n",
       "    </tr>\n",
       "    <tr>\n",
       "      <th>39</th>\n",
       "      <td>SurveyEase</td>\n",
       "      <td>0.003786</td>\n",
       "    </tr>\n",
       "    <tr>\n",
       "      <th>40</th>\n",
       "      <td>SurveyLength</td>\n",
       "      <td>0.002741</td>\n",
       "    </tr>\n",
       "    <tr>\n",
       "      <th>41</th>\n",
       "      <td>Trans</td>\n",
       "      <td>0.001455</td>\n",
       "    </tr>\n",
       "    <tr>\n",
       "      <th>42</th>\n",
       "      <td>UndergradMajor</td>\n",
       "      <td>0.003423</td>\n",
       "    </tr>\n",
       "    <tr>\n",
       "      <th>43</th>\n",
       "      <td>WelcomeChange</td>\n",
       "      <td>0.002429</td>\n",
       "    </tr>\n",
       "    <tr>\n",
       "      <th>44</th>\n",
       "      <td>WorkWeekHrs</td>\n",
       "      <td>0.006303</td>\n",
       "    </tr>\n",
       "    <tr>\n",
       "      <th>45</th>\n",
       "      <td>YearsCode</td>\n",
       "      <td>0.011142</td>\n",
       "    </tr>\n",
       "    <tr>\n",
       "      <th>46</th>\n",
       "      <td>YearsCodePro</td>\n",
       "      <td>0.010334</td>\n",
       "    </tr>\n",
       "    <tr>\n",
       "      <th>47</th>\n",
       "      <td>DevClass</td>\n",
       "      <td>0.000242</td>\n",
       "    </tr>\n",
       "  </tbody>\n",
       "</table>\n",
       "</div>"
      ],
      "text/plain": [
       "             columns  mutual_info\n",
       "0         MainBranch     0.000086\n",
       "1           Hobbyist     0.000502\n",
       "2                Age     0.007715\n",
       "3         Age1stCode     0.010964\n",
       "4           CompFreq     0.005972\n",
       "5          CompTotal     0.002975\n",
       "6      ConvertedComp     0.014892\n",
       "7            Country     0.043485\n",
       "8       CurrencyDesc     0.036236\n",
       "9     CurrencySymbol     0.036236\n",
       "10           DevType     0.380142\n",
       "11           EdLevel     0.003022\n",
       "12        Employment     0.001738\n",
       "13         Ethnicity     0.024971\n",
       "14            Gender     0.001903\n",
       "15        JobFactors     0.040776\n",
       "16           JobSeek     0.096458\n",
       "17            DevOps     0.003279\n",
       "18        DevOpsImpt     0.003664\n",
       "19            EdImpt     0.003059\n",
       "20           JobHunt     0.232587\n",
       "21   JobHuntResearch     0.013436\n",
       "22             Learn     0.001608\n",
       "23          OffTopic     0.001678\n",
       "24       OnboardGood     0.032317\n",
       "25        OtherComms     0.000292\n",
       "26          Overtime     0.002245\n",
       "27  PurchaseResearch     0.016108\n",
       "28        PurpleLink     0.002098\n",
       "29           SOSites     0.014170\n",
       "30             Stuck     0.053754\n",
       "31             OpSys     0.002397\n",
       "32           OrgSize     0.002574\n",
       "33      PurchaseWhat     0.007123\n",
       "34         Sexuality     0.004628\n",
       "35         SOAccount     0.001156\n",
       "36            SOComm     0.003419\n",
       "37        SOPartFreq     0.001416\n",
       "38       SOVisitFreq     0.002404\n",
       "39        SurveyEase     0.003786\n",
       "40      SurveyLength     0.002741\n",
       "41             Trans     0.001455\n",
       "42    UndergradMajor     0.003423\n",
       "43     WelcomeChange     0.002429\n",
       "44       WorkWeekHrs     0.006303\n",
       "45         YearsCode     0.011142\n",
       "46      YearsCodePro     0.010334\n",
       "47          DevClass     0.000242"
      ]
     },
     "execution_count": 135,
     "metadata": {},
     "output_type": "execute_result"
    }
   ],
   "source": [
    "df_f_mutual_info"
   ]
  },
  {
   "cell_type": "code",
   "execution_count": 136,
   "id": "fb8560d9",
   "metadata": {},
   "outputs": [
    {
     "data": {
      "text/html": [
       "<div>\n",
       "<style scoped>\n",
       "    .dataframe tbody tr th:only-of-type {\n",
       "        vertical-align: middle;\n",
       "    }\n",
       "\n",
       "    .dataframe tbody tr th {\n",
       "        vertical-align: top;\n",
       "    }\n",
       "\n",
       "    .dataframe thead th {\n",
       "        text-align: right;\n",
       "    }\n",
       "</style>\n",
       "<table border=\"1\" class=\"dataframe\">\n",
       "  <thead>\n",
       "    <tr style=\"text-align: right;\">\n",
       "      <th></th>\n",
       "      <th>columns</th>\n",
       "      <th>mutual_info</th>\n",
       "    </tr>\n",
       "  </thead>\n",
       "  <tbody>\n",
       "    <tr>\n",
       "      <th>2</th>\n",
       "      <td>Age</td>\n",
       "      <td>0.007715</td>\n",
       "    </tr>\n",
       "    <tr>\n",
       "      <th>3</th>\n",
       "      <td>Age1stCode</td>\n",
       "      <td>0.010964</td>\n",
       "    </tr>\n",
       "    <tr>\n",
       "      <th>4</th>\n",
       "      <td>CompFreq</td>\n",
       "      <td>0.005972</td>\n",
       "    </tr>\n",
       "    <tr>\n",
       "      <th>6</th>\n",
       "      <td>ConvertedComp</td>\n",
       "      <td>0.014892</td>\n",
       "    </tr>\n",
       "    <tr>\n",
       "      <th>7</th>\n",
       "      <td>Country</td>\n",
       "      <td>0.043485</td>\n",
       "    </tr>\n",
       "    <tr>\n",
       "      <th>8</th>\n",
       "      <td>CurrencyDesc</td>\n",
       "      <td>0.036236</td>\n",
       "    </tr>\n",
       "    <tr>\n",
       "      <th>9</th>\n",
       "      <td>CurrencySymbol</td>\n",
       "      <td>0.036236</td>\n",
       "    </tr>\n",
       "    <tr>\n",
       "      <th>10</th>\n",
       "      <td>DevType</td>\n",
       "      <td>0.380142</td>\n",
       "    </tr>\n",
       "    <tr>\n",
       "      <th>13</th>\n",
       "      <td>Ethnicity</td>\n",
       "      <td>0.024971</td>\n",
       "    </tr>\n",
       "    <tr>\n",
       "      <th>15</th>\n",
       "      <td>JobFactors</td>\n",
       "      <td>0.040776</td>\n",
       "    </tr>\n",
       "    <tr>\n",
       "      <th>16</th>\n",
       "      <td>JobSeek</td>\n",
       "      <td>0.096458</td>\n",
       "    </tr>\n",
       "    <tr>\n",
       "      <th>20</th>\n",
       "      <td>JobHunt</td>\n",
       "      <td>0.232587</td>\n",
       "    </tr>\n",
       "    <tr>\n",
       "      <th>21</th>\n",
       "      <td>JobHuntResearch</td>\n",
       "      <td>0.013436</td>\n",
       "    </tr>\n",
       "    <tr>\n",
       "      <th>24</th>\n",
       "      <td>OnboardGood</td>\n",
       "      <td>0.032317</td>\n",
       "    </tr>\n",
       "    <tr>\n",
       "      <th>27</th>\n",
       "      <td>PurchaseResearch</td>\n",
       "      <td>0.016108</td>\n",
       "    </tr>\n",
       "    <tr>\n",
       "      <th>29</th>\n",
       "      <td>SOSites</td>\n",
       "      <td>0.014170</td>\n",
       "    </tr>\n",
       "    <tr>\n",
       "      <th>30</th>\n",
       "      <td>Stuck</td>\n",
       "      <td>0.053754</td>\n",
       "    </tr>\n",
       "    <tr>\n",
       "      <th>33</th>\n",
       "      <td>PurchaseWhat</td>\n",
       "      <td>0.007123</td>\n",
       "    </tr>\n",
       "    <tr>\n",
       "      <th>44</th>\n",
       "      <td>WorkWeekHrs</td>\n",
       "      <td>0.006303</td>\n",
       "    </tr>\n",
       "    <tr>\n",
       "      <th>45</th>\n",
       "      <td>YearsCode</td>\n",
       "      <td>0.011142</td>\n",
       "    </tr>\n",
       "    <tr>\n",
       "      <th>46</th>\n",
       "      <td>YearsCodePro</td>\n",
       "      <td>0.010334</td>\n",
       "    </tr>\n",
       "  </tbody>\n",
       "</table>\n",
       "</div>"
      ],
      "text/plain": [
       "             columns  mutual_info\n",
       "2                Age     0.007715\n",
       "3         Age1stCode     0.010964\n",
       "4           CompFreq     0.005972\n",
       "6      ConvertedComp     0.014892\n",
       "7            Country     0.043485\n",
       "8       CurrencyDesc     0.036236\n",
       "9     CurrencySymbol     0.036236\n",
       "10           DevType     0.380142\n",
       "13         Ethnicity     0.024971\n",
       "15        JobFactors     0.040776\n",
       "16           JobSeek     0.096458\n",
       "20           JobHunt     0.232587\n",
       "21   JobHuntResearch     0.013436\n",
       "24       OnboardGood     0.032317\n",
       "27  PurchaseResearch     0.016108\n",
       "29           SOSites     0.014170\n",
       "30             Stuck     0.053754\n",
       "33      PurchaseWhat     0.007123\n",
       "44       WorkWeekHrs     0.006303\n",
       "45         YearsCode     0.011142\n",
       "46      YearsCodePro     0.010334"
      ]
     },
     "execution_count": 136,
     "metadata": {},
     "output_type": "execute_result"
    }
   ],
   "source": [
    "df_f_mutual_info[df_f_mutual_info['mutual_info'] > 0.005]"
   ]
  },
  {
   "cell_type": "code",
   "execution_count": 117,
   "id": "214b647b",
   "metadata": {},
   "outputs": [
    {
     "data": {
      "text/plain": [
       "<BarContainer object of 43 artists>"
      ]
     },
     "execution_count": 117,
     "metadata": {},
     "output_type": "execute_result"
    },
    {
     "data": {
      "image/png": "[encoded data removed]",
      "text/plain": [
       "<Figure size 432x288 with 1 Axes>"
      ]
     },
     "metadata": {},
     "output_type": "display_data"
    }
   ],
   "source": [
    "#plot the scores\n",
    "plt.bar([i for i in range(len(fs.scores_))], fs.scores_)"
   ]
  },
  {
   "cell_type": "markdown",
   "id": "5d7c1d91",
   "metadata": {},
   "source": [
    "### Create a profiling report"
   ]
  },
  {
   "cell_type": "code",
   "execution_count": 44,
   "id": "9798aa42",
   "metadata": {},
   "outputs": [],
   "source": [
    "# run this once to generate a profiling report and save it as html file\n",
    "\n",
    "#import pandas_profiling\n",
    "#profile = pandas_profiling.ProfileReport(X_train, minimal=False)\n",
    "#profile.to_file(output_file=\"data_train_report.html\")"
   ]
  },
  {
   "cell_type": "markdown",
   "id": "746f84af",
   "metadata": {},
   "source": [
    "## Impute the missing values"
   ]
  },
  {
   "cell_type": "code",
   "execution_count": 45,
   "id": "97890a4a",
   "metadata": {
    "scrolled": true
   },
   "outputs": [],
   "source": [
    "# create a copy of the train set\n",
    "Xt = X_train.copy()"
   ]
  },
  {
   "cell_type": "code",
   "execution_count": 46,
   "id": "73cbbe31",
   "metadata": {},
   "outputs": [
    {
     "data": {
      "text/plain": [
       "ConvertedComp    6173\n",
       "WorkWeekHrs      2418\n",
       "YearsCode         157\n",
       "dtype: int64"
      ]
     },
     "execution_count": 46,
     "metadata": {},
     "output_type": "execute_result"
    }
   ],
   "source": [
    "# the numerical columns subset\n",
    "Xt_num = Xt[num_cols]\n",
    "Xt_num.isnull().sum()"
   ]
  },
  {
   "cell_type": "code",
   "execution_count": 47,
   "id": "668592bc",
   "metadata": {},
   "outputs": [
    {
     "data": {
      "text/plain": [
       "ConvertedComp    0\n",
       "WorkWeekHrs      0\n",
       "YearsCode        0\n",
       "dtype: int64"
      ]
     },
     "execution_count": 47,
     "metadata": {},
     "output_type": "execute_result"
    }
   ],
   "source": [
    "# create an instance of the imputer\n",
    "num_imputer = KNNImputer(n_neighbors=5)\n",
    "# impute the missing numerical values\n",
    "Xt_num_imp= pd.DataFrame(num_imputer.fit_transform(Xt_num), columns=Xt_num.columns)\n",
    "\n",
    "# check the outcome\n",
    "Xt_num_imp.isnull().sum()"
   ]
  },
  {
   "cell_type": "code",
   "execution_count": 48,
   "id": "37ae5d87",
   "metadata": {},
   "outputs": [
    {
     "data": {
      "text/plain": [
       "DevType                  0\n",
       "EdLevel                374\n",
       "DevOps                1033\n",
       "DevOpsImpt            1372\n",
       "EdImpt                 467\n",
       "Learn                 1078\n",
       "OnboardGood           1064\n",
       "Overtime               842\n",
       "OpSys                  851\n",
       "OrgSize                537\n",
       "PlatformWorkedWith     701\n",
       "UndergradMajor        1915\n",
       "dtype: int64"
      ]
     },
     "execution_count": 48,
     "metadata": {},
     "output_type": "execute_result"
    }
   ],
   "source": [
    "# the categorical columns subset\n",
    "Xt_cat = Xt[cat_cols]\n",
    "Xt_cat.isnull().sum()"
   ]
  },
  {
   "cell_type": "code",
   "execution_count": 49,
   "id": "e06302d0",
   "metadata": {},
   "outputs": [
    {
     "data": {
      "text/plain": [
       "DevType               0\n",
       "EdLevel               0\n",
       "DevOps                0\n",
       "DevOpsImpt            0\n",
       "EdImpt                0\n",
       "Learn                 0\n",
       "OnboardGood           0\n",
       "Overtime              0\n",
       "OpSys                 0\n",
       "OrgSize               0\n",
       "PlatformWorkedWith    0\n",
       "UndergradMajor        0\n",
       "dtype: int64"
      ]
     },
     "execution_count": 49,
     "metadata": {},
     "output_type": "execute_result"
    }
   ],
   "source": [
    "# create an instance of the imputer\n",
    "cat_imputer = SimpleImputer(strategy='constant', fill_value='missing')\n",
    "# impute the missing categorical values\n",
    "Xt_cat_imp = pd.DataFrame(cat_imputer.fit_transform(Xt_cat), columns=Xt_cat.columns)\n",
    "\n",
    "# check for success\n",
    "Xt_cat_imp.isnull().sum()"
   ]
  },
  {
   "cell_type": "markdown",
   "id": "db87e638",
   "metadata": {},
   "source": [
    "## Encode the categorical variables"
   ]
  },
  {
   "cell_type": "code",
   "execution_count": 50,
   "id": "58242af8",
   "metadata": {},
   "outputs": [],
   "source": [
    "# create dummies for the categorical variables\n",
    "\n",
    "def encode_predictors(X_train): #X_test\n",
    "\tenc = OneHotEncoder(handle_unknown='ignore', sparse=False)\n",
    "\tenc.fit(X_train)\n",
    "\tX_train_enc = pd.DataFrame(enc.transform(X_train))\n",
    "    #X_test_enc = enc.transform(X_test)\n",
    "\treturn X_train_enc#, X_test_enc"
   ]
  },
  {
   "cell_type": "code",
   "execution_count": 51,
   "id": "e2d9835d",
   "metadata": {},
   "outputs": [],
   "source": [
    "Xt_enc = encode_predictors(Xt_cat_imp)"
   ]
  },
  {
   "cell_type": "markdown",
   "id": "ae9b9b7c",
   "metadata": {},
   "source": [
    "## Scale the numerical variables"
   ]
  },
  {
   "cell_type": "code",
   "execution_count": 52,
   "id": "4475326b",
   "metadata": {},
   "outputs": [
    {
     "data": {
      "text/html": [
       "<div>\n",
       "<style scoped>\n",
       "    .dataframe tbody tr th:only-of-type {\n",
       "        vertical-align: middle;\n",
       "    }\n",
       "\n",
       "    .dataframe tbody tr th {\n",
       "        vertical-align: top;\n",
       "    }\n",
       "\n",
       "    .dataframe thead th {\n",
       "        text-align: right;\n",
       "    }\n",
       "</style>\n",
       "<table border=\"1\" class=\"dataframe\">\n",
       "  <thead>\n",
       "    <tr style=\"text-align: right;\">\n",
       "      <th></th>\n",
       "      <th>ConvertedComp</th>\n",
       "      <th>WorkWeekHrs</th>\n",
       "      <th>YearsCode</th>\n",
       "    </tr>\n",
       "  </thead>\n",
       "  <tbody>\n",
       "    <tr>\n",
       "      <th>0</th>\n",
       "      <td>2.404268</td>\n",
       "      <td>0.016779</td>\n",
       "      <td>-1.303475</td>\n",
       "    </tr>\n",
       "    <tr>\n",
       "      <th>1</th>\n",
       "      <td>-0.439017</td>\n",
       "      <td>-0.754697</td>\n",
       "      <td>0.255928</td>\n",
       "    </tr>\n",
       "    <tr>\n",
       "      <th>2</th>\n",
       "      <td>-0.441597</td>\n",
       "      <td>-0.161254</td>\n",
       "      <td>-0.523774</td>\n",
       "    </tr>\n",
       "    <tr>\n",
       "      <th>3</th>\n",
       "      <td>-0.350753</td>\n",
       "      <td>-0.161254</td>\n",
       "      <td>-0.718699</td>\n",
       "    </tr>\n",
       "    <tr>\n",
       "      <th>4</th>\n",
       "      <td>-0.276874</td>\n",
       "      <td>0.432189</td>\n",
       "      <td>-0.621236</td>\n",
       "    </tr>\n",
       "  </tbody>\n",
       "</table>\n",
       "</div>"
      ],
      "text/plain": [
       "   ConvertedComp  WorkWeekHrs  YearsCode\n",
       "0       2.404268     0.016779  -1.303475\n",
       "1      -0.439017    -0.754697   0.255928\n",
       "2      -0.441597    -0.161254  -0.523774\n",
       "3      -0.350753    -0.161254  -0.718699\n",
       "4      -0.276874     0.432189  -0.621236"
      ]
     },
     "execution_count": 52,
     "metadata": {},
     "output_type": "execute_result"
    }
   ],
   "source": [
    "# create an instance of the scaler\n",
    "scaler = StandardScaler()\n",
    "\n",
    "# scale the numerical variables\n",
    "Xt_scaled = pd.DataFrame(scaler.fit_transform(Xt_num_imp), columns=Xt_num.columns)\n",
    "\n",
    "# check the outcome\n",
    "Xt_scaled.head()"
   ]
  },
  {
   "cell_type": "code",
   "execution_count": 53,
   "id": "4b9894a4",
   "metadata": {},
   "outputs": [
    {
     "data": {
      "text/html": [
       "<div>\n",
       "<style scoped>\n",
       "    .dataframe tbody tr th:only-of-type {\n",
       "        vertical-align: middle;\n",
       "    }\n",
       "\n",
       "    .dataframe tbody tr th {\n",
       "        vertical-align: top;\n",
       "    }\n",
       "\n",
       "    .dataframe thead th {\n",
       "        text-align: right;\n",
       "    }\n",
       "</style>\n",
       "<table border=\"1\" class=\"dataframe\">\n",
       "  <thead>\n",
       "    <tr style=\"text-align: right;\">\n",
       "      <th></th>\n",
       "      <th>ConvertedComp</th>\n",
       "      <th>WorkWeekHrs</th>\n",
       "      <th>YearsCode</th>\n",
       "      <th>0</th>\n",
       "      <th>1</th>\n",
       "      <th>2</th>\n",
       "      <th>3</th>\n",
       "      <th>4</th>\n",
       "      <th>5</th>\n",
       "      <th>6</th>\n",
       "      <th>...</th>\n",
       "      <th>79</th>\n",
       "      <th>80</th>\n",
       "      <th>81</th>\n",
       "      <th>82</th>\n",
       "      <th>83</th>\n",
       "      <th>84</th>\n",
       "      <th>85</th>\n",
       "      <th>86</th>\n",
       "      <th>87</th>\n",
       "      <th>88</th>\n",
       "    </tr>\n",
       "  </thead>\n",
       "  <tbody>\n",
       "    <tr>\n",
       "      <th>0</th>\n",
       "      <td>2.404268</td>\n",
       "      <td>0.016779</td>\n",
       "      <td>-1.303475</td>\n",
       "      <td>0.0</td>\n",
       "      <td>1.0</td>\n",
       "      <td>0.0</td>\n",
       "      <td>0.0</td>\n",
       "      <td>1.0</td>\n",
       "      <td>0.0</td>\n",
       "      <td>0.0</td>\n",
       "      <td>...</td>\n",
       "      <td>0.0</td>\n",
       "      <td>0.0</td>\n",
       "      <td>0.0</td>\n",
       "      <td>0.0</td>\n",
       "      <td>0.0</td>\n",
       "      <td>0.0</td>\n",
       "      <td>0.0</td>\n",
       "      <td>0.0</td>\n",
       "      <td>0.0</td>\n",
       "      <td>0.0</td>\n",
       "    </tr>\n",
       "    <tr>\n",
       "      <th>1</th>\n",
       "      <td>-0.439017</td>\n",
       "      <td>-0.754697</td>\n",
       "      <td>0.255928</td>\n",
       "      <td>0.0</td>\n",
       "      <td>0.0</td>\n",
       "      <td>1.0</td>\n",
       "      <td>0.0</td>\n",
       "      <td>0.0</td>\n",
       "      <td>0.0</td>\n",
       "      <td>0.0</td>\n",
       "      <td>...</td>\n",
       "      <td>0.0</td>\n",
       "      <td>0.0</td>\n",
       "      <td>0.0</td>\n",
       "      <td>0.0</td>\n",
       "      <td>0.0</td>\n",
       "      <td>0.0</td>\n",
       "      <td>0.0</td>\n",
       "      <td>0.0</td>\n",
       "      <td>0.0</td>\n",
       "      <td>0.0</td>\n",
       "    </tr>\n",
       "    <tr>\n",
       "      <th>2</th>\n",
       "      <td>-0.441597</td>\n",
       "      <td>-0.161254</td>\n",
       "      <td>-0.523774</td>\n",
       "      <td>1.0</td>\n",
       "      <td>0.0</td>\n",
       "      <td>0.0</td>\n",
       "      <td>0.0</td>\n",
       "      <td>0.0</td>\n",
       "      <td>0.0</td>\n",
       "      <td>0.0</td>\n",
       "      <td>...</td>\n",
       "      <td>0.0</td>\n",
       "      <td>0.0</td>\n",
       "      <td>0.0</td>\n",
       "      <td>1.0</td>\n",
       "      <td>0.0</td>\n",
       "      <td>0.0</td>\n",
       "      <td>0.0</td>\n",
       "      <td>0.0</td>\n",
       "      <td>0.0</td>\n",
       "      <td>0.0</td>\n",
       "    </tr>\n",
       "    <tr>\n",
       "      <th>3</th>\n",
       "      <td>-0.350753</td>\n",
       "      <td>-0.161254</td>\n",
       "      <td>-0.718699</td>\n",
       "      <td>0.0</td>\n",
       "      <td>1.0</td>\n",
       "      <td>0.0</td>\n",
       "      <td>0.0</td>\n",
       "      <td>0.0</td>\n",
       "      <td>0.0</td>\n",
       "      <td>1.0</td>\n",
       "      <td>...</td>\n",
       "      <td>0.0</td>\n",
       "      <td>0.0</td>\n",
       "      <td>0.0</td>\n",
       "      <td>0.0</td>\n",
       "      <td>0.0</td>\n",
       "      <td>0.0</td>\n",
       "      <td>0.0</td>\n",
       "      <td>0.0</td>\n",
       "      <td>0.0</td>\n",
       "      <td>0.0</td>\n",
       "    </tr>\n",
       "    <tr>\n",
       "      <th>4</th>\n",
       "      <td>-0.276874</td>\n",
       "      <td>0.432189</td>\n",
       "      <td>-0.621236</td>\n",
       "      <td>0.0</td>\n",
       "      <td>0.0</td>\n",
       "      <td>1.0</td>\n",
       "      <td>0.0</td>\n",
       "      <td>1.0</td>\n",
       "      <td>0.0</td>\n",
       "      <td>0.0</td>\n",
       "      <td>...</td>\n",
       "      <td>0.0</td>\n",
       "      <td>0.0</td>\n",
       "      <td>0.0</td>\n",
       "      <td>0.0</td>\n",
       "      <td>0.0</td>\n",
       "      <td>0.0</td>\n",
       "      <td>0.0</td>\n",
       "      <td>0.0</td>\n",
       "      <td>0.0</td>\n",
       "      <td>0.0</td>\n",
       "    </tr>\n",
       "  </tbody>\n",
       "</table>\n",
       "<p>5 rows × 92 columns</p>\n",
       "</div>"
      ],
      "text/plain": [
       "   ConvertedComp  WorkWeekHrs  YearsCode    0    1    2    3    4    5    6  \\\n",
       "0       2.404268     0.016779  -1.303475  0.0  1.0  0.0  0.0  1.0  0.0  0.0   \n",
       "1      -0.439017    -0.754697   0.255928  0.0  0.0  1.0  0.0  0.0  0.0  0.0   \n",
       "2      -0.441597    -0.161254  -0.523774  1.0  0.0  0.0  0.0  0.0  0.0  0.0   \n",
       "3      -0.350753    -0.161254  -0.718699  0.0  1.0  0.0  0.0  0.0  0.0  1.0   \n",
       "4      -0.276874     0.432189  -0.621236  0.0  0.0  1.0  0.0  1.0  0.0  0.0   \n",
       "\n",
       "   ...   79   80   81   82   83   84   85   86   87   88  \n",
       "0  ...  0.0  0.0  0.0  0.0  0.0  0.0  0.0  0.0  0.0  0.0  \n",
       "1  ...  0.0  0.0  0.0  0.0  0.0  0.0  0.0  0.0  0.0  0.0  \n",
       "2  ...  0.0  0.0  0.0  1.0  0.0  0.0  0.0  0.0  0.0  0.0  \n",
       "3  ...  0.0  0.0  0.0  0.0  0.0  0.0  0.0  0.0  0.0  0.0  \n",
       "4  ...  0.0  0.0  0.0  0.0  0.0  0.0  0.0  0.0  0.0  0.0  \n",
       "\n",
       "[5 rows x 92 columns]"
      ]
     },
     "execution_count": 53,
     "metadata": {},
     "output_type": "execute_result"
    }
   ],
   "source": [
    "# combine the categorical and the numerical columns\n",
    "Xt_prep = pd.concat([Xt_scaled, Xt_enc], axis=1)\n",
    "\n",
    "# check the outcome\n",
    "Xt_prep.head()"
   ]
  },
  {
   "cell_type": "markdown",
   "id": "80cd2b0d",
   "metadata": {},
   "source": [
    "## Refactor the code: build processing data pipeline"
   ]
  },
  {
   "cell_type": "code",
   "execution_count": 54,
   "id": "3e05378c",
   "metadata": {},
   "outputs": [],
   "source": [
    "## refactor code: processing data\n",
    "\n",
    "# the steps in the categorical pipeline\n",
    "cat_pipeline = Pipeline( steps = [( 'cat_selector', uf.FeatureSelector(cat_cols) ),\n",
    "                                  ('imputer', SimpleImputer(strategy='constant', fill_value='missing')),\n",
    "                                  ( 'one_hot_encoder', OneHotEncoder(sparse=False) ) ] )\n",
    "    \n",
    "# defining the steps in the numerical pipeline     \n",
    "num_pipeline = Pipeline( steps = [ ( 'num_selector', uf.FeatureSelector(num_cols) ),\n",
    "                                  ('imputer', KNNImputer(n_neighbors=5) ),\n",
    "                                  ( 'std_scaler', StandardScaler() ) ] )\n",
    "\n",
    "# combine the numerical and the categorical pipelines\n",
    "full_pipeline = FeatureUnion( transformer_list = [ ( 'categorical_pipeline', cat_pipeline ), \n",
    "                                                  ( 'numerical_pipeline', num_pipeline ) ] )"
   ]
  },
  {
   "cell_type": "markdown",
   "id": "0827cd0f",
   "metadata": {},
   "source": [
    "# Baseline model"
   ]
  },
  {
   "cell_type": "code",
   "execution_count": 55,
   "id": "22e506a1",
   "metadata": {},
   "outputs": [],
   "source": [
    "# the full pipeline as a step in another pipeline with an estimator as the final step\n",
    "full_pipeline_m = Pipeline( steps = [ ( 'full_pipeline', full_pipeline),\n",
    "                                  ( 'model', KNeighborsClassifier(n_neighbors=5) ) ] )\n",
    "\n",
    "# call fit on it just like any other pipeline\n",
    "full_pipeline_m.fit( X_train, y_train )\n",
    "\n",
    "# predict with it like any other pipeline\n",
    "y_pred = full_pipeline_m.predict( X_test ) "
   ]
  },
  {
   "cell_type": "code",
   "execution_count": 56,
   "id": "145513fe",
   "metadata": {},
   "outputs": [
    {
     "name": "stdout",
     "output_type": "stream",
     "text": [
      "Confusion Matrix:\n",
      "[[ 728   24   30   51   80]\n",
      " [  20 1330   32  104  108]\n",
      " [  30   54 1120   86   89]\n",
      " [  46  135   94 2640  241]\n",
      " [  65  107   77  291 3526]]\n",
      "\n",
      "Classification Report:\n",
      "              precision    recall  f1-score   support\n",
      "\n",
      "           1       0.82      0.80      0.81       913\n",
      "           2       0.81      0.83      0.82      1594\n",
      "           3       0.83      0.81      0.82      1379\n",
      "           4       0.83      0.84      0.83      3156\n",
      "           5       0.87      0.87      0.87      4066\n",
      "\n",
      "    accuracy                           0.84     11108\n",
      "   macro avg       0.83      0.83      0.83     11108\n",
      "weighted avg       0.84      0.84      0.84     11108\n",
      "\n",
      "Accuracy: 0.841\n"
     ]
    }
   ],
   "source": [
    "# print evaluation metrics and results\n",
    "\n",
    "result1 = confusion_matrix(y_test, y_pred)\n",
    "print('Confusion Matrix:')\n",
    "print(result1)\n",
    "\n",
    "result2 = classification_report(y_test, y_pred)\n",
    "print('\\nClassification Report:')\n",
    "print (result2)\n",
    "\n",
    "result3 = accuracy_score(y_test,y_pred)  \n",
    "print('Accuracy: %.3f' %result3)\n",
    "         "
   ]
  },
  {
   "cell_type": "code",
   "execution_count": 60,
   "id": "67ab4fae",
   "metadata": {},
   "outputs": [],
   "source": [
    "# the full pipeline as a step in another pipeline with an estimator as the final step\n",
    "full_pipeline_m = Pipeline( steps = [ ( 'full_pipeline', full_pipeline),\n",
    "                                  ( 'model', xgb.XGBClassifier(objective = 'binary:logistic') ) ] )\n",
    "\n",
    "# call fit on it just like any other pipeline\n",
    "full_pipeline_m.fit( X_train, y_train )\n",
    "\n",
    "# predict with it like any other pipeline\n",
    "y_pred = full_pipeline_m.predict( X_test ) "
   ]
  },
  {
   "cell_type": "code",
   "execution_count": 61,
   "id": "32a77542",
   "metadata": {},
   "outputs": [
    {
     "name": "stdout",
     "output_type": "stream",
     "text": [
      "Confusion Matrix:\n",
      "[[  87   26    9  280  511]\n",
      " [   5  217    8  661  703]\n",
      " [   1   42  176  528  632]\n",
      " [   1   71   12 1423 1649]\n",
      " [   1   68   16  619 3362]]\n",
      "\n",
      "Classification Report:\n",
      "              precision    recall  f1-score   support\n",
      "\n",
      "           1       0.92      0.10      0.17       913\n",
      "           2       0.51      0.14      0.22      1594\n",
      "           3       0.80      0.13      0.22      1379\n",
      "           4       0.41      0.45      0.43      3156\n",
      "           5       0.49      0.83      0.62      4066\n",
      "\n",
      "    accuracy                           0.47     11108\n",
      "   macro avg       0.62      0.33      0.33     11108\n",
      "weighted avg       0.54      0.47      0.42     11108\n",
      "\n",
      "Accuracy: 0.474\n"
     ]
    }
   ],
   "source": [
    "# print evaluation metrics and results\n",
    "\n",
    "result1 = confusion_matrix(y_test, y_pred)\n",
    "print('Confusion Matrix:')\n",
    "print(result1)\n",
    "\n",
    "result2 = classification_report(y_test, y_pred)\n",
    "print('\\nClassification Report:')\n",
    "print (result2)\n",
    "\n",
    "result3 = accuracy_score(y_test,y_pred)  \n",
    "print('Accuracy: %.3f' %result3)"
   ]
  },
  {
   "cell_type": "code",
   "execution_count": 71,
   "id": "31cd1838",
   "metadata": {},
   "outputs": [],
   "source": [
    "from sklearn import model_selection\n",
    "from sklearn.linear_model import (LogisticRegression)\n",
    "from sklearn.tree import DecisionTreeClassifier\n",
    "from sklearn.neighbors import (KNeighborsClassifier)\n",
    "from sklearn.naive_bayes import GaussianNB\n",
    "from sklearn.svm import SVC\n",
    "from sklearn.ensemble import (RandomForestClassifier)\n",
    "import xgboost as xgb\n",
    "from sklearn.metrics import classification_report\n",
    "from sklearn.model_selection import cross_val_score\n",
    "from sklearn.linear_model import SGDClassifier\n",
    "from sklearn.preprocessing import StandardScaler\n",
    "from sklearn.pipeline import make_pipeline\n",
    "from scipy import stats\n",
    "from sklearn.model_selection import KFold"
   ]
  },
  {
   "cell_type": "code",
   "execution_count": 62,
   "id": "2225a6d7",
   "metadata": {},
   "outputs": [
    {
     "name": "stdout",
     "output_type": "stream",
     "text": [
      "DecisionTreeClassifier  CV_Mean:0.755 CV_STD: 0.00\n",
      "KNeighborsClassifier    CV_Mean:0.607 CV_STD: 0.00\n",
      "GaussianNB              CV_Mean:0.214 CV_STD: 0.03\n",
      "SVC                     CV_Mean:0.535 CV_STD: 0.01\n",
      "RandomForestClassifier  CV_Mean:0.818 CV_STD: 0.01\n",
      "SGDClassifier           CV_Mean:0.364 CV_STD: 0.01\n"
     ]
    }
   ],
   "source": [
    "for model in [DecisionTreeClassifier, KNeighborsClassifier, GaussianNB, SVC, \n",
    "              RandomForestClassifier, SGDClassifier]:\n",
    "    make_pipeline(model())\n",
    "    classifier = model()\n",
    "    kfold = model_selection.KFold(n_splits=5)\n",
    "    classifier.fit(X_train_prep, y_train)\n",
    "    s = model_selection.cross_val_score(classifier, X_test_prep,y_test, cv=kfold)\n",
    "    #result2 = classification_report(y_test, y_pred, zero_division=0)\n",
    "    #s = model_selection.cross_val_score(cls, X, y, cv=kfold)\n",
    "    print(f\"{model.__name__:22}  CV_Mean:\" f\"{s.mean():.3f} CV_STD: {s.std():.2f}\")"
   ]
  },
  {
   "cell_type": "code",
   "execution_count": 80,
   "id": "1a553596",
   "metadata": {},
   "outputs": [],
   "source": [
    "clf_xgb = RandomForestClassifier()\n",
    "param_dist = {'n_estimators': stats.randint(150, 1000),\n",
    "              'learning_rate': stats.uniform(0.01, 0.59),\n",
    "              'subsample': stats.uniform(0.3, 0.6),\n",
    "              'max_depth': [3, 4, 5, 6, 7, 8, 9],\n",
    "              'colsample_bytree': stats.uniform(0.5, 0.4),\n",
    "              'min_child_weight': [1, 2, 3, 4]\n",
    "             }\n",
    "\n",
    "numFolds = 5\n",
    "n = X_train_prep.shape[0]\n",
    "kfold_5 = KFold(n, True, 5)\n",
    "\n",
    "clf = RandomizedSearchCV(clf_xgb, \n",
    "                         param_distributions = param_dist,\n",
    "                         cv = kfold_5,  \n",
    "                         n_iter = 5, # you want 5 here not 25 if I understand you correctly \n",
    "                         scoring = 'roc_auc', \n",
    "                         error_score = 0, \n",
    "                         verbose = 3, \n",
    "                         n_jobs = -1)"
   ]
  },
  {
   "cell_type": "code",
   "execution_count": 81,
   "id": "cb4b9649",
   "metadata": {},
   "outputs": [],
   "source": [
    "def hyperparameter_tune(base_model, parameters, n_iter, kfold, X=X_train, y=y_train):\n",
    "    start_time = time.time()\n",
    "    \n",
    "    # Arrange data into folds with approx equal proportion of classes within each fold\n",
    "    k = StratifiedKFold(n_splits=kfold, shuffle=False)\n",
    "    \n",
    "    optimal_model = RandomizedSearchCV(base_model,\n",
    "                            param_distributions=parameters,\n",
    "                            n_iter=n_iter,\n",
    "                            cv=k,\n",
    "                            n_jobs=-1,\n",
    "                            random_state=42)\n",
    "    optimal_model.fit(X, y)\n",
    "    \n",
    "    stop_time = time.time()\n",
    "\n",
    "    scores = cross_val_score(optimal_model, X, y, cv=k, scoring=\"accuracy\")\n",
    "    \n",
    "    print(\"Elapsed Time:\", time.strftime(\"%H:%M:%S\", time.gmtime(stop_time - start_time)))\n",
    "    print(\"====================\")\n",
    "    print(\"Cross Val Mean: {:.3f}, Cross Val Stdev: {:.3f}\".format(scores.mean(), scores.std()))\n",
    "    print(\"Best Score: {:.3f}\".format(optimal_model.best_score_))\n",
    "    print(\"Best Parameters: {}\".format(optimal_model.best_params_))\n",
    "    \n",
    "    return optimal_model.best_params_, optimal_model.best_score_"
   ]
  },
  {
   "cell_type": "code",
   "execution_count": 82,
   "id": "b0beff1d",
   "metadata": {},
   "outputs": [],
   "source": [
    "import numpy as np\n",
    "import pandas as pd\n",
    "from sklearn.preprocessing import StandardScaler\n",
    "from sklearn.model_selection import train_test_split, StratifiedKFold, cross_val_score, RandomizedSearchCV\n",
    "from sklearn.ensemble import RandomForestClassifier\n",
    "from sklearn.metrics import accuracy_score\n",
    "from scipy.stats import randint\n",
    "import matplotlib.pyplot as plt\n",
    "import time\n",
    "import warnings\n",
    "warnings.simplefilter(\"ignore\", category=PendingDeprecationWarning)\n",
    "warnings.simplefilter(\"ignore\", category=DeprecationWarning)\n",
    "warnings.simplefilter(\"ignore\", category=FutureWarning)\n",
    "warnings.simplefilter(\"ignore\", category=UserWarning)"
   ]
  },
  {
   "cell_type": "code",
   "execution_count": 83,
   "id": "78765369",
   "metadata": {},
   "outputs": [
    {
     "name": "stdout",
     "output_type": "stream",
     "text": [
      "Elapsed Time: 00:00:38\n",
      "====================\n",
      "Cross Val Mean: 0.931, Cross Val Stdev: 0.005\n",
      "Best Score: 0.930\n",
      "Best Parameters: {'n_estimators': 200, 'max_depth': None}\n"
     ]
    }
   ],
   "source": [
    "base_model = RandomForestClassifier(n_jobs=-1,\n",
    "                                   random_state=42)\n",
    "\n",
    "lots_of_parameters = {\n",
    "    \"max_depth\": [3, 5, 10, None],\n",
    "    \"n_estimators\": [100, 200, 300, 400, 500],\n",
    "    \"max_features\": randint(1, 3),\n",
    "    \"criterion\": [\"gini\", \"entropy\"],\n",
    "    \"bootstrap\": [True, False],\n",
    "    \"min_samples_leaf\": randint(1, 4)\n",
    "}\n",
    "\n",
    "parameters = {\n",
    "    \"max_depth\": [3, 5, 10, None],\n",
    "    \"n_estimators\": [100, 200, 300, 400, 500]\n",
    "}\n",
    "\n",
    "best_params, best_score = hyperparameter_tune(base_model, parameters, 10, 5, X_train_prep, y_train)"
   ]
  },
  {
   "cell_type": "code",
   "execution_count": 84,
   "id": "7f91af56",
   "metadata": {},
   "outputs": [
    {
     "data": {
      "text/plain": [
       "RandomForestClassifier(n_estimators=200)"
      ]
     },
     "execution_count": 84,
     "metadata": {},
     "output_type": "execute_result"
    }
   ],
   "source": [
    "rf = RandomForestClassifier(n_estimators=200)\n",
    "rf.fit(X_train_prep, y_train)"
   ]
  },
  {
   "cell_type": "code",
   "execution_count": null,
   "id": "af8eb612",
   "metadata": {},
   "outputs": [],
   "source": [
    "import shap\n",
    "explainer = shap.TreeExplainer(rf)\n",
    "shap_values = explainer.shap_values(X_test_prep)"
   ]
  },
  {
   "cell_type": "code",
   "execution_count": null,
   "id": "05163898",
   "metadata": {},
   "outputs": [],
   "source": [
    "shap.summary_plot(shap_values, X_test_prep, plot_type=\"bar\")"
   ]
  },
  {
   "cell_type": "code",
   "execution_count": 139,
   "id": "475139ab",
   "metadata": {},
   "outputs": [],
   "source": [
    "df_f_type = df.dtypes"
   ]
  },
  {
   "cell_type": "code",
   "execution_count": 143,
   "id": "a7d038a4",
   "metadata": {},
   "outputs": [],
   "source": [
    "df_f_type = df_f_type.loc[~df_f_type.index.isin(['JobSat'])]"
   ]
  },
  {
   "cell_type": "code",
   "execution_count": 144,
   "id": "03cf2f3c",
   "metadata": {},
   "outputs": [],
   "source": [
    "cols_if_num = df_f_type.apply(lambda x: np.issubdtype(x, np.number))"
   ]
  },
  {
   "cell_type": "code",
   "execution_count": 146,
   "id": "95c41869",
   "metadata": {},
   "outputs": [
    {
     "data": {
      "text/plain": [
       "4"
      ]
     },
     "execution_count": 146,
     "metadata": {},
     "output_type": "execute_result"
    }
   ],
   "source": [
    "cols_if_num.sum()"
   ]
  },
  {
   "cell_type": "code",
   "execution_count": 147,
   "id": "d0396fca",
   "metadata": {},
   "outputs": [],
   "source": [
    "cols_cat = cols_if_num[~cols_if_num].index.tolist()"
   ]
  },
  {
   "cell_type": "code",
   "execution_count": 148,
   "id": "6b12986c",
   "metadata": {},
   "outputs": [
    {
     "data": {
      "text/plain": [
       "['MainBranch',\n",
       " 'Hobbyist',\n",
       " 'Age1stCode',\n",
       " 'CompFreq',\n",
       " 'Country',\n",
       " 'CurrencyDesc',\n",
       " 'CurrencySymbol',\n",
       " 'DatabaseDesireNextYear',\n",
       " 'DatabaseWorkedWith',\n",
       " 'DevType',\n",
       " 'EdLevel',\n",
       " 'Employment',\n",
       " 'Ethnicity',\n",
       " 'Gender',\n",
       " 'JobFactors',\n",
       " 'JobSeek',\n",
       " 'LanguageDesireNextYear',\n",
       " 'LanguageWorkedWith',\n",
       " 'MiscTechDesireNextYear',\n",
       " 'MiscTechWorkedWith',\n",
       " 'CollabToolsDesireNextYear',\n",
       " 'CollabToolsWorkedWith',\n",
       " 'DevOps',\n",
       " 'DevOpsImpt',\n",
       " 'EdImpt',\n",
       " 'JobHunt',\n",
       " 'JobHuntResearch',\n",
       " 'Learn',\n",
       " 'OffTopic',\n",
       " 'OnboardGood',\n",
       " 'OtherComms',\n",
       " 'Overtime',\n",
       " 'PurchaseResearch',\n",
       " 'PurpleLink',\n",
       " 'SOSites',\n",
       " 'Stuck',\n",
       " 'OpSys',\n",
       " 'OrgSize',\n",
       " 'PlatformDesireNextYear',\n",
       " 'PlatformWorkedWith',\n",
       " 'PurchaseWhat',\n",
       " 'Sexuality',\n",
       " 'SOAccount',\n",
       " 'SOComm',\n",
       " 'SOPartFreq',\n",
       " 'SOVisitFreq',\n",
       " 'SurveyEase',\n",
       " 'SurveyLength',\n",
       " 'Trans',\n",
       " 'UndergradMajor',\n",
       " 'WebframeDesireNextYear',\n",
       " 'WebframeWorkedWith',\n",
       " 'WelcomeChange',\n",
       " 'YearsCode',\n",
       " 'YearsCodePro',\n",
       " 'DevClass']"
      ]
     },
     "execution_count": 148,
     "metadata": {},
     "output_type": "execute_result"
    }
   ],
   "source": [
    "cols_cat"
   ]
  },
  {
   "cell_type": "code",
   "execution_count": 157,
   "id": "eb2df68a",
   "metadata": {},
   "outputs": [],
   "source": [
    "for col_cat in cols_cat:\n",
    "        df_sample[col_cat] = df_sample[col_cat].fillna('missing')"
   ]
  },
  {
   "cell_type": "code",
   "execution_count": 158,
   "id": "3fc2e007",
   "metadata": {},
   "outputs": [
    {
     "data": {
      "text/plain": [
       "MainBranch                   0\n",
       "Hobbyist                     0\n",
       "Age1stCode                   0\n",
       "CompFreq                     0\n",
       "Country                      0\n",
       "CurrencyDesc                 0\n",
       "CurrencySymbol               0\n",
       "DatabaseDesireNextYear       0\n",
       "DatabaseWorkedWith           0\n",
       "DevType                      0\n",
       "EdLevel                      0\n",
       "Employment                   0\n",
       "Ethnicity                    0\n",
       "Gender                       0\n",
       "JobFactors                   0\n",
       "JobSeek                      0\n",
       "LanguageDesireNextYear       0\n",
       "LanguageWorkedWith           0\n",
       "MiscTechDesireNextYear       0\n",
       "MiscTechWorkedWith           0\n",
       "CollabToolsDesireNextYear    0\n",
       "CollabToolsWorkedWith        0\n",
       "DevOps                       0\n",
       "DevOpsImpt                   0\n",
       "EdImpt                       0\n",
       "JobHunt                      0\n",
       "JobHuntResearch              0\n",
       "Learn                        0\n",
       "OffTopic                     0\n",
       "OnboardGood                  0\n",
       "OtherComms                   0\n",
       "Overtime                     0\n",
       "PurchaseResearch             0\n",
       "PurpleLink                   0\n",
       "SOSites                      0\n",
       "Stuck                        0\n",
       "OpSys                        0\n",
       "OrgSize                      0\n",
       "PlatformDesireNextYear       0\n",
       "PlatformWorkedWith           0\n",
       "PurchaseWhat                 0\n",
       "Sexuality                    0\n",
       "SOAccount                    0\n",
       "SOComm                       0\n",
       "SOPartFreq                   0\n",
       "SOVisitFreq                  0\n",
       "SurveyEase                   0\n",
       "SurveyLength                 0\n",
       "Trans                        0\n",
       "UndergradMajor               0\n",
       "WebframeDesireNextYear       0\n",
       "WebframeWorkedWith           0\n",
       "WelcomeChange                0\n",
       "YearsCode                    0\n",
       "YearsCodePro                 0\n",
       "DevClass                     0\n",
       "dtype: int64"
      ]
     },
     "execution_count": 158,
     "metadata": {},
     "output_type": "execute_result"
    }
   ],
   "source": [
    "df_sample[cols_cat].isnull().sum()"
   ]
  },
  {
   "cell_type": "code",
   "execution_count": 160,
   "id": "60ffe077",
   "metadata": {},
   "outputs": [
    {
     "data": {
      "text/plain": [
       "['Age', 'CompTotal', 'ConvertedComp', 'WorkWeekHrs']"
      ]
     },
     "execution_count": 160,
     "metadata": {},
     "output_type": "execute_result"
    }
   ],
   "source": [
    "cols_num = cols_if_num[cols_if_num].index.tolist()\n",
    "cols_num"
   ]
  },
  {
   "cell_type": "code",
   "execution_count": 161,
   "id": "687e2374",
   "metadata": {},
   "outputs": [],
   "source": [
    "for col_num in cols_num:\n",
    "        df_sample[col_num] = df_sample[col_num].fillna(df[col_num].mean())"
   ]
  },
  {
   "cell_type": "code",
   "execution_count": 162,
   "id": "17de2b85",
   "metadata": {},
   "outputs": [
    {
     "data": {
      "text/plain": [
       "Age              0\n",
       "CompTotal        0\n",
       "ConvertedComp    0\n",
       "WorkWeekHrs      0\n",
       "dtype: int64"
      ]
     },
     "execution_count": 162,
     "metadata": {},
     "output_type": "execute_result"
    }
   ],
   "source": [
    "df_sample[cols_num].isnull().sum()"
   ]
  },
  {
   "cell_type": "code",
   "execution_count": 159,
   "id": "9d5e7dc3",
   "metadata": {},
   "outputs": [],
   "source": [
    "enc = OrdinalEncoder()\n",
    "df_sample[cols_cat] = enc.fit_transform(df_sample[cols_cat])"
   ]
  },
  {
   "cell_type": "code",
   "execution_count": 163,
   "id": "2b9ccb74",
   "metadata": {},
   "outputs": [],
   "source": [
    "enc = OrdinalEncoder()\n",
    "df_sample.loc[:, 'JobSat'] = enc.fit_transform(df_sample[['JobSat']])"
   ]
  },
  {
   "cell_type": "code",
   "execution_count": 166,
   "id": "6379101c",
   "metadata": {},
   "outputs": [
    {
     "data": {
      "text/plain": [
       "Respondent\n",
       "18657    0.0\n",
       "20529    0.0\n",
       "32963    0.0\n",
       "43959    0.0\n",
       "1912     0.0\n",
       "        ... \n",
       "32979    4.0\n",
       "47032    4.0\n",
       "5262     4.0\n",
       "37419    4.0\n",
       "6479     4.0\n",
       "Name: JobSat, Length: 13558, dtype: float64"
      ]
     },
     "execution_count": 166,
     "metadata": {},
     "output_type": "execute_result"
    }
   ],
   "source": [
    "df_sample['JobSat']"
   ]
  },
  {
   "cell_type": "code",
   "execution_count": null,
   "id": "e8689463",
   "metadata": {},
   "outputs": [],
   "source": []
  }
 ],
 "metadata": {
  "kernelspec": {
   "display_name": "Python 3",
   "language": "python",
   "name": "python3"
  },
  "language_info": {
   "codemirror_mode": {
    "name": "ipython",
    "version": 3
   },
   "file_extension": ".py",
   "mimetype": "text/x-python",
   "name": "python",
   "nbconvert_exporter": "python",
   "pygments_lexer": "ipython3",
   "version": "3.7.6"
  },
  "toc": {
   "base_numbering": 1,
   "nav_menu": {},
   "number_sections": true,
   "sideBar": true,
   "skip_h1_title": false,
   "title_cell": "Table of Contents",
   "title_sidebar": "Contents",
   "toc_cell": false,
   "toc_position": {
    "height": "calc(100% - 180px)",
    "left": "10px",
    "top": "150px",
    "width": "172.594px"
   },
   "toc_section_display": true,
   "toc_window_display": false
  }
 },
 "nbformat": 4,
 "nbformat_minor": 5
}
