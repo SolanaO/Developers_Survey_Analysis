{
 "cells": [
  {
   "cell_type": "markdown",
   "id": "77e278e6",
   "metadata": {},
   "source": [
    "# Analysis of StackOverflow Survey. Part IV\n",
    "\n",
    "In this notebook we address the third question, and we build a model to predict job satisfaction for data coders.\n",
    "\n",
    "The steps of the process are:\n",
    "1. \n",
    "2. "
   ]
  },
  {
   "cell_type": "code",
   "execution_count": 1,
   "id": "9302f019",
   "metadata": {},
   "outputs": [],
   "source": [
    "# general packages and libraries\n",
    "import os\n",
    "import sys\n",
    "from collections import defaultdict\n",
    "import importlib"
   ]
  },
  {
   "cell_type": "code",
   "execution_count": 2,
   "id": "15959c9c",
   "metadata": {},
   "outputs": [],
   "source": [
    "# data manipulation packages\n",
    "import numpy as np\n",
    "import pandas as pd"
   ]
  },
  {
   "cell_type": "code",
   "execution_count": 3,
   "id": "8b486bd1",
   "metadata": {},
   "outputs": [],
   "source": [
    "# data visualizations packages\n",
    "import matplotlib.pyplot as plt\n",
    "# to render plots in the notebook\n",
    "%matplotlib inline\n",
    "\n",
    "import seaborn as sns\n",
    "# set a theme for seaborn\n",
    "sns.set_theme()"
   ]
  },
  {
   "cell_type": "code",
   "execution_count": 4,
   "id": "29bafd80",
   "metadata": {},
   "outputs": [],
   "source": [
    "# clean this up in the end\n",
    "\n",
    "from sklearn.linear_model import LinearRegression\n",
    "from sklearn.impute import KNNImputer\n",
    "from sklearn.dummy import DummyClassifier\n",
    "from sklearn.neighbors import KNeighborsClassifier\n",
    "from sklearn.preprocessing import OneHotEncoder\n",
    "from sklearn.preprocessing import LabelEncoder\n",
    "from sklearn.feature_selection import SelectKBest, chi2, mutual_info_classif\n",
    "\n",
    "from sklearn import (\n",
    "    ensemble,\n",
    "    preprocessing,\n",
    "    tree,\n",
    ")\n",
    "from sklearn.model_selection import (\n",
    "    train_test_split,\n",
    "    StratifiedKFold,\n",
    ")\n",
    "from sklearn.metrics import (\n",
    "    classification_report,\n",
    "    r2_score, \n",
    "    mean_squared_error,\n",
    "    auc,\n",
    "    confusion_matrix,\n",
    "    accuracy_score,\n",
    "    roc_auc_score,\n",
    "    roc_curve,\n",
    ")\n"
   ]
  },
  {
   "cell_type": "code",
   "execution_count": 5,
   "id": "c403f1b1",
   "metadata": {},
   "outputs": [],
   "source": [
    "# import local module containing the neccessary functions\n",
    "import utils_functions as uf\n",
    "\n",
    "# forces the interpreter to re-load the module\n",
    "importlib.reload(uf);\n",
    "\n",
    "# create a path string\n",
    "mypath = os.getcwd()"
   ]
  },
  {
   "cell_type": "markdown",
   "id": "92e11193",
   "metadata": {},
   "source": [
    "## State the question\n",
    "I am addressing the third question in this notebook. What can we tell about the job satisfaction of a data coder? What factors do influence it? Also, predict the job satisfaction for a developer who works with big data. \n",
    "\n",
    "This is a classification question, we are predicting a satisfaction level for a data developer, which includes: data scientist or machine learning specialist, data or business analyst and data engineer."
   ]
  },
  {
   "cell_type": "markdown",
   "id": "5742328c",
   "metadata": {},
   "source": [
    "## Performance metrics - to review at the end\n",
    "\n",
    "The following performance measures will be used in this project:\n",
    "1. Cross validation via StratifiedKFold with 10 folds.\n",
    "2. Confusion matrix, in particular precision, recall and F1 score.\n",
    "3. The ROC curve and the related AUC score."
   ]
  },
  {
   "cell_type": "markdown",
   "id": "0e14fe65",
   "metadata": {},
   "source": [
    "# Gather and prepare the data\n",
    "\n",
    "Upload the data and keep the subset that contains those developers that work in data science related fields. \n"
   ]
  },
  {
   "cell_type": "markdown",
   "id": "19d46745",
   "metadata": {},
   "source": [
    "## Load the data"
   ]
  },
  {
   "cell_type": "code",
   "execution_count": 27,
   "id": "42d728ee",
   "metadata": {},
   "outputs": [],
   "source": [
    "# upload the datafiles as pandas dataframes\n",
    "df = pd.read_csv(mypath+'/data/survey20_updated.csv', index_col=[0])\n",
    "dfs = pd.read_csv(mypath+'/data/survey20_results_schema.csv')"
   ]
  },
  {
   "cell_type": "code",
   "execution_count": 28,
   "id": "0b91b39c",
   "metadata": {},
   "outputs": [
    {
     "data": {
      "text/plain": [
       "(64461, 62)"
      ]
     },
     "execution_count": 28,
     "metadata": {},
     "output_type": "execute_result"
    }
   ],
   "source": [
    "# check for success\n",
    "df.shape"
   ]
  },
  {
   "cell_type": "markdown",
   "id": "2c6be69c",
   "metadata": {},
   "source": [
    "## Remove unnecessary data"
   ]
  },
  {
   "cell_type": "markdown",
   "id": "a425fe00",
   "metadata": {},
   "source": [
    "### Keep the developers that work with data"
   ]
  },
  {
   "cell_type": "code",
   "execution_count": 29,
   "id": "dbccdb96",
   "metadata": {},
   "outputs": [
    {
     "data": {
      "text/plain": [
       "(8726, 62)"
      ]
     },
     "execution_count": 29,
     "metadata": {},
     "output_type": "execute_result"
    }
   ],
   "source": [
    "# the data frame that contains the data developers only\n",
    "df1 = df[df.DevClass == 'data_coder']\n",
    "\n",
    "# check for success\n",
    "df1.shape"
   ]
  },
  {
   "cell_type": "markdown",
   "id": "b9bc697a",
   "metadata": {},
   "source": [
    "### Retain the developers that are employed"
   ]
  },
  {
   "cell_type": "code",
   "execution_count": 30,
   "id": "f3e9e854",
   "metadata": {},
   "outputs": [
    {
     "data": {
      "text/plain": [
       "Employed full-time                                      6904\n",
       "Independent contractor, freelancer, or self-employed    1080\n",
       "Not employed, but looking for work                       388\n",
       "Employed part-time                                       354\n",
       "Name: Employment, dtype: int64"
      ]
     },
     "execution_count": 30,
     "metadata": {},
     "output_type": "execute_result"
    }
   ],
   "source": [
    "# check the employment types for data coders\n",
    "df1.Employment.value_counts()"
   ]
  },
  {
   "cell_type": "code",
   "execution_count": 31,
   "id": "82aad2a4",
   "metadata": {},
   "outputs": [
    {
     "data": {
      "text/plain": [
       "Employed full-time                                      6904\n",
       "Independent contractor, freelancer, or self-employed    1080\n",
       "Employed part-time                                       354\n",
       "Name: Employment, dtype: int64"
      ]
     },
     "execution_count": 31,
     "metadata": {},
     "output_type": "execute_result"
    }
   ],
   "source": [
    "# retain only the employed data davelopers\n",
    "df1 = df1[df1['Employment'] != 'Not employed, but looking for work']\n",
    "\n",
    "# check for success\n",
    "df1.Employment.value_counts()"
   ]
  },
  {
   "cell_type": "markdown",
   "id": "910799ff",
   "metadata": {},
   "source": [
    "### Remove unnecessary columns"
   ]
  },
  {
   "cell_type": "code",
   "execution_count": 32,
   "id": "0a943ce8",
   "metadata": {},
   "outputs": [],
   "source": [
    "cols_del = [\n",
    "    # personal, demographics  information\n",
    "    'Respondent', 'MainBranch', 'Hobbyist', 'Country',\n",
    "    'Ethnicity', 'Gender', 'Sexuality', 'Trans',\n",
    "    \n",
    "    # related to ConvertedComp\n",
    "    'CompFreq', 'CompTotal', 'CurrencyDesc', 'CurrencySymbol',\n",
    "    \n",
    "    # questions regarding future activities\n",
    "    'DatabaseDesireNextYear', 'MiscTechDesireNextYear',\n",
    "    'CollabToolsDesireNextYear', 'PlatformDesireNextYear',\n",
    "    'LanguageDesireNextYear', 'WebframeDesireNextYear',\n",
    "    \n",
    "    # questions regarding this survey\n",
    "    'SurveyEase', 'SurveyLength', 'WelcomeChange',\n",
    "    \n",
    "    # question regarding participation is StackOverflow\n",
    "    'SOSites', 'SOComm', 'SOPartFreq',\n",
    "    'SOVisitFreq', 'SOAccount',\n",
    "\n",
    "    # related to other columns\n",
    "    'Age1stCode', 'YearsCodePro', 'DevClass', \n",
    "\n",
    "    # high cardinality, multiple choices\n",
    "    'DatabaseWorkedWith','MiscTechWorkedWith',\n",
    "    'WebframeWorkedWith',\n",
    "\n",
    "    # questions not relevant to our goal\n",
    "    'JobHunt', 'JobHuntResearch', 'Stuck',\n",
    "    'PurchaseResearch', 'PurchaseWhat', \n",
    "    'Stuck', 'PurpleLink',\n",
    "    'OffTopic', 'OtherComms',\n",
    "    'JobFactors', 'JobSeek',\n",
    "\n",
    "    # auxiliary columns\n",
    "    'DevClass']"
   ]
  },
  {
   "cell_type": "code",
   "execution_count": 33,
   "id": "30fae562",
   "metadata": {},
   "outputs": [
    {
     "data": {
      "text/plain": [
       "(8338, 20)"
      ]
     },
     "execution_count": 33,
     "metadata": {},
     "output_type": "execute_result"
    }
   ],
   "source": [
    "# drop all the columns in the list\n",
    "df1.drop(columns=cols_del, inplace=True)\n",
    "\n",
    "# check the output\n",
    "df1.shape"
   ]
  },
  {
   "cell_type": "markdown",
   "id": "7b9b0500",
   "metadata": {},
   "source": [
    "### Check and update data types"
   ]
  },
  {
   "cell_type": "code",
   "execution_count": 34,
   "id": "40034f10",
   "metadata": {},
   "outputs": [
    {
     "name": "stdout",
     "output_type": "stream",
     "text": [
      "<class 'pandas.core.frame.DataFrame'>\n",
      "Int64Index: 8338 entries, 21 to 64446\n",
      "Data columns (total 20 columns):\n",
      " #   Column                 Non-Null Count  Dtype  \n",
      "---  ------                 --------------  -----  \n",
      " 0   Age                    6479 non-null   float64\n",
      " 1   ConvertedComp          5810 non-null   float64\n",
      " 2   DevType                8338 non-null   object \n",
      " 3   EdLevel                8208 non-null   object \n",
      " 4   Employment             8338 non-null   object \n",
      " 5   JobSat                 7735 non-null   float64\n",
      " 6   LanguageWorkedWith     7835 non-null   object \n",
      " 7   CollabToolsWorkedWith  7379 non-null   object \n",
      " 8   DevOps                 7323 non-null   object \n",
      " 9   DevOpsImpt             7130 non-null   object \n",
      " 10  EdImpt                 7959 non-null   object \n",
      " 11  Learn                  7640 non-null   object \n",
      " 12  OnboardGood            7317 non-null   object \n",
      " 13  Overtime               7424 non-null   object \n",
      " 14  OpSys                  7760 non-null   object \n",
      " 15  OrgSize                7590 non-null   object \n",
      " 16  PlatformWorkedWith     7462 non-null   object \n",
      " 17  UndergradMajor         7724 non-null   object \n",
      " 18  WorkWeekHrs            6995 non-null   float64\n",
      " 19  YearsCode              8255 non-null   object \n",
      "dtypes: float64(4), object(16)\n",
      "memory usage: 1.3+ MB\n"
     ]
    }
   ],
   "source": [
    "df1.info()"
   ]
  },
  {
   "cell_type": "code",
   "execution_count": 41,
   "id": "b911d2b7",
   "metadata": {},
   "outputs": [],
   "source": [
    "# replace strings with numerical entries\n",
    "replace_dict = {'Less than 1 year': '0', 'More than 50 years': '51'}\n",
    "df1.replace(replace_dict, inplace=True)"
   ]
  },
  {
   "cell_type": "code",
   "execution_count": 42,
   "id": "6e33c77b",
   "metadata": {},
   "outputs": [],
   "source": [
    "# change dtype to numeric\n",
    "df1['YearsCode'] = pd.to_numeric(df1['YearsCode'])"
   ]
  },
  {
   "cell_type": "code",
   "execution_count": 49,
   "id": "303047e0",
   "metadata": {},
   "outputs": [
    {
     "data": {
      "text/plain": [
       "'Data or business analyst;Data scientist or machine learning specialist'"
      ]
     },
     "execution_count": 49,
     "metadata": {},
     "output_type": "execute_result"
    }
   ],
   "source": [
    "df1.DevType.iloc[3]"
   ]
  },
  {
   "cell_type": "code",
   "execution_count": 55,
   "id": "17cbfd37",
   "metadata": {},
   "outputs": [],
   "source": [
    "df1['DevType'] = df1['DevType'].str.split(';')\n"
   ]
  },
  {
   "cell_type": "code",
   "execution_count": 56,
   "id": "8749ebc9",
   "metadata": {},
   "outputs": [
    {
     "data": {
      "text/html": [
       "<div>\n",
       "<style scoped>\n",
       "    .dataframe tbody tr th:only-of-type {\n",
       "        vertical-align: middle;\n",
       "    }\n",
       "\n",
       "    .dataframe tbody tr th {\n",
       "        vertical-align: top;\n",
       "    }\n",
       "\n",
       "    .dataframe thead th {\n",
       "        text-align: right;\n",
       "    }\n",
       "</style>\n",
       "<table border=\"1\" class=\"dataframe\">\n",
       "  <thead>\n",
       "    <tr style=\"text-align: right;\">\n",
       "      <th></th>\n",
       "      <th>Age</th>\n",
       "      <th>ConvertedComp</th>\n",
       "      <th>DevType</th>\n",
       "      <th>EdLevel</th>\n",
       "      <th>Employment</th>\n",
       "      <th>JobSat</th>\n",
       "      <th>LanguageWorkedWith</th>\n",
       "      <th>CollabToolsWorkedWith</th>\n",
       "      <th>DevOps</th>\n",
       "      <th>DevOpsImpt</th>\n",
       "      <th>EdImpt</th>\n",
       "      <th>Learn</th>\n",
       "      <th>OnboardGood</th>\n",
       "      <th>Overtime</th>\n",
       "      <th>OpSys</th>\n",
       "      <th>OrgSize</th>\n",
       "      <th>PlatformWorkedWith</th>\n",
       "      <th>UndergradMajor</th>\n",
       "      <th>WorkWeekHrs</th>\n",
       "      <th>YearsCode</th>\n",
       "    </tr>\n",
       "  </thead>\n",
       "  <tbody>\n",
       "    <tr>\n",
       "      <th>21</th>\n",
       "      <td>NaN</td>\n",
       "      <td>NaN</td>\n",
       "      <td>[Developer, full-stack, Data engineer]</td>\n",
       "      <td>Bachelor’s degree</td>\n",
       "      <td>Employed full-time</td>\n",
       "      <td>2.0</td>\n",
       "      <td>Java;Python</td>\n",
       "      <td>NaN</td>\n",
       "      <td>Not sure</td>\n",
       "      <td>NaN</td>\n",
       "      <td>Very important</td>\n",
       "      <td>Every few months</td>\n",
       "      <td>Yes</td>\n",
       "      <td>Often: 1-2 days per week or more</td>\n",
       "      <td>Windows</td>\n",
       "      <td>500 to 999 employees</td>\n",
       "      <td>NaN</td>\n",
       "      <td>Computer science</td>\n",
       "      <td>50.0</td>\n",
       "      <td>10.0</td>\n",
       "    </tr>\n",
       "    <tr>\n",
       "      <th>24</th>\n",
       "      <td>NaN</td>\n",
       "      <td>NaN</td>\n",
       "      <td>[Developer, back-end, Developer, full-stack, D...</td>\n",
       "      <td>Associate degree</td>\n",
       "      <td>Employed full-time</td>\n",
       "      <td>3.0</td>\n",
       "      <td>Bash/Shell/PowerShell;C</td>\n",
       "      <td>Jira;Github;Gitlab</td>\n",
       "      <td>No</td>\n",
       "      <td>Extremely important</td>\n",
       "      <td>Critically important</td>\n",
       "      <td>Once every few years</td>\n",
       "      <td>Yes</td>\n",
       "      <td>Often: 1-2 days per week or more</td>\n",
       "      <td>Windows</td>\n",
       "      <td>100 to 499 employees</td>\n",
       "      <td>Docker;Linux;Windows</td>\n",
       "      <td>Computer science</td>\n",
       "      <td>40.0</td>\n",
       "      <td>23.0</td>\n",
       "    </tr>\n",
       "    <tr>\n",
       "      <th>29</th>\n",
       "      <td>NaN</td>\n",
       "      <td>38778.0</td>\n",
       "      <td>[Data or business analyst, Database administra...</td>\n",
       "      <td>Bachelor’s degree</td>\n",
       "      <td>Employed full-time</td>\n",
       "      <td>2.0</td>\n",
       "      <td>Bash/Shell/PowerShell;C#;HTML/CSS;JavaScript;P...</td>\n",
       "      <td>Confluence;Jira;Github</td>\n",
       "      <td>No</td>\n",
       "      <td>Extremely important</td>\n",
       "      <td>Somewhat important</td>\n",
       "      <td>NaN</td>\n",
       "      <td>Onboarding? What onboarding?</td>\n",
       "      <td>Occasionally: 1-2 days per quarter but less th...</td>\n",
       "      <td>Windows</td>\n",
       "      <td>NaN</td>\n",
       "      <td>MacOS;Windows</td>\n",
       "      <td>Information system</td>\n",
       "      <td>37.0</td>\n",
       "      <td>4.0</td>\n",
       "    </tr>\n",
       "    <tr>\n",
       "      <th>35</th>\n",
       "      <td>34.0</td>\n",
       "      <td>77556.0</td>\n",
       "      <td>[Data or business analyst, Data scientist or m...</td>\n",
       "      <td>College study/no degree</td>\n",
       "      <td>Employed full-time</td>\n",
       "      <td>4.0</td>\n",
       "      <td>C#;Go;HTML/CSS;Java;JavaScript;Python;R;SQL</td>\n",
       "      <td>Confluence;Jira;Github;Slack;Trello</td>\n",
       "      <td>Not sure</td>\n",
       "      <td>Neutral</td>\n",
       "      <td>Somewhat important</td>\n",
       "      <td>Every few months</td>\n",
       "      <td>Yes</td>\n",
       "      <td>Sometimes: 1-2 days per month but less than we...</td>\n",
       "      <td>Windows</td>\n",
       "      <td>1,000 to 4,999 employees</td>\n",
       "      <td>MacOS;Windows</td>\n",
       "      <td>Computer science</td>\n",
       "      <td>40.0</td>\n",
       "      <td>4.0</td>\n",
       "    </tr>\n",
       "    <tr>\n",
       "      <th>43</th>\n",
       "      <td>32.0</td>\n",
       "      <td>55893.0</td>\n",
       "      <td>[Data or business analyst, Developer, back-end...</td>\n",
       "      <td>Master’s degree</td>\n",
       "      <td>Employed full-time</td>\n",
       "      <td>3.0</td>\n",
       "      <td>HTML/CSS;Python;R;SQL;VBA</td>\n",
       "      <td>Github;Slack;Trello</td>\n",
       "      <td>No</td>\n",
       "      <td>Somewhat important</td>\n",
       "      <td>Very important</td>\n",
       "      <td>Once every few years</td>\n",
       "      <td>No</td>\n",
       "      <td>Often: 1-2 days per week or more</td>\n",
       "      <td>Windows</td>\n",
       "      <td>10 to 19 employees</td>\n",
       "      <td>Windows</td>\n",
       "      <td>Engineering other</td>\n",
       "      <td>45.0</td>\n",
       "      <td>10.0</td>\n",
       "    </tr>\n",
       "  </tbody>\n",
       "</table>\n",
       "</div>"
      ],
      "text/plain": [
       "     Age  ConvertedComp                                            DevType  \\\n",
       "21   NaN            NaN             [Developer, full-stack, Data engineer]   \n",
       "24   NaN            NaN  [Developer, back-end, Developer, full-stack, D...   \n",
       "29   NaN        38778.0  [Data or business analyst, Database administra...   \n",
       "35  34.0        77556.0  [Data or business analyst, Data scientist or m...   \n",
       "43  32.0        55893.0  [Data or business analyst, Developer, back-end...   \n",
       "\n",
       "                    EdLevel          Employment  JobSat  \\\n",
       "21        Bachelor’s degree  Employed full-time     2.0   \n",
       "24         Associate degree  Employed full-time     3.0   \n",
       "29        Bachelor’s degree  Employed full-time     2.0   \n",
       "35  College study/no degree  Employed full-time     4.0   \n",
       "43          Master’s degree  Employed full-time     3.0   \n",
       "\n",
       "                                   LanguageWorkedWith  \\\n",
       "21                                        Java;Python   \n",
       "24                            Bash/Shell/PowerShell;C   \n",
       "29  Bash/Shell/PowerShell;C#;HTML/CSS;JavaScript;P...   \n",
       "35        C#;Go;HTML/CSS;Java;JavaScript;Python;R;SQL   \n",
       "43                          HTML/CSS;Python;R;SQL;VBA   \n",
       "\n",
       "                  CollabToolsWorkedWith    DevOps           DevOpsImpt  \\\n",
       "21                                  NaN  Not sure                  NaN   \n",
       "24                   Jira;Github;Gitlab        No  Extremely important   \n",
       "29               Confluence;Jira;Github        No  Extremely important   \n",
       "35  Confluence;Jira;Github;Slack;Trello  Not sure              Neutral   \n",
       "43                  Github;Slack;Trello        No   Somewhat important   \n",
       "\n",
       "                  EdImpt                 Learn                   OnboardGood  \\\n",
       "21        Very important      Every few months                           Yes   \n",
       "24  Critically important  Once every few years                           Yes   \n",
       "29    Somewhat important                   NaN  Onboarding? What onboarding?   \n",
       "35    Somewhat important      Every few months                           Yes   \n",
       "43        Very important  Once every few years                            No   \n",
       "\n",
       "                                             Overtime    OpSys  \\\n",
       "21                   Often: 1-2 days per week or more  Windows   \n",
       "24                   Often: 1-2 days per week or more  Windows   \n",
       "29  Occasionally: 1-2 days per quarter but less th...  Windows   \n",
       "35  Sometimes: 1-2 days per month but less than we...  Windows   \n",
       "43                   Often: 1-2 days per week or more  Windows   \n",
       "\n",
       "                     OrgSize    PlatformWorkedWith      UndergradMajor  \\\n",
       "21      500 to 999 employees                   NaN    Computer science   \n",
       "24      100 to 499 employees  Docker;Linux;Windows    Computer science   \n",
       "29                       NaN         MacOS;Windows  Information system   \n",
       "35  1,000 to 4,999 employees         MacOS;Windows    Computer science   \n",
       "43        10 to 19 employees               Windows   Engineering other   \n",
       "\n",
       "    WorkWeekHrs  YearsCode  \n",
       "21         50.0       10.0  \n",
       "24         40.0       23.0  \n",
       "29         37.0        4.0  \n",
       "35         40.0        4.0  \n",
       "43         45.0       10.0  "
      ]
     },
     "execution_count": 56,
     "metadata": {},
     "output_type": "execute_result"
    }
   ],
   "source": [
    "df1.head()"
   ]
  },
  {
   "cell_type": "code",
   "execution_count": 57,
   "id": "bd582817",
   "metadata": {},
   "outputs": [],
   "source": [
    "df1=df1.explode('DevType')"
   ]
  },
  {
   "cell_type": "code",
   "execution_count": 59,
   "id": "902f0361",
   "metadata": {},
   "outputs": [
    {
     "data": {
      "text/plain": [
       "(40172, 20)"
      ]
     },
     "execution_count": 59,
     "metadata": {},
     "output_type": "execute_result"
    }
   ],
   "source": [
    "df1.shape"
   ]
  },
  {
   "cell_type": "code",
   "execution_count": 58,
   "id": "1ed61695",
   "metadata": {},
   "outputs": [
    {
     "data": {
      "text/html": [
       "<div>\n",
       "<style scoped>\n",
       "    .dataframe tbody tr th:only-of-type {\n",
       "        vertical-align: middle;\n",
       "    }\n",
       "\n",
       "    .dataframe tbody tr th {\n",
       "        vertical-align: top;\n",
       "    }\n",
       "\n",
       "    .dataframe thead th {\n",
       "        text-align: right;\n",
       "    }\n",
       "</style>\n",
       "<table border=\"1\" class=\"dataframe\">\n",
       "  <thead>\n",
       "    <tr style=\"text-align: right;\">\n",
       "      <th></th>\n",
       "      <th>Age</th>\n",
       "      <th>ConvertedComp</th>\n",
       "      <th>DevType</th>\n",
       "      <th>EdLevel</th>\n",
       "      <th>Employment</th>\n",
       "      <th>JobSat</th>\n",
       "      <th>LanguageWorkedWith</th>\n",
       "      <th>CollabToolsWorkedWith</th>\n",
       "      <th>DevOps</th>\n",
       "      <th>DevOpsImpt</th>\n",
       "      <th>EdImpt</th>\n",
       "      <th>Learn</th>\n",
       "      <th>OnboardGood</th>\n",
       "      <th>Overtime</th>\n",
       "      <th>OpSys</th>\n",
       "      <th>OrgSize</th>\n",
       "      <th>PlatformWorkedWith</th>\n",
       "      <th>UndergradMajor</th>\n",
       "      <th>WorkWeekHrs</th>\n",
       "      <th>YearsCode</th>\n",
       "    </tr>\n",
       "  </thead>\n",
       "  <tbody>\n",
       "    <tr>\n",
       "      <th>21</th>\n",
       "      <td>NaN</td>\n",
       "      <td>NaN</td>\n",
       "      <td>Developer, full-stack</td>\n",
       "      <td>Bachelor’s degree</td>\n",
       "      <td>Employed full-time</td>\n",
       "      <td>2.0</td>\n",
       "      <td>Java;Python</td>\n",
       "      <td>NaN</td>\n",
       "      <td>Not sure</td>\n",
       "      <td>NaN</td>\n",
       "      <td>Very important</td>\n",
       "      <td>Every few months</td>\n",
       "      <td>Yes</td>\n",
       "      <td>Often: 1-2 days per week or more</td>\n",
       "      <td>Windows</td>\n",
       "      <td>500 to 999 employees</td>\n",
       "      <td>NaN</td>\n",
       "      <td>Computer science</td>\n",
       "      <td>50.0</td>\n",
       "      <td>10.0</td>\n",
       "    </tr>\n",
       "    <tr>\n",
       "      <th>21</th>\n",
       "      <td>NaN</td>\n",
       "      <td>NaN</td>\n",
       "      <td>Data engineer</td>\n",
       "      <td>Bachelor’s degree</td>\n",
       "      <td>Employed full-time</td>\n",
       "      <td>2.0</td>\n",
       "      <td>Java;Python</td>\n",
       "      <td>NaN</td>\n",
       "      <td>Not sure</td>\n",
       "      <td>NaN</td>\n",
       "      <td>Very important</td>\n",
       "      <td>Every few months</td>\n",
       "      <td>Yes</td>\n",
       "      <td>Often: 1-2 days per week or more</td>\n",
       "      <td>Windows</td>\n",
       "      <td>500 to 999 employees</td>\n",
       "      <td>NaN</td>\n",
       "      <td>Computer science</td>\n",
       "      <td>50.0</td>\n",
       "      <td>10.0</td>\n",
       "    </tr>\n",
       "    <tr>\n",
       "      <th>24</th>\n",
       "      <td>NaN</td>\n",
       "      <td>NaN</td>\n",
       "      <td>Developer, back-end</td>\n",
       "      <td>Associate degree</td>\n",
       "      <td>Employed full-time</td>\n",
       "      <td>3.0</td>\n",
       "      <td>Bash/Shell/PowerShell;C</td>\n",
       "      <td>Jira;Github;Gitlab</td>\n",
       "      <td>No</td>\n",
       "      <td>Extremely important</td>\n",
       "      <td>Critically important</td>\n",
       "      <td>Once every few years</td>\n",
       "      <td>Yes</td>\n",
       "      <td>Often: 1-2 days per week or more</td>\n",
       "      <td>Windows</td>\n",
       "      <td>100 to 499 employees</td>\n",
       "      <td>Docker;Linux;Windows</td>\n",
       "      <td>Computer science</td>\n",
       "      <td>40.0</td>\n",
       "      <td>23.0</td>\n",
       "    </tr>\n",
       "    <tr>\n",
       "      <th>24</th>\n",
       "      <td>NaN</td>\n",
       "      <td>NaN</td>\n",
       "      <td>Developer, full-stack</td>\n",
       "      <td>Associate degree</td>\n",
       "      <td>Employed full-time</td>\n",
       "      <td>3.0</td>\n",
       "      <td>Bash/Shell/PowerShell;C</td>\n",
       "      <td>Jira;Github;Gitlab</td>\n",
       "      <td>No</td>\n",
       "      <td>Extremely important</td>\n",
       "      <td>Critically important</td>\n",
       "      <td>Once every few years</td>\n",
       "      <td>Yes</td>\n",
       "      <td>Often: 1-2 days per week or more</td>\n",
       "      <td>Windows</td>\n",
       "      <td>100 to 499 employees</td>\n",
       "      <td>Docker;Linux;Windows</td>\n",
       "      <td>Computer science</td>\n",
       "      <td>40.0</td>\n",
       "      <td>23.0</td>\n",
       "    </tr>\n",
       "    <tr>\n",
       "      <th>24</th>\n",
       "      <td>NaN</td>\n",
       "      <td>NaN</td>\n",
       "      <td>DevOps specialist</td>\n",
       "      <td>Associate degree</td>\n",
       "      <td>Employed full-time</td>\n",
       "      <td>3.0</td>\n",
       "      <td>Bash/Shell/PowerShell;C</td>\n",
       "      <td>Jira;Github;Gitlab</td>\n",
       "      <td>No</td>\n",
       "      <td>Extremely important</td>\n",
       "      <td>Critically important</td>\n",
       "      <td>Once every few years</td>\n",
       "      <td>Yes</td>\n",
       "      <td>Often: 1-2 days per week or more</td>\n",
       "      <td>Windows</td>\n",
       "      <td>100 to 499 employees</td>\n",
       "      <td>Docker;Linux;Windows</td>\n",
       "      <td>Computer science</td>\n",
       "      <td>40.0</td>\n",
       "      <td>23.0</td>\n",
       "    </tr>\n",
       "  </tbody>\n",
       "</table>\n",
       "</div>"
      ],
      "text/plain": [
       "    Age  ConvertedComp                DevType            EdLevel  \\\n",
       "21  NaN            NaN  Developer, full-stack  Bachelor’s degree   \n",
       "21  NaN            NaN          Data engineer  Bachelor’s degree   \n",
       "24  NaN            NaN    Developer, back-end   Associate degree   \n",
       "24  NaN            NaN  Developer, full-stack   Associate degree   \n",
       "24  NaN            NaN      DevOps specialist   Associate degree   \n",
       "\n",
       "            Employment  JobSat       LanguageWorkedWith CollabToolsWorkedWith  \\\n",
       "21  Employed full-time     2.0              Java;Python                   NaN   \n",
       "21  Employed full-time     2.0              Java;Python                   NaN   \n",
       "24  Employed full-time     3.0  Bash/Shell/PowerShell;C    Jira;Github;Gitlab   \n",
       "24  Employed full-time     3.0  Bash/Shell/PowerShell;C    Jira;Github;Gitlab   \n",
       "24  Employed full-time     3.0  Bash/Shell/PowerShell;C    Jira;Github;Gitlab   \n",
       "\n",
       "      DevOps           DevOpsImpt                EdImpt                 Learn  \\\n",
       "21  Not sure                  NaN        Very important      Every few months   \n",
       "21  Not sure                  NaN        Very important      Every few months   \n",
       "24        No  Extremely important  Critically important  Once every few years   \n",
       "24        No  Extremely important  Critically important  Once every few years   \n",
       "24        No  Extremely important  Critically important  Once every few years   \n",
       "\n",
       "   OnboardGood                          Overtime    OpSys  \\\n",
       "21         Yes  Often: 1-2 days per week or more  Windows   \n",
       "21         Yes  Often: 1-2 days per week or more  Windows   \n",
       "24         Yes  Often: 1-2 days per week or more  Windows   \n",
       "24         Yes  Often: 1-2 days per week or more  Windows   \n",
       "24         Yes  Often: 1-2 days per week or more  Windows   \n",
       "\n",
       "                 OrgSize    PlatformWorkedWith    UndergradMajor  WorkWeekHrs  \\\n",
       "21  500 to 999 employees                   NaN  Computer science         50.0   \n",
       "21  500 to 999 employees                   NaN  Computer science         50.0   \n",
       "24  100 to 499 employees  Docker;Linux;Windows  Computer science         40.0   \n",
       "24  100 to 499 employees  Docker;Linux;Windows  Computer science         40.0   \n",
       "24  100 to 499 employees  Docker;Linux;Windows  Computer science         40.0   \n",
       "\n",
       "    YearsCode  \n",
       "21       10.0  \n",
       "21       10.0  \n",
       "24       23.0  \n",
       "24       23.0  \n",
       "24       23.0  "
      ]
     },
     "execution_count": 58,
     "metadata": {},
     "output_type": "execute_result"
    }
   ],
   "source": [
    "df1.head()"
   ]
  },
  {
   "cell_type": "code",
   "execution_count": null,
   "id": "0cdc8f4f",
   "metadata": {},
   "outputs": [],
   "source": [
    "to explode: DevType, Language WorkedWith, CollabToolsWorkedWith, PlatformWorkedWith\n",
    "    DevType explode and drop everything not data"
   ]
  },
  {
   "cell_type": "markdown",
   "id": "469cc521",
   "metadata": {},
   "source": [
    "## Sample the data"
   ]
  },
  {
   "cell_type": "markdown",
   "id": "350d231a",
   "metadata": {},
   "source": [
    "### Create features and target datasets"
   ]
  },
  {
   "cell_type": "code",
   "execution_count": 17,
   "id": "34a66eb5",
   "metadata": {},
   "outputs": [],
   "source": [
    "# create a copy of the pre-proceessed dataset\n",
    "df2 = df1.copy()"
   ]
  },
  {
   "cell_type": "code",
   "execution_count": 18,
   "id": "3f817eac",
   "metadata": {},
   "outputs": [
    {
     "data": {
      "text/plain": [
       "((8726, 19), 8726)"
      ]
     },
     "execution_count": 18,
     "metadata": {},
     "output_type": "execute_result"
    }
   ],
   "source": [
    "# create the predictors dataframe\n",
    "X = df2.drop(columns = 'JobSat')\n",
    "\n",
    "# create the labels\n",
    "y = df2['JobSat']\n",
    "\n",
    "# check for success\n",
    "X.shape, len(y)"
   ]
  },
  {
   "cell_type": "markdown",
   "id": "75135f82",
   "metadata": {},
   "source": [
    "### Isolate a test set"
   ]
  },
  {
   "cell_type": "code",
   "execution_count": 19,
   "id": "2a95e541",
   "metadata": {},
   "outputs": [
    {
     "name": "stdout",
     "output_type": "stream",
     "text": [
      "Train (6108, 19) (6108,)\n",
      "Test (2618, 19) (2618,)\n"
     ]
    }
   ],
   "source": [
    "# split the data into a training set and a test set\n",
    "X_train, X_test, y_train, y_test = train_test_split(X, y, test_size=0.3, random_state=42)\n",
    "\n",
    "# summarize the data\n",
    "print('Train', X_train.shape, y_train.shape)\n",
    "print('Test', X_test.shape, y_test.shape)"
   ]
  },
  {
   "cell_type": "markdown",
   "id": "c0836335",
   "metadata": {},
   "source": [
    "## Create a profiling report\n",
    "\n",
    "Create a profiling report for the training data."
   ]
  },
  {
   "cell_type": "code",
   "execution_count": 20,
   "id": "e49e5798",
   "metadata": {},
   "outputs": [],
   "source": [
    "# run this once to generate a profiling report and save it as html file\n",
    "\n",
    "#import pandas_profiling\n",
    "#profile = pandas_profiling.ProfileReport(X_train, minimal=False)\n",
    "#profile.to_file(output_file=\"data_training_report.html\")"
   ]
  },
  {
   "cell_type": "markdown",
   "id": "682a26b7",
   "metadata": {},
   "source": [
    "numerical_col = ['Age', 'ConvertedComp', 'WorkWeekHrs', 'YearsCode']"
   ]
  }
 ],
 "metadata": {
  "kernelspec": {
   "display_name": "Python 3",
   "language": "python",
   "name": "python3"
  },
  "language_info": {
   "codemirror_mode": {
    "name": "ipython",
    "version": 3
   },
   "file_extension": ".py",
   "mimetype": "text/x-python",
   "name": "python",
   "nbconvert_exporter": "python",
   "pygments_lexer": "ipython3",
   "version": "3.7.6"
  },
  "toc": {
   "base_numbering": 1,
   "nav_menu": {},
   "number_sections": true,
   "sideBar": true,
   "skip_h1_title": false,
   "title_cell": "Table of Contents",
   "title_sidebar": "Contents",
   "toc_cell": false,
   "toc_position": {},
   "toc_section_display": true,
   "toc_window_display": false
  }
 },
 "nbformat": 4,
 "nbformat_minor": 5
}
